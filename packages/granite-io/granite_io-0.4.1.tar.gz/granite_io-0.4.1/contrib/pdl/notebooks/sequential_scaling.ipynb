{
 "cells": [
  {
   "cell_type": "code",
   "execution_count": null,
   "metadata": {},
   "outputs": [],
   "source": [
    "from granite_io_pdl.sequential_scaling import SequentialScalingInputOutputProcessor\n",
    "from granite_io.io.base import ChatCompletionInputs\n",
    "from granite_io.types import ChatCompletionResults"
   ]
  },
  {
   "cell_type": "code",
   "execution_count": null,
   "metadata": {},
   "outputs": [],
   "source": [
    "import random\n",
    "\n",
    "\n",
    "def validator(results: ChatCompletionResults):\n",
    "    b = random.choice([True, False])\n",
    "    print(f\"======> {b}\")\n",
    "    return b"
   ]
  },
  {
   "cell_type": "code",
   "execution_count": null,
   "metadata": {},
   "outputs": [],
   "source": [
    "processor = SequentialScalingInputOutputProcessor(\n",
    "    model=\"granite3.2:2b\", backend=\"openai\", validator=validator\n",
    ")"
   ]
  },
  {
   "cell_type": "code",
   "execution_count": null,
   "metadata": {},
   "outputs": [],
   "source": [
    "completion_inputs = ChatCompletionInputs(\n",
    "    messages=[\n",
    "        {\n",
    "            \"role\": \"user\",\n",
    "            \"content\": \"How to write a Rust program that reverse a list?\",\n",
    "        }\n",
    "    ],\n",
    ")\n",
    "completion_inputs"
   ]
  },
  {
   "cell_type": "code",
   "execution_count": null,
   "metadata": {},
   "outputs": [],
   "source": [
    "results = processor.create_chat_completion(completion_inputs)\n",
    "for r in results.results:\n",
    "    print(r.next_message.content)"
   ]
  },
  {
   "cell_type": "code",
   "execution_count": null,
   "metadata": {},
   "outputs": [],
   "source": []
  }
 ],
 "metadata": {
  "kernelspec": {
   "display_name": "granite-io-3.11",
   "language": "python",
   "name": "python3"
  },
  "language_info": {
   "codemirror_mode": {
    "name": "ipython",
    "version": 3
   },
   "file_extension": ".py",
   "mimetype": "text/x-python",
   "name": "python",
   "nbconvert_exporter": "python",
   "pygments_lexer": "ipython3",
   "version": "3.11.4"
  }
 },
 "nbformat": 4,
 "nbformat_minor": 4
}
