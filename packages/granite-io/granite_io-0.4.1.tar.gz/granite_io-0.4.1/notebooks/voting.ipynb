{
 "cells": [
  {
   "cell_type": "markdown",
   "metadata": {},
   "source": [
    "# Examples usage of the majority voting I/O processor\n",
    "\n",
    "This notebook should eventually turn into documentation."
   ]
  },
  {
   "cell_type": "code",
   "execution_count": null,
   "metadata": {},
   "outputs": [],
   "source": [
    "from granite_io import make_backend\n",
    "from granite_io.io import make_io_processor\n",
    "from granite_io.io.base import ChatCompletionInputs\n",
    "from granite_io.io.voting import MajorityVotingProcessor, integer_normalizer"
   ]
  },
  {
   "cell_type": "code",
   "execution_count": null,
   "metadata": {},
   "outputs": [],
   "source": [
    "%pip install openai pandas\n",
    "\n",
    "# Connect to a backend running on localhost.\n",
    "port = 11434\n",
    "url = f\"http://localhost:{port}/v1\"\n",
    "model_name = \"granite3.2:2b\"\n",
    "backend = make_backend(\n",
    "    \"openai\",\n",
    "    {\n",
    "        \"model_name\": model_name,\n",
    "        \"openai_base_url\": url,\n",
    "    },\n",
    ")\n",
    "\n",
    "# Uncomment to run inference on a local Transformers backend.\n",
    "#\n",
    "# %pip install transformers\n",
    "#\n",
    "# backend =  make_backend(\n",
    "#     \"transformers\",\n",
    "#     {\n",
    "#         \"model_name\": \"ibm-granite/granite-3.2-2b-instruct\",\n",
    "#     },\n",
    "# )"
   ]
  },
  {
   "cell_type": "code",
   "execution_count": null,
   "metadata": {},
   "outputs": [],
   "source": [
    "# Ask a question with an integral answer\n",
    "completion_inputs = ChatCompletionInputs(\n",
    "    messages=[\n",
    "        {\n",
    "            \"role\": \"user\",\n",
    "            \"content\": \"What is 234651 + 13425?\\nAnswer with just a number please.\",\n",
    "        }\n",
    "    ],\n",
    "    thinking=True,\n",
    "    generate_inputs={\"n\": 3, \"temperature\": 0.8, \"max_tokens\": 1024},\n",
    ")\n",
    "completion_inputs"
   ]
  },
  {
   "cell_type": "code",
   "execution_count": null,
   "metadata": {},
   "outputs": [],
   "source": [
    "# Run the question through the base model\n",
    "base_processor = make_io_processor(\"Granite 3.2\", backend=backend)\n",
    "results = base_processor.create_chat_completion(completion_inputs)\n",
    "print(\"Outputs from base model:\")\n",
    "for result_num, r in enumerate(results.results):\n",
    "    print(f\"{result_num + 1}: {r.next_message.content}\")"
   ]
  },
  {
   "cell_type": "code",
   "execution_count": null,
   "metadata": {},
   "outputs": [],
   "source": [
    "# Wrap the base model's I/O processor in a majority voting I/O processor.\n",
    "voting_processor = MajorityVotingProcessor(\n",
    "    base_processor, integer_normalizer, samples_per_completion=100\n",
    ")\n",
    "results = voting_processor.create_chat_completion(completion_inputs)\n",
    "print(\"Outputs from base model augmented with majority voting:\")\n",
    "for result_num, r in enumerate(results.results):\n",
    "    print(f\"{result_num + 1}: {r.next_message.content}\")\n",
    "\n",
    "# What's the actual answer?\n",
    "print(f\"---------\\nThe actual answer is: {234651 + 13425}\")"
   ]
  },
  {
   "cell_type": "code",
   "execution_count": null,
   "metadata": {},
   "outputs": [],
   "source": []
  },
  {
   "cell_type": "code",
   "execution_count": null,
   "metadata": {},
   "outputs": [],
   "source": []
  }
 ],
 "metadata": {
  "kernelspec": {
   "display_name": "Python 3",
   "language": "python",
   "name": "python3"
  },
  "language_info": {
   "codemirror_mode": {
    "name": "ipython",
    "version": 3
   },
   "file_extension": ".py",
   "mimetype": "text/x-python",
   "name": "python",
   "nbconvert_exporter": "python",
   "pygments_lexer": "ipython3",
   "version": "3.11.11"
  }
 },
 "nbformat": 4,
 "nbformat_minor": 4
}
