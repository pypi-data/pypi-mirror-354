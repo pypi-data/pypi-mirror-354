{
 "cells": [
  {
   "cell_type": "code",
   "execution_count": 3,
   "metadata": {},
   "outputs": [
    {
     "data": {
      "application/vnd.jupyter.widget-view+json": {
       "model_id": "0c6d2c6e27674889b88c194d9361c7b3",
       "version_major": 2,
       "version_minor": 0
      },
      "text/plain": [
       "ToggleButtons(description='Select an option:', options=('Option 1', 'Option 2', 'Option 3', 'Option 4'), value…"
      ]
     },
     "metadata": {},
     "output_type": "display_data"
    }
   ],
   "source": [
    "import ipywidgets as widgets\n",
    "from IPython.display import display\n",
    "\n",
    "# Create a ToggleButtons widget\n",
    "toggle_buttons = widgets.ToggleButtons(\n",
    "    options=['Option 1', 'Option 2', 'Option 3', 'Option 4'],\n",
    "    description='Select an option:',\n",
    "    style={\"text_decoration\": \"line-through\"},\n",
    ")\n",
    "\n",
    "# Display the widgets\n",
    "display(toggle_buttons)"
   ]
  },
  {
   "cell_type": "code",
   "execution_count": 12,
   "metadata": {},
   "outputs": [
    {
     "data": {
      "application/vnd.jupyter.widget-view+json": {
       "model_id": "0c6d2c6e27674889b88c194d9361c7b3",
       "version_major": 2,
       "version_minor": 0
      },
      "text/plain": [
       "ToggleButtons(description='Select an option:', options=('Option 1', 'Option 2', 'Option 3', 'INVALID'), value=…"
      ]
     },
     "metadata": {},
     "output_type": "display_data"
    }
   ],
   "source": [
    "# change the text of the 4th option\n",
    "toggle_buttons.options = ['Option 1', 'Option 2', 'Option 3', 'INVALID']\n",
    "display(toggle_buttons)"
   ]
  }
 ],
 "metadata": {
  "kernelspec": {
   "display_name": "honegumi",
   "language": "python",
   "name": "python3"
  },
  "language_info": {
   "codemirror_mode": {
    "name": "ipython",
    "version": 3
   },
   "file_extension": ".py",
   "mimetype": "text/x-python",
   "name": "python",
   "nbconvert_exporter": "python",
   "pygments_lexer": "ipython3",
   "version": "3.10.11"
  },
  "orig_nbformat": 4
 },
 "nbformat": 4,
 "nbformat_minor": 2
}
