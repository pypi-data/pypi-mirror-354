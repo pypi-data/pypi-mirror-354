{
 "cells": [
  {
   "cell_type": "markdown",
   "metadata": {},
   "source": [
    "# Deviation by One"
   ]
  },
  {
   "cell_type": "code",
   "execution_count": 1,
   "metadata": {},
   "outputs": [
    {
     "name": "stdout",
     "output_type": "stream",
     "text": [
      "[('A', 'D', 'G'), ('A', 'D', 'H'), ('A', 'E', 'F'), ('B', 'D', 'F'), ('C', 'D', 'F')]\n",
      "[('C', 'D', 'F')]\n",
      "['C']\n"
     ]
    }
   ],
   "source": [
    "import itertools\n",
    "\n",
    "option_rows = [\n",
    "    {\"description\": \"Option 1\", \"options\": ['A', 'B', 'C']},\n",
    "    {\"description\": \"Option 2\", \"options\": ['D', 'E']},\n",
    "    {\"description\": \"Option 3\", \"options\": ['F', 'G', 'H']}\n",
    "]\n",
    "\n",
    "current_config = ('A', 'D', 'F')\n",
    "invalid_configs = [\n",
    "    ('C', 'D', 'F'),\n",
    "    ('B', 'E', 'H'),\n",
    "    ('C', 'D', 'G'),\n",
    "]\n",
    "\n",
    "# Generate all possible configurations that deviate by one option from the current configuration\n",
    "possible_deviating_configs = list(filter(\n",
    "    lambda config: sum(a != b for a, b in zip(config, current_config)) == 1,\n",
    "    itertools.product(*[row['options'] for row in option_rows])\n",
    "))\n",
    "print(possible_deviating_configs)\n",
    "\n",
    "# Find the invalid options that match the deviating configurations\n",
    "deviating_configs = [option for option in invalid_configs if option in possible_deviating_configs]\n",
    "# Track the one option that was the deviation for each deviating config\n",
    "deviating_options = [list(set(config) - set(current_config))[0] for config in deviating_configs]\n",
    "print(deviating_configs)\n",
    "print(deviating_options)"
   ]
  }
 ],
 "metadata": {
  "kernelspec": {
   "display_name": "honegumi",
   "language": "python",
   "name": "python3"
  },
  "language_info": {
   "codemirror_mode": {
    "name": "ipython",
    "version": 3
   },
   "file_extension": ".py",
   "mimetype": "text/x-python",
   "name": "python",
   "nbconvert_exporter": "python",
   "pygments_lexer": "ipython3",
   "version": "3.10.11"
  },
  "orig_nbformat": 4
 },
 "nbformat": 4,
 "nbformat_minor": 2
}
