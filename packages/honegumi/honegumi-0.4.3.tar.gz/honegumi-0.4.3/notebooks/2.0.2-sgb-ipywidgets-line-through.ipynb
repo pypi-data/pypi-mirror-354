{
 "cells": [
  {
   "cell_type": "markdown",
   "metadata": {},
   "source": [
    "# Dynamic Matrix Output with ipywidgets"
   ]
  },
  {
   "cell_type": "code",
   "execution_count": 1,
   "metadata": {},
   "outputs": [
    {
     "data": {
      "application/vnd.jupyter.widget-view+json": {
       "model_id": "b96694971176495fb465456a57f9e43f",
       "version_major": 2,
       "version_minor": 0
      },
      "text/plain": [
       "VBox(children=(HBox(children=(Label(value='Option 1', layout=Layout(width='100px')), ToggleButtons(layout=Layo…"
      ]
     },
     "metadata": {},
     "output_type": "display_data"
    }
   ],
   "source": [
    "import ipywidgets as widgets\n",
    "from IPython.display import display\n",
    "import numpy as np\n",
    "import itertools\n",
    "\n",
    "# Define the options for the toggle buttons\n",
    "\n",
    "option_rows = [\n",
    "    {\"description\": \"Option 1\", \"options\": ['A', 'B', 'C']},\n",
    "    {\"description\": \"Option 2\", \"options\": ['D', 'E']},\n",
    "    {\"description\": \"Option 3\", \"options\": ['F', 'G', 'H']}\n",
    "]\n",
    "\n",
    "data = {}\n",
    "for option_values in itertools.product(*[row['options'] for row in option_rows]):\n",
    "    key = tuple(option_values)\n",
    "    value = f\"You selected {', '.join([f'Option {i+1}. {v}' for i, v in enumerate(option_values)])}\"\n",
    "    data[key] = value\n",
    "\n",
    "## i.e.,\n",
    "# data = {\n",
    "#     ('A', 'D', 'F'): 'You selected Option 1. A, Option 2. D, and Option 3. F',\n",
    "#     ('A', 'D', 'G'): 'You selected Option 1. A, Option 2. D, and Option 3. G',\n",
    "#     ...\n",
    "#     ('C', 'E', 'H'): 'You selected Option 1. C, Option 2. E, and Option 3. H'\n",
    "# }\n",
    "\n",
    "invalid_options = [\n",
    "    ('A', 'D', 'F'),\n",
    "    ('B', 'E', 'H'),\n",
    "    ('C', 'D', 'G'),\n",
    "]\n",
    "\n",
    "# Create a list of HBox widgets for each option group\n",
    "hboxes = []\n",
    "for row in option_rows:\n",
    "    option_rows = row['options']\n",
    "    hbox = widgets.HBox([\n",
    "        widgets.Label(row['description'], layout=widgets.Layout(width=\"100px\")),\n",
    "        widgets.ToggleButtons(\n",
    "            options=option_rows,\n",
    "            layout=widgets.Layout(width=\"auto\"),\n",
    "            style={\"button_width\": f\"{np.round(300/len(option_rows))}px\"},\n",
    "        ),\n",
    "    ])\n",
    "    hboxes.append(hbox)\n",
    "\n",
    "# Create the output widget\n",
    "output = widgets.Output()\n",
    "\n",
    "# Define the function to handle the toggle button events\n",
    "def on_toggle_button_change(change):\n",
    "    output.clear_output(wait=True)\n",
    "    with output:\n",
    "        selected_options = tuple([hbox.children[1].value for hbox in hboxes])\n",
    "        data_entry = data.get(selected_options, '')\n",
    "        print(data_entry)\n",
    "        \n",
    "        # Cross out invalid options\n",
    "        for i, hbox in enumerate(hboxes):\n",
    "            toggle_buttons = hbox.children[1]\n",
    "            for j, option in enumerate(toggle_buttons.options):\n",
    "                if (selected_options[:i] + (option,) + selected_options[i+1:]) in invalid_options:\n",
    "                    print(toggle_buttons.style)\n",
    "                    toggle_buttons.style[j] = 'text-decoration: line-through'\n",
    "                else:\n",
    "                    toggle_buttons.style[j] = ''\n",
    "                    \n",
    "\n",
    "# display the default output by running once\n",
    "on_toggle_button_change(None)\n",
    "\n",
    "# Register the event handler for the toggle buttons\n",
    "for hbox in hboxes:\n",
    "    toggle_buttons = hbox.children[1]\n",
    "    toggle_buttons.observe(on_toggle_button_change, names='value')\n",
    "\n",
    "\n",
    "# Create a vertical box to display the toggle buttons and output widget\n",
    "vbox = widgets.VBox(hboxes + [output])\n",
    "\n",
    "\n",
    "# Display the vertical box\n",
    "display(vbox)"
   ]
  },
  {
   "cell_type": "markdown",
   "metadata": {},
   "source": [
    "Some example GPT-4 chat prompts\n",
    "\n",
    "> Create ipywidgets code that displays different text based on a series of stacked HBox's, where each HBox contains a single ToggleButtons. Each row should correspond to one type of choice, with a description to the left of each ToggleButtons box. The descriptions should be inline with the ToggleButtons (i.e., directly to the left), and each description should be a fixed length so that all the descriptions line up nicely. Make it so the text that is displayed is below the options."
   ]
  },
  {
   "cell_type": "markdown",
   "metadata": {},
   "source": [
    "## Links\n",
    "\n",
    "- https://ipywidgets.readthedocs.io/en/stable/index.html\n",
    "- https://ipywidgets.readthedocs.io/_/downloads/en/7.6.3/pdf/\n",
    "- https://stackoverflow.com/questions/60816143/how-to-show-output-of-toogle-button-in-hmtl-using-ipywidgets\n",
    "- https://ipywidgets.readthedocs.io/en/7.x/user_guide.html\n",
    "- https://ipywidgets.readthedocs.io/en/7.x/examples/Widget%20Basics.html#Multiple-display()-calls\n",
    "- https://ipywidgets.readthedocs.io/en/7.x/examples/Output%20Widget.html#Debugging-errors-in-callbacks-with-the-output-widget\n",
    "- https://stackoverflow.com/questions/63904803/ipywidgets-observe-method-on-interactive-instead-of-widget\n",
    "- https://github.com/microsoft/vscode-jupyter/issues/11540 (issue specific to VSCode where there are multiple outputs - can check by running on Colab, different than the issues below about `names`)\n",
    "- https://stackoverflow.com/questions/65678663/python-get-single-signal-from-ipywidgets-observe-rather-than-3\n",
    "- https://stackoverflow.com/questions/57631700/why-is-my-ipywidget-observe-being-call-multiple-times-on-a-single-state-change\n",
    "- https://ipywidgets.readthedocs.io/en/stable/examples/Widget%20List.html#togglebuttons\n",
    "- https://ipywidgets.readthedocs.io/en/stable/examples/Widget%20Styling.html#current-supported-attributes\n",
    "- https://ipywidgets.readthedocs.io/en/7.6.2/examples/Widget%20Styling.html\n",
    "- https://css-tricks.com/snippets/css/complete-guide-grid/"
   ]
  },
  {
   "cell_type": "markdown",
   "metadata": {},
   "source": [
    "## Code Graveyard"
   ]
  },
  {
   "cell_type": "code",
   "execution_count": null,
   "metadata": {},
   "outputs": [],
   "source": [
    "## doesn't work as expected\n",
    "# output_widget.value = data_entry"
   ]
  },
  {
   "cell_type": "code",
   "execution_count": null,
   "metadata": {},
   "outputs": [],
   "source": [
    "# data = {\n",
    "#     ('A', 'D', 'F'): 'You selected Option 1. A, Option 2. D, and Option 3. F',\n",
    "#     ('A', 'D', 'G'): 'You selected Option 1. A, Option 2. D, and Option 3. G',\n",
    "#     ('A', 'D', 'H'): 'You selected Option 1. A, Option 2. D, and Option 3. H',\n",
    "#     ('A', 'E', 'F'): 'You selected Option 1. A, Option 2. E, and Option 3. F',\n",
    "#     ('A', 'E', 'G'): 'You selected Option 1. A, Option 2. E, and Option 3. G',\n",
    "#     ('A', 'E', 'H'): 'You selected Option 1. A, Option 2. E, and Option 3. H',\n",
    "#     ('B', 'D', 'F'): 'You selected Option 1. B, Option 2. D, and Option 3. F',\n",
    "#     ('B', 'D', 'G'): 'You selected Option 1. B, Option 2. D, and Option 3. G',\n",
    "#     ('B', 'D', 'H'): 'You selected Option 1. B, Option 2. D, and Option 3. H',\n",
    "#     ('B', 'E', 'F'): 'You selected Option 1. B, Option 2. E, and Option 3. F',\n",
    "#     ('B', 'E', 'G'): 'You selected Option 1. B, Option 2. E, and Option 3. G',\n",
    "#     ('B', 'E', 'H'): 'You selected Option 1. B, Option 2. E, and Option 3. H',\n",
    "#     ('C', 'D', 'F'): 'You selected Option 1. C, Option 2. D, and Option 3. F',\n",
    "#     ('C', 'D', 'G'): 'You selected Option 1. C, Option 2. D, and Option 3. G',\n",
    "#     ('C', 'D', 'H'): 'You selected Option 1. C, Option 2. D, and Option 3. H',\n",
    "#     ('C', 'E', 'F'): 'You selected Option 1. C, Option 2. E, and Option 3. F',\n",
    "#     ('C', 'E', 'G'): 'You selected Option 1. C, Option 2. E, and Option 3. G',\n",
    "#     ('C', 'E', 'H'): 'You selected Option 1. C, Option 2. E, and Option 3. H'\n",
    "# }"
   ]
  }
 ],
 "metadata": {
  "kernelspec": {
   "display_name": "honegumi",
   "language": "python",
   "name": "python3"
  },
  "language_info": {
   "codemirror_mode": {
    "name": "ipython",
    "version": 3
   },
   "file_extension": ".py",
   "mimetype": "text/x-python",
   "name": "python",
   "nbconvert_exporter": "python",
   "pygments_lexer": "ipython3",
   "version": "3.10.11"
  },
  "orig_nbformat": 4
 },
 "nbformat": 4,
 "nbformat_minor": 2
}
