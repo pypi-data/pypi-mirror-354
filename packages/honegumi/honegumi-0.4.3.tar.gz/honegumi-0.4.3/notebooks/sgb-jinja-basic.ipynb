{
 "cells": [
  {
   "cell_type": "code",
   "execution_count": 2,
   "metadata": {},
   "outputs": [],
   "source": [
    "from jinja2 import Environment, FileSystemLoader, select_autoescape\n",
    "template_dir = '../src/honegumi/ax/'\n",
    "loader = FileSystemLoader(template_dir)\n",
    "env = Environment(\n",
    "    loader=loader,\n",
    "    autoescape=select_autoescape()\n",
    ")"
   ]
  },
  {
   "cell_type": "code",
   "execution_count": 11,
   "metadata": {},
   "outputs": [
    {
     "name": "stdout",
     "output_type": "stream",
     "text": [
      "\n",
      "<!DOCTYPE html>\n",
      "<html>\n",
      "<head>\n",
      "    <title>Jinja2 Tutorial</title>\n",
      "</head>\n",
      "<body>\n",
      "    <h1>Hello, John!</h1>\n",
      "    \n",
      "        <p>Welcome to the tutorial!</p>\n",
      "    \n",
      "</body>\n",
      "</html>\n"
     ]
    }
   ],
   "source": [
    "html_template = \"\"\"\n",
    "<!DOCTYPE html>\n",
    "<html>\n",
    "<head>\n",
    "    <title>{{ title }}</title>\n",
    "</head>\n",
    "<body>\n",
    "    <h1>Hello, {{ name }}!</h1>\n",
    "    {% if show_message %}\n",
    "        <p>{{ message }}</p>\n",
    "    {% endif %}\n",
    "</body>\n",
    "</html>\n",
    "\"\"\"\n",
    "\n",
    "data = {\n",
    "    'title': 'Jinja2 Tutorial',\n",
    "    'name': 'John',\n",
    "    'show_message': True,\n",
    "    'message': 'Welcome to the tutorial!',\n",
    "}\n",
    "\n",
    "print(env.from_string(html_template).render(**data))"
   ]
  },
  {
   "cell_type": "code",
   "execution_count": 16,
   "metadata": {},
   "outputs": [
    {
     "name": "stdout",
     "output_type": "stream",
     "text": [
      "\n",
      "# This is a generated Python script\n",
      "import random\n",
      "\n",
      "# Generate a random number between 1 and 10\n",
      "random_number = random.randint(1, 10)\n",
      "print(\"Random number:\", random_number)\n"
     ]
    },
    {
     "ename": "",
     "evalue": "",
     "output_type": "error",
     "traceback": [
      "\u001b[1;31mThe Kernel crashed while executing code in the the current cell or a previous cell. Please review the code in the cell(s) to identify a possible cause of the failure. Click <a href='https://aka.ms/vscodeJupyterKernelCrash'>here</a> for more info. View Jupyter <a href='command:jupyter.viewOutput'>log</a> for further details."
     ]
    }
   ],
   "source": [
    "py_template = \"\"\"\n",
    "# This is a generated Python script\n",
    "import random\n",
    "\n",
    "# Generate a random number between {{ min_value }} and {{ max_value }}\n",
    "random_number = random.randint({{ min_value }}, {{ max_value }})\n",
    "print(\"Random number:\", random_number)\n",
    "\"\"\"\n",
    "\n",
    "# Define the data to be rendered\n",
    "data = {\n",
    "    'min_value': 1,\n",
    "    'max_value': 10,\n",
    "}\n",
    "\n",
    "print(env.from_string(py_template).render(**data))"
   ]
  },
  {
   "cell_type": "markdown",
   "metadata": {},
   "source": []
  },
  {
   "cell_type": "code",
   "execution_count": 13,
   "metadata": {},
   "outputs": [
    {
     "name": "stderr",
     "output_type": "stream",
     "text": [
      "[INFO 06-24 17:09:46] ax.service.ax_client: Starting optimization with verbose logging. To disable logging, set the `verbose_logging` argument to `False`. Note that float values in the logs are rounded to 6 decimal points.\n",
      "[INFO 06-24 17:09:46] ax.service.utils.instantiation: Inferred value type of ParameterType.FLOAT for parameter x2. If that is not the expected value type, you can explicity specify 'value_type' ('int', 'float', 'bool' or 'str') in parameter dict.\n",
      "[INFO 06-24 17:09:46] ax.service.utils.instantiation: Created search space: SearchSpace(parameters=[RangeParameter(name='x1', parameter_type=FLOAT, range=[-5.0, 10.0]), RangeParameter(name='x2', parameter_type=FLOAT, range=[0.0, 10.0])], parameter_constraints=[]).\n",
      "[INFO 06-24 17:09:46] ax.modelbridge.dispatch_utils: Using Models.GPEI since there are more ordered parameters than there are categories for the unordered categorical parameters.\n",
      "[INFO 06-24 17:09:46] ax.modelbridge.dispatch_utils: Calculating the number of remaining initialization trials based on num_initialization_trials=None max_initialization_trials=None num_tunable_parameters=2 num_trials=None use_batch_trials=False\n",
      "[INFO 06-24 17:09:46] ax.modelbridge.dispatch_utils: calculated num_initialization_trials=5\n",
      "[INFO 06-24 17:09:46] ax.modelbridge.dispatch_utils: num_completed_initialization_trials=0 num_remaining_initialization_trials=5\n",
      "[INFO 06-24 17:09:46] ax.modelbridge.dispatch_utils: Using Bayesian Optimization generation strategy: GenerationStrategy(name='Sobol+GPEI', steps=[Sobol for 5 trials, GPEI for subsequent trials]). Iterations after 5 will take longer to generate due to model-fitting.\n",
      "[INFO 06-24 17:09:46] ax.service.ax_client: Generated new trial 0 with parameters {'x1': 9.688, 'x2': 1.161885}.\n",
      "[INFO 06-24 17:09:46] ax.service.ax_client: Completed trial 0 with data: {'branin': (3.11286, None)}.\n",
      "[INFO 06-24 17:09:46] ax.service.ax_client: Generated new trial 1 with parameters {'x1': -1.743527, 'x2': 5.131812}.\n",
      "[INFO 06-24 17:09:46] ax.service.ax_client: Completed trial 1 with data: {'branin': (24.637365, None)}.\n",
      "[INFO 06-24 17:09:46] ax.service.ax_client: Generated new trial 2 with parameters {'x1': 0.511335, 'x2': 9.03829}.\n",
      "[INFO 06-24 17:09:46] ax.service.ax_client: Completed trial 2 with data: {'branin': (32.953554, None)}.\n",
      "[INFO 06-24 17:09:46] ax.service.ax_client: Generated new trial 3 with parameters {'x1': -3.485785, 'x2': 4.686514}.\n",
      "[INFO 06-24 17:09:46] ax.service.ax_client: Completed trial 3 with data: {'branin': (72.042287, None)}.\n",
      "[INFO 06-24 17:09:46] ax.service.ax_client: Generated new trial 4 with parameters {'x1': 0.491285, 'x2': 9.637792}.\n",
      "[INFO 06-24 17:09:46] ax.service.ax_client: Completed trial 4 with data: {'branin': (37.725519, None)}.\n",
      "[INFO 06-24 17:09:48] ax.service.ax_client: Generated new trial 5 with parameters {'x1': 6.972181, 'x2': 1.562865}.\n",
      "[INFO 06-24 17:09:48] ax.service.ax_client: Completed trial 5 with data: {'branin': (17.55583, None)}.\n",
      "[INFO 06-24 17:09:48] ax.service.ax_client: Generated new trial 6 with parameters {'x1': 10.0, 'x2': 4.833989}.\n",
      "[INFO 06-24 17:09:48] ax.service.ax_client: Completed trial 6 with data: {'branin': (5.295819, None)}.\n",
      "[INFO 06-24 17:09:49] ax.service.ax_client: Generated new trial 7 with parameters {'x1': 10.0, 'x2': 9.905412}.\n",
      "[INFO 06-24 17:09:49] ax.service.ax_client: Completed trial 7 with data: {'branin': (49.587024, None)}.\n",
      "[INFO 06-24 17:09:50] ax.service.ax_client: Generated new trial 8 with parameters {'x1': 5.686037, 'x2': 4.726789}.\n",
      "[INFO 06-24 17:09:50] ax.service.ax_client: Completed trial 8 with data: {'branin': (30.898458, None)}.\n",
      "[INFO 06-24 17:09:51] ax.service.ax_client: Generated new trial 9 with parameters {'x1': 10.0, 'x2': 2.88167}.\n",
      "[INFO 06-24 17:09:51] ax.service.ax_client: Completed trial 9 with data: {'branin': (1.957851, None)}.\n",
      "[INFO 06-24 17:09:53] ax.service.ax_client: Generated new trial 10 with parameters {'x1': 8.926339, 'x2': 3.18648}.\n",
      "[INFO 06-24 17:09:53] ax.service.ax_client: Completed trial 10 with data: {'branin': (2.775801, None)}.\n",
      "[INFO 06-24 17:09:54] ax.service.ax_client: Generated new trial 11 with parameters {'x1': 0.485304, 'x2': 2.234926}.\n",
      "[INFO 06-24 17:09:54] ax.service.ax_client: Completed trial 11 with data: {'branin': (27.632611, None)}.\n",
      "[INFO 06-24 17:09:56] ax.service.ax_client: Generated new trial 12 with parameters {'x1': 8.621268, 'x2': 0.0}.\n",
      "[INFO 06-24 17:09:56] ax.service.ax_client: Completed trial 12 with data: {'branin': (6.871123, None)}.\n",
      "c:\\Users\\sterg\\Miniconda3\\envs\\honegumi\\lib\\site-packages\\linear_operator\\utils\\cholesky.py:40: NumericalWarning: A not p.d., added jitter of 1.0e-08 to the diagonal\n",
      "  warnings.warn(\n",
      "c:\\Users\\sterg\\Miniconda3\\envs\\honegumi\\lib\\site-packages\\linear_operator\\utils\\cholesky.py:40: NumericalWarning: A not p.d., added jitter of 1.0e-07 to the diagonal\n",
      "  warnings.warn(\n",
      "c:\\Users\\sterg\\Miniconda3\\envs\\honegumi\\lib\\site-packages\\linear_operator\\utils\\cholesky.py:40: NumericalWarning: A not p.d., added jitter of 1.0e-06 to the diagonal\n",
      "  warnings.warn(\n",
      "c:\\Users\\sterg\\Miniconda3\\envs\\honegumi\\lib\\site-packages\\linear_operator\\utils\\cholesky.py:40: NumericalWarning: A not p.d., added jitter of 1.0e-05 to the diagonal\n",
      "  warnings.warn(\n",
      "c:\\Users\\sterg\\Miniconda3\\envs\\honegumi\\lib\\site-packages\\linear_operator\\utils\\cholesky.py:40: NumericalWarning: A not p.d., added jitter of 1.0e-04 to the diagonal\n",
      "  warnings.warn(\n",
      "c:\\Users\\sterg\\Miniconda3\\envs\\honegumi\\lib\\site-packages\\linear_operator\\utils\\cholesky.py:40: NumericalWarning: A not p.d., added jitter of 1.0e-03 to the diagonal\n",
      "  warnings.warn(\n",
      "[INFO 06-24 17:09:58] ax.service.ax_client: Generated new trial 13 with parameters {'x1': 9.451259, 'x2': 2.679168}.\n",
      "[INFO 06-24 17:09:58] ax.service.ax_client: Completed trial 13 with data: {'branin': (0.434283, None)}.\n",
      "[INFO 06-24 17:10:00] ax.service.ax_client: Generated new trial 14 with parameters {'x1': 3.894017, 'x2': 0.0}.\n",
      "[INFO 06-24 17:10:00] ax.service.ax_client: Completed trial 14 with data: {'branin': (6.092489, None)}.\n"
     ]
    }
   ],
   "source": [
    "from ax.service.ax_client import AxClient\n",
    "from ax.utils.measurement.synthetic_functions import branin\n",
    "\n",
    "ax_client = AxClient()\n",
    "ax_client.create_experiment(\n",
    "    name=\"branin_test_experiment\",\n",
    "    parameters=[\n",
    "        {\n",
    "            \"name\": \"x1\",\n",
    "            \"type\": \"range\",\n",
    "            \"bounds\": [-5.0, 10.0],\n",
    "            \"value_type\": \"float\",\n",
    "        },\n",
    "        {\n",
    "            \"name\": \"x2\",\n",
    "            \"type\": \"range\",\n",
    "            \"bounds\": [0.0, 10.0],\n",
    "        },\n",
    "    ],\n",
    "    objective_name=\"branin\",\n",
    "    minimize=True,\n",
    ")\n",
    "\n",
    "for _ in range(15):\n",
    "    parameters, trial_index = ax_client.get_next_trial()\n",
    "    ax_client.complete_trial(\n",
    "        trial_index=trial_index, raw_data=branin(parameters[\"x1\"], parameters[\"x2\"])\n",
    "    )\n",
    "\n",
    "best_parameters, metrics = ax_client.get_best_parameters()"
   ]
  },
  {
   "cell_type": "code",
   "execution_count": 7,
   "metadata": {},
   "outputs": [],
   "source": [
    "from ax.service.ax_client import AxClient\n",
    "from ax.utils.measurement.synthetic_functions import branin"
   ]
  },
  {
   "cell_type": "code",
   "execution_count": 6,
   "metadata": {},
   "outputs": [
    {
     "data": {
      "text/plain": [
       "'AxClient'"
      ]
     },
     "execution_count": 6,
     "metadata": {},
     "output_type": "execute_result"
    }
   ],
   "source": [
    "from ax.service.ax_client import AxClient\n",
    "AxClient.__name__"
   ]
  },
  {
   "cell_type": "code",
   "execution_count": 4,
   "metadata": {},
   "outputs": [
    {
     "data": {
      "text/plain": [
       "'\\n    abc\\n    '"
      ]
     },
     "execution_count": 4,
     "metadata": {},
     "output_type": "execute_result"
    }
   ],
   "source": [
    "env.from_string(\n",
    "    \"\"\"\n",
    "    from ax.service.ax_client import \n",
    "    {ax_client_import}\n",
    "    {branin_import}\n",
    "    \"\"\"\n",
    ").render()"
   ]
  },
  {
   "attachments": {},
   "cell_type": "markdown",
   "metadata": {},
   "source": [
    "## Code Graveyard"
   ]
  },
  {
   "attachments": {},
   "cell_type": "markdown",
   "metadata": {},
   "source": [
    "ax_client_imports = \"from ax.service.ax_client import AxClient\"\n",
    "branin_import = \"from ax.utils.measurement.synthetic_functions import branin\"\n",
    "ax_client_creation = \"ax_client = AxClient()\""
   ]
  }
 ],
 "metadata": {
  "kernelspec": {
   "display_name": "honegumi",
   "language": "python",
   "name": "python3"
  },
  "language_info": {
   "codemirror_mode": {
    "name": "ipython",
    "version": 3
   },
   "file_extension": ".py",
   "mimetype": "text/x-python",
   "name": "python",
   "nbconvert_exporter": "python",
   "pygments_lexer": "ipython3",
   "version": "3.10.11"
  },
  "orig_nbformat": 4
 },
 "nbformat": 4,
 "nbformat_minor": 2
}
