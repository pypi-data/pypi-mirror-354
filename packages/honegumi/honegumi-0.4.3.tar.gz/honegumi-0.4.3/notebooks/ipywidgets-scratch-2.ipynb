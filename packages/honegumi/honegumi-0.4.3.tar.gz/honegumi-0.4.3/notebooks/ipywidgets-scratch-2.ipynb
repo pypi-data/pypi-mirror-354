{
 "cells": [
  {
   "attachments": {},
   "cell_type": "markdown",
   "metadata": {},
   "source": [
    "Create ipywidgets code that displays different text based on a series of stacked HBox's, where each HBox contains a single ToggleButtons. Each row should correspond to one type of choice, with a description to the left of each ToggleButtons box. The descriptions should be inline with the ToggleButtons (i.e., directly to the left), and each description should be a fixed length so that all the descriptions line up nicely. Make it so the text that is displayed is below the options."
   ]
  },
  {
   "cell_type": "code",
   "execution_count": 1,
   "metadata": {},
   "outputs": [
    {
     "data": {
      "application/vnd.jupyter.widget-view+json": {
       "model_id": "27c485bce322424f9ab1a9a4391a27ab",
       "version_major": 2,
       "version_minor": 0
      },
      "text/plain": [
       "VBox(children=(HBox(children=(Label(value='Option 1:', layout=Layout(width='100px')), ToggleButton(value=False…"
      ]
     },
     "metadata": {},
     "output_type": "display_data"
    }
   ],
   "source": [
    "import ipywidgets as widgets\n",
    "from IPython.display import display\n",
    "\n",
    "# Define the options for the toggle buttons\n",
    "data = [\n",
    "    {\n",
    "        'description': 'Option 1:',\n",
    "        'options': ['A', 'B', 'C']\n",
    "    },\n",
    "    {\n",
    "        'description': 'Option 2:',\n",
    "        'options': ['D', 'E']\n",
    "    },\n",
    "    {\n",
    "        'description': 'Option 3:',\n",
    "        'options': ['F', 'G', 'H']\n",
    "    }\n",
    "]\n",
    "\n",
    "# Create a list of HBox widgets, each containing a description and a ToggleButtons widget\n",
    "toggle_buttons = []\n",
    "for row in data:\n",
    "    description = widgets.Label(value=row['description'], layout=widgets.Layout(width='100px'))\n",
    "    buttons = [widgets.ToggleButton(options=opt[\"options\"]) for opt in data]\n",
    "    hbox = widgets.HBox([description] + buttons)\n",
    "    toggle_buttons.append(hbox)\n",
    "\n",
    "# Create an output widget to display the selected text\n",
    "output = widgets.Output()\n",
    "\n",
    "# Define a function to handle toggle button changes\n",
    "def handle_toggle_button_change(change):\n",
    "    output.clear_output()\n",
    "    selected_options = []\n",
    "    for hbox in toggle_buttons:\n",
    "        selected_button = next((button for button in hbox.children[1:] if button.value), None)\n",
    "        if selected_button:\n",
    "            selected_options.append(selected_button.description)\n",
    "    with output:\n",
    "        if selected_options:\n",
    "            print('Selected options:')\n",
    "            for option in selected_options:\n",
    "                print(option)\n",
    "        else:\n",
    "            print('No options selected.')\n",
    "\n",
    "# Register the toggle button change event handlers\n",
    "for hbox in toggle_buttons:\n",
    "    for button in hbox.children[1:]:\n",
    "        button.observe(handle_toggle_button_change, 'value')\n",
    "\n",
    "# Create a vertical box to display the toggle buttons and output widget\n",
    "vbox = widgets.VBox(toggle_buttons + [output])\n",
    "\n",
    "# Display the vertical box\n",
    "display(vbox)"
   ]
  },
  {
   "cell_type": "code",
   "execution_count": 2,
   "metadata": {},
   "outputs": [
    {
     "data": {
      "application/vnd.jupyter.widget-view+json": {
       "model_id": "2b75175da6474871b13e5a20fd796f69",
       "version_major": 2,
       "version_minor": 0
      },
      "text/plain": [
       "VBox(children=(HBox(children=(Label(value='Option Type 1', layout=Layout(width='100px')), ToggleButtons(layout…"
      ]
     },
     "metadata": {},
     "output_type": "display_data"
    }
   ],
   "source": [
    "import ipywidgets as widgets\n",
    "from IPython.display import display\n",
    "\n",
    "# Define the options for the buttons in each HBox\n",
    "hbox1_options = [\"Button 1\", \"Button 2\", \"Button 3\"]\n",
    "hbox2_options = [\"Button 4\", \"Button 5\"]\n",
    "\n",
    "# Create a button for each option in each HBox\n",
    "hbox1_buttons = [\n",
    "    widgets.Label(\"Option Type 1\", layout=widgets.Layout(width=\"100px\")),\n",
    "    widgets.ToggleButtons(\n",
    "        options=hbox1_options,\n",
    "        layout=widgets.Layout(width=\"auto\"),\n",
    "        style={\"button_width\": \"132px\"},\n",
    "    ),\n",
    "]\n",
    "hbox2_buttons = [\n",
    "    widgets.Label(\"a\", layout=widgets.Layout(width=\"100px\")),\n",
    "    widgets.ToggleButtons(\n",
    "        options=hbox2_options,\n",
    "        layout=widgets.Layout(width=\"auto\"),\n",
    "        style={\"button_width\": \"200px\"},\n",
    "    ),\n",
    "]\n",
    "\n",
    "hbox_buttons = [hbox1_buttons, hbox2_buttons]\n",
    "\n",
    "form_item_layout = widgets.Layout(\n",
    "    display=\"flex\", flex_flow=\"row\", justify_content=\"flex-start\"\n",
    ")\n",
    "\n",
    "# Create an HBox for each set of buttons\n",
    "hbox1 = widgets.HBox(hbox1_buttons, layout=form_item_layout)\n",
    "hbox2 = widgets.HBox(hbox2_buttons, layout=form_item_layout)\n",
    "\n",
    "\n",
    "# Create an output widget to display the selected text\n",
    "output = widgets.Output()\n",
    "\n",
    "# Define a function to handle radio button changes\n",
    "def handle_toggle_buttons_change(change):\n",
    "    output.clear_output(wait=True)\n",
    "    selected_options = []\n",
    "    for row in hbox_buttons:\n",
    "        selected_button = next((button for button in row if button.value), None)\n",
    "        if selected_button:\n",
    "            selected_options.append(selected_button.value)\n",
    "    with output:\n",
    "        if selected_options:\n",
    "            print('Selected options:')\n",
    "            for option in selected_options:\n",
    "                print(option)\n",
    "        else:\n",
    "            print('No options selected.')\n",
    "\n",
    "# Register the radio button change event handlers\n",
    "for row in hbox_buttons:\n",
    "    for button in row:\n",
    "        button.observe(handle_toggle_buttons_change, 'value')\n",
    "\n",
    "# Create a VBox to stack the HBox widgets\n",
    "vbox = widgets.VBox(\n",
    "    [hbox1, hbox2, output],\n",
    "    layout=widgets.Layout(\n",
    "        display=\"flex\",\n",
    "        flex_flow=\"column\",\n",
    "        align_items=\"flex-start\",\n",
    "        width=\"100%\",\n",
    "    ),\n",
    ")\n",
    "\n",
    "# Display the VBox\n",
    "display(vbox)\n"
   ]
  },
  {
   "cell_type": "code",
   "execution_count": 3,
   "metadata": {},
   "outputs": [
    {
     "data": {
      "application/vnd.jupyter.widget-view+json": {
       "model_id": "d80b3c5bec3c4423894d536fac7692df",
       "version_major": 2,
       "version_minor": 0
      },
      "text/plain": [
       "Tab(children=(VBox(children=(GridBox(children=(ToggleButtons(options=('Option 1', 'Option 2', 'Option 3'), val…"
      ]
     },
     "metadata": {},
     "output_type": "display_data"
    }
   ],
   "source": [
    "import ipywidgets as widgets\n",
    "from IPython.display import display\n",
    "\n",
    "# Define the options for the grid\n",
    "data = [['Option 1', 'Option 2', 'Option 3'],\n",
    "           ['Option 4', 'Option 6'],\n",
    "           ['Option 7', 'Option 8', 'Option 9']]\n",
    "\n",
    "# Create a grid of radio buttons based on the options\n",
    "radio_buttons = [[widgets.ToggleButtons(options=row)] for row in data]\n",
    "\n",
    "# Create an output widget to display the selected text\n",
    "output = widgets.Output()\n",
    "\n",
    "# Define a function to handle radio button changes\n",
    "def handle_toggle_buttons_change(change):\n",
    "    output.clear_output()\n",
    "    selected_options = []\n",
    "    for row in radio_buttons:\n",
    "        selected_button = next((button for button in row if button.value), None)\n",
    "        if selected_button:\n",
    "            selected_options.append(selected_button.value)\n",
    "    with output:\n",
    "        if selected_options:\n",
    "            print('Selected options:')\n",
    "            for option in selected_options:\n",
    "                print(option)\n",
    "        else:\n",
    "            print('No options selected.')\n",
    "\n",
    "# Register the radio button change event handlers\n",
    "for row in radio_buttons:\n",
    "    for button in row:\n",
    "        button.observe(handle_toggle_buttons_change, 'value')\n",
    "\n",
    "# Create a grid layout for the radio buttons\n",
    "radio_button_grid = widgets.GridBox([button for row in radio_buttons for button in row])\n",
    "\n",
    "# Create a vertical box to display the radio buttons and output widget\n",
    "vbox = widgets.VBox([radio_button_grid, output])\n",
    "\n",
    "# Create a tab widget to display the vertical box\n",
    "tab = widgets.Tab()\n",
    "tab.children = [vbox]\n",
    "tab.set_title(0, 'Options')\n",
    "\n",
    "# Display the tab widget\n",
    "display(tab)"
   ]
  },
  {
   "cell_type": "code",
   "execution_count": 4,
   "metadata": {},
   "outputs": [
    {
     "data": {
      "application/vnd.jupyter.widget-view+json": {
       "model_id": "0a69ee40b42e4cc6b9fb28f89ff104ff",
       "version_major": 2,
       "version_minor": 0
      },
      "text/plain": [
       "Tab(children=(GridBox(children=(RadioButtons(layout=Layout(width='100px'), options=('Option 1', 'Option 2', 'O…"
      ]
     },
     "metadata": {},
     "output_type": "display_data"
    }
   ],
   "source": [
    "import ipywidgets as widgets\n",
    "from IPython.display import display\n",
    "\n",
    "# Define the options for the grid\n",
    "data = [['Option 1', 'Option 2', 'Option 3'],\n",
    "           ['Option 4', 'Option 5', 'Option 6'],\n",
    "           ['Option 7', 'Option 8', 'Option 9']]\n",
    "\n",
    "# Create a grid of radio buttons based on the options\n",
    "radio_buttons = [[widgets.RadioButtons(options=row, layout=widgets.Layout(width='100px'))] for row in data]\n",
    "\n",
    "# Create an output widget to display the selected text\n",
    "output = widgets.Output()\n",
    "\n",
    "# Define a function to handle radio button changes\n",
    "def handle_toggle_buttons_change(change):\n",
    "    output.clear_output()\n",
    "    selected_options = []\n",
    "    for row in radio_buttons:\n",
    "        selected_button = next((button for button in row if button.value), None)\n",
    "        if selected_button:\n",
    "            selected_options.append(selected_button.value)\n",
    "    with output:\n",
    "        if selected_options:\n",
    "            print('Selected options:')\n",
    "            for option in selected_options:\n",
    "                print(option)\n",
    "        else:\n",
    "            print('No options selected.')\n",
    "\n",
    "# Register the radio button change event handlers\n",
    "for row in radio_buttons:\n",
    "    for button in row:\n",
    "        button.observe(handle_toggle_buttons_change, 'value')\n",
    "\n",
    "# Create a grid layout for the radio buttons\n",
    "radio_button_grid = widgets.GridBox([button for row in radio_buttons for button in row], layout=widgets.Layout(grid_template_columns='repeat(3, auto)'))\n",
    "\n",
    "# Create a tab widget to display the radio buttons and output widget\n",
    "tab = widgets.Tab()\n",
    "tab.children = [radio_button_grid, output]\n",
    "tab.set_title(0, 'Options')\n",
    "tab.set_title(1, 'Selected')\n",
    "\n",
    "# Display the tab widget\n",
    "display(tab)"
   ]
  },
  {
   "cell_type": "code",
   "execution_count": 5,
   "metadata": {},
   "outputs": [
    {
     "data": {
      "application/vnd.jupyter.widget-view+json": {
       "model_id": "09e8f6df5b3d4952aa8d269eacf59e89",
       "version_major": 2,
       "version_minor": 0
      },
      "text/plain": [
       "VBox(children=(HBox(children=(Label(value='Option 3:', layout=Layout(width='100px')), ToggleButtons(options={'…"
      ]
     },
     "metadata": {},
     "output_type": "display_data"
    }
   ],
   "source": [
    "import ipywidgets as widgets\n",
    "from IPython.display import display\n",
    "\n",
    "# Define the options for the toggle buttons\n",
    "data = [\n",
    "    {\n",
    "        'description': 'Option 1:',\n",
    "        'options': ['A', 'B', 'C'],\n",
    "        'text': 'You selected Option 1.'\n",
    "    },\n",
    "    {\n",
    "        'description': 'Option 2:',\n",
    "        'options': ['D', 'E'],\n",
    "        'text': 'You selected Option 2.'\n",
    "    },\n",
    "    {\n",
    "        'description': 'Option 3:',\n",
    "        'options': ['F', 'G', 'H'],\n",
    "        'text': 'You selected Option 3.'\n",
    "    }\n",
    "]\n",
    "\n",
    "# Create a list of HBox widgets, each containing a description and a ToggleButtons widget\n",
    "toggle_buttons = []\n",
    "for row in data:\n",
    "    description = widgets.Label(value=row['description'], layout=widgets.Layout(width='100px'))\n",
    "    buttons = [widgets.ToggleButtons(options=row)]\n",
    "    hbox = widgets.HBox([description] + buttons)\n",
    "    toggle_buttons.append(hbox)\n",
    "\n",
    "# Create an output widget to display the selected text\n",
    "output = widgets.Output()\n",
    "\n",
    "# Define a function to handle toggle button changes\n",
    "def handle_toggle_button_change(change):\n",
    "    output.clear_output()\n",
    "    selected_options = []\n",
    "    for i, hbox in enumerate(toggle_buttons):\n",
    "        selected_button = next((button for button in hbox.children[1:] if button.value), None)\n",
    "        if selected_button:\n",
    "            selected_options.append(selected_button.description)\n",
    "            with output:\n",
    "                print(data[i]['text'])\n",
    "    if not selected_options:\n",
    "        with output:\n",
    "            print('No options selected.')\n",
    "\n",
    "# Register the toggle button change event handlers\n",
    "for hbox in toggle_buttons:\n",
    "    for button in hbox.children[1:]:\n",
    "        button.observe(handle_toggle_button_change, 'value')\n",
    "\n",
    "# Create a vertical box to display the toggle buttons and output widget\n",
    "vbox = widgets.VBox(toggle_buttons + [output])\n",
    "\n",
    "# Display the vertical box\n",
    "display(vbox)"
   ]
  },
  {
   "cell_type": "code",
   "execution_count": 10,
   "metadata": {},
   "outputs": [
    {
     "data": {
      "application/vnd.jupyter.widget-view+json": {
       "model_id": "43e6b1ef2fc54a73af8cfe9b772a4928",
       "version_major": 2,
       "version_minor": 0
      },
      "text/plain": [
       "VBox(children=(ToggleButtons(options=('Option 1', 'Option 2', 'Option 3'), value='Option 1'), Output()))"
      ]
     },
     "metadata": {},
     "output_type": "display_data"
    }
   ],
   "source": [
    "import ipywidgets as widgets\n",
    "from IPython.display import display\n",
    "\n",
    "# Define the options for the toggle buttons\n",
    "data = ['Option 1', 'Option 2', 'Option 3']\n",
    "\n",
    "# Create a ToggleButtons widget\n",
    "toggle_buttons = widgets.ToggleButtons(options=data, disabled=False)\n",
    "\n",
    "# Create an output widget to display the selected text\n",
    "output = widgets.Output()\n",
    "\n",
    "# Define a function to handle toggle button changes\n",
    "def handle_toggle_button_change(change):\n",
    "    output.clear_output(wait=True)\n",
    "    for opt in data:\n",
    "        if opt == change.new:\n",
    "            with output:\n",
    "                print(f'You selected {opt}.')\n",
    "\n",
    "# Register the toggle button change event handler\n",
    "toggle_buttons.observe(handle_toggle_button_change, names = 'value')\n",
    "\n",
    "# Create a vertical box to display the toggle buttons and output widget\n",
    "vbox = widgets.VBox([toggle_buttons, output])\n",
    "\n",
    "# Display the vertical box\n",
    "display(vbox)"
   ]
  },
  {
   "cell_type": "code",
   "execution_count": 9,
   "metadata": {},
   "outputs": [
    {
     "data": {
      "application/vnd.jupyter.widget-view+json": {
       "model_id": "9476557fd3a945ebb8aa9b150266a122",
       "version_major": 2,
       "version_minor": 0
      },
      "text/plain": [
       "VBox(children=(ToggleButtons(options=('Option 1', 'Option 2', 'Option 3'), value='Option 1'), Output()))"
      ]
     },
     "metadata": {},
     "output_type": "display_data"
    }
   ],
   "source": [
    "import ipywidgets as widgets\n",
    "from IPython.display import display\n",
    "\n",
    "# Define the options for the toggle buttons\n",
    "data = ['Option 1', 'Option 2', 'Option 3']\n",
    "\n",
    "# Create a ToggleButtons widget\n",
    "toggle_buttons = widgets.ToggleButtons(options=data)\n",
    "\n",
    "# Create an output widget to display the selected text\n",
    "output = widgets.Output()\n",
    "\n",
    "# Define a function to handle toggle button changes\n",
    "def handle_toggle_button_change(change):\n",
    "    output.clear_output()\n",
    "    with output:\n",
    "        print(f'You selected {change.new}.')\n",
    "\n",
    "# Register the toggle button change event handler\n",
    "toggle_buttons.observe(handle_toggle_button_change, 'value')\n",
    "\n",
    "# Create a vertical box to display the toggle buttons and output widget\n",
    "vbox = widgets.VBox([toggle_buttons, output])\n",
    "\n",
    "# Display the vertical box\n",
    "display(vbox)"
   ]
  },
  {
   "cell_type": "code",
   "execution_count": 5,
   "metadata": {},
   "outputs": [
    {
     "data": {
      "application/vnd.jupyter.widget-view+json": {
       "model_id": "9418f2b842a84609b17b2b8969348124",
       "version_major": 2,
       "version_minor": 0
      },
      "text/plain": [
       "VBox(children=(HBox(children=(Label(value='Option Type 1', layout=Layout(width='100px')), ToggleButtons(layout…"
      ]
     },
     "metadata": {},
     "output_type": "display_data"
    },
    {
     "name": "stdout",
     "output_type": "stream",
     "text": [
      "{'name': 'value', 'old': 'Button 1', 'new': 'Button 2', 'owner': ToggleButtons(index=1, layout=Layout(width='auto'), options=('Button 1', 'Button 2', 'Button 3'), style=ToggleButtonsStyle(button_width='132px'), value='Button 2'), 'type': 'change'}\n",
      "{'name': 'value', 'old': 'Button 2', 'new': 'Button 1', 'owner': ToggleButtons(layout=Layout(width='auto'), options=('Button 1', 'Button 2', 'Button 3'), style=ToggleButtonsStyle(button_width='132px'), value='Button 1'), 'type': 'change'}\n",
      "{'name': 'value', 'old': 'Button 4', 'new': 'Button 5', 'owner': ToggleButtons(index=1, layout=Layout(width='auto'), options=('Button 4', 'Button 5'), style=ToggleButtonsStyle(button_width='200px'), value='Button 5'), 'type': 'change'}\n"
     ]
    }
   ],
   "source": [
    "import ipywidgets as widgets\n",
    "from IPython.display import display\n",
    "\n",
    "# Define the options for the toggle buttons\n",
    "data = [\n",
    "    {\n",
    "        'description': 'Option 1:',\n",
    "        'options': ['A', 'B', 'C'],\n",
    "        'text': 'You selected Option 1.'\n",
    "    },\n",
    "    {\n",
    "        'description': 'Option 2:',\n",
    "        'options': ['D', 'E'],\n",
    "        'text': 'You selected Option 2.'\n",
    "    },\n",
    "    {\n",
    "        'description': 'Option 3:',\n",
    "        'options': ['F', 'G', 'H'],\n",
    "        'text': 'You selected Option 3.'\n",
    "    }\n",
    "]\n",
    "\n",
    "# Create a button for each option in each HBox\n",
    "hbox1_buttons = [\n",
    "    widgets.Label(\"Option Type 1\", layout=widgets.Layout(width=\"100px\")),\n",
    "    widgets.ToggleButtons(\n",
    "        options=hbox1_options,\n",
    "        layout=widgets.Layout(width=\"auto\"),\n",
    "        style={\"button_width\": \"132px\"},\n",
    "    ),\n",
    "]\n",
    "hbox2_buttons = [\n",
    "    widgets.Label(\"a\", layout=widgets.Layout(width=\"100px\")),\n",
    "    widgets.ToggleButtons(\n",
    "        options=hbox2_options,\n",
    "        layout=widgets.Layout(width=\"auto\"),\n",
    "        style={\"button_width\": \"200px\"},\n",
    "    ),\n",
    "]\n",
    "\n",
    "hbox_buttons = [hbox1_buttons, hbox2_buttons]\n",
    "\n",
    "form_item_layout = widgets.Layout(\n",
    "    display=\"flex\", flex_flow=\"row\", justify_content=\"flex-start\"\n",
    ")\n",
    "\n",
    "# Create an HBox for each set of buttons\n",
    "hbox1 = widgets.HBox(hbox1_buttons, layout=form_item_layout)\n",
    "hbox2 = widgets.HBox(hbox2_buttons, layout=form_item_layout)\n",
    "\n",
    "\n",
    "# Create an output widget to display the selected text\n",
    "output = widgets.Output()\n",
    "\n",
    "# Define a function to handle toggle button changes\n",
    "def handle_toggle_buttons_change(change):\n",
    "    print(change)\n",
    "    output.clear_output(wait=True)\n",
    "    for opt in change[\"owner\"].options:\n",
    "        if opt == change.new:\n",
    "            with output:\n",
    "                print(f'You selected {opt}.')\n",
    "\n",
    "# Register the radio button change event handlers\n",
    "for row in hbox_buttons:\n",
    "    for button in row:\n",
    "        button.observe(handle_toggle_buttons_change, 'value')\n",
    "\n",
    "# Create a VBox to stack the HBox widgets\n",
    "vbox = widgets.VBox(\n",
    "    [hbox1, hbox2, output],\n",
    "    layout=widgets.Layout(\n",
    "        display=\"flex\",\n",
    "        flex_flow=\"column\",\n",
    "        align_items=\"flex-start\",\n",
    "        width=\"100%\",\n",
    "    ),\n",
    ")\n",
    "\n",
    "# Display the VBox\n",
    "display(vbox)\n"
   ]
  },
  {
   "cell_type": "code",
   "execution_count": 26,
   "metadata": {},
   "outputs": [
    {
     "data": {
      "application/vnd.jupyter.widget-view+json": {
       "model_id": "898a5bc923e54a588ddfb21150a24ba7",
       "version_major": 2,
       "version_minor": 0
      },
      "text/plain": [
       "VBox(children=(HBox(children=(Label(value='Option 1:', layout=Layout(width='100px')), ToggleButtons(layout=Lay…"
      ]
     },
     "metadata": {},
     "output_type": "display_data"
    }
   ],
   "source": [
    "import ipywidgets as widgets\n",
    "from IPython.display import display\n",
    "import numpy as np\n",
    "\n",
    "# Define the options for the toggle buttons\n",
    "data = [\n",
    "    {\n",
    "        'description': 'Option 1:',\n",
    "        'options': {\n",
    "            'A': 'You selected Option 1. A',\n",
    "            'B': 'You selected Option 1. B',\n",
    "            'C': 'You selected Option 1. C'\n",
    "        }\n",
    "    },\n",
    "    {\n",
    "        'description': 'Option 2:',\n",
    "        'options': {\n",
    "            'D': 'You selected Option 2. D',\n",
    "            'E': 'You selected Option 2. E'\n",
    "        }\n",
    "    },\n",
    "    {\n",
    "        'description': 'Option 3:',\n",
    "        'options': {\n",
    "            'F': 'You selected Option 3. F',\n",
    "            'G': 'You selected Option 3. G',\n",
    "            'H': 'You selected Option 3. H'\n",
    "        }\n",
    "    }\n",
    "]\n",
    "\n",
    "# Create a list of HBox widgets for each option group\n",
    "hboxes = []\n",
    "for row in data:\n",
    "    options = row['options'].keys()\n",
    "    hbox = widgets.HBox([\n",
    "        widgets.Label(row['description'], layout=widgets.Layout(width=\"100px\")),\n",
    "        widgets.ToggleButtons(\n",
    "            options=options,\n",
    "            layout=widgets.Layout(width=\"auto\"),\n",
    "            style={\"button_width\": f\"{np.round(300/len(options))}px\"},\n",
    "        ),\n",
    "    ])\n",
    "    hboxes.append(hbox)\n",
    "\n",
    "# Create an output widget to display the selected text\n",
    "output = widgets.Output()\n",
    "\n",
    "# Define a function to handle toggle button changes\n",
    "def handle_toggle_button_change(change):\n",
    "    output.clear_output(wait=True)\n",
    "    with output:\n",
    "        for hbox, row in zip(hboxes, data):\n",
    "            options = row['options']\n",
    "            # print(options)\n",
    "            # print(change)\n",
    "            if change.new in options:\n",
    "                print(options[change.new])\n",
    "            else:\n",
    "                toggle_buttons = hbox.children[1]\n",
    "                print(options[toggle_buttons.value])\n",
    "\n",
    "handle_toggle_button_change({'new': 'A'})\n",
    "\n",
    "# Register the toggle button change event handlers\n",
    "for hbox in hboxes:\n",
    "    hbox.children[1].observe(handle_toggle_button_change, names='value')\n",
    "\n",
    "# Create a vertical box to display the toggle buttons and output widget\n",
    "vbox = widgets.VBox(hboxes + [output])\n",
    "\n",
    "# Display the vertical box\n",
    "display(vbox)"
   ]
  },
  {
   "cell_type": "code",
   "execution_count": 53,
   "metadata": {},
   "outputs": [
    {
     "data": {
      "application/vnd.jupyter.widget-view+json": {
       "model_id": "bca7eb6ead6a4b7fa39896df145544fd",
       "version_major": 2,
       "version_minor": 0
      },
      "text/plain": [
       "VBox(children=(HBox(children=(Label(value='Option 1:', layout=Layout(width='100px')), ToggleButtons(layout=Lay…"
      ]
     },
     "metadata": {},
     "output_type": "display_data"
    }
   ],
   "source": [
    "import ipywidgets as widgets\n",
    "from IPython.display import display\n",
    "import numpy as np\n",
    "\n",
    "# Define the options for the toggle buttons\n",
    "data = [\n",
    "    {\n",
    "        'description': 'Option 1:',\n",
    "        'options': {\n",
    "            'A': 'You selected Option 1. A',\n",
    "            'B': 'You selected Option 1. B',\n",
    "            'C': 'You selected Option 1. C'\n",
    "        }\n",
    "    },\n",
    "    {\n",
    "        'description': 'Option 2:',\n",
    "        'options': {\n",
    "            'D': 'You selected Option 2. D',\n",
    "            'E': 'You selected Option 2. E'\n",
    "        }\n",
    "    },\n",
    "    {\n",
    "        'description': 'Option 3:',\n",
    "        'options': {\n",
    "            'F': 'You selected Option 3. F',\n",
    "            'G': 'You selected Option 3. G',\n",
    "            'H': 'You selected Option 3. H'\n",
    "        }\n",
    "    }\n",
    "]\n",
    "\n",
    "# Create a list of HBox widgets for each option group\n",
    "hboxes = []\n",
    "for row in data:\n",
    "    options = row['options']\n",
    "    hbox = widgets.HBox([\n",
    "        widgets.Label(row['description'], layout=widgets.Layout(width=\"100px\")),\n",
    "        widgets.ToggleButtons(\n",
    "            options=options,\n",
    "            layout=widgets.Layout(width=\"auto\"),\n",
    "            style={\"button_width\": f\"{np.round(300/len(options))}px\"},\n",
    "        ),\n",
    "    ])\n",
    "    hboxes.append(hbox)\n",
    "\n",
    "# Create an output widget to display the selected text\n",
    "output = widgets.Output()\n",
    "\n",
    "# Define a function to handle toggle button changes\n",
    "def handle_toggle_button_change(change):\n",
    "    output.clear_output(wait=True)\n",
    "    with output:\n",
    "        for hbox in hboxes:\n",
    "            toggle_buttons = hbox.children[1]\n",
    "            print(toggle_buttons.value)\n",
    "\n",
    "# Register the toggle button change event handlers\n",
    "for hbox in hboxes:\n",
    "    hbox.children[1].observe(handle_toggle_button_change, names='value')\n",
    "\n",
    "# Create a vertical box to display the toggle buttons and output widget\n",
    "vbox = widgets.VBox(hboxes + [output])\n",
    "\n",
    "# Display the vertical box\n",
    "display(vbox)"
   ]
  },
  {
   "cell_type": "code",
   "execution_count": 40,
   "metadata": {},
   "outputs": [
    {
     "data": {
      "text/plain": [
       "(('A', 'You selected Option 1. A'),\n",
       " ('B', 'You selected Option 1. B'),\n",
       " ('C', 'You selected Option 1. C'))"
      ]
     },
     "execution_count": 40,
     "metadata": {},
     "output_type": "execute_result"
    }
   ],
   "source": [
    "hboxes[0].children[1].options"
   ]
  }
 ],
 "metadata": {
  "kernelspec": {
   "display_name": "honegumi",
   "language": "python",
   "name": "python3"
  },
  "language_info": {
   "codemirror_mode": {
    "name": "ipython",
    "version": 3
   },
   "file_extension": ".py",
   "mimetype": "text/x-python",
   "name": "python",
   "nbconvert_exporter": "python",
   "pygments_lexer": "ipython3",
   "version": "3.10.11"
  },
  "orig_nbformat": 4
 },
 "nbformat": 4,
 "nbformat_minor": 2
}
