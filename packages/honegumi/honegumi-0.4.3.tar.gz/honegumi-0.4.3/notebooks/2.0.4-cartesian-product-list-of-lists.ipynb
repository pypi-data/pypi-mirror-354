{
 "cells": [
  {
   "cell_type": "markdown",
   "metadata": {},
   "source": [
    "# Cartesian Product of Multiple Lists"
   ]
  },
  {
   "cell_type": "code",
   "execution_count": 1,
   "metadata": {},
   "outputs": [
    {
     "name": "stdout",
     "output_type": "stream",
     "text": [
      "(1, 'a', 4)\n",
      "(1, 'a', 5)\n",
      "(1, 'b', 4)\n",
      "(1, 'b', 5)\n",
      "(2, 'a', 4)\n",
      "(2, 'a', 5)\n",
      "(2, 'b', 4)\n",
      "(2, 'b', 5)\n",
      "(3, 'a', 4)\n",
      "(3, 'a', 5)\n",
      "(3, 'b', 4)\n",
      "(3, 'b', 5)\n"
     ]
    }
   ],
   "source": [
    "# https://stackoverflow.com/a/533917/13697228\n",
    "import itertools\n",
    "\n",
    "somelists = [\n",
    "   [1, 2, 3],\n",
    "   ['a', 'b'],\n",
    "   [4, 5]\n",
    "]\n",
    "for element in itertools.product(*somelists):\n",
    "    print(element)"
   ]
  }
 ],
 "metadata": {
  "kernelspec": {
   "display_name": "honegumi",
   "language": "python",
   "name": "python3"
  },
  "language_info": {
   "codemirror_mode": {
    "name": "ipython",
    "version": 3
   },
   "file_extension": ".py",
   "mimetype": "text/x-python",
   "name": "python",
   "nbconvert_exporter": "python",
   "pygments_lexer": "ipython3",
   "version": "3.10.11"
  },
  "orig_nbformat": 4
 },
 "nbformat": 4,
 "nbformat_minor": 2
}
