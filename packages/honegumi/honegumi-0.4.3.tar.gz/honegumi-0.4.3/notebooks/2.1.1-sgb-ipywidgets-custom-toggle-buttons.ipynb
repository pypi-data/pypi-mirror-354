{
 "cells": [
  {
   "cell_type": "code",
   "execution_count": 2,
   "metadata": {},
   "outputs": [
    {
     "data": {
      "application/vnd.jupyter.widget-view+json": {
       "model_id": "487b43bd81c5470b8d1a925e5c5a7057",
       "version_major": 2,
       "version_minor": 0
      },
      "text/plain": [
       "VBox(children=(CustomToggleButtons(children=(ToggleButton(value=False, description='A'), ToggleButton(value=Fa…"
      ]
     },
     "metadata": {},
     "output_type": "display_data"
    }
   ],
   "source": [
    "import ipywidgets as widgets\n",
    "from IPython.display import display\n",
    "\n",
    "\n",
    "class CustomToggleButtons(widgets.VBox):\n",
    "    def __init__(self, options, **kwargs):\n",
    "        super().__init__(**kwargs)\n",
    "        self.options = options\n",
    "        self.buttons = [widgets.ToggleButton(description=option) for option in options]\n",
    "        for button in self.buttons:\n",
    "            button.observe(self.handle_button_click, \"value\")\n",
    "        self.selected = None\n",
    "        self.update_selected()\n",
    "        self.children = self.buttons\n",
    "\n",
    "    def handle_button_click(self, change):\n",
    "        if change[\"new\"]:\n",
    "            for button in self.buttons:\n",
    "                if button is not change[\"owner\"]:\n",
    "                    button.value = False\n",
    "            self.update_selected()\n",
    "\n",
    "    def update_selected(self):\n",
    "        self.selected = next(\n",
    "            (button.description for button in self.buttons if button.value), None\n",
    "        )\n",
    "\n",
    "    def get_selected(self):\n",
    "        return self.selected\n",
    "\n",
    "\n",
    "# Define the options for the custom toggle buttons\n",
    "options = [\"A\", \"B\", \"C\"]\n",
    "\n",
    "# Create a custom toggle buttons widget\n",
    "custom_toggle_buttons = CustomToggleButtons(options)\n",
    "\n",
    "# Create an output widget to display the selected text\n",
    "output = widgets.Output()\n",
    "\n",
    "\n",
    "# Define a function to handle custom toggle button changes\n",
    "def handle_custom_toggle_button_change(change):\n",
    "    output.clear_output()\n",
    "    selected_options = custom_toggle_buttons.get_selected()\n",
    "    with output:\n",
    "        if selected_options:\n",
    "            print(\"Selected options:\")\n",
    "            for option in selected_options:\n",
    "                print(option)\n",
    "        else:\n",
    "            print(\"No options selected.\")\n",
    "\n",
    "\n",
    "# Register the custom toggle button change event handlers\n",
    "for button in custom_toggle_buttons.buttons:\n",
    "    button.observe(handle_custom_toggle_button_change, \"value\")\n",
    "\n",
    "# Create a vertical box to display the custom toggle buttons and output widget\n",
    "vbox = widgets.VBox([custom_toggle_buttons, output])\n",
    "\n",
    "# Display the vertical box\n",
    "display(vbox)"
   ]
  },
  {
   "cell_type": "code",
   "execution_count": null,
   "metadata": {},
   "outputs": [],
   "source": []
  }
 ],
 "metadata": {
  "kernelspec": {
   "display_name": "honegumi",
   "language": "python",
   "name": "python3"
  },
  "language_info": {
   "codemirror_mode": {
    "name": "ipython",
    "version": 3
   },
   "file_extension": ".py",
   "mimetype": "text/x-python",
   "name": "python",
   "nbconvert_exporter": "python",
   "pygments_lexer": "ipython3",
   "version": "3.10.11"
  },
  "orig_nbformat": 4
 },
 "nbformat": 4,
 "nbformat_minor": 2
}
