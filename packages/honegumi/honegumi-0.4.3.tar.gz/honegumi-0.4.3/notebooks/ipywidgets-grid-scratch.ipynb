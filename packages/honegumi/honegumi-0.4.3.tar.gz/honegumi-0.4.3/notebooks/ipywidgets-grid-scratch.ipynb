{
 "cells": [
  {
   "cell_type": "code",
   "execution_count": 2,
   "metadata": {},
   "outputs": [
    {
     "data": {
      "application/vnd.jupyter.widget-view+json": {
       "model_id": "051ba7309bea4d86a79186149336abe8",
       "version_major": 2,
       "version_minor": 0
      },
      "text/plain": [
       "GridBox(children=(Checkbox(value=False, description='Option 1'), Checkbox(value=False, description='Option 2')…"
      ]
     },
     "metadata": {},
     "output_type": "display_data"
    },
    {
     "data": {
      "application/vnd.jupyter.widget-view+json": {
       "model_id": "5ba6dad997714ab29b5d1aa37502261e",
       "version_major": 2,
       "version_minor": 0
      },
      "text/plain": [
       "Output()"
      ]
     },
     "metadata": {},
     "output_type": "display_data"
    }
   ],
   "source": [
    "import ipywidgets as widgets\n",
    "from IPython.display import display\n",
    "\n",
    "# Define the options for the grid\n",
    "options = [['Option 1', 'Option 2', 'Option 3'],\n",
    "           ['Option 4', 'Option 5', 'Option 6'],\n",
    "           ['Option 7', 'Option 8', 'Option 9']]\n",
    "\n",
    "# Create a grid of checkboxes based on the options\n",
    "checkboxes = [[widgets.Checkbox(value=False, description=option) for option in row] for row in options]\n",
    "\n",
    "# Create an output widget to display the selected text\n",
    "output = widgets.Output()\n",
    "\n",
    "# Define a function to handle checkbox changes\n",
    "def handle_checkbox_change(change):\n",
    "    output.clear_output()\n",
    "    selected_options = []\n",
    "    for row in checkboxes:\n",
    "        selected_options.extend([checkbox.description for checkbox in row if checkbox.value])\n",
    "    with output:\n",
    "        if selected_options:\n",
    "            print('Selected options:')\n",
    "            for option in selected_options:\n",
    "                print(option)\n",
    "        else:\n",
    "            print('No options selected.')\n",
    "\n",
    "# Register the checkbox change event handlers\n",
    "for row in checkboxes:\n",
    "    for checkbox in row:\n",
    "        checkbox.observe(handle_checkbox_change, 'value')\n",
    "\n",
    "# Create a grid layout for the checkboxes\n",
    "checkbox_grid = widgets.GridBox([checkbox for row in checkboxes for checkbox in row], layout=widgets.Layout(grid_template_columns='repeat(3, auto)'))\n",
    "\n",
    "# Display the grid and output widget\n",
    "display(checkbox_grid, output)\n"
   ]
  },
  {
   "cell_type": "code",
   "execution_count": 3,
   "metadata": {},
   "outputs": [
    {
     "data": {
      "application/vnd.jupyter.widget-view+json": {
       "model_id": "1237aea25ca14c97a8556418667954f2",
       "version_major": 2,
       "version_minor": 0
      },
      "text/plain": [
       "GridBox(children=(Checkbox(value=False, description='Option 1'), Checkbox(value=False, description='Option 2')…"
      ]
     },
     "metadata": {},
     "output_type": "display_data"
    },
    {
     "data": {
      "application/vnd.jupyter.widget-view+json": {
       "model_id": "40540ac4a9164262892889282d6e6480",
       "version_major": 2,
       "version_minor": 0
      },
      "text/plain": [
       "Output()"
      ]
     },
     "metadata": {},
     "output_type": "display_data"
    }
   ],
   "source": [
    "import ipywidgets as widgets\n",
    "from IPython.display import display\n",
    "\n",
    "# Define the options for the grid\n",
    "options = [['Option 1', 'Option 2', 'Option 3'],\n",
    "           ['Option 4', 'Option 5', 'Option 6'],\n",
    "           ['Option 7', 'Option 8', 'Option 9']]\n",
    "\n",
    "# Create a grid of checkboxes based on the options\n",
    "checkboxes = [[widgets.Checkbox(value=False, description=option) for option in row] for row in options]\n",
    "\n",
    "# Create an output widget to display the selected text\n",
    "output = widgets.Output()\n",
    "\n",
    "# Define a function to handle checkbox changes\n",
    "def handle_checkbox_change(change):\n",
    "    output.clear_output()\n",
    "    selected_options = []\n",
    "    for row in checkboxes:\n",
    "        selected_options.extend([checkbox.description for checkbox in row if checkbox.value])\n",
    "    with output:\n",
    "        if selected_options:\n",
    "            print('Selected options:')\n",
    "            table = widgets.GridBox([widgets.Label(option) for option in selected_options], layout=widgets.Layout(grid_template_columns='auto'))\n",
    "            display(table)\n",
    "        else:\n",
    "            print('No options selected.')\n",
    "\n",
    "# Register the checkbox change event handlers\n",
    "for row in checkboxes:\n",
    "    for checkbox in row:\n",
    "        checkbox.observe(handle_checkbox_change, 'value')\n",
    "\n",
    "# Create a grid layout for the checkboxes\n",
    "checkbox_grid = widgets.GridBox([checkbox for row in checkboxes for checkbox in row], layout=widgets.Layout(grid_template_columns='repeat(3, auto)'))\n",
    "\n",
    "# Display the grid and output widget\n",
    "display(checkbox_grid, output)\n"
   ]
  },
  {
   "cell_type": "code",
   "execution_count": 4,
   "metadata": {},
   "outputs": [
    {
     "data": {
      "application/vnd.jupyter.widget-view+json": {
       "model_id": "3b76be65244c40f5b448baac79d13d8a",
       "version_major": 2,
       "version_minor": 0
      },
      "text/plain": [
       "GridBox(children=(Button(button_style='info', description='Option 1', style=ButtonStyle()), Button(button_styl…"
      ]
     },
     "metadata": {},
     "output_type": "display_data"
    },
    {
     "data": {
      "application/vnd.jupyter.widget-view+json": {
       "model_id": "f768e5a811c84038be753187c3c3e7dd",
       "version_major": 2,
       "version_minor": 0
      },
      "text/plain": [
       "Output()"
      ]
     },
     "metadata": {},
     "output_type": "display_data"
    }
   ],
   "source": [
    "import ipywidgets as widgets\n",
    "from IPython.display import display\n",
    "\n",
    "# Define the options for the grid\n",
    "options = [['Option 1', 'Option 2', 'Option 3'],\n",
    "           ['Option 4', 'Option 5', 'Option 6'],\n",
    "           ['Option 7', 'Option 8', 'Option 9']]\n",
    "\n",
    "# Create a grid of buttons based on the options\n",
    "buttons = [[widgets.Button(description=option, button_style='info') for option in row] for row in options]\n",
    "\n",
    "# Create an output widget to display the selected text\n",
    "output = widgets.Output()\n",
    "\n",
    "# Define a function to handle button clicks\n",
    "def handle_button_click(button):\n",
    "    output.clear_output()\n",
    "    selected_options = [button.description]\n",
    "    with output:\n",
    "        print('Selected option:')\n",
    "        print(selected_options[0])\n",
    "\n",
    "# Register the button click event handlers\n",
    "for row in buttons:\n",
    "    for button in row:\n",
    "        button.on_click(handle_button_click)\n",
    "\n",
    "# Create a grid layout for the buttons\n",
    "button_grid = widgets.GridBox([button for row in buttons for button in row], layout=widgets.Layout(grid_template_columns='repeat(3, auto)'))\n",
    "\n",
    "# Display the grid and output widget\n",
    "display(button_grid, output)\n"
   ]
  },
  {
   "cell_type": "code",
   "execution_count": 5,
   "metadata": {},
   "outputs": [
    {
     "data": {
      "application/vnd.jupyter.widget-view+json": {
       "model_id": "47ccea3f686c4421b5c1e9bf7f93abfb",
       "version_major": 2,
       "version_minor": 0
      },
      "text/plain": [
       "GridBox(children=(ToggleButton(value=False, description='Option 1'), ToggleButton(value=False, description='Op…"
      ]
     },
     "metadata": {},
     "output_type": "display_data"
    },
    {
     "data": {
      "application/vnd.jupyter.widget-view+json": {
       "model_id": "20b176b3e2f04ff1b97d23745047d099",
       "version_major": 2,
       "version_minor": 0
      },
      "text/plain": [
       "Output()"
      ]
     },
     "metadata": {},
     "output_type": "display_data"
    }
   ],
   "source": [
    "import ipywidgets as widgets\n",
    "from IPython.display import display\n",
    "\n",
    "# Define the options for the grid\n",
    "options = [['Option 1', 'Option 2', 'Option 3'],\n",
    "           ['Option 4', 'Option 5', 'Option 6'],\n",
    "           ['Option 7', 'Option 8', 'Option 9']]\n",
    "\n",
    "# Create a grid of toggle buttons based on the options\n",
    "toggle_buttons = [[widgets.ToggleButton(value=False, description=option, button_style='') for option in row] for row in options]\n",
    "\n",
    "# Create an output widget to display the selected text\n",
    "output = widgets.Output()\n",
    "\n",
    "# Define a function to handle toggle button changes\n",
    "def handle_toggle_button_change(change):\n",
    "    output.clear_output()\n",
    "    selected_options = []\n",
    "    for row in toggle_buttons:\n",
    "        selected_button = next((button for button in row if button.value), None)\n",
    "        if selected_button:\n",
    "            selected_options.append(selected_button.description)\n",
    "    with output:\n",
    "        if selected_options:\n",
    "            print('Selected options:')\n",
    "            for option in selected_options:\n",
    "                print(option)\n",
    "        else:\n",
    "            print('No options selected.')\n",
    "\n",
    "# Register the toggle button change event handlers\n",
    "for row in toggle_buttons:\n",
    "    for button in row:\n",
    "        button.observe(handle_toggle_button_change, 'value')\n",
    "\n",
    "# Create a grid layout for the toggle buttons\n",
    "toggle_button_grid = widgets.GridBox([button for row in toggle_buttons for button in row], layout=widgets.Layout(grid_template_columns='repeat(3, auto)'))\n",
    "\n",
    "# Display the grid and output widget\n",
    "display(toggle_button_grid, output)\n"
   ]
  },
  {
   "cell_type": "code",
   "execution_count": 31,
   "metadata": {},
   "outputs": [
    {
     "data": {
      "application/vnd.jupyter.widget-view+json": {
       "model_id": "1c5e6da5b7344c92930f1100d7f5a72d",
       "version_major": 2,
       "version_minor": 0
      },
      "text/plain": [
       "Tab(children=(GridBox(children=(RadioButtons(layout=Layout(width='100px'), options=('Option 1', 'Option 2', 'O…"
      ]
     },
     "metadata": {},
     "output_type": "display_data"
    }
   ],
   "source": [
    "import ipywidgets as widgets\n",
    "from IPython.display import display\n",
    "\n",
    "# Define the options for the grid\n",
    "options = [['Option 1', 'Option 2', 'Option 3'],\n",
    "           ['Option 4', 'Option 5', 'Option 6'],\n",
    "           ['Option 7', 'Option 8', 'Option 9']]\n",
    "\n",
    "# Create a grid of radio buttons based on the options\n",
    "radio_buttons = [[widgets.RadioButtons(options=row, layout=widgets.Layout(width='100px'))] for row in options]\n",
    "\n",
    "# Create an output widget to display the selected text\n",
    "output = widgets.Output()\n",
    "\n",
    "# Define a function to handle radio button changes\n",
    "def handle_radio_button_change(change):\n",
    "    output.clear_output()\n",
    "    selected_options = []\n",
    "    for row in radio_buttons:\n",
    "        selected_button = next((button for button in row if button.value), None)\n",
    "        if selected_button:\n",
    "            selected_options.append(selected_button.value)\n",
    "    with output:\n",
    "        if selected_options:\n",
    "            print('Selected options:')\n",
    "            for option in selected_options:\n",
    "                print(option)\n",
    "        else:\n",
    "            print('No options selected.')\n",
    "\n",
    "# Register the radio button change event handlers\n",
    "for row in radio_buttons:\n",
    "    for button in row:\n",
    "        button.observe(handle_radio_button_change, 'value')\n",
    "\n",
    "# Create a grid layout for the radio buttons\n",
    "radio_button_grid = widgets.GridBox([button for row in radio_buttons for button in row], layout=widgets.Layout(grid_template_columns='repeat(3, auto)'))\n",
    "\n",
    "# Create a tab widget to display the radio buttons and output widget\n",
    "tab = widgets.Tab()\n",
    "tab.children = [radio_button_grid, output]\n",
    "tab.set_title(0, 'Options')\n",
    "tab.set_title(1, 'Selected')\n",
    "\n",
    "# Display the tab widget\n",
    "display(tab)"
   ]
  },
  {
   "cell_type": "code",
   "execution_count": 7,
   "metadata": {},
   "outputs": [
    {
     "data": {
      "application/vnd.jupyter.widget-view+json": {
       "model_id": "cb4c0a8e962d430f8b90c5c79995e07a",
       "version_major": 2,
       "version_minor": 0
      },
      "text/plain": [
       "Tab(children=(GridBox(children=(RadioButtons(layout=Layout(width='100px'), options=('Option 1', 'Option 2', 'O…"
      ]
     },
     "metadata": {},
     "output_type": "display_data"
    }
   ],
   "source": [
    "import ipywidgets as widgets\n",
    "from IPython.display import display\n",
    "\n",
    "# Define the options for the grid\n",
    "options = [['Option 1', 'Option 2', 'Option 3'],\n",
    "           ['Option 4', 'Option 5', 'Option 6'],\n",
    "           ['Option 7', 'Option 8', 'Option 9']]\n",
    "\n",
    "# Create a grid of radio buttons based on the options\n",
    "radio_buttons = [[widgets.RadioButtons(options=row, layout=widgets.Layout(width='100px', button_style=''))] for row in options]\n",
    "\n",
    "# Create an output widget to display the selected text\n",
    "output = widgets.Output()\n",
    "\n",
    "# Define a function to handle radio button changes\n",
    "def handle_radio_button_change(change):\n",
    "    output.clear_output()\n",
    "    selected_options = []\n",
    "    for row in radio_buttons:\n",
    "        selected_button = next((button for button in row if button.value), None)\n",
    "        if selected_button:\n",
    "            selected_options.append(selected_button.value)\n",
    "    with output:\n",
    "        if selected_options:\n",
    "            print('Selected options:')\n",
    "            for option in selected_options:\n",
    "                print(option)\n",
    "        else:\n",
    "            print('No options selected.')\n",
    "\n",
    "# Register the radio button change event handlers\n",
    "for row in radio_buttons:\n",
    "    for button in row:\n",
    "        button.observe(handle_radio_button_change, 'value')\n",
    "\n",
    "# Create a grid layout for the radio buttons\n",
    "radio_button_grid = widgets.GridBox([button for row in radio_buttons for button in row], layout=widgets.Layout(grid_template_columns='repeat(3, auto)'))\n",
    "\n",
    "# Create a tab widget to display the radio buttons and output widget\n",
    "tab = widgets.Tab()\n",
    "tab.children = [radio_button_grid, output]\n",
    "tab.set_title(0, 'Options')\n",
    "tab.set_title(1, 'Selected')\n",
    "\n",
    "# Display the tab widget\n",
    "display(tab)"
   ]
  },
  {
   "cell_type": "code",
   "execution_count": 8,
   "metadata": {},
   "outputs": [
    {
     "data": {
      "application/vnd.jupyter.widget-view+json": {
       "model_id": "857c74328a1b426783c1e51ea0227ab2",
       "version_major": 2,
       "version_minor": 0
      },
      "text/plain": [
       "Tab(children=(GridBox(children=(RadioButtons(layout=Layout(height='50px', width='100px'), options=('Option 1',…"
      ]
     },
     "metadata": {},
     "output_type": "display_data"
    }
   ],
   "source": [
    "import ipywidgets as widgets\n",
    "from IPython.display import display\n",
    "\n",
    "# Define the options for the grid\n",
    "options = [['Option 1', 'Option 2', 'Option 3'],\n",
    "           ['Option 4', 'Option 5', 'Option 6'],\n",
    "           ['Option 7', 'Option 8', 'Option 9']]\n",
    "\n",
    "# Create a grid of radio buttons based on the options\n",
    "radio_buttons = [[widgets.RadioButtons(options=row, layout=widgets.Layout(width='100px', height='50px', button_style=''))] for row in options]\n",
    "\n",
    "# Set the button style to look like a table\n",
    "button_style = widgets.ButtonStyle(button_color='white', font_weight='bold', border='1px solid black', padding='10px')\n",
    "\n",
    "# Apply the button style to each radio button\n",
    "for row in radio_buttons:\n",
    "    for button in row:\n",
    "        button.style.button_color = 'white'\n",
    "        button.style.font_weight = 'bold'\n",
    "        button.style.border = '1px solid black'\n",
    "        button.style.padding = '10px'\n",
    "\n",
    "# Create an output widget to display the selected text\n",
    "output = widgets.Output()\n",
    "\n",
    "# Define a function to handle radio button changes\n",
    "def handle_radio_button_change(change):\n",
    "    output.clear_output()\n",
    "    selected_options = []\n",
    "    for row in radio_buttons:\n",
    "        selected_button = next((button for button in row if button.value), None)\n",
    "        if selected_button:\n",
    "            selected_options.append(selected_button.value)\n",
    "    with output:\n",
    "        if selected_options:\n",
    "            print('Selected options:')\n",
    "            for option in selected_options:\n",
    "                print(option)\n",
    "        else:\n",
    "            print('No options selected.')\n",
    "\n",
    "# Register the radio button change event handlers\n",
    "for row in radio_buttons:\n",
    "    for button in row:\n",
    "        button.observe(handle_radio_button_change, 'value')\n",
    "\n",
    "# Create a grid layout for the radio buttons\n",
    "radio_button_grid = widgets.GridBox([button for row in radio_buttons for button in row], layout=widgets.Layout(grid_template_columns='repeat(3, auto)'))\n",
    "\n",
    "# Create a tab widget to display the radio buttons and output widget\n",
    "tab = widgets.Tab()\n",
    "tab.children = [radio_button_grid, output]\n",
    "tab.set_title(0, 'Options')\n",
    "tab.set_title(1, 'Selected')\n",
    "\n",
    "# Display the tab widget\n",
    "display(tab)"
   ]
  },
  {
   "cell_type": "code",
   "execution_count": 9,
   "metadata": {},
   "outputs": [
    {
     "data": {
      "application/vnd.jupyter.widget-view+json": {
       "model_id": "149e1b98ae1a4ee4871e3f6829c8711a",
       "version_major": 2,
       "version_minor": 0
      },
      "text/plain": [
       "Tab(children=(VBox(children=(GridBox(children=(ToggleButtons(options=('Option 1', 'Option 2', 'Option 3'), val…"
      ]
     },
     "metadata": {},
     "output_type": "display_data"
    }
   ],
   "source": [
    "import ipywidgets as widgets\n",
    "from IPython.display import display\n",
    "\n",
    "# Define the options for the grid\n",
    "options = [['Option 1', 'Option 2', 'Option 3'],\n",
    "           ['Option 4', 'Option 6'],\n",
    "           ['Option 7', 'Option 8', 'Option 9']]\n",
    "\n",
    "# Create a grid of radio buttons based on the options\n",
    "radio_buttons = [[widgets.ToggleButtons(options=row)] for row in options]\n",
    "\n",
    "# Create an output widget to display the selected text\n",
    "output = widgets.Output()\n",
    "\n",
    "# Define a function to handle radio button changes\n",
    "def handle_radio_button_change(change):\n",
    "    output.clear_output()\n",
    "    selected_options = []\n",
    "    for row in radio_buttons:\n",
    "        selected_button = next((button for button in row if button.value), None)\n",
    "        if selected_button:\n",
    "            selected_options.append(selected_button.value)\n",
    "    with output:\n",
    "        if selected_options:\n",
    "            print('Selected options:')\n",
    "            for option in selected_options:\n",
    "                print(option)\n",
    "        else:\n",
    "            print('No options selected.')\n",
    "\n",
    "# Register the radio button change event handlers\n",
    "for row in radio_buttons:\n",
    "    for button in row:\n",
    "        button.observe(handle_radio_button_change, 'value')\n",
    "\n",
    "# Create a grid layout for the radio buttons\n",
    "radio_button_grid = widgets.GridBox([button for row in radio_buttons for button in row])\n",
    "\n",
    "# Create a vertical box to display the radio buttons and output widget\n",
    "vbox = widgets.VBox([radio_button_grid, output])\n",
    "\n",
    "# Create a tab widget to display the vertical box\n",
    "tab = widgets.Tab()\n",
    "tab.children = [vbox]\n",
    "tab.set_title(0, 'Options')\n",
    "\n",
    "# Display the tab widget\n",
    "display(tab)"
   ]
  },
  {
   "cell_type": "code",
   "execution_count": 10,
   "metadata": {},
   "outputs": [
    {
     "data": {
      "application/vnd.jupyter.widget-view+json": {
       "model_id": "4b87f568ff3240b9afe1397084b41cae",
       "version_major": 2,
       "version_minor": 0
      },
      "text/plain": [
       "ToggleButtons(description='Speed:', options=('Slow', 'Regular', 'Fast'), tooltips=('Description of slow', 'Des…"
      ]
     },
     "execution_count": 10,
     "metadata": {},
     "output_type": "execute_result"
    }
   ],
   "source": [
    "widgets.ToggleButtons(\n",
    "    options=['Slow', 'Regular', 'Fast'],\n",
    "    description='Speed:',\n",
    "    disabled=False,\n",
    "    button_style='', # 'success', 'info', 'warning', 'danger' or ''\n",
    "    tooltips=['Description of slow', 'Description of regular', 'Description of fast'],\n",
    "#     icons=['check'] * 3\n",
    ")"
   ]
  },
  {
   "cell_type": "code",
   "execution_count": 11,
   "metadata": {},
   "outputs": [
    {
     "data": {
      "application/vnd.jupyter.widget-view+json": {
       "model_id": "c7b1976b185740e490def1826342a6b6",
       "version_major": 2,
       "version_minor": 0
      },
      "text/plain": [
       "Tab(children=(VBox(children=(GridBox(children=(ToggleButtons(options=('Option 1', 'Option 2', 'Option 3'), val…"
      ]
     },
     "metadata": {},
     "output_type": "display_data"
    }
   ],
   "source": [
    "import ipywidgets as widgets\n",
    "from IPython.display import display\n",
    "\n",
    "# Define the options for the grid\n",
    "options = [['Option 1', 'Option 2', 'Option 3'],\n",
    "           ['Option 4', 'Option 6'],\n",
    "           ['Option 7', 'Option 8', 'Option 9']]\n",
    "\n",
    "# Create a grid of radio buttons based on the options\n",
    "radio_buttons = [[widgets.ToggleButtons(options=row)] for row in options]\n",
    "\n",
    "# Create an output widget to display the selected text\n",
    "output = widgets.Output()\n",
    "\n",
    "# Define a function to handle radio button changes\n",
    "def handle_radio_button_change(change):\n",
    "    output.clear_output()\n",
    "    selected_options = []\n",
    "    for row in radio_buttons:\n",
    "        selected_button = next((button for button in row if button.value), None)\n",
    "        if selected_button:\n",
    "            selected_options.append(selected_button.value)\n",
    "    with output:\n",
    "        if selected_options:\n",
    "            print('Selected options:')\n",
    "            for option in selected_options:\n",
    "                print(option)\n",
    "        else:\n",
    "            print('No options selected.')\n",
    "\n",
    "# Register the radio button change event handlers\n",
    "for row in radio_buttons:\n",
    "    for button in row:\n",
    "        button.observe(handle_radio_button_change, 'value')\n",
    "\n",
    "# Create a grid layout for the radio buttons\n",
    "radio_button_grid = widgets.GridBox([button for row in radio_buttons for button in row], layout=widgets.Layout(grid_template_rows='repeat(auto-fit'))\n",
    "\n",
    "# Create a vertical box to display the radio buttons and output widget\n",
    "vbox = widgets.VBox([radio_button_grid, output])\n",
    "\n",
    "# Create a tab widget to display the vertical box\n",
    "tab = widgets.Tab()\n",
    "tab.children = [vbox]\n",
    "tab.set_title(0, 'Options')\n",
    "\n",
    "# Display the tab widget\n",
    "display(tab)"
   ]
  },
  {
   "cell_type": "code",
   "execution_count": 12,
   "metadata": {},
   "outputs": [
    {
     "data": {
      "application/vnd.jupyter.widget-view+json": {
       "model_id": "30508c8089b3403f8eda99ba86e51eac",
       "version_major": 2,
       "version_minor": 0
      },
      "text/plain": [
       "VBox(children=(Box(children=(Button(button_style='danger', description='weight=1; auto', layout=Layout(flex='1…"
      ]
     },
     "execution_count": 12,
     "metadata": {},
     "output_type": "execute_result"
    }
   ],
   "source": [
    "from ipywidgets import Layout, Button, Box, VBox\n",
    "\n",
    "# Items flex proportionally to the weight and the left over space around the text\n",
    "items_auto = [\n",
    "    Button(description='weight=1; auto', layout=Layout(flex='1 1 1', width='auto'), button_style='danger'),\n",
    "    Button(description='weight=3; auto', layout=Layout(flex='1 1', width='auto'), button_style='danger'),\n",
    "    Button(description='weight=1; auto', layout=Layout(flex='1 1 1', width='auto'), button_style='danger'),\n",
    " ]\n",
    "\n",
    "# Items flex proportionally to the weight\n",
    "items_0 = [\n",
    "    Button(description='weight=1; 0%', layout=Layout(flex='1 1 1', width='auto'), button_style='danger'),\n",
    "    Button(description='weight=3; 0%', layout=Layout(flex='1 1', width='auto'), button_style='danger'),\n",
    "    Button(description='weight=1; 0%', layout=Layout(flex='1 1 1', width='auto'), button_style='danger'),\n",
    " ]\n",
    "box_layout = Layout(display='flex',\n",
    "                    flex_flow='row',\n",
    "                    align_items='stretch',\n",
    "                    width='70%')\n",
    "box_auto = Box(children=items_auto, layout=box_layout)\n",
    "box_0 = Box(children=items_0, layout=box_layout)\n",
    "VBox([box_auto, box_0])"
   ]
  },
  {
   "cell_type": "code",
   "execution_count": 13,
   "metadata": {},
   "outputs": [
    {
     "data": {
      "application/vnd.jupyter.widget-view+json": {
       "model_id": "fa6bc7cc0e49405889b452f68873a20e",
       "version_major": 2,
       "version_minor": 0
      },
      "text/plain": [
       "VBox(children=(GridBox(children=(Button(description='Button 1', style=ButtonStyle()), Button(description='Butt…"
      ]
     },
     "metadata": {},
     "output_type": "display_data"
    }
   ],
   "source": [
    "import ipywidgets as widgets\n",
    "from IPython.display import display\n",
    "\n",
    "# Define the options for each row\n",
    "row1_options = ['Button 1', 'Button 2', 'Button 3']\n",
    "row2_options = ['Button 4', 'Button 5']\n",
    "row3_options = ['Button 6', 'Button 7', 'Button 8']\n",
    "\n",
    "# Create a grid of buttons for each row\n",
    "row1_buttons = [widgets.Button(description=option) for option in row1_options]\n",
    "row2_buttons = [widgets.Button(description=option) for option in row2_options]\n",
    "row3_buttons = [widgets.Button(description=option) for option in row3_options]\n",
    "\n",
    "# Create a grid layout for the buttons\n",
    "button_grid = widgets.GridBox([button for row in [row1_buttons, row2_buttons, row3_buttons] for button in row], layout=widgets.Layout(grid_template_columns='repeat(3, 1fr)'))\n",
    "\n",
    "# Create a vertical box to display the button grid\n",
    "vbox = widgets.VBox([button_grid])\n",
    "\n",
    "# Display the vertical box\n",
    "display(vbox)"
   ]
  },
  {
   "cell_type": "code",
   "execution_count": 14,
   "metadata": {},
   "outputs": [
    {
     "data": {
      "application/vnd.jupyter.widget-view+json": {
       "model_id": "7dd30a8ac7a444de9f56c3b98c62e2cc",
       "version_major": 2,
       "version_minor": 0
      },
      "text/plain": [
       "VBox(children=(GridBox(children=(Button(description='Button 1', layout=Layout(width='100%'), style=ButtonStyle…"
      ]
     },
     "metadata": {},
     "output_type": "display_data"
    }
   ],
   "source": [
    "import ipywidgets as widgets\n",
    "from IPython.display import display\n",
    "\n",
    "# Define the options for each row\n",
    "row1_options = ['Button 1', 'Button 2', 'Button 3']\n",
    "row2_options = ['Button 4', 'Button 5']\n",
    "row3_options = ['Button 6', 'Button 7', 'Button 8']\n",
    "\n",
    "# Create a grid of buttons for each row\n",
    "row1_buttons = [widgets.Button(description=option, layout=widgets.Layout(width='100%')) for option in row1_options]\n",
    "row2_buttons = [widgets.Button(description=option, layout=widgets.Layout(width='133%')) for option in row2_options]\n",
    "row3_buttons = [widgets.Button(description=option, layout=widgets.Layout(width='100%')) for option in row3_options]\n",
    "\n",
    "# Create a grid layout for the buttons\n",
    "button_grid = widgets.GridBox([button for row in [row1_buttons, row3_buttons, row2_buttons] for button in row], layout=widgets.Layout(grid_template_columns='repeat(3, 1fr)'))\n",
    "\n",
    "# Create a vertical box to display the button grid\n",
    "vbox = widgets.VBox([button_grid])\n",
    "\n",
    "# Display the vertical box\n",
    "display(vbox)"
   ]
  },
  {
   "cell_type": "code",
   "execution_count": 15,
   "metadata": {},
   "outputs": [
    {
     "ename": "TraitError",
     "evalue": "The 'grid_template_columns' trait of a Layout instance expected a unicode string, not the list ['repeat(3, 1fr)', 'repeat(2, 1fr)', 'repeat(3, 1fr)'].",
     "output_type": "error",
     "traceback": [
      "\u001b[1;31m---------------------------------------------------------------------------\u001b[0m",
      "\u001b[1;31mTraitError\u001b[0m                                Traceback (most recent call last)",
      "Cell \u001b[1;32mIn[15], line 15\u001b[0m\n\u001b[0;32m     12\u001b[0m row3_buttons \u001b[39m=\u001b[39m [widgets\u001b[39m.\u001b[39mButton(description\u001b[39m=\u001b[39moption, layout\u001b[39m=\u001b[39mwidgets\u001b[39m.\u001b[39mLayout(width\u001b[39m=\u001b[39m\u001b[39m'\u001b[39m\u001b[39m100\u001b[39m\u001b[39m%\u001b[39m\u001b[39m'\u001b[39m)) \u001b[39mfor\u001b[39;00m option \u001b[39min\u001b[39;00m row3_options]\n\u001b[0;32m     14\u001b[0m \u001b[39m# Create a grid layout for the buttons\u001b[39;00m\n\u001b[1;32m---> 15\u001b[0m button_grid \u001b[39m=\u001b[39m widgets\u001b[39m.\u001b[39mGridBox([button \u001b[39mfor\u001b[39;00m row \u001b[39min\u001b[39;00m [row1_buttons, row2_buttons, row3_buttons] \u001b[39mfor\u001b[39;00m button \u001b[39min\u001b[39;00m row], layout\u001b[39m=\u001b[39mwidgets\u001b[39m.\u001b[39;49mLayout(grid_template_columns\u001b[39m=\u001b[39;49m[\u001b[39m'\u001b[39;49m\u001b[39mrepeat(3, 1fr)\u001b[39;49m\u001b[39m'\u001b[39;49m, \u001b[39m'\u001b[39;49m\u001b[39mrepeat(2, 1fr)\u001b[39;49m\u001b[39m'\u001b[39;49m, \u001b[39m'\u001b[39;49m\u001b[39mrepeat(3, 1fr)\u001b[39;49m\u001b[39m'\u001b[39;49m], grid_gap\u001b[39m=\u001b[39;49m\u001b[39m'\u001b[39;49m\u001b[39m0px\u001b[39;49m\u001b[39m'\u001b[39;49m))\n\u001b[0;32m     17\u001b[0m \u001b[39m# Create a vertical box to display the button grid\u001b[39;00m\n\u001b[0;32m     18\u001b[0m vbox \u001b[39m=\u001b[39m widgets\u001b[39m.\u001b[39mVBox([button_grid])\n",
      "File \u001b[1;32mc:\\Users\\sterg\\Miniconda3\\envs\\honegumi\\lib\\site-packages\\ipywidgets\\widgets\\widget_layout.py:86\u001b[0m, in \u001b[0;36mLayout.__init__\u001b[1;34m(self, **kwargs)\u001b[0m\n\u001b[0;32m     83\u001b[0m     \u001b[39mfor\u001b[39;00m side \u001b[39min\u001b[39;00m [\u001b[39m'\u001b[39m\u001b[39mtop\u001b[39m\u001b[39m'\u001b[39m, \u001b[39m'\u001b[39m\u001b[39mright\u001b[39m\u001b[39m'\u001b[39m, \u001b[39m'\u001b[39m\u001b[39mbottom\u001b[39m\u001b[39m'\u001b[39m, \u001b[39m'\u001b[39m\u001b[39mleft\u001b[39m\u001b[39m'\u001b[39m]:\n\u001b[0;32m     84\u001b[0m         kwargs\u001b[39m.\u001b[39msetdefault(\u001b[39mf\u001b[39m\u001b[39m'\u001b[39m\u001b[39mborder_\u001b[39m\u001b[39m{\u001b[39;00mside\u001b[39m}\u001b[39;00m\u001b[39m'\u001b[39m, border)\n\u001b[1;32m---> 86\u001b[0m \u001b[39msuper\u001b[39m()\u001b[39m.\u001b[39m\u001b[39m__init__\u001b[39m(\u001b[39m*\u001b[39m\u001b[39m*\u001b[39mkwargs)\n",
      "File \u001b[1;32mc:\\Users\\sterg\\Miniconda3\\envs\\honegumi\\lib\\site-packages\\ipywidgets\\widgets\\widget.py:501\u001b[0m, in \u001b[0;36mWidget.__init__\u001b[1;34m(self, **kwargs)\u001b[0m\n\u001b[0;32m    499\u001b[0m \u001b[39m\u001b[39m\u001b[39m\"\"\"Public constructor\"\"\"\u001b[39;00m\n\u001b[0;32m    500\u001b[0m \u001b[39mself\u001b[39m\u001b[39m.\u001b[39m_model_id \u001b[39m=\u001b[39m kwargs\u001b[39m.\u001b[39mpop(\u001b[39m'\u001b[39m\u001b[39mmodel_id\u001b[39m\u001b[39m'\u001b[39m, \u001b[39mNone\u001b[39;00m)\n\u001b[1;32m--> 501\u001b[0m \u001b[39msuper\u001b[39m()\u001b[39m.\u001b[39m\u001b[39m__init__\u001b[39m(\u001b[39m*\u001b[39m\u001b[39m*\u001b[39mkwargs)\n\u001b[0;32m    503\u001b[0m Widget\u001b[39m.\u001b[39m_call_widget_constructed(\u001b[39mself\u001b[39m)\n\u001b[0;32m    504\u001b[0m \u001b[39mself\u001b[39m\u001b[39m.\u001b[39mopen()\n",
      "File \u001b[1;32mc:\\Users\\sterg\\Miniconda3\\envs\\honegumi\\lib\\site-packages\\traitlets\\traitlets.py:1343\u001b[0m, in \u001b[0;36mHasTraits.__init__\u001b[1;34m(self, *args, **kwargs)\u001b[0m\n\u001b[0;32m   1341\u001b[0m \u001b[39mfor\u001b[39;00m key, value \u001b[39min\u001b[39;00m kwargs\u001b[39m.\u001b[39mitems():\n\u001b[0;32m   1342\u001b[0m     \u001b[39mif\u001b[39;00m \u001b[39mself\u001b[39m\u001b[39m.\u001b[39mhas_trait(key):\n\u001b[1;32m-> 1343\u001b[0m         \u001b[39msetattr\u001b[39;49m(\u001b[39mself\u001b[39;49m, key, value)\n\u001b[0;32m   1344\u001b[0m         changes[key] \u001b[39m=\u001b[39m Bunch(\n\u001b[0;32m   1345\u001b[0m             name\u001b[39m=\u001b[39mkey,\n\u001b[0;32m   1346\u001b[0m             old\u001b[39m=\u001b[39m\u001b[39mNone\u001b[39;00m,\n\u001b[1;32m   (...)\u001b[0m\n\u001b[0;32m   1349\u001b[0m             \u001b[39mtype\u001b[39m\u001b[39m=\u001b[39m\u001b[39m\"\u001b[39m\u001b[39mchange\u001b[39m\u001b[39m\"\u001b[39m,\n\u001b[0;32m   1350\u001b[0m         )\n\u001b[0;32m   1351\u001b[0m     \u001b[39melse\u001b[39;00m:\n\u001b[0;32m   1352\u001b[0m         \u001b[39m# passthrough args that don't set traits to super\u001b[39;00m\n",
      "File \u001b[1;32mc:\\Users\\sterg\\Miniconda3\\envs\\honegumi\\lib\\site-packages\\traitlets\\traitlets.py:729\u001b[0m, in \u001b[0;36mTraitType.__set__\u001b[1;34m(self, obj, value)\u001b[0m\n\u001b[0;32m    727\u001b[0m     \u001b[39mraise\u001b[39;00m TraitError(\u001b[39m'\u001b[39m\u001b[39mThe \u001b[39m\u001b[39m\"\u001b[39m\u001b[39m%s\u001b[39;00m\u001b[39m\"\u001b[39m\u001b[39m trait is read-only.\u001b[39m\u001b[39m'\u001b[39m \u001b[39m%\u001b[39m \u001b[39mself\u001b[39m\u001b[39m.\u001b[39mname)\n\u001b[0;32m    728\u001b[0m \u001b[39melse\u001b[39;00m:\n\u001b[1;32m--> 729\u001b[0m     \u001b[39mself\u001b[39;49m\u001b[39m.\u001b[39;49mset(obj, value)\n",
      "File \u001b[1;32mc:\\Users\\sterg\\Miniconda3\\envs\\honegumi\\lib\\site-packages\\traitlets\\traitlets.py:703\u001b[0m, in \u001b[0;36mTraitType.set\u001b[1;34m(self, obj, value)\u001b[0m\n\u001b[0;32m    702\u001b[0m \u001b[39mdef\u001b[39;00m \u001b[39mset\u001b[39m(\u001b[39mself\u001b[39m, obj, value):\n\u001b[1;32m--> 703\u001b[0m     new_value \u001b[39m=\u001b[39m \u001b[39mself\u001b[39;49m\u001b[39m.\u001b[39;49m_validate(obj, value)\n\u001b[0;32m    704\u001b[0m     \u001b[39mtry\u001b[39;00m:\n\u001b[0;32m    705\u001b[0m         old_value \u001b[39m=\u001b[39m obj\u001b[39m.\u001b[39m_trait_values[\u001b[39mself\u001b[39m\u001b[39m.\u001b[39mname]\n",
      "File \u001b[1;32mc:\\Users\\sterg\\Miniconda3\\envs\\honegumi\\lib\\site-packages\\traitlets\\traitlets.py:735\u001b[0m, in \u001b[0;36mTraitType._validate\u001b[1;34m(self, obj, value)\u001b[0m\n\u001b[0;32m    733\u001b[0m     \u001b[39mreturn\u001b[39;00m value\n\u001b[0;32m    734\u001b[0m \u001b[39mif\u001b[39;00m \u001b[39mhasattr\u001b[39m(\u001b[39mself\u001b[39m, \u001b[39m\"\u001b[39m\u001b[39mvalidate\u001b[39m\u001b[39m\"\u001b[39m):\n\u001b[1;32m--> 735\u001b[0m     value \u001b[39m=\u001b[39m \u001b[39mself\u001b[39;49m\u001b[39m.\u001b[39;49mvalidate(obj, value)\n\u001b[0;32m    736\u001b[0m \u001b[39mif\u001b[39;00m obj\u001b[39m.\u001b[39m_cross_validation_lock \u001b[39mis\u001b[39;00m \u001b[39mFalse\u001b[39;00m:\n\u001b[0;32m    737\u001b[0m     value \u001b[39m=\u001b[39m \u001b[39mself\u001b[39m\u001b[39m.\u001b[39m_cross_validate(obj, value)\n",
      "File \u001b[1;32mc:\\Users\\sterg\\Miniconda3\\envs\\honegumi\\lib\\site-packages\\traitlets\\traitlets.py:2532\u001b[0m, in \u001b[0;36mUnicode.validate\u001b[1;34m(self, obj, value)\u001b[0m\n\u001b[0;32m   2530\u001b[0m         msg \u001b[39m=\u001b[39m \u001b[39m\"\u001b[39m\u001b[39mCould not decode \u001b[39m\u001b[39m{!r}\u001b[39;00m\u001b[39m for unicode trait \u001b[39m\u001b[39m'\u001b[39m\u001b[39m{}\u001b[39;00m\u001b[39m'\u001b[39m\u001b[39m of \u001b[39m\u001b[39m{}\u001b[39;00m\u001b[39m instance.\u001b[39m\u001b[39m\"\u001b[39m\n\u001b[0;32m   2531\u001b[0m         \u001b[39mraise\u001b[39;00m TraitError(msg\u001b[39m.\u001b[39mformat(value, \u001b[39mself\u001b[39m\u001b[39m.\u001b[39mname, class_of(obj))) \u001b[39mfrom\u001b[39;00m \u001b[39me\u001b[39;00m\n\u001b[1;32m-> 2532\u001b[0m \u001b[39mself\u001b[39;49m\u001b[39m.\u001b[39;49merror(obj, value)\n",
      "File \u001b[1;32mc:\\Users\\sterg\\Miniconda3\\envs\\honegumi\\lib\\site-packages\\traitlets\\traitlets.py:841\u001b[0m, in \u001b[0;36mTraitType.error\u001b[1;34m(self, obj, value, error, info)\u001b[0m\n\u001b[0;32m    835\u001b[0m \u001b[39melse\u001b[39;00m:\n\u001b[0;32m    836\u001b[0m     e \u001b[39m=\u001b[39m \u001b[39m\"\u001b[39m\u001b[39mThe \u001b[39m\u001b[39m'\u001b[39m\u001b[39m{}\u001b[39;00m\u001b[39m'\u001b[39m\u001b[39m trait expected \u001b[39m\u001b[39m{}\u001b[39;00m\u001b[39m, not \u001b[39m\u001b[39m{}\u001b[39;00m\u001b[39m.\u001b[39m\u001b[39m\"\u001b[39m\u001b[39m.\u001b[39mformat(\n\u001b[0;32m    837\u001b[0m         \u001b[39mself\u001b[39m\u001b[39m.\u001b[39mname,\n\u001b[0;32m    838\u001b[0m         \u001b[39mself\u001b[39m\u001b[39m.\u001b[39minfo(),\n\u001b[0;32m    839\u001b[0m         describe(\u001b[39m\"\u001b[39m\u001b[39mthe\u001b[39m\u001b[39m\"\u001b[39m, value),\n\u001b[0;32m    840\u001b[0m     )\n\u001b[1;32m--> 841\u001b[0m \u001b[39mraise\u001b[39;00m TraitError(e)\n",
      "\u001b[1;31mTraitError\u001b[0m: The 'grid_template_columns' trait of a Layout instance expected a unicode string, not the list ['repeat(3, 1fr)', 'repeat(2, 1fr)', 'repeat(3, 1fr)']."
     ]
    }
   ],
   "source": [
    "import ipywidgets as widgets\n",
    "from IPython.display import display\n",
    "\n",
    "# Define the options for each row\n",
    "row1_options = ['Button 1', 'Button 2', 'Button 3']\n",
    "row2_options = ['Button 4', 'Button 5']\n",
    "row3_options = ['Button 6', 'Button 7', 'Button 8']\n",
    "\n",
    "# Create a grid of buttons for each row\n",
    "row1_buttons = [widgets.Button(description=option, layout=widgets.Layout(width='100%')) for option in row1_options]\n",
    "row2_buttons = [widgets.Button(description=option, layout=widgets.Layout(width='150%')) for option in row2_options]\n",
    "row3_buttons = [widgets.Button(description=option, layout=widgets.Layout(width='100%')) for option in row3_options]\n",
    "\n",
    "# Create a grid layout for the buttons\n",
    "button_grid = widgets.GridBox([button for row in [row1_buttons, row2_buttons, row3_buttons] for button in row], layout=widgets.Layout(grid_template_columns=['repeat(3, 1fr)', 'repeat(2, 1fr)', 'repeat(3, 1fr)'], grid_gap='0px'))\n",
    "\n",
    "# Create a vertical box to display the button grid\n",
    "vbox = widgets.VBox([button_grid])\n",
    "\n",
    "# Display the vertical box\n",
    "display(vbox)"
   ]
  },
  {
   "cell_type": "code",
   "execution_count": 25,
   "metadata": {},
   "outputs": [
    {
     "data": {
      "application/vnd.jupyter.widget-view+json": {
       "model_id": "0216afec55f54eb3902e7c4596540d51",
       "version_major": 2,
       "version_minor": 0
      },
      "text/plain": [
       "VBox(children=(GridBox(children=(Button(description='Button 1', layout=Layout(width='100%'), style=ButtonStyle…"
      ]
     },
     "metadata": {},
     "output_type": "display_data"
    }
   ],
   "source": [
    "import ipywidgets as widgets\n",
    "from IPython.display import display\n",
    "\n",
    "# Define the options for each row\n",
    "row1_options = ['Button 1', 'Button 2', 'Button 3']\n",
    "row2_options = ['Button 4', 'Button 5']\n",
    "row3_options = ['Button 6', 'Button 7', 'Button 8']\n",
    "\n",
    "# Create a grid of buttons for each row\n",
    "row1_buttons = [widgets.Button(description=option, layout=widgets.Layout(width='100%')) for option in row1_options]\n",
    "row2_buttons = [widgets.Button(description=option, layout=widgets.Layout(width='100%')) for option in row2_options]\n",
    "row3_buttons = [widgets.Button(description=option, layout=widgets.Layout(width='100%')) for option in row3_options]\n",
    "\n",
    "# Create a grid layout for the buttons\n",
    "button_grid = widgets.GridBox([button for row in [row1_buttons, row2_buttons, row3_buttons] for button in row], layout=widgets.Layout(grid_template_columns='repeat(3, 1fr) repeat(2, 1fr) repeat(3, 1fr)', grid_gap='0px'))\n",
    "\n",
    "# Create a vertical box to display the button grid\n",
    "vbox = widgets.VBox([button_grid])\n",
    "\n",
    "# Display the vertical box\n",
    "display(vbox)"
   ]
  },
  {
   "cell_type": "code",
   "execution_count": 26,
   "metadata": {},
   "outputs": [
    {
     "data": {
      "application/vnd.jupyter.widget-view+json": {
       "model_id": "3e51a7256351417a81b6e7dac2607656",
       "version_major": 2,
       "version_minor": 0
      },
      "text/plain": [
       "HBox(children=(Button(description='Button 1', style=ButtonStyle()), Button(description='Button 2', style=Butto…"
      ]
     },
     "metadata": {},
     "output_type": "display_data"
    }
   ],
   "source": [
    "import ipywidgets as widgets\n",
    "from IPython.display import display\n",
    "\n",
    "# Define the options for the buttons\n",
    "button_options = ['Button 1', 'Button 2', 'Button 3', 'Button 4']\n",
    "\n",
    "# Create a button for each option\n",
    "buttons = [widgets.Button(description=option) for option in button_options]\n",
    "\n",
    "# Create an HBox to arrange the buttons horizontally\n",
    "hbox = widgets.HBox(buttons)\n",
    "\n",
    "# Display the HBox\n",
    "display(hbox)"
   ]
  },
  {
   "cell_type": "code",
   "execution_count": 27,
   "metadata": {},
   "outputs": [
    {
     "data": {
      "application/vnd.jupyter.widget-view+json": {
       "model_id": "f0ee2de18e404906963adbd1cef85e9c",
       "version_major": 2,
       "version_minor": 0
      },
      "text/plain": [
       "VBox(children=(HBox(children=(Button(description='Button 1', style=ButtonStyle()), Button(description='Button …"
      ]
     },
     "metadata": {},
     "output_type": "display_data"
    }
   ],
   "source": [
    "import ipywidgets as widgets\n",
    "from IPython.display import display\n",
    "\n",
    "# Define the options for the buttons in each HBox\n",
    "hbox1_options = ['Button 1', 'Button 2', 'Button 3']\n",
    "hbox2_options = ['Button 4', 'Button 5']\n",
    "\n",
    "# Create a button for each option in each HBox\n",
    "hbox1_buttons = [widgets.Button(description=option) for option in hbox1_options]\n",
    "hbox2_buttons = [widgets.Button(description=option) for option in hbox2_options]\n",
    "\n",
    "# Create an HBox for each set of buttons\n",
    "hbox1 = widgets.HBox(hbox1_buttons)\n",
    "hbox2 = widgets.HBox(hbox2_buttons)\n",
    "\n",
    "# Create a VBox to stack the HBox widgets\n",
    "vbox = widgets.VBox([hbox1, hbox2])\n",
    "\n",
    "# Display the VBox\n",
    "display(vbox)"
   ]
  },
  {
   "cell_type": "code",
   "execution_count": 28,
   "metadata": {},
   "outputs": [
    {
     "data": {
      "application/vnd.jupyter.widget-view+json": {
       "model_id": "4c1001b43bc24a78a11f79e71ee3c83e",
       "version_major": 2,
       "version_minor": 0
      },
      "text/plain": [
       "VBox(children=(HBox(children=(Button(description='Button 1', layout=Layout(width='100%'), style=ButtonStyle())…"
      ]
     },
     "metadata": {},
     "output_type": "display_data"
    }
   ],
   "source": [
    "import ipywidgets as widgets\n",
    "from IPython.display import display\n",
    "\n",
    "# Define the options for the buttons in each HBox\n",
    "hbox1_options = ['Button 1', 'Button 2', 'Button 3']\n",
    "hbox2_options = ['Button 4', 'Button 5']\n",
    "\n",
    "# Create a button for each option in each HBox\n",
    "hbox1_buttons = [widgets.Button(description=option, layout=widgets.Layout(width='100%')) for option in hbox1_options]\n",
    "hbox2_buttons = [widgets.Button(description=option, layout=widgets.Layout(width='100%')) for option in hbox2_options]\n",
    "\n",
    "# Create an HBox for each set of buttons\n",
    "hbox1 = widgets.HBox(hbox1_buttons)\n",
    "hbox2 = widgets.HBox(hbox2_buttons)\n",
    "\n",
    "# Create a VBox to stack the HBox widgets\n",
    "vbox = widgets.VBox([hbox1, hbox2])\n",
    "\n",
    "# Display the VBox\n",
    "display(vbox)"
   ]
  },
  {
   "cell_type": "code",
   "execution_count": 30,
   "metadata": {},
   "outputs": [
    {
     "data": {
      "application/vnd.jupyter.widget-view+json": {
       "model_id": "a1cdddd0b4cf4ce0a439c5d0fa572fbe",
       "version_major": 2,
       "version_minor": 0
      },
      "text/plain": [
       "Tab(children=(VBox(children=(GridBox(children=(ToggleButtons(options=('Option 1', 'Option 2', 'Option 3'), val…"
      ]
     },
     "metadata": {},
     "output_type": "display_data"
    }
   ],
   "source": [
    "import ipywidgets as widgets\n",
    "from IPython.display import display\n",
    "\n",
    "# Define the options for the grid\n",
    "options = [['Option 1', 'Option 2', 'Option 3'],\n",
    "           ['Option 4', 'Option 6'],\n",
    "           ['Option 7', 'Option 8', 'Option 9']]\n",
    "\n",
    "# Create a grid of radio buttons based on the options\n",
    "radio_buttons = [[widgets.ToggleButtons(options=row)] for row in options]\n",
    "\n",
    "# Create an output widget to display the selected text\n",
    "output = widgets.Output()\n",
    "\n",
    "# Define a function to handle radio button changes\n",
    "def handle_radio_button_change(change):\n",
    "    output.clear_output()\n",
    "    selected_options = []\n",
    "    for row in radio_buttons:\n",
    "        selected_button = next((button for button in row if button.value), None)\n",
    "        if selected_button:\n",
    "            selected_options.append(selected_button.value)\n",
    "    with output:\n",
    "        if selected_options:\n",
    "            print('Selected options:')\n",
    "            for option in selected_options:\n",
    "                print(option)\n",
    "        else:\n",
    "            print('No options selected.')\n",
    "\n",
    "# Register the radio button change event handlers\n",
    "for row in radio_buttons:\n",
    "    for button in row:\n",
    "        button.observe(handle_radio_button_change, 'value')\n",
    "\n",
    "# Create a grid layout for the radio buttons\n",
    "radio_button_grid = widgets.GridBox([button for row in radio_buttons for button in row])\n",
    "\n",
    "# Create a vertical box to display the radio buttons and output widget\n",
    "vbox = widgets.VBox([radio_button_grid, output])\n",
    "\n",
    "# Create a tab widget to display the vertical box\n",
    "tab = widgets.Tab()\n",
    "tab.children = [vbox]\n",
    "tab.set_title(0, 'Options')\n",
    "\n",
    "# Display the tab widget\n",
    "display(tab)"
   ]
  },
  {
   "cell_type": "code",
   "execution_count": 16,
   "metadata": {},
   "outputs": [
    {
     "data": {
      "application/vnd.jupyter.widget-view+json": {
       "model_id": "6383c33b0d1c4fe48a46c9b8b216c2ae",
       "version_major": 2,
       "version_minor": 0
      },
      "text/plain": [
       "VBox(children=(HBox(children=(ToggleButtons(layout=Layout(width='100%'), options=('Option 1', 'Option 2', 'Opt…"
      ]
     },
     "execution_count": 16,
     "metadata": {},
     "output_type": "execute_result"
    }
   ],
   "source": [
    "import ipywidgets as widgets\n",
    "from IPython.display import display\n",
    "\n",
    "# Define the options for the grid\n",
    "options = [['Option 1', 'Option 2', 'Option 3'],\n",
    "           ['Option 4', 'Option 6'],\n",
    "           ['Option 7', 'Option 8', 'Option 9']]\n",
    "\n",
    "# Create a list of HBox widgets for each row of radio buttons\n",
    "radio_button_rows = [widgets.HBox([widgets.ToggleButtons(options=row, layout=widgets.Layout(width='100%'))]) for row in options]\n",
    "vbox = widgets.VBox(radio_button_rows)\n",
    "vbox"
   ]
  },
  {
   "cell_type": "code",
   "execution_count": 17,
   "metadata": {},
   "outputs": [
    {
     "data": {
      "application/vnd.jupyter.widget-view+json": {
       "model_id": "c31cb2eeabef4a93953150c2d9e9a598",
       "version_major": 2,
       "version_minor": 0
      },
      "text/plain": [
       "Tab(children=(VBox(children=(HBox(children=(ToggleButtons(layout=Layout(width='100%'), options=('Option 1', 'O…"
      ]
     },
     "metadata": {},
     "output_type": "display_data"
    }
   ],
   "source": [
    "\n",
    "# Create an output widget to display the selected text\n",
    "output = widgets.Output()\n",
    "\n",
    "# Define a function to handle radio button changes\n",
    "def handle_radio_button_change(change):\n",
    "    output.clear_output()\n",
    "    selected_options = []\n",
    "    for row in radio_button_rows:\n",
    "        selected_button = next((button for button in row.children if button.value), None)\n",
    "        if selected_button:\n",
    "            selected_options.append(selected_button.value)\n",
    "    with output:\n",
    "        if selected_options:\n",
    "            print('Selected options:')\n",
    "            for option in selected_options:\n",
    "                print(option)\n",
    "        else:\n",
    "            print('No options selected.')\n",
    "\n",
    "# Register the radio button change event handlers\n",
    "for row in radio_button_rows:\n",
    "    row.children[0].observe(handle_radio_button_change, 'value')\n",
    "\n",
    "# Create a vertical box to display the radio buttons and output widget\n",
    "vbox = widgets.VBox(radio_button_rows + [output])\n",
    "\n",
    "# Create a tab widget to display the vertical box\n",
    "tab = widgets.Tab()\n",
    "tab.children = [vbox]\n",
    "tab.set_title(0, 'Options')\n",
    "\n",
    "# Display the tab widget\n",
    "display(tab)"
   ]
  },
  {
   "cell_type": "code",
   "execution_count": 18,
   "metadata": {},
   "outputs": [
    {
     "data": {
      "application/vnd.jupyter.widget-view+json": {
       "model_id": "97574ab028724fb09d7b4953d5539379",
       "version_major": 2,
       "version_minor": 0
      },
      "text/plain": [
       "VBox(children=(HBox(children=(ToggleButtons(layout=Layout(width='auto'), options=('Button 1', 'Button 2', 'But…"
      ]
     },
     "metadata": {},
     "output_type": "display_data"
    }
   ],
   "source": [
    "import ipywidgets as widgets\n",
    "from IPython.display import display\n",
    "\n",
    "# Define the options for the buttons in each HBox\n",
    "hbox1_options = [\"Button 1\", \"Button 2\", \"Button 3\"]\n",
    "hbox2_options = [\"Button 4\", \"Button 5\"]\n",
    "\n",
    "# Create a button for each option in each HBox\n",
    "hbox1_buttons = [\n",
    "    widgets.ToggleButtons(\n",
    "        options=hbox1_options,\n",
    "        layout=widgets.Layout(width=\"auto\"),\n",
    "        style={\"button_width\": \"132px\"},\n",
    "    ),\n",
    "]\n",
    "hbox2_buttons = [\n",
    "    widgets.ToggleButtons(\n",
    "        options=hbox2_options,\n",
    "        layout=widgets.Layout(width=\"auto\"),\n",
    "        style={\"button_width\": \"200px\"},\n",
    "    ),\n",
    "]\n",
    "\n",
    "form_item_layout = Layout(\n",
    "    display=\"flex\", flex_flow=\"row\", justify_content=\"space-between\"\n",
    ")\n",
    "\n",
    "# Create an HBox for each set of buttons\n",
    "hbox1 = widgets.HBox(hbox1_buttons, layout=form_item_layout)\n",
    "hbox2 = widgets.HBox(hbox2_buttons, layout=form_item_layout)\n",
    "\n",
    "\n",
    "# Create a VBox to stack the HBox widgets\n",
    "vbox = widgets.VBox(\n",
    "    [hbox1, hbox2],\n",
    "    layout=Layout(\n",
    "        display=\"flex\",\n",
    "        flex_flow=\"column\",\n",
    "        align_items=\"center\",\n",
    "        width=\"75%\",\n",
    "    ),\n",
    ")\n",
    "\n",
    "# Display the VBox\n",
    "display(vbox)\n"
   ]
  },
  {
   "cell_type": "code",
   "execution_count": 19,
   "metadata": {},
   "outputs": [
    {
     "data": {
      "application/vnd.jupyter.widget-view+json": {
       "model_id": "c98701fc391e4c839dc9845f84950139",
       "version_major": 2,
       "version_minor": 0
      },
      "text/plain": [
       "VBox(children=(HBox(children=(ToggleButtons(layout=Layout(width='150%'), options=('Option 1', 'Option 2', 'Opt…"
      ]
     },
     "metadata": {},
     "output_type": "display_data"
    }
   ],
   "source": [
    "import ipywidgets as widgets\n",
    "from IPython.display import display\n",
    "\n",
    "# Define the options for the buttons in each HBox\n",
    "hbox1_options = ['Option 1', 'Option 2', 'Option 3']\n",
    "hbox2_options = ['Option 4', 'Option 5']\n",
    "\n",
    "# Create a ToggleButtons widget for each set of options\n",
    "hbox1_buttons = widgets.ToggleButtons(options=hbox1_options, layout=widgets.Layout(width='150%'))\n",
    "hbox2_buttons = widgets.ToggleButtons(options=hbox2_options, layout=widgets.Layout(width='150%'))\n",
    "\n",
    "# Create an HBox for each set of buttons\n",
    "hbox1 = widgets.HBox([hbox1_buttons], layout=widgets.Layout(width='50%', flex='0 0 auto'))\n",
    "hbox2 = widgets.HBox([hbox2_buttons], layout=widgets.Layout(width='50%', flex='0 0 auto'))\n",
    "\n",
    "# Create a VBox to stack the HBox widgets\n",
    "vbox = widgets.VBox([hbox1, hbox2])\n",
    "\n",
    "# Display the VBox\n",
    "display(vbox)"
   ]
  },
  {
   "cell_type": "code",
   "execution_count": 20,
   "metadata": {},
   "outputs": [
    {
     "data": {
      "application/vnd.jupyter.widget-view+json": {
       "model_id": "fe3ef350fea64879839d59912e106b69",
       "version_major": 2,
       "version_minor": 0
      },
      "text/plain": [
       "VBox(children=(HBox(children=(ToggleButtons(layout=Layout(width='100%'), options=('Option 1', 'Option 2', 'Opt…"
      ]
     },
     "metadata": {},
     "output_type": "display_data"
    }
   ],
   "source": [
    "import ipywidgets as widgets\n",
    "from IPython.display import display\n",
    "\n",
    "# Define the options for the ToggleButtons\n",
    "options = ['Option 1', 'Option 2', 'Option 3']\n",
    "\n",
    "# Create a ToggleButtons widget\n",
    "toggle_buttons = widgets.ToggleButtons(options=options, layout=widgets.Layout(width='100%'))\n",
    "\n",
    "# Create an HBox to hold the ToggleButtons widget\n",
    "hbox = widgets.HBox([toggle_buttons], layout=widgets.Layout(width='100%'))\n",
    "\n",
    "# Create a VBox to hold the HBox widget\n",
    "vbox = widgets.VBox([hbox])\n",
    "\n",
    "# Display the VBox\n",
    "display(vbox)"
   ]
  },
  {
   "cell_type": "code",
   "execution_count": 21,
   "metadata": {},
   "outputs": [
    {
     "data": {
      "application/vnd.jupyter.widget-view+json": {
       "model_id": "32e92c6072a342929d049ab787920979",
       "version_major": 2,
       "version_minor": 0
      },
      "text/plain": [
       "VBox(children=(HBox(children=(ToggleButtons(layout=Layout(width='100%'), options=('Option 1', 'Option 2', 'Opt…"
      ]
     },
     "metadata": {},
     "output_type": "display_data"
    }
   ],
   "source": [
    "import ipywidgets as widgets\n",
    "from IPython.display import display\n",
    "\n",
    "# Define the options for the ToggleButtons\n",
    "options = ['Option 1', 'Option 2', 'Option 3']\n",
    "\n",
    "# Create a ToggleButtons widget\n",
    "toggle_buttons = widgets.ToggleButtons(options=options, layout=widgets.Layout(width='100%'), style={'font-size': '20pt'})\n",
    "\n",
    "# Create an HBox to hold the ToggleButtons widget\n",
    "hbox = widgets.HBox([toggle_buttons], layout=widgets.Layout(width='100%'))\n",
    "\n",
    "# Create a VBox to hold the HBox widget\n",
    "vbox = widgets.VBox([hbox], layout=widgets.Layout(width='100%', height='300px'))\n",
    "\n",
    "# Display the VBox\n",
    "display(vbox)"
   ]
  },
  {
   "cell_type": "code",
   "execution_count": 22,
   "metadata": {},
   "outputs": [
    {
     "data": {
      "application/vnd.jupyter.widget-view+json": {
       "model_id": "411bcacb21ac4cbb8ef34efd10d61f26",
       "version_major": 2,
       "version_minor": 0
      },
      "text/plain": [
       "VBox(children=(HBox(children=(Button(description='Option 1', layout=Layout(width='33%'), style=ButtonStyle()),…"
      ]
     },
     "metadata": {},
     "output_type": "display_data"
    }
   ],
   "source": [
    "import ipywidgets as widgets\n",
    "from IPython.display import display\n",
    "\n",
    "# Define the options for the buttons\n",
    "options = ['Option 1', 'Option 2', 'Option 3']\n",
    "\n",
    "# Create a list to hold the Button widgets\n",
    "buttons = []\n",
    "\n",
    "# Create a callback function to handle button clicks\n",
    "def on_button_click(button):\n",
    "    # Toggle the state of the button\n",
    "    button.selected = not button.selected\n",
    "    # Update the appearance of the button\n",
    "    if button.selected:\n",
    "        button.button_style = 'success'\n",
    "    else:\n",
    "        button.button_style = ''\n",
    "\n",
    "# Create a Button widget for each option\n",
    "for option in options:\n",
    "    button = widgets.Button(description=option, layout=widgets.Layout(width='33%'))\n",
    "    button.selected = False\n",
    "    button.on_click(on_button_click)\n",
    "    buttons.append(button)\n",
    "\n",
    "# Create an HBox to hold the Button widgets\n",
    "hbox = widgets.HBox(buttons, layout=widgets.Layout(width='100%'))\n",
    "\n",
    "# Create a VBox to hold the HBox widget\n",
    "vbox = widgets.VBox([hbox], layout=widgets.Layout(width='100%', height='300px'))\n",
    "\n",
    "# Display the VBox\n",
    "display(vbox)"
   ]
  },
  {
   "cell_type": "code",
   "execution_count": 23,
   "metadata": {},
   "outputs": [
    {
     "data": {
      "application/vnd.jupyter.widget-view+json": {
       "model_id": "7aecd63abf094c1a805b8ce3454a2020",
       "version_major": 2,
       "version_minor": 0
      },
      "text/plain": [
       "VBox(children=(HBox(children=(Button(description='Option 1', layout=Layout(width='33%'), style=ButtonStyle()),…"
      ]
     },
     "metadata": {},
     "output_type": "display_data"
    }
   ],
   "source": [
    "import ipywidgets as widgets\n",
    "from IPython.display import display\n",
    "\n",
    "# Define the options for the buttons\n",
    "options = ['Option 1', 'Option 2', 'Option 3']\n",
    "\n",
    "# Create a list to hold the Button widgets\n",
    "buttons = []\n",
    "\n",
    "# Create a callback function to handle button clicks\n",
    "def on_button_click(button):\n",
    "    # Deselect all other buttons\n",
    "    for other_button in buttons:\n",
    "        if other_button != button:\n",
    "            other_button.selected = False\n",
    "            other_button.button_style = ''\n",
    "    # Toggle the state of the button\n",
    "    button.selected = not button.selected\n",
    "    # Update the appearance of the button\n",
    "    if button.selected:\n",
    "        button.button_style = 'success'\n",
    "    else:\n",
    "        button.button_style = ''\n",
    "\n",
    "# Create a Button widget for each option\n",
    "for option in options:\n",
    "    button = widgets.Button(description=option, layout=widgets.Layout(width='33%'))\n",
    "    button.selected = False\n",
    "    button.on_click(on_button_click)\n",
    "    buttons.append(button)\n",
    "\n",
    "# Create an HBox to hold the Button widgets\n",
    "hbox = widgets.HBox(buttons, layout=widgets.Layout(width='100%'))\n",
    "\n",
    "# Create a VBox to hold the HBox widget\n",
    "vbox = widgets.VBox([hbox], layout=widgets.Layout(width='100%', height='300px'))\n",
    "\n",
    "# Display the VBox\n",
    "display(vbox)"
   ]
  },
  {
   "cell_type": "code",
   "execution_count": 24,
   "metadata": {},
   "outputs": [
    {
     "data": {
      "application/vnd.jupyter.widget-view+json": {
       "model_id": "c4edf51f36724a8b9418e03179d370a0",
       "version_major": 2,
       "version_minor": 0
      },
      "text/plain": [
       "VBox(children=(HBox(children=(Button(description='Option 1', layout=Layout(width='33%'), style=ButtonStyle()),…"
      ]
     },
     "metadata": {},
     "output_type": "display_data"
    }
   ],
   "source": [
    "import ipywidgets as widgets\n",
    "from IPython.display import display\n",
    "\n",
    "# Define the options for the buttons\n",
    "options = ['Option 1', 'Option 2', 'Option 3']\n",
    "\n",
    "# Create a list to hold the Button widgets\n",
    "buttons = []\n",
    "\n",
    "# Create a callback function to handle button clicks\n",
    "def on_button_click(button):\n",
    "    # Deselect all other buttons\n",
    "    for other_button in buttons:\n",
    "        if other_button != button:\n",
    "            other_button.selected = False\n",
    "            other_button.button_style = ''\n",
    "    # Toggle the state of the button\n",
    "    button.selected = not button.selected\n",
    "    # Update the appearance of the button\n",
    "    if button.selected:\n",
    "        button.button_style = 'success'\n",
    "    else:\n",
    "        button.button_style = ''\n",
    "\n",
    "# Create a Button widget for each option\n",
    "for option in options:\n",
    "    button = widgets.Button(description=option, layout=widgets.Layout(width='33%'))\n",
    "    button.selected = False\n",
    "    button.on_click(on_button_click)\n",
    "    buttons.append(button)\n",
    "\n",
    "# Create an HBox to hold the Button widgets\n",
    "hbox = widgets.HBox(buttons, layout=widgets.Layout(width='100%'))\n",
    "\n",
    "# Create a VBox to hold the HBox widget\n",
    "vbox = widgets.VBox([hbox], layout=widgets.Layout(width='100%', height='300px'))\n",
    "\n",
    "# Display the VBox\n",
    "display(vbox)"
   ]
  },
  {
   "cell_type": "code",
   "execution_count": null,
   "metadata": {},
   "outputs": [],
   "source": []
  }
 ],
 "metadata": {
  "kernelspec": {
   "display_name": "honegumi",
   "language": "python",
   "name": "python3"
  },
  "language_info": {
   "codemirror_mode": {
    "name": "ipython",
    "version": 3
   },
   "file_extension": ".py",
   "mimetype": "text/x-python",
   "name": "python",
   "nbconvert_exporter": "python",
   "pygments_lexer": "ipython3",
   "version": "3.10.11"
  },
  "orig_nbformat": 4
 },
 "nbformat": 4,
 "nbformat_minor": 2
}
