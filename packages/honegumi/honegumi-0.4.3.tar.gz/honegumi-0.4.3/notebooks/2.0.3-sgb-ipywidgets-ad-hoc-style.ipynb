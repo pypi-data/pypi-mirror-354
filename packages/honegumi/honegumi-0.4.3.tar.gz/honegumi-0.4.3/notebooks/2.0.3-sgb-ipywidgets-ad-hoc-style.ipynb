{
 "cells": [
  {
   "cell_type": "markdown",
   "metadata": {},
   "source": [
    "Ad-hoc Styling"
   ]
  },
  {
   "cell_type": "code",
   "execution_count": 4,
   "metadata": {},
   "outputs": [
    {
     "data": {
      "application/vnd.jupyter.widget-view+json": {
       "model_id": "dea0f40f936e4f4ea864aa0723678877",
       "version_major": 2,
       "version_minor": 0
      },
      "text/plain": [
       "ToggleButtons(description='Select an option:', options=('Option 1', 'Option 2', 'Option 3', 'Option 4'), value…"
      ]
     },
     "metadata": {},
     "output_type": "display_data"
    }
   ],
   "source": [
    "import ipywidgets as widgets\n",
    "from IPython.display import display\n",
    "\n",
    "# Create a ToggleButtons widget\n",
    "toggle_buttons = widgets.ToggleButtons(\n",
    "    options=['Option 1', 'Option 2', 'Option 3', 'Option 4'],\n",
    "    description='Select an option:',\n",
    "    style={\"text_decoration\": \"line-through\"},\n",
    ")\n",
    "\n",
    "# Display the widgets\n",
    "display(toggle_buttons)"
   ]
  },
  {
   "cell_type": "code",
   "execution_count": 5,
   "metadata": {},
   "outputs": [
    {
     "data": {
      "application/vnd.jupyter.widget-view+json": {
       "model_id": "dea0f40f936e4f4ea864aa0723678877",
       "version_major": 2,
       "version_minor": 0
      },
      "text/plain": [
       "ToggleButtons(description='Select an option:', options=('Option 1', 'Option 2', 'Option 3', 'INVALID'), value=…"
      ]
     },
     "metadata": {},
     "output_type": "display_data"
    }
   ],
   "source": [
    "# change the text of the 4th option\n",
    "toggle_buttons.options = ['Option 1', 'Option 2', 'Option 3', 'INVALID']\n",
    "display(toggle_buttons)"
   ]
  },
  {
   "cell_type": "code",
   "execution_count": 3,
   "metadata": {},
   "outputs": [],
   "source": [
    "# import ipywidgets as widgets\n",
    "# from IPython.display import display\n",
    "\n",
    "# # Create a ToggleButtons widget\n",
    "# toggle_buttons = widgets.ToggleButtons(\n",
    "#     options=['Option 1', 'Option 2', 'Option 3'],\n",
    "#     description='Select an option:',\n",
    "#     button_style='info'\n",
    "# )\n",
    "\n",
    "# # Create a slider widget\n",
    "# slider = widgets.FloatSlider(value=1.0, min=0.5, max=2.0, step=0.1, description='Button size:')\n",
    "\n",
    "# # Define the function to update the button style\n",
    "# def update_button_style(change):\n",
    "#     toggle_buttons.style.button_color = 'red'\n",
    "#     toggle_buttons.style.font_weight = 'bold'\n",
    "#     toggle_buttons.style.font_size = f'{slider.value*100}%'\n",
    "\n",
    "# # Register the event handler for the slider\n",
    "# slider.observe(update_button_style, names='value')\n",
    "\n",
    "# # Display the widgets\n",
    "# display(toggle_buttons)\n",
    "# display(slider)"
   ]
  }
 ],
 "metadata": {
  "kernelspec": {
   "display_name": "honegumi",
   "language": "python",
   "name": "python3"
  },
  "language_info": {
   "codemirror_mode": {
    "name": "ipython",
    "version": 3
   },
   "file_extension": ".py",
   "mimetype": "text/x-python",
   "name": "python",
   "nbconvert_exporter": "python",
   "pygments_lexer": "ipython3",
   "version": "3.10.11"
  },
  "orig_nbformat": 4
 },
 "nbformat": 4,
 "nbformat_minor": 2
}
