{
 "cells": [
  {
   "cell_type": "markdown",
   "metadata": {},
   "source": [
    "# Dynamic Matrix Output with ipywidgets (simpler)"
   ]
  },
  {
   "cell_type": "code",
   "execution_count": 1,
   "metadata": {},
   "outputs": [
    {
     "data": {
      "application/vnd.jupyter.widget-view+json": {
       "model_id": "b704010b78ca4af19df18d1bbdf0a5db",
       "version_major": 2,
       "version_minor": 0
      },
      "text/plain": [
       "VBox(children=(HBox(children=(Label(value='Option 1:', layout=Layout(width='100px')), ToggleButtons(layout=Lay…"
      ]
     },
     "metadata": {},
     "output_type": "display_data"
    }
   ],
   "source": [
    "import ipywidgets as widgets\n",
    "from IPython.display import display\n",
    "import numpy as np\n",
    "\n",
    "# Define the options for the toggle buttons\n",
    "data = [\n",
    "    {\n",
    "        'description': 'Option 1:',\n",
    "        'options': {\n",
    "            'A': 'You selected Option 1. A',\n",
    "            'B': 'You selected Option 1. B',\n",
    "            'C': 'You selected Option 1. C'\n",
    "        }\n",
    "    },\n",
    "    {\n",
    "        'description': 'Option 2:',\n",
    "        'options': {\n",
    "            'D': 'You selected Option 2. D',\n",
    "            'E': 'You selected Option 2. E'\n",
    "        }\n",
    "    },\n",
    "    {\n",
    "        'description': 'Option 3:',\n",
    "        'options': {\n",
    "            'F': 'You selected Option 3. F',\n",
    "            'G': 'You selected Option 3. G',\n",
    "            'H': 'You selected Option 3. H'\n",
    "        }\n",
    "    }\n",
    "]\n",
    "\n",
    "# Create a list of HBox widgets for each option group\n",
    "hboxes = []\n",
    "for row in data:\n",
    "    option_rows = row['options']\n",
    "    hbox = widgets.HBox([\n",
    "        widgets.Label(row['description'], layout=widgets.Layout(width=\"100px\")),\n",
    "        widgets.ToggleButtons(\n",
    "            options=option_rows,\n",
    "            layout=widgets.Layout(width=\"auto\"),\n",
    "            style={\"button_width\": f\"{np.round(300/len(option_rows))}px\"},\n",
    "        ),\n",
    "    ])\n",
    "    hboxes.append(hbox)\n",
    "\n",
    "# Create an output widget to display the selected text\n",
    "output = widgets.Output()\n",
    "\n",
    "# Define a function to handle toggle button changes\n",
    "def handle_toggle_button_change(change):\n",
    "    output.clear_output(wait=True)\n",
    "    with output:\n",
    "        for hbox in hboxes:\n",
    "            toggle_buttons = hbox.children[1]\n",
    "            print(toggle_buttons.value)\n",
    "\n",
    "# display the default output by running once\n",
    "handle_toggle_button_change(None)\n",
    "\n",
    "# Register the toggle button change event handlers\n",
    "for hbox in hboxes:\n",
    "    hbox.children[1].observe(handle_toggle_button_change, names='value')\n",
    "\n",
    "# Create a vertical box to display the toggle buttons and output widget\n",
    "vbox = widgets.VBox(hboxes + [output])\n",
    "\n",
    "# Display the vertical box\n",
    "display(vbox)"
   ]
  },
  {
   "cell_type": "code",
   "execution_count": null,
   "metadata": {},
   "outputs": [],
   "source": []
  }
 ],
 "metadata": {
  "kernelspec": {
   "display_name": "honegumi",
   "language": "python",
   "name": "python3"
  },
  "language_info": {
   "codemirror_mode": {
    "name": "ipython",
    "version": 3
   },
   "file_extension": ".py",
   "mimetype": "text/x-python",
   "name": "python",
   "nbconvert_exporter": "python",
   "pygments_lexer": "ipython3",
   "version": "3.10.11"
  },
  "orig_nbformat": 4
 },
 "nbformat": 4,
 "nbformat_minor": 2
}
