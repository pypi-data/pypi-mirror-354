{
 "cells": [
  {
   "cell_type": "code",
   "execution_count": 9,
   "metadata": {},
   "outputs": [],
   "source": [
    "import os\n",
    "\n",
    "os.environ[\"SPAI_STORAGE_NAMES\"] = \"local_data\"\n",
    "os.environ[\"SPAI_STORAGE_LOCAL_DATA_PATH\"] = \"data\"\n",
    "\n",
    "SPAI_STORAGE_NAMES = \"local_data\"\n",
    "SPAI_STORAGE_LOCAL_DATA_PATH = \"/User/judith/ep-backend/spai-new/spai/examples/data\""
   ]
  },
  {
   "cell_type": "code",
   "execution_count": 10,
   "metadata": {},
   "outputs": [
    {
     "name": "stdout",
     "output_type": "stream",
     "text": [
      "'data' folder ready to use\n"
     ]
    }
   ],
   "source": [
    "from spai.storage import Storage\n",
    "\n",
    "storage = Storage()\n",
    "data = storage[\"data\"]"
   ]
  },
  {
   "cell_type": "code",
   "execution_count": 8,
   "metadata": {},
   "outputs": [
    {
     "name": "stdout",
     "output_type": "stream",
     "text": [
      "<Response [200]>\n"
     ]
    }
   ],
   "source": [
    "import requests\n",
    "\n",
    "url = \"http://localhost:8001/reports/generate\"\n",
    "body = {\n",
    "    \"dataframe\": {\n",
    "        \"Not Vegetation Ha\": {\"1686873600000\": 2172.52, \"1687737600000\": 2095.39},\n",
    "        \"Vegetation Ha\": {\"1686873600000\": 316.05, \"1687737600000\": 393.18},\n",
    "        \"Total\": {\"1686873600000\": 2488.57, \"1687737600000\": 2488.57},\n",
    "    },\n",
    "    \"plot_type\": \"line\",\n",
    "    \"title\": \"Title\",\n",
    "    \"text\": \"This is a text\",\n",
    "    \"show_table\": True,\n",
    "    \"zip\": False,\n",
    "}\n",
    "\n",
    "response = requests.post(url, json=body)\n",
    "print(response)"
   ]
  },
  {
   "cell_type": "code",
   "execution_count": 12,
   "metadata": {},
   "outputs": [],
   "source": [
    "from spai.mails import send_mail\n",
    "from spai.reports import generate_report\n",
    "\n",
    "df = data.read_from_json(\"growth.json\")\n",
    "\n",
    "generate_report(\n",
    "    df,\n",
    "    \"pie\",\n",
    "    \"report.pdf\",\n",
    "    \"Vegetation growth\",\n",
    "    \"Vegetation growth over time in the selected area of interest.\",\n",
    ")"
   ]
  },
  {
   "cell_type": "code",
   "execution_count": 22,
   "metadata": {},
   "outputs": [
    {
     "data": {
      "text/plain": [
       "'Mail sent successfully'"
      ]
     },
     "execution_count": 22,
     "metadata": {},
     "output_type": "execute_result"
    }
   ],
   "source": [
    "send_mail(\n",
    "    to=\"judith@earthpulse.ai\",\n",
    "    subject=\"Test\",\n",
    "    body=\"This is a test\",\n",
    "    attachment=[\"report.pdf\"],\n",
    ")"
   ]
  },
  {
   "cell_type": "code",
   "execution_count": 15,
   "metadata": {},
   "outputs": [],
   "source": [
    "\"\"\"\n",
    "Mail generation use case\n",
    "\"\"\"\n",
    "\n",
    "import os\n",
    "import logging\n",
    "\n",
    "from typing import Union, List\n",
    "\n",
    "from fastapi.exceptions import HTTPException\n",
    "from sendgrid import SendGridAPIClient\n",
    "from sendgrid.helpers.mail import (\n",
    "    Mail,\n",
    "    Attachment,\n",
    "    FileContent,\n",
    "    FileName,\n",
    "    FileType,\n",
    "    Disposition,\n",
    ")\n",
    "\n",
    "logger = logging.getLogger(__name__)\n",
    "\n",
    "\n",
    "FROM = \"fran@earthpulse.ai\"  # If other than the default, validate in sendgrid settings\n",
    "ACCEPTED_RESPONSES = (200, 201, 202)\n",
    "\n",
    "message = Mail(\n",
    "    from_email=FROM,\n",
    "    to_emails=\"fran@earthpulse.ai\",\n",
    "    subject=\"subject\",\n",
    "    html_content=\"body\",\n",
    ")"
   ]
  },
  {
   "cell_type": "code",
   "execution_count": 17,
   "metadata": {},
   "outputs": [
    {
     "data": {
      "text/plain": [
       "<sendgrid.helpers.mail.mail.Mail at 0x136319340>"
      ]
     },
     "execution_count": 17,
     "metadata": {},
     "output_type": "execute_result"
    }
   ],
   "source": [
    "message"
   ]
  }
 ],
 "metadata": {
  "kernelspec": {
   "display_name": "spai",
   "language": "python",
   "name": "python3"
  },
  "language_info": {
   "codemirror_mode": {
    "name": "ipython",
    "version": 3
   },
   "file_extension": ".py",
   "mimetype": "text/x-python",
   "name": "python",
   "nbconvert_exporter": "python",
   "pygments_lexer": "ipython3",
   "version": "3.8.19"
  }
 },
 "nbformat": 4,
 "nbformat_minor": 2
}
