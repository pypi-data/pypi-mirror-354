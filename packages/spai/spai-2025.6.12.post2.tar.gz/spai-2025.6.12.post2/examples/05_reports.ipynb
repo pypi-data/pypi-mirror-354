{
 "cells": [
  {
   "cell_type": "markdown",
   "metadata": {},
   "source": [
    "# Reports\n"
   ]
  },
  {
   "cell_type": "markdown",
   "metadata": {},
   "source": [
    "With SPAI we can generate reports in `pdf` from `GeoDataFrames` or `DataFrames`, using the function `generate_report` from the `spai.reports` module.\n"
   ]
  },
  {
   "cell_type": "code",
   "execution_count": null,
   "metadata": {},
   "outputs": [],
   "source": [
    "from spai.reports import generate_report\n",
    "from spai.storage.LocalStorage import LocalStorage\n",
    "\n",
    "storage = LocalStorage(\"samples\")  # folder with sample data\n",
    "\n",
    "df = storage.read(\"AOI_Vegetation_Growth.json\")"
   ]
  },
  {
   "cell_type": "markdown",
   "metadata": {},
   "source": [
    "The parameters are:\n",
    "\n",
    "- `df`: the `DataFrame` to generate the report from.\n",
    "- `plot_type`: the type of plot to use to generate the report.\n",
    "- `output`: the output file name.\n",
    "- `title`: the title of the report.\n",
    "- `text`: the text of the report.\n",
    "- `show_table`: whether to show the table in the report.\n",
    "- `zip`: whether to zip the report.\n",
    "\n",
    "Let's generate a simple report with a line plot:\n"
   ]
  },
  {
   "cell_type": "code",
   "execution_count": null,
   "metadata": {},
   "outputs": [],
   "source": [
    "generate_report(\n",
    "    df,\n",
    "    \"line\",\n",
    "    \"report.pdf\",\n",
    "    \"Vegetation growth\",\n",
    "    \"Vegetation growth over time in the selected area of interest.\",\n",
    ")"
   ]
  },
  {
   "cell_type": "markdown",
   "metadata": {},
   "source": [
    "Now let's generate a report with a table:\n"
   ]
  },
  {
   "cell_type": "code",
   "execution_count": null,
   "metadata": {},
   "outputs": [],
   "source": [
    "generate_report(\n",
    "    df,\n",
    "    \"line\",\n",
    "    \"report_table.pdf\",\n",
    "    \"Vegetation growth\",\n",
    "    \"Vegetation growth over time in the selected area of interest.\",\n",
    "    show_table=True,\n",
    ")"
   ]
  },
  {
   "cell_type": "markdown",
   "metadata": {},
   "source": [
    "Finally, let's generate a report with a zip file:\n"
   ]
  },
  {
   "cell_type": "code",
   "execution_count": null,
   "metadata": {},
   "outputs": [],
   "source": [
    "generate_report(\n",
    "    df,\n",
    "    \"line\",\n",
    "    \"report.zip\",\n",
    "    \"Vegetation growth\",\n",
    "    \"Vegetation growth over time in the selected area of interest.\",\n",
    "    zip=True,\n",
    ")"
   ]
  }
 ],
 "metadata": {
  "kernelspec": {
   "display_name": "spai",
   "language": "python",
   "name": "python3"
  },
  "language_info": {
   "codemirror_mode": {
    "name": "ipython",
    "version": 3
   },
   "file_extension": ".py",
   "mimetype": "text/x-python",
   "name": "python",
   "nbconvert_exporter": "python",
   "pygments_lexer": "ipython3",
   "version": "3.8.20"
  }
 },
 "nbformat": 4,
 "nbformat_minor": 2
}
