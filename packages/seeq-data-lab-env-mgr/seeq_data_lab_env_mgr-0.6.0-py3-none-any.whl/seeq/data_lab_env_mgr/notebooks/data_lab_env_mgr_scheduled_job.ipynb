{
 "cells": [
  {
   "cell_type": "code",
   "execution_count": null,
   "id": "55c64223-1d6a-4df5-a0ee-68f1b63c069e",
   "metadata": {},
   "outputs": [],
   "source": [
    "# Ensuring the seeq_data_lab_env_mgr package is always up to date. However, \n",
    "# the current execution will use the existing version, \n",
    "# while the updated version will take effect in the next job run.\n",
    "\n",
    "%pip install -q seeq_data_lab_env_mgr -U"
   ]
  },
  {
   "cell_type": "code",
   "execution_count": null,
   "id": "c10ebec1-762e-4737-8408-6ccce1bec822",
   "metadata": {},
   "outputs": [],
   "source": [
    "EVENT_NAME = \"DLEM Scheduled Telemetry\"\n",
    "\n",
    "try:\n",
    "    from seeq.data_lab_env_mgr import DataLabEnvMgr\n",
    "\n",
    "    dlem = DataLabEnvMgr()\n",
    "    if hasattr(dlem, \"_create_projects_df\") and hasattr(dlem, \"_track\"):\n",
    "        dlem._create_projects_df()\n",
    "        dlem._track(EVENT_NAME)\n",
    "    else:\n",
    "        raise AttributeError(\"Required methods are missing in DataLabEnvMgr.\")\n",
    "except ImportError:\n",
    "    print(\"Failed to import DataLabEnvMgr. Ensure the package is installed.\")\n",
    "except Exception as e:\n",
    "    print(f\"An error occurred: {e}\")"
   ]
  }
 ],
 "metadata": {
  "kernelspec": {
   "display_name": "Python 3.11",
   "language": "python",
   "name": "python311"
  },
  "language_info": {
   "codemirror_mode": {
    "name": "ipython",
    "version": 3
   },
   "file_extension": ".py",
   "mimetype": "text/x-python",
   "name": "python",
   "nbconvert_exporter": "python",
   "pygments_lexer": "ipython3",
   "version": "3.11.11"
  }
 },
 "nbformat": 4,
 "nbformat_minor": 5
}
