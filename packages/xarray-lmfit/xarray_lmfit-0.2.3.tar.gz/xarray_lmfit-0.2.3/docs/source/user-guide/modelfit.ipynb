{
 "cells": [
  {
   "cell_type": "markdown",
   "metadata": {},
   "source": [
    "# Fitting `lmfit.Model`s to `xarray` objects\n",
    "\n",
    "`xarray-lmfit` adds some methods to xarray objects that allows you to fit data with lmfit models: {meth}`xarray.DataArray.xlm.modelfit` and {meth}`xarray.Dataset.xlm.modelfit`, depending on whether you want to fit a single DataArray or multiple DataArrays in a Dataset.\n",
    "\n",
    "## The fit result Dataset\n",
    "\n",
    "The accessor returns a {class}`xarray.Dataset` including the best-fit parameters and the\n",
    "fit statistics.\n",
    "\n",
    ":::{hint}\n",
    "\n",
    "The syntax of the accessors are similar to the xarray native methods {meth}`xarray.DataArray.curvefit` and {meth}`xarray.Dataset.curvefit`.\n",
    "\n",
    ":::\n",
    "\n",
    "First, let us generate a Gaussian peak on a linear background."
   ]
  },
  {
   "cell_type": "code",
   "execution_count": null,
   "metadata": {},
   "outputs": [],
   "source": [
    "import numpy as np\n",
    "import xarray as xr\n",
    "import matplotlib.pyplot as plt\n",
    "import lmfit\n",
    "\n",
    "# Generate toy data\n",
    "x = np.linspace(0, 10, 50)\n",
    "y = -0.1 * x + 2 + 3 * np.exp(-((x - 5) ** 2) / (2 * 1**2))\n",
    "\n",
    "# Add some noise with fixed seed for reproducibility\n",
    "rng = np.random.default_rng(5)\n",
    "yerr = np.full_like(x, 0.3)\n",
    "y = rng.normal(y, yerr)\n",
    "\n",
    "y_arr = xr.DataArray(y, dims=(\"x\",), coords={\"x\": x})\n",
    "\n",
    "y_arr"
   ]
  },
  {
   "cell_type": "markdown",
   "metadata": {},
   "source": [
    "Here, `y_arr` is the DataArray that contains both the values we want to fit, along with the independent variable `x` as a coordinate.\n",
    "\n",
    "After importing `xarray_lmfit`, we can use {meth}`xarray.DataArray.xlm.modelfit` to fit the data to a model."
   ]
  },
  {
   "cell_type": "code",
   "execution_count": null,
   "metadata": {},
   "outputs": [],
   "source": [
    "import xarray_lmfit\n",
    "\n",
    "model = lmfit.models.GaussianModel() + lmfit.models.LinearModel()\n",
    "\n",
    "y_arr.xlm.modelfit(\n",
    "    \"x\",\n",
    "    model=model,\n",
    "    params=model.make_params(slope=-0.1, center=5.0, sigma={\"value\": 0.1, \"min\": 0}),\n",
    ")"
   ]
  },
  {
   "cell_type": "markdown",
   "metadata": {},
   "source": [
    "Let's take a closer look at the data variables in the resulting Dataset.\n",
    "\n",
    "- `modelfit_results` contains the underlying {class}`lmfit.model.ModelResult` object from the fit.\n",
    "- `modelfit_coefficients` and `modelfit_stderr` contain the best-fit coefficients and their errors, respectively.\n",
    "- `modelfit_stats` contains the [goodness-of-fit statistics](https://lmfit.github.io/lmfit-py/fitting.html#goodness-of-fit-statistics).\n",
    "\n",
    "When called on a Dataset instead of a DataArray, these variables will be prefixed with the name of the data variable they correspond to.\n",
    "\n",
    "It may not be immediately obvious how this is useful, but the true power of the accessor comes from its ability to utilize xarray's powerful broadcasting capabilities, as described in the next section.\n",
    "\n",
    "## Fitting across multiple dimensions\n",
    "\n",
    "Suppose you have to fit a single model to multiple data points across some dimension, or even multiple dimensions. The accessor can handle this with ease.\n",
    "\n",
    ":::{admonition} Work in Progress\n",
    ":class: warning\n",
    "\n",
    "This part of the user guide is still under construction.\n",
    "\n",
    ":::\n"
   ]
  },
  {
   "cell_type": "markdown",
   "metadata": {},
   "source": [
    "## Fitting multidimensional models\n",
    "\n",
    "\n",
    "Fitting is not limited to 1D models. The following example demonstrates how to fit a 2D Gaussian peak to a 2D DataArray."
   ]
  },
  {
   "cell_type": "code",
   "execution_count": null,
   "metadata": {},
   "outputs": [],
   "source": [
    "# Generate synthetic 2D data\n",
    "x = np.linspace(-10, 10, 50)\n",
    "y = np.linspace(-10, 10, 50)\n",
    "x_arr = xr.DataArray(x, dims=(\"x\",), coords={\"x\": x})\n",
    "y_arr = xr.DataArray(y, dims=(\"y\",), coords={\"y\": y})\n",
    "z_arr = lmfit.lineshapes.gaussian2d(\n",
    "    x_arr,\n",
    "    y_arr,\n",
    "    amplitude=4.0,\n",
    "    centerx=0.0,\n",
    "    centery=0.0,\n",
    "    sigmax=1.0,\n",
    "    sigmay=2.0,\n",
    ").rename(\"z\")\n",
    "\n",
    "# Add some noise with fixed seed for reproducibility\n",
    "rng = np.random.default_rng(5)\n",
    "z_arr = z_arr.copy(data=rng.normal(z_arr, 0.01))"
   ]
  },
  {
   "cell_type": "markdown",
   "metadata": {},
   "source": [
    "Fitting a 2D model is as simple as providing multiple coordinate names for different independent variables:"
   ]
  },
  {
   "cell_type": "code",
   "execution_count": null,
   "metadata": {},
   "outputs": [],
   "source": [
    "result_ds = z_arr.xlm.modelfit(\n",
    "    (\"x\", \"y\"),\n",
    "    model=lmfit.models.Gaussian2dModel(),\n",
    "    params=model.make_params(\n",
    "        amplitude=2.0, centerx=0.0, centery=0.0, sigmax=1.0, sigmay=2.0\n",
    "    ),\n",
    ")\n",
    "result_ds"
   ]
  },
  {
   "cell_type": "markdown",
   "metadata": {},
   "source": [
    "Let's take a look at the best fit and residuals:"
   ]
  },
  {
   "cell_type": "code",
   "execution_count": null,
   "metadata": {},
   "outputs": [],
   "source": [
    "fig, axs = plt.subplots(1, 3, figsize=(12, 3), layout=\"compressed\")\n",
    "\n",
    "z_arr.plot(ax=axs[0], center=False)\n",
    "axs[0].set_title(\"Data\")\n",
    "\n",
    "result_ds.modelfit_best_fit.plot(ax=axs[1])\n",
    "axs[1].set_title(\"Fit\")\n",
    "\n",
    "(z_arr - result_ds.modelfit_best_fit).plot(ax=axs[2])\n",
    "axs[2].set_title(\"Data $-$ Fit\")\n",
    "\n",
    "for ax in axs:\n",
    "    ax.set_aspect(\"equal\")"
   ]
  },
  {
   "cell_type": "markdown",
   "metadata": {},
   "source": [
    "Providing initial guesses\n",
    "-------------------------\n",
    "\n",
    "Using the broadcasting capabilities of xarray, you can provide initial guesses and\n",
    "bounds for the fitting parameters as DataArrays. This is useful when you have multiple\n",
    "data that you want to fit with the same model, but with different initial guesses for\n",
    "each data point.\n",
    "\n",
    "To demonstrate, let's create some data containing multiple Gaussian peaks, each with a\n",
    "different center."
   ]
  },
  {
   "cell_type": "code",
   "execution_count": null,
   "metadata": {},
   "outputs": [],
   "source": [
    "# Define coordinates\n",
    "x = np.linspace(-5.0, 5.0, 100)\n",
    "y = np.linspace(-1.0, 1.0, 3)\n",
    "\n",
    "# Center of the peaks along y\n",
    "center = np.array([-2.0, 0.0, 2.0])[:, np.newaxis]\n",
    "\n",
    "# Gaussian peak on a linear background\n",
    "z = -0.1 * x + 2 + 3 * np.exp(-((x - center) ** 2) / (2 * 1**2))\n",
    "\n",
    "# Add some noise with fixed seed for reproducibility\n",
    "rng = np.random.default_rng(5)\n",
    "zerr = np.full_like(z, 0.1)\n",
    "z = rng.normal(z, zerr)\n",
    "\n",
    "# Construct DataArray\n",
    "darr = xr.DataArray(z, dims=[\"y\", \"x\"], coords={\"y\": y, \"x\": x})\n",
    "darr.plot()"
   ]
  },
  {
   "cell_type": "markdown",
   "metadata": {},
   "source": [
    "We can provide different initial guesses for the peak positions along `y` by passing a dictionary of DataArrays to the `params` argument. "
   ]
  },
  {
   "cell_type": "code",
   "execution_count": null,
   "metadata": {},
   "outputs": [],
   "source": [
    "result_ds = darr.xlm.modelfit(\n",
    "    coords=\"x\",\n",
    "    model=lmfit.models.GaussianModel() + lmfit.models.LinearModel(),\n",
    "    params={\n",
    "        \"center\": xr.DataArray([-2, 0, 2], coords=[darr.y]),\n",
    "        \"slope\": -0.1,\n",
    "    },\n",
    ")\n",
    "result_ds"
   ]
  },
  {
   "cell_type": "markdown",
   "metadata": {},
   "source": [
    "Let's overlay the fitted peak positions on the data."
   ]
  },
  {
   "cell_type": "code",
   "execution_count": null,
   "metadata": {},
   "outputs": [],
   "source": [
    "result_ds.modelfit_data.plot()\n",
    "result_center = result_ds.sel(param=\"center\")\n",
    "\n",
    "plt.plot(result_center.modelfit_coefficients, result_center.y, \"o-\")"
   ]
  },
  {
   "cell_type": "markdown",
   "metadata": {},
   "source": [
    "The same can be done with all parameter attributes that can be passed to {func}`lmfit.create_params` (e.g., `vary`, `min`, `max`, etc.). For example:"
   ]
  },
  {
   "cell_type": "code",
   "execution_count": null,
   "metadata": {},
   "outputs": [],
   "source": [
    "result_ds = darr.xlm.modelfit(\n",
    "    coords=\"x\",\n",
    "    model=lmfit.models.GaussianModel() + lmfit.models.LinearModel(),\n",
    "    params={\n",
    "        \"center\": {\n",
    "            \"value\": xr.DataArray([-2, 0, 2], coords=[darr.y]),\n",
    "            \"min\": -5.0,\n",
    "            \"max\": xr.DataArray([0, 2, 5], coords=[darr.y]),\n",
    "        },\n",
    "        \"slope\": -0.1,\n",
    "    },\n",
    ")\n",
    "result_ds"
   ]
  },
  {
   "cell_type": "markdown",
   "metadata": {},
   "source": [
    "## Parallelization\n",
    "\n",
    ":::{warning}\n",
    "\n",
    "Parallelization is still a work in progress, and the API may change in the future.\n",
    "\n",
    ":::\n",
    "\n",
    "The accessors are tightly integrated with `xarray`, so passing a dask array will\n",
    "parallelize the fitting process. See [Parallel Computing with Dask](https://docs.xarray.dev/en/stable/user-guide/dask.html) for more information.\n",
    "\n",
    "For non-dask objects, you can achieve `joblib`-based parallelization:\n",
    "\n",
    "- For non-dask Datasets, basic parallelization across multiple data variables can be\n",
    "    achieved with the ``parallel`` argument to {meth}`xarray.Dataset.xlm.modelfit`."
   ]
  },
  {
   "cell_type": "markdown",
   "metadata": {},
   "source": [
    "## Saving and loading fits\n",
    "\n",
    "Since the fit results are stored in an xarray Dataset, they can be easily saved as\n",
    "netCDF files by serializing lmfit objects to JSON. This can be done with {func}`xarray_lmfit.save_fit`:\n",
    "\n",
    "```python\n",
    "import xarray_lmfit as xlm\n",
    "\n",
    "xlm.save_fit(result_ds, \"fit_results.nc\")\n",
    "```\n",
    "\n",
    "The saved Dataset can be loaded back with {func}`xarray_lmfit.load_fit`.\n",
    "\n",
    "```python\n",
    "result_ds = xlm.load_fit(\"fit_results.nc\")\n",
    "```\n",
    "\n",
    ":::{warning}\n",
    "\n",
    "Saving full model results that includes the model functions can be difficult. Instead of saving the fit results, it is recommended to save the code that can reproduce the fit. See [the relevant lmfit documentation](https://lmfit.github.io/lmfit-py/model.html#saving-and-loading-modelresults) for more information.\n",
    "\n",
    ":::"
   ]
  }
 ],
 "metadata": {
  "kernelspec": {
   "display_name": ".venv",
   "language": "python",
   "name": "python3"
  },
  "language_info": {
   "codemirror_mode": {
    "name": "ipython",
    "version": 3
   },
   "file_extension": ".py",
   "mimetype": "text/x-python",
   "name": "python",
   "nbconvert_exporter": "python",
   "pygments_lexer": "ipython3",
   "version": "3.13.1"
  }
 },
 "nbformat": 4,
 "nbformat_minor": 4
}
