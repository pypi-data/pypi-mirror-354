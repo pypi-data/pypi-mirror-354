{
 "cells": [
  {
   "cell_type": "code",
   "execution_count": 1,
   "id": "006754e3-ed18-45bc-b94f-6c0cbd45a300",
   "metadata": {},
   "outputs": [
    {
     "name": "stdout",
     "output_type": "stream",
     "text": [
      "Requirement already satisfied: confluent-kafka in /opt/conda/lib/python3.11/site-packages (2.8.2)\n",
      "Collecting avro-python3\n",
      "  Downloading avro-python3-1.10.2.tar.gz (38 kB)\n",
      "  Preparing metadata (setup.py) ... \u001b[?25ldone\n",
      "\u001b[?25hRequirement already satisfied: requests in /opt/conda/lib/python3.11/site-packages (2.31.0)\n",
      "Requirement already satisfied: protobuf in /opt/conda/lib/python3.11/site-packages (5.29.3)\n",
      "Requirement already satisfied: charset-normalizer<4,>=2 in /opt/conda/lib/python3.11/site-packages (from requests) (3.3.0)\n",
      "Requirement already satisfied: idna<4,>=2.5 in /opt/conda/lib/python3.11/site-packages (from requests) (3.4)\n",
      "Requirement already satisfied: urllib3<3,>=1.21.1 in /opt/conda/lib/python3.11/site-packages (from requests) (2.0.7)\n",
      "Requirement already satisfied: certifi>=2017.4.17 in /opt/conda/lib/python3.11/site-packages (from requests) (2023.7.22)\n",
      "Building wheels for collected packages: avro-python3\n",
      "  Building wheel for avro-python3 (setup.py) ... \u001b[?25ldone\n",
      "\u001b[?25h  Created wheel for avro-python3: filename=avro_python3-1.10.2-py3-none-any.whl size=43991 sha256=04847fe19397b785da994b0788684b6ef5ec012e7207347df1b9bce44e1565c7\n",
      "  Stored in directory: /home/jovyan/.cache/pip/wheels/31/be/50/1145d9510eb4440893fc0ec676ef9464a05e0f7492a76fbb2c\n",
      "Successfully built avro-python3\n",
      "Installing collected packages: avro-python3\n",
      "Successfully installed avro-python3-1.10.2\n"
     ]
    }
   ],
   "source": [
    "! pip install confluent-kafka avro-python3 requests protobuf"
   ]
  },
  {
   "cell_type": "code",
   "execution_count": 2,
   "id": "8f6ef8c6-3d61-47e2-95f1-ba2737302136",
   "metadata": {},
   "outputs": [],
   "source": [
    "! protoc --python_out=. ./search_result.proto"
   ]
  },
  {
   "cell_type": "code",
   "execution_count": 3,
   "id": "a53a4207-7548-40ef-9943-99141cede141",
   "metadata": {},
   "outputs": [
    {
     "name": "stdout",
     "output_type": "stream",
     "text": [
      "Schema registered: {'id': 1}\n",
      "Message delivered to search_requests [0]\n",
      "Message delivered to search_requests [0]\n",
      "Message delivered to search_requests [0]\n",
      "Message delivered to search_requests [0]\n",
      "Message delivered to search_requests [0]\n",
      "Message delivered to search_requests [0]\n",
      "Message delivered to search_requests [0]\n",
      "Message delivered to search_requests [0]\n",
      "Message delivered to search_requests [0]\n",
      "Message delivered to search_requests [0]\n",
      "✅ Events published successfully!\n"
     ]
    }
   ],
   "source": [
    "import sys\n",
    "import os\n",
    "\n",
    "# Get the directory where search_request_pb2.py is located\n",
    "proto_dir = os.getcwd()  # Or specify the absolute path if needed\n",
    "sys.path.append(proto_dir)\n",
    "import search_result_pb2\n",
    "from search_result_pb2 import SearchRequest\n",
    "\n",
    "import random\n",
    "import time\n",
    "import requests\n",
    "from confluent_kafka import Producer\n",
    "\n",
    "\n",
    "# Kafka and Schema Registry Config\n",
    "KAFKA_BROKER = \"redpanda:9092\"\n",
    "SCHEMA_REGISTRY_URL = \"http://redpanda:8081\"\n",
    "TOPIC_NAME = \"search_requests\"\n",
    "\n",
    "# Configure Kafka Producer\n",
    "producer = Producer({\n",
    "    \"bootstrap.servers\": KAFKA_BROKER,\n",
    "    \"client.id\": \"protobuf-producer\"\n",
    "})\n",
    "\n",
    "# Register Schema in Redpanda's Schema Registry\n",
    "schema_subject = f\"{TOPIC_NAME}-value\"\n",
    "schema_payload = {\n",
    "    \"schemaType\": \"PROTOBUF\",\n",
    "    \"schema\": \"\"\"\n",
    "        syntax = \"proto3\";\n",
    "        message SearchRequest {\n",
    "            string query = 1;\n",
    "            int32 page_number = 2;\n",
    "            int32 results_per_page = 3;\n",
    "        }\n",
    "    \"\"\"\n",
    "}\n",
    "\n",
    "# Check if schema already exists\n",
    "response = requests.get(f\"{SCHEMA_REGISTRY_URL}/subjects/{schema_subject}/versions\")\n",
    "if response.status_code == 404:\n",
    "    # Register schema if it doesn't exist\n",
    "    reg_response = requests.post(\n",
    "        f\"{SCHEMA_REGISTRY_URL}/subjects/{schema_subject}/versions\",\n",
    "        json=schema_payload\n",
    "    )\n",
    "    print(\"Schema registered:\", reg_response.json())\n",
    "else:\n",
    "    print(\"Schema already registered.\")\n",
    "\n",
    "# Function to generate random SearchRequest events\n",
    "def generate_random_event():\n",
    "    search_request = SearchRequest(\n",
    "        query=random.choice([\"kafka\", \"redpanda\", \"protobuf\", \"streaming\"]),\n",
    "        page_number=random.randint(1, 10),\n",
    "        results_per_page=random.randint(10, 50),\n",
    "    )\n",
    "    return search_request.SerializeToString()\n",
    "\n",
    "# Kafka message delivery report callback\n",
    "def delivery_report(err, msg):\n",
    "    if err:\n",
    "        print(f\"Message delivery failed: {err}\")\n",
    "    else:\n",
    "        print(f\"Message delivered to {msg.topic()} [{msg.partition()}]\")\n",
    "\n",
    "# Publish messages to Kafka\n",
    "for _ in range(10):\n",
    "    event_data = generate_random_event()\n",
    "    producer.produce(TOPIC_NAME, value=event_data, callback=delivery_report)\n",
    "    producer.flush()\n",
    "    time.sleep(1)  # Simulate event streaming\n",
    "\n",
    "print(\"✅ Events published successfully!\")\n"
   ]
  }
 ],
 "metadata": {
  "kernelspec": {
   "display_name": "Python 3 (ipykernel)",
   "language": "python",
   "name": "python3"
  },
  "language_info": {
   "codemirror_mode": {
    "name": "ipython",
    "version": 3
   },
   "file_extension": ".py",
   "mimetype": "text/x-python",
   "name": "python",
   "nbconvert_exporter": "python",
   "pygments_lexer": "ipython3",
   "version": "3.11.6"
  }
 },
 "nbformat": 4,
 "nbformat_minor": 5
}
