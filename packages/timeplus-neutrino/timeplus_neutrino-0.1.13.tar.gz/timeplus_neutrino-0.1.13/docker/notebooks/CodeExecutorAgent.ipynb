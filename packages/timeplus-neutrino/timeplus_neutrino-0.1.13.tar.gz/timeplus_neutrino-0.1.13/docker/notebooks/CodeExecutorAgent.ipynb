{
 "cells": [
  {
   "cell_type": "code",
   "execution_count": 11,
   "id": "7542d080-2b3a-4068-a266-a3a462e2aa2b",
   "metadata": {},
   "outputs": [
    {
     "name": "stdout",
     "output_type": "stream",
     "text": [
      "Requirement already satisfied: autogen-core in /opt/conda/lib/python3.11/site-packages (0.4.8.2)\n",
      "Requirement already satisfied: jsonref~=1.1.0 in /opt/conda/lib/python3.11/site-packages (from autogen-core) (1.1.0)\n",
      "Requirement already satisfied: opentelemetry-api>=1.27.0 in /opt/conda/lib/python3.11/site-packages (from autogen-core) (1.30.0)\n",
      "Requirement already satisfied: pillow>=11.0.0 in /opt/conda/lib/python3.11/site-packages (from autogen-core) (11.1.0)\n",
      "Requirement already satisfied: protobuf~=5.29.3 in /opt/conda/lib/python3.11/site-packages (from autogen-core) (5.29.3)\n",
      "Requirement already satisfied: pydantic<3.0.0,>=2.10.0 in /opt/conda/lib/python3.11/site-packages (from autogen-core) (2.10.6)\n",
      "Requirement already satisfied: typing-extensions>=4.0.0 in /opt/conda/lib/python3.11/site-packages (from autogen-core) (4.12.2)\n",
      "Requirement already satisfied: deprecated>=1.2.6 in /opt/conda/lib/python3.11/site-packages (from opentelemetry-api>=1.27.0->autogen-core) (1.2.18)\n",
      "Requirement already satisfied: importlib-metadata<=8.5.0,>=6.0 in /opt/conda/lib/python3.11/site-packages (from opentelemetry-api>=1.27.0->autogen-core) (6.8.0)\n",
      "Requirement already satisfied: annotated-types>=0.6.0 in /opt/conda/lib/python3.11/site-packages (from pydantic<3.0.0,>=2.10.0->autogen-core) (0.7.0)\n",
      "Requirement already satisfied: pydantic-core==2.27.2 in /opt/conda/lib/python3.11/site-packages (from pydantic<3.0.0,>=2.10.0->autogen-core) (2.27.2)\n",
      "Requirement already satisfied: wrapt<2,>=1.10 in /opt/conda/lib/python3.11/site-packages (from deprecated>=1.2.6->opentelemetry-api>=1.27.0->autogen-core) (1.17.2)\n",
      "Requirement already satisfied: zipp>=0.5 in /opt/conda/lib/python3.11/site-packages (from importlib-metadata<=8.5.0,>=6.0->opentelemetry-api>=1.27.0->autogen-core) (3.17.0)\n"
     ]
    }
   ],
   "source": [
    "! pip install autogen-core"
   ]
  },
  {
   "cell_type": "code",
   "execution_count": 108,
   "id": "aaa0c5ab-48e5-419c-8bce-944ba8adbd94",
   "metadata": {},
   "outputs": [
    {
     "name": "stdout",
     "output_type": "stream",
     "text": [
      "CommandLineCodeResult(exit_code=0, output='', code_file='/home/jovyan/work/coding/tmp_code_ab6d451f70cd5423f935ed85230efbd66f55662a2a12c13d820cc75da78a005b.bash')\n"
     ]
    }
   ],
   "source": [
    "import venv\n",
    "from pathlib import Path\n",
    "import asyncio\n",
    "\n",
    "from autogen import ConversableAgent\n",
    "from autogen_core import CancellationToken\n",
    "from autogen_core.code_executor import CodeBlock, CodeExecutor\n",
    "from autogen_ext.code_executors.local import LocalCommandLineCodeExecutor\n",
    "\n",
    "\n",
    "work_dir = Path(\"./coding\")\n",
    "work_dir.mkdir(exist_ok=True)\n",
    "\n",
    "venv_dir = work_dir / \".venv\"\n",
    "venv_builder = venv.EnvBuilder(with_pip=True)\n",
    "venv_builder.create(venv_dir)\n",
    "venv_context = venv_builder.ensure_directories(venv_dir)\n",
    "\n",
    "local_executor = LocalCommandLineCodeExecutor(work_dir=work_dir, virtual_env_context=venv_context)\n",
    "\n",
    "print(\n",
    "    await local_executor.execute_code_blocks(\n",
    "        code_blocks=[\n",
    "            CodeBlock(language=\"bash\", code=\"pip install confluent-kafka\")\n",
    "        ],\n",
    "        cancellation_token=CancellationToken(),\n",
    "    )\n",
    ")"
   ]
  },
  {
   "cell_type": "code",
   "execution_count": 28,
   "id": "f817fe45-c998-4372-857d-1a93f7e56882",
   "metadata": {},
   "outputs": [],
   "source": [
    "import re\n",
    "from typing import List\n",
    "\n",
    "from dataclasses import dataclass\n",
    "\n",
    "from autogen_core import (\n",
    "    MessageContext,\n",
    "    RoutedAgent,\n",
    "    SingleThreadedAgentRuntime,\n",
    "    TopicId,\n",
    "    TypeSubscription,\n",
    "    message_handler,\n",
    "    type_subscription,\n",
    ")\n",
    "from autogen_core.models import ChatCompletionClient, SystemMessage, UserMessage\n",
    "from autogen_ext.models.openai import OpenAIChatCompletionClient"
   ]
  },
  {
   "cell_type": "code",
   "execution_count": 90,
   "id": "92e70058-0335-4ef7-82b1-d8e31efb2566",
   "metadata": {},
   "outputs": [],
   "source": [
    "@dataclass\n",
    "class Message:\n",
    "    content: str\n",
    "\n",
    "code_writer_topic = \"CodeWriterAgent\"\n",
    "code_execution_topic = \"CodeExecutionAgent\"\n"
   ]
  },
  {
   "cell_type": "code",
   "execution_count": 91,
   "id": "fc3fc9a9-3ce6-44ee-bcaf-9e2ea8e57829",
   "metadata": {},
   "outputs": [],
   "source": [
    "@type_subscription(topic_type=code_writer_topic)\n",
    "class CodeWriterAgent(RoutedAgent):\n",
    "    def __init__(self, model_client: ChatCompletionClient) -> None:\n",
    "        super().__init__(\"A code writer agent.\")\n",
    "        self._system_message = SystemMessage(\n",
    "            content=(\n",
    "                \"You are a code generator generating python code\"\n",
    "            )\n",
    "        )\n",
    "        self._model_client = model_client\n",
    "\n",
    "    @message_handler\n",
    "    async def handle_user_description(self, message: Message, ctx: MessageContext) -> None:\n",
    "        prompt = f\"requirement description: {message.content}\"\n",
    "        llm_result = await self._model_client.create(\n",
    "            messages=[self._system_message, UserMessage(content=prompt, source=self.id.key)],\n",
    "            cancellation_token=ctx.cancellation_token,\n",
    "        )\n",
    "        response = llm_result.content\n",
    "        assert isinstance(response, str)\n",
    "        print(f\"{'-'*80}\\n{self.id.type}:\\n{response}\")\n",
    "        \n",
    "        await self.publish_message(Message(response), topic_id=TopicId(code_execution_topic, source=self.id.key))\n"
   ]
  },
  {
   "cell_type": "code",
   "execution_count": 92,
   "id": "26df4dc5-5e4e-4071-acf7-1bda1ce82f74",
   "metadata": {},
   "outputs": [],
   "source": [
    "def extract_markdown_code_blocks(markdown_text: str) -> List[CodeBlock]:\n",
    "    pattern = re.compile(r\"```(?:\\s*([\\w\\+\\-]+))?\\n([\\s\\S]*?)```\")\n",
    "    matches = pattern.findall(markdown_text)\n",
    "    code_blocks: List[CodeBlock] = []\n",
    "    for match in matches:\n",
    "        language = match[0].strip() if match[0] else \"\"\n",
    "        code_content = match[1]\n",
    "        code_blocks.append(CodeBlock(code=code_content, language=language))\n",
    "    return code_blocks\n",
    "\n",
    "\n",
    "@type_subscription(topic_type=code_execution_topic)\n",
    "class CodeExecutionAgent(RoutedAgent):\n",
    "    def __init__(self, code_executor: CodeExecutor) -> None:\n",
    "        super().__init__(\"An executor agent.\")\n",
    "        self._code_executor = code_executor\n",
    "        self._result = None\n",
    "\n",
    "    @message_handler\n",
    "    async def handle_message(self, message: Message, ctx: MessageContext) -> None:\n",
    "        code_blocks = extract_markdown_code_blocks(message.content)\n",
    "        if code_blocks:\n",
    "            result = await self._code_executor.execute_code_blocks(\n",
    "                code_blocks, cancellation_token=ctx.cancellation_token\n",
    "            )\n",
    "            print(f\"\\n{'-'*80}\\nExecutor:\\n{result.output}\")\n",
    "            self._result = result.output\n"
   ]
  },
  {
   "cell_type": "code",
   "execution_count": 93,
   "id": "29034ff8-ea42-4351-9887-e23297ba7455",
   "metadata": {},
   "outputs": [
    {
     "data": {
      "text/plain": [
       "AgentType(type='CodeExecutionAgent')"
      ]
     },
     "execution_count": 93,
     "metadata": {},
     "output_type": "execute_result"
    }
   ],
   "source": [
    "model_client = OpenAIChatCompletionClient(\n",
    "    model=\"gpt-4o-mini\", \n",
    "    temperature=0.0\n",
    ")\n",
    "\n",
    "runtime = SingleThreadedAgentRuntime()\n",
    "\n",
    "await CodeWriterAgent.register(\n",
    "    runtime, type=code_writer_topic, factory=lambda: CodeWriterAgent(model_client=model_client)\n",
    ")\n",
    "\n",
    "await CodeExecutionAgent.register(\n",
    "    runtime, type=code_execution_topic, factory=lambda: CodeExecutionAgent(code_executor=local_executor)\n",
    ")"
   ]
  },
  {
   "cell_type": "code",
   "execution_count": 94,
   "id": "1f62c76b-2ef6-430a-82af-8a9cef198c56",
   "metadata": {},
   "outputs": [
    {
     "name": "stdout",
     "output_type": "stream",
     "text": [
      "--------------------------------------------------------------------------------\n",
      "CodeWriterAgent:\n",
      "You can calculate the value of π (pi) using various methods. One common approach is to use the Monte Carlo method, which relies on random sampling. Below is a Python code snippet that demonstrates this method to estimate the value of π:\n",
      "\n",
      "```python\n",
      "import random\n",
      "\n",
      "def calculate_pi(num_samples):\n",
      "    inside_circle = 0\n",
      "\n",
      "    for _ in range(num_samples):\n",
      "        x = random.uniform(-1, 1)\n",
      "        y = random.uniform(-1, 1)\n",
      "        distance = x**2 + y**2\n",
      "        \n",
      "        if distance <= 1:\n",
      "            inside_circle += 1\n",
      "\n",
      "    # The area of the circle is π * r^2, and the area of the square is (2r)^2\n",
      "    # Here, r = 1, so the area of the circle is π and the area of the square is 4.\n",
      "    pi_estimate = (inside_circle / num_samples) * 4\n",
      "    return pi_estimate\n",
      "\n",
      "# Example usage\n",
      "num_samples = 1000000\n",
      "pi_value = calculate_pi(num_samples)\n",
      "print(f\"Estimated value of π using {num_samples} samples: {pi_value}\")\n",
      "```\n",
      "\n",
      "### Explanation:\n",
      "1. **Random Sampling**: The code generates random points within a square that bounds a quarter circle.\n",
      "2. **Distance Calculation**: It checks if the generated point lies inside the quarter circle by calculating the distance from the origin.\n",
      "3. **Estimation**: The ratio of points that fall inside the circle to the total number of points, multiplied by 4, gives an estimate of π.\n",
      "\n",
      "You can adjust the `num_samples` variable to increase or decrease the accuracy of the estimation. More samples will yield a more accurate result.\n",
      "\n",
      "--------------------------------------------------------------------------------\n",
      "Executor:\n",
      "Estimated value of π using 1000000 samples: 3.141652\n",
      "\n"
     ]
    }
   ],
   "source": [
    "runtime.start()\n",
    "\n",
    "await runtime.publish_message(\n",
    "    Message(content=\"tell me how many topics are in my broker with address redpanda:9092\"),\n",
    "    topic_id=TopicId(code_writer_topic, source=\"default\"),\n",
    ")\n",
    "\n",
    "await runtime.stop_when_idle()"
   ]
  },
  {
   "cell_type": "code",
   "execution_count": 105,
   "id": "a4afd7a5-6a99-4e31-9f75-2b6e84bb85f8",
   "metadata": {},
   "outputs": [],
   "source": [
    "from autogen_core import AgentId\n",
    "agent_id = AgentId(code_execution_topic, \"default\")\n",
    "\n",
    "agent = await runtime.try_get_underlying_agent_instance(agent_id)"
   ]
  },
  {
   "cell_type": "code",
   "execution_count": 106,
   "id": "4f11be50-b6d5-4bf6-b483-1593fa163409",
   "metadata": {},
   "outputs": [
    {
     "data": {
      "text/plain": [
       "'Estimated value of π using 1000000 samples: 3.141652\\n'"
      ]
     },
     "execution_count": 106,
     "metadata": {},
     "output_type": "execute_result"
    }
   ],
   "source": [
    "agent._result"
   ]
  }
 ],
 "metadata": {
  "kernelspec": {
   "display_name": "Python 3 (ipykernel)",
   "language": "python",
   "name": "python3"
  },
  "language_info": {
   "codemirror_mode": {
    "name": "ipython",
    "version": 3
   },
   "file_extension": ".py",
   "mimetype": "text/x-python",
   "name": "python",
   "nbconvert_exporter": "python",
   "pygments_lexer": "ipython3",
   "version": "3.11.6"
  }
 },
 "nbformat": 4,
 "nbformat_minor": 5
}
