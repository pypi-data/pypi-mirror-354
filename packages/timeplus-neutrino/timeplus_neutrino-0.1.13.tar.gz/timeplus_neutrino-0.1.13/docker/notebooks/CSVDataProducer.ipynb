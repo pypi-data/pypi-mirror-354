{
 "cells": [
  {
   "cell_type": "code",
   "execution_count": 1,
   "id": "e66d790d-050b-4ff3-b30f-8930f0595bf3",
   "metadata": {},
   "outputs": [
    {
     "name": "stdout",
     "output_type": "stream",
     "text": [
      "Requirement already satisfied: confluent-kafka in /opt/conda/lib/python3.11/site-packages (2.8.2)\n"
     ]
    }
   ],
   "source": [
    "! pip install confluent-kafka"
   ]
  },
  {
   "cell_type": "code",
   "execution_count": 2,
   "id": "f814d8e6-54c0-41d1-b2ce-e11d1ab4068c",
   "metadata": {},
   "outputs": [
    {
     "name": "stdout",
     "output_type": "stream",
     "text": [
      "Sent to Kafka: 32a64a8a-c15e-4eef-9ecd-007cdcd8c6bb,2025-03-15T01:26:20.483189,20.46,C\n",
      "Sent to Kafka: 20552707-5de5-48ce-b481-9a8198e24481,2025-03-15T01:26:20.986751,64.23,A\n",
      "Sent to Kafka: 81c7570d-b40d-4225-8391-956a72947b32,2025-03-15T01:26:21.493492,51.92,B\n",
      "Sent to Kafka: ded2a9e4-9bd4-46af-b0f9-d265d7976b6b,2025-03-15T01:26:21.995938,63.99,B\n",
      "Sent to Kafka: 7911146e-e29f-4535-859a-8e6ec61af629,2025-03-15T01:26:22.497949,89.52,A\n",
      "Sent to Kafka: 616c01b0-4c52-4fed-a96b-2b861623ec86,2025-03-15T01:26:22.999846,55.78,D\n",
      "Sent to Kafka: 8defa99c-b8d1-4dae-a5bc-7f8202e8a43e,2025-03-15T01:26:23.501727,10.85,D\n",
      "Sent to Kafka: 19dedf22-c84b-4a78-9d49-88ece04feae5,2025-03-15T01:26:24.003421,99.72,B\n",
      "Sent to Kafka: 61c75bce-f896-44c3-ae39-19d5a807651c,2025-03-15T01:26:24.504433,55.63,A\n",
      "Sent to Kafka: 357b7b85-99e4-4800-989a-588ddeb3b09e,2025-03-15T01:26:25.005756,49.6,A\n"
     ]
    }
   ],
   "source": [
    "import csv\n",
    "import random\n",
    "import time\n",
    "import uuid\n",
    "from datetime import datetime\n",
    "from confluent_kafka import Producer\n",
    "\n",
    "# Kafka Configuration\n",
    "KAFKA_BROKER = \"redpanda:9092\"  # Change this if your Kafka broker is different\n",
    "KAFKA_TOPIC = \"csv_topic\"\n",
    "\n",
    "# Kafka Producer\n",
    "producer = Producer({'bootstrap.servers': KAFKA_BROKER})\n",
    "\n",
    "# Generate a random CSV row\n",
    "def generate_random_csv_row():\n",
    "    return [\n",
    "        str(uuid.uuid4()),  # Unique ID\n",
    "        datetime.utcnow().isoformat(),  # Timestamp\n",
    "        round(random.uniform(10.0, 100.0), 2),  # Random value\n",
    "        random.choice([\"A\", \"B\", \"C\", \"D\"])  # Random category\n",
    "    ]\n",
    "\n",
    "# Convert list to CSV string\n",
    "def list_to_csv_string(row):\n",
    "    return \",\".join(map(str, row))\n",
    "\n",
    "# Send CSV data to Kafka\n",
    "def produce_csv_to_kafka(num_messages=10, delay=1):\n",
    "    for _ in range(num_messages):\n",
    "        csv_row = generate_random_csv_row()\n",
    "        csv_string = list_to_csv_string(csv_row)\n",
    "        producer.produce(KAFKA_TOPIC, key=csv_row[0], value=csv_string)\n",
    "        print(f\"Sent to Kafka: {csv_string}\")\n",
    "        time.sleep(delay)\n",
    "    \n",
    "    producer.flush()  # Ensure all messages are delivered\n",
    "\n",
    "\n",
    "produce_csv_to_kafka(10, 0.5)  # Send 10 messages with a 0.5s delay\n"
   ]
  },
  {
   "cell_type": "code",
   "execution_count": null,
   "id": "3c1eaf2a-04a3-4e2f-97b8-e896898579b3",
   "metadata": {},
   "outputs": [],
   "source": []
  }
 ],
 "metadata": {
  "kernelspec": {
   "display_name": "Python 3 (ipykernel)",
   "language": "python",
   "name": "python3"
  },
  "language_info": {
   "codemirror_mode": {
    "name": "ipython",
    "version": 3
   },
   "file_extension": ".py",
   "mimetype": "text/x-python",
   "name": "python",
   "nbconvert_exporter": "python",
   "pygments_lexer": "ipython3",
   "version": "3.11.6"
  }
 },
 "nbformat": 4,
 "nbformat_minor": 5
}
