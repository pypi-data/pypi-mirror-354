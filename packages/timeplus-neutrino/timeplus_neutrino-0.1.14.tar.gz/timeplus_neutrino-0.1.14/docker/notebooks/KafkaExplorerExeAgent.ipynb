{
 "cells": [
  {
   "cell_type": "code",
   "execution_count": 25,
   "id": "7542d080-2b3a-4068-a266-a3a462e2aa2b",
   "metadata": {},
   "outputs": [
    {
     "name": "stdout",
     "output_type": "stream",
     "text": [
      "Requirement already satisfied: autogen-core in /opt/conda/lib/python3.11/site-packages (0.4.8.2)\n",
      "Requirement already satisfied: jsonref~=1.1.0 in /opt/conda/lib/python3.11/site-packages (from autogen-core) (1.1.0)\n",
      "Requirement already satisfied: opentelemetry-api>=1.27.0 in /opt/conda/lib/python3.11/site-packages (from autogen-core) (1.30.0)\n",
      "Requirement already satisfied: pillow>=11.0.0 in /opt/conda/lib/python3.11/site-packages (from autogen-core) (11.1.0)\n",
      "Requirement already satisfied: protobuf~=5.29.3 in /opt/conda/lib/python3.11/site-packages (from autogen-core) (5.29.3)\n",
      "Requirement already satisfied: pydantic<3.0.0,>=2.10.0 in /opt/conda/lib/python3.11/site-packages (from autogen-core) (2.10.6)\n",
      "Requirement already satisfied: typing-extensions>=4.0.0 in /opt/conda/lib/python3.11/site-packages (from autogen-core) (4.12.2)\n",
      "Requirement already satisfied: deprecated>=1.2.6 in /opt/conda/lib/python3.11/site-packages (from opentelemetry-api>=1.27.0->autogen-core) (1.2.18)\n",
      "Requirement already satisfied: importlib-metadata<=8.5.0,>=6.0 in /opt/conda/lib/python3.11/site-packages (from opentelemetry-api>=1.27.0->autogen-core) (6.8.0)\n",
      "Requirement already satisfied: annotated-types>=0.6.0 in /opt/conda/lib/python3.11/site-packages (from pydantic<3.0.0,>=2.10.0->autogen-core) (0.7.0)\n",
      "Requirement already satisfied: pydantic-core==2.27.2 in /opt/conda/lib/python3.11/site-packages (from pydantic<3.0.0,>=2.10.0->autogen-core) (2.27.2)\n",
      "Requirement already satisfied: wrapt<2,>=1.10 in /opt/conda/lib/python3.11/site-packages (from deprecated>=1.2.6->opentelemetry-api>=1.27.0->autogen-core) (1.17.2)\n",
      "Requirement already satisfied: zipp>=0.5 in /opt/conda/lib/python3.11/site-packages (from importlib-metadata<=8.5.0,>=6.0->opentelemetry-api>=1.27.0->autogen-core) (3.17.0)\n"
     ]
    }
   ],
   "source": [
    "! pip install autogen-core"
   ]
  },
  {
   "cell_type": "code",
   "execution_count": 26,
   "id": "aaa0c5ab-48e5-419c-8bce-944ba8adbd94",
   "metadata": {},
   "outputs": [
    {
     "name": "stdout",
     "output_type": "stream",
     "text": [
      "CommandLineCodeResult(exit_code=0, output='', code_file='/home/jovyan/work/coding/tmp_code_ab6d451f70cd5423f935ed85230efbd66f55662a2a12c13d820cc75da78a005b.bash')\n"
     ]
    }
   ],
   "source": [
    "import venv\n",
    "from pathlib import Path\n",
    "import asyncio\n",
    "\n",
    "from autogen import ConversableAgent\n",
    "from autogen_core import CancellationToken\n",
    "from autogen_core.code_executor import CodeBlock, CodeExecutor\n",
    "from autogen_ext.code_executors.local import LocalCommandLineCodeExecutor\n",
    "\n",
    "\n",
    "work_dir = Path(\"./coding\")\n",
    "work_dir.mkdir(exist_ok=True)\n",
    "\n",
    "venv_dir = work_dir / \".venv\"\n",
    "venv_builder = venv.EnvBuilder(with_pip=True)\n",
    "venv_builder.create(venv_dir)\n",
    "venv_context = venv_builder.ensure_directories(venv_dir)\n",
    "\n",
    "local_executor = LocalCommandLineCodeExecutor(work_dir=work_dir, virtual_env_context=venv_context)\n",
    "\n",
    "print(\n",
    "    await local_executor.execute_code_blocks(\n",
    "        code_blocks=[\n",
    "            CodeBlock(language=\"bash\", code=\"pip install confluent-kafka\")\n",
    "        ],\n",
    "        cancellation_token=CancellationToken(),\n",
    "    )\n",
    ")"
   ]
  },
  {
   "cell_type": "code",
   "execution_count": 27,
   "id": "f817fe45-c998-4372-857d-1a93f7e56882",
   "metadata": {},
   "outputs": [],
   "source": [
    "import re\n",
    "from typing import List\n",
    "\n",
    "from dataclasses import dataclass\n",
    "\n",
    "from autogen_core import (\n",
    "    MessageContext,\n",
    "    RoutedAgent,\n",
    "    SingleThreadedAgentRuntime,\n",
    "    TopicId,\n",
    "    TypeSubscription,\n",
    "    message_handler,\n",
    "    type_subscription,\n",
    ")\n",
    "from autogen_core.models import ChatCompletionClient, SystemMessage, UserMessage\n",
    "from autogen_ext.models.openai import OpenAIChatCompletionClient"
   ]
  },
  {
   "cell_type": "code",
   "execution_count": 28,
   "id": "92e70058-0335-4ef7-82b1-d8e31efb2566",
   "metadata": {},
   "outputs": [],
   "source": [
    "@dataclass\n",
    "class Message:\n",
    "    content: str\n",
    "\n",
    "code_writer_topic = \"CodeWriterAgent\"\n",
    "code_execution_topic = \"CodeExecutionAgent\"\n"
   ]
  },
  {
   "cell_type": "code",
   "execution_count": 29,
   "id": "fc3fc9a9-3ce6-44ee-bcaf-9e2ea8e57829",
   "metadata": {},
   "outputs": [],
   "source": [
    "@type_subscription(topic_type=code_writer_topic)\n",
    "class CodeWriterAgent(RoutedAgent):\n",
    "    def __init__(self, model_client: ChatCompletionClient) -> None:\n",
    "        super().__init__(\"A code writer agent.\")\n",
    "        self._system_message = SystemMessage(\n",
    "            content=(\n",
    "                \"\"\"You are a code generator generating workable python code based on confluent-kafka, \n",
    "the code will be used to explore apache kafka cluster and brokers,\n",
    "DONOT generate code other than python, such as install depedency using pip\n",
    "\n",
    "here are some sample code for your to refer:\n",
    "\n",
    "1. list topic\n",
    "from confluent_kafka.admin import AdminClient\n",
    "\n",
    "def list_topics(broker: str):\n",
    "    admin_client = AdminClient({'bootstrap.servers': broker})\n",
    "    metadata = admin_client.list_topics(timeout=5)\n",
    "    return list(metadata.topics.keys())\n",
    "\n",
    "# Example usage\n",
    "print(list_topics(\"localhost:9092\"))\n",
    "\n",
    "2. Get Topic Details (Partitions, Replicas)\n",
    "from confluent_kafka.admin import AdminClient\n",
    "def get_topic_details(broker: str, topic: str):\n",
    "    admin_client = AdminClient({'bootstrap.servers': broker})\n",
    "    metadata = admin_client.list_topics(topic, timeout=5)\n",
    "\n",
    "    if topic not in metadata.topics:\n",
    "        return f\"Topic '{topic}' not found\"\n",
    "\n",
    "    topic_info = metadata.topics[topic]\n",
    "    return {p.id: {\"replicas\": p.replicas} for p in topic_info.partitions.values()}\n",
    "\n",
    "# Example usage\n",
    "print(get_topic_details(\"localhost:9092\", \"your_topic\"))\n",
    "\n",
    "3. Create Topic\n",
    "\n",
    "from confluent_kafka.admin import NewTopic\n",
    "from confluent_kafka.admin import AdminClient\n",
    "\n",
    "def create_topic(broker: str, topic: str, num_partitions: int, replication_factor: int):\n",
    "    admin_client = AdminClient({'bootstrap.servers': broker})\n",
    "\n",
    "    new_topic = NewTopic(topic, num_partitions, replication_factor)\n",
    "    fs = admin_client.create_topics([new_topic])\n",
    "\n",
    "    for topic, f in fs.items():\n",
    "        try:\n",
    "            f.result()  # Wait for topic creation\n",
    "            print(f\"Topic '{topic}' created successfully\")\n",
    "        except Exception as e:\n",
    "            print(f\"Failed to create topic '{topic}': {e}\")\n",
    "\n",
    "# Example usage\n",
    "create_topic(\"localhost:9092\", \"new_topic\", 3, 1)\n",
    "\n",
    "4. Delete Topic\n",
    "\n",
    "from confluent_kafka.admin import AdminClient\n",
    "def delete_topic(broker: str, topic: str):\n",
    "    admin_client = AdminClient({'bootstrap.servers': broker})\n",
    "\n",
    "    fs = admin_client.delete_topics([topic])\n",
    "\n",
    "    for topic, f in fs.items():\n",
    "        try:\n",
    "            f.result()  # Wait for deletion\n",
    "            print(f\"Topic '{topic}' deleted successfully\")\n",
    "        except Exception as e:\n",
    "            print(f\"Failed to delete topic '{topic}': {e}\")\n",
    "\n",
    "# Example usage\n",
    "delete_topic(\"localhost:9092\", \"old_topic\")\n",
    "                \"\"\"\n",
    "            )\n",
    "        )\n",
    "        self._model_client = model_client\n",
    "\n",
    "    @message_handler\n",
    "    async def handle_user_description(self, message: Message, ctx: MessageContext) -> None:\n",
    "        prompt = f\"requirement description: {message.content}\"\n",
    "        llm_result = await self._model_client.create(\n",
    "            messages=[self._system_message, UserMessage(content=prompt, source=self.id.key)],\n",
    "            cancellation_token=ctx.cancellation_token,\n",
    "        )\n",
    "        response = llm_result.content\n",
    "        assert isinstance(response, str)\n",
    "        print(f\"{'-'*80}\\n{self.id.type}:\\n{response}\")\n",
    "        \n",
    "        await self.publish_message(Message(response), topic_id=TopicId(code_execution_topic, source=self.id.key))\n"
   ]
  },
  {
   "cell_type": "code",
   "execution_count": 30,
   "id": "26df4dc5-5e4e-4071-acf7-1bda1ce82f74",
   "metadata": {},
   "outputs": [],
   "source": [
    "def extract_markdown_code_blocks(markdown_text: str) -> List[CodeBlock]:\n",
    "    pattern = re.compile(r\"```(?:\\s*([\\w\\+\\-]+))?\\n([\\s\\S]*?)```\")\n",
    "    matches = pattern.findall(markdown_text)\n",
    "    code_blocks: List[CodeBlock] = []\n",
    "    for match in matches:\n",
    "        language = match[0].strip() if match[0] else \"\"\n",
    "        code_content = match[1]\n",
    "        code_blocks.append(CodeBlock(code=code_content, language=language))\n",
    "    return code_blocks\n",
    "\n",
    "\n",
    "@type_subscription(topic_type=code_execution_topic)\n",
    "class CodeExecutionAgent(RoutedAgent):\n",
    "    def __init__(self, code_executor: CodeExecutor) -> None:\n",
    "        super().__init__(\"An executor agent.\")\n",
    "        self._code_executor = code_executor\n",
    "        self._result = None\n",
    "\n",
    "    @message_handler\n",
    "    async def handle_message(self, message: Message, ctx: MessageContext) -> None:\n",
    "        code_blocks = extract_markdown_code_blocks(message.content)\n",
    "        if code_blocks:\n",
    "            result = await self._code_executor.execute_code_blocks(\n",
    "                code_blocks, cancellation_token=ctx.cancellation_token\n",
    "            )\n",
    "            print(f\"\\n{'-'*80}\\nExecutor:\\n{result.output}\")\n",
    "            self._result = result.output\n"
   ]
  },
  {
   "cell_type": "code",
   "execution_count": 31,
   "id": "29034ff8-ea42-4351-9887-e23297ba7455",
   "metadata": {},
   "outputs": [
    {
     "data": {
      "text/plain": [
       "AgentType(type='CodeExecutionAgent')"
      ]
     },
     "execution_count": 31,
     "metadata": {},
     "output_type": "execute_result"
    }
   ],
   "source": [
    "model_client = OpenAIChatCompletionClient(\n",
    "    model=\"gpt-4o-mini\", \n",
    "    temperature=0.0\n",
    ")\n",
    "\n",
    "runtime = SingleThreadedAgentRuntime()\n",
    "\n",
    "await CodeWriterAgent.register(\n",
    "    runtime, type=code_writer_topic, factory=lambda: CodeWriterAgent(model_client=model_client)\n",
    ")\n",
    "\n",
    "await CodeExecutionAgent.register(\n",
    "    runtime, type=code_execution_topic, factory=lambda: CodeExecutionAgent(code_executor=local_executor)\n",
    ")"
   ]
  },
  {
   "cell_type": "code",
   "execution_count": 36,
   "id": "1f62c76b-2ef6-430a-82af-8a9cef198c56",
   "metadata": {},
   "outputs": [
    {
     "name": "stdout",
     "output_type": "stream",
     "text": [
      "--------------------------------------------------------------------------------\n",
      "CodeWriterAgent:\n",
      "```python\n",
      "from confluent_kafka import Producer\n",
      "\n",
      "def send_event(broker: str, topic: str, message: str):\n",
      "    producer = Producer({'bootstrap.servers': broker})\n",
      "\n",
      "    # Callback function to handle delivery reports\n",
      "    def delivery_report(err, msg):\n",
      "        if err is not None:\n",
      "            print(f\"Message delivery failed: {err}\")\n",
      "        else:\n",
      "            print(f\"Message delivered to {msg.topic()} [{msg.partition()}]\")\n",
      "\n",
      "    # Produce the message\n",
      "    producer.produce(topic, value=message, callback=delivery_report)\n",
      "    producer.flush()  # Wait for any outstanding messages to be delivered\n",
      "\n",
      "# Example usage\n",
      "send_event(\"redpanda:9092\", \"test_kafka\", \"hello world\")\n",
      "```\n",
      "\n",
      "--------------------------------------------------------------------------------\n",
      "Executor:\n",
      "Message delivered to test_kafka [0]\n",
      "\n"
     ]
    }
   ],
   "source": [
    "runtime.start()\n",
    "\n",
    "await runtime.publish_message(\n",
    "    Message(content=\"send one event with 'hello workd' into topic called 'test_kafka' in my kafka cluster with broker address : redpanda:9092\"),\n",
    "    topic_id=TopicId(code_writer_topic, source=\"default\"),\n",
    ")\n",
    "\n",
    "await runtime.stop_when_idle()"
   ]
  },
  {
   "cell_type": "code",
   "execution_count": 24,
   "id": "a4afd7a5-6a99-4e31-9f75-2b6e84bb85f8",
   "metadata": {},
   "outputs": [],
   "source": [
    "from autogen_core import AgentId\n",
    "agent_id = AgentId(code_execution_topic, \"default\")\n",
    "\n",
    "agent = await runtime.try_get_underlying_agent_instance(agent_id)"
   ]
  },
  {
   "cell_type": "code",
   "execution_count": 25,
   "id": "4f11be50-b6d5-4bf6-b483-1593fa163409",
   "metadata": {},
   "outputs": [
    {
     "data": {
      "text/plain": [
       "\"Topic: debezium_status, Message Count: 19\\nTopic: postgres.public.credit_history, Message Count: 220\\nTopic: postgres.public.customers, Message Count: 220\\nTopic: mongodb.lumi_data.unstructured_data, Message Count: 220\\nTopic: debezium_config, Message Count: 11\\nTopic: debezium_offset, Message Count: 2\\nTopic: __consumer_offsets, Message Count: 26\\nTopic with most events: 'postgres.public.credit_history' with 220 events.\\n\""
      ]
     },
     "execution_count": 25,
     "metadata": {},
     "output_type": "execute_result"
    }
   ],
   "source": [
    "agent._result"
   ]
  }
 ],
 "metadata": {
  "kernelspec": {
   "display_name": "Python 3 (ipykernel)",
   "language": "python",
   "name": "python3"
  },
  "language_info": {
   "codemirror_mode": {
    "name": "ipython",
    "version": 3
   },
   "file_extension": ".py",
   "mimetype": "text/x-python",
   "name": "python",
   "nbconvert_exporter": "python",
   "pygments_lexer": "ipython3",
   "version": "3.11.6"
  }
 },
 "nbformat": 4,
 "nbformat_minor": 5
}
