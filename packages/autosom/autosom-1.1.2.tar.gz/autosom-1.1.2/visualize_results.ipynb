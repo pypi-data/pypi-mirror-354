{
 "cells": [
  {
   "cell_type": "code",
   "execution_count": 1,
   "metadata": {},
   "outputs": [],
   "source": [
    "import pandas as pd\n",
    "\n",
    "from ast import literal_eval\n",
    "from IPython.display import display\n",
    "from ipywidgets import interact, widgets\n",
    "from rdkit.Chem import Draw, Mol, PandasTools\n",
    "\n",
    "from rdkit.Chem.Draw import IPythonConsole\n",
    "\n",
    "IPythonConsole.molSize = (600, 600)"
   ]
  },
  {
   "cell_type": "code",
   "execution_count": 6,
   "metadata": {},
   "outputs": [],
   "source": [
    "root = '/home/user/AutoSOM/output/'"
   ]
  },
  {
   "cell_type": "code",
   "execution_count": null,
   "metadata": {},
   "outputs": [],
   "source": [
    "substrates = PandasTools.LoadSDF(root + \"substrates.sdf\")\n",
    "metabolites = PandasTools.LoadSDF(root + \"metabolites.sdf\")\n",
    "data = pd.merge(\n",
    "    substrates,\n",
    "    metabolites,\n",
    "    on=[\n",
    "        \"ID\",\n",
    "        \"substrate_id\",\n",
    "        \"metabolite_id\",\n",
    "        \"soms\",\n",
    "        \"annotation_rule\",\n",
    "    ],\n",
    "    how=\"inner\",\n",
    "    suffixes=(\"_substrate\", \"_metabolite\"),\n",
    ")\n",
    "data[\"soms\"] = data[\"soms\"].apply(literal_eval)"
   ]
  },
  {
   "cell_type": "code",
   "execution_count": null,
   "metadata": {},
   "outputs": [],
   "source": [
    "@interact(i=widgets.IntSlider(min=0, max=len(data) - 1, step=1))\n",
    "def f(i):\n",
    "\n",
    "    row = data.iloc[i]\n",
    "\n",
    "    substrate = Mol(row.ROMol_substrate)\n",
    "    substrate.Compute2DCoords()\n",
    "    for atom in substrate.GetAtoms():\n",
    "        atom.SetIntProp(\"atomNote\", atom.GetIdx())\n",
    "\n",
    "    metabolite = Mol(row.ROMol_metabolite)\n",
    "    metabolite.Compute2DCoords()\n",
    "    for atom in metabolite.GetAtoms():\n",
    "        atom.SetIntProp(\"atomNote\", atom.GetIdx())\n",
    "\n",
    "    print(f\"Substrate: {row.substrate_id}\")\n",
    "    print(f\"Metabolite: {row.metabolite_id}\")\n",
    "    print(f\"Predicted SoMs: {row.soms}\")\n",
    "    print(f\"Annotation rule: {row.annotation_rule}\")\n",
    "\n",
    "    display(\n",
    "        Draw.MolsToGridImage(\n",
    "            [substrate, metabolite],\n",
    "            molsPerRow=2,\n",
    "            subImgSize=(500, 500),\n",
    "            legends=[\"substrate\", \"metabolite\"],\n",
    "            highlightAtomLists=[row.soms, []],\n",
    "            highlightBondLists=[],\n",
    "        )\n",
    "    )"
   ]
  }
 ],
 "metadata": {
  "kernelspec": {
   "display_name": "autosom-env",
   "language": "python",
   "name": "python3"
  },
  "language_info": {
   "codemirror_mode": {
    "name": "ipython",
    "version": 3
   },
   "file_extension": ".py",
   "mimetype": "text/x-python",
   "name": "python",
   "nbconvert_exporter": "python",
   "pygments_lexer": "ipython3",
   "version": "3.11.0"
  }
 },
 "nbformat": 4,
 "nbformat_minor": 2
}
