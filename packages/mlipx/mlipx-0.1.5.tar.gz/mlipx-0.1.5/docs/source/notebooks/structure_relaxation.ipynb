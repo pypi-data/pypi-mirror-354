{
 "cells": [
  {
   "cell_type": "markdown",
   "metadata": {},
   "source": [
    "[![Open In Colab](https://colab.research.google.com/assets/colab-badge.svg)](https://colab.research.google.com/github/basf/mlipx/blob/main/docs/source/notebooks/structure_relaxation.ipynb)\n",
    "\n",
    "# Structure Relaxtion with Custom Nodes\n",
    "\n",
    "You can combine `mlipx` with custom code by writing ZnTrack nodes.\n",
    "We will write a Node to perform a geometry relaxation similar to `mlipx.StructureOptimization`."
   ]
  },
  {
   "cell_type": "code",
   "execution_count": null,
   "metadata": {},
   "outputs": [],
   "source": [
    "# Only install the packages if they are not already installed\n",
    "!pip show mlipx > /dev/null 2>&1 || pip install mlipx\n",
    "!pip show rdkit2ase > /dev/null 2>&1 || pip install rdkit2ase"
   ]
  },
  {
   "cell_type": "code",
   "execution_count": null,
   "metadata": {},
   "outputs": [],
   "source": [
    "# We will create a GIT and DVC repository in a temporary directory\n",
    "import os\n",
    "import tempfile\n",
    "\n",
    "temp_dir = tempfile.TemporaryDirectory()\n",
    "os.chdir(temp_dir.name)"
   ]
  },
  {
   "cell_type": "markdown",
   "metadata": {},
   "source": [
    "Like all `mlipx` Nodes we will use a GIT and DVC repository to run experiments.\n",
    "To make our custom code available, we structure our project like\n",
    "\n",
    "```\n",
    "relaxation/\n",
    "   ├── .git/\n",
    "   ├── .dvc/\n",
    "   ├── src/__init__.py\n",
    "   ├── src/relaxation.py\n",
    "   ├── models.py\n",
    "   └── main.py\n",
    "```\n",
    "\n",
    "to allow us to import our code `from src.relaxation import Relax`.\n",
    "Alternatively, you can package your code and import it like any other Python package."
   ]
  },
  {
   "cell_type": "code",
   "execution_count": null,
   "metadata": {},
   "outputs": [],
   "source": [
    "!git init\n",
    "!dvc init --quiet\n",
    "!mkdir src\n",
    "!touch src/__init__.py"
   ]
  },
  {
   "cell_type": "markdown",
   "metadata": {},
   "source": [
    "The code we want to put into our `Relax` `Node` is the following:\n",
    "\n",
    "\n",
    "```python\n",
    "from ase.optimize import BFGS\n",
    "import ase.io\n",
    "\n",
    "data: list[ase.Atoms]\n",
    "calc: ase.calculator.Calculator\n",
    "\n",
    "end_structures = []\n",
    "for atoms in data:\n",
    "    atoms.set_calculator(calc)\n",
    "    opt = BFGS(atoms)\n",
    "    opt.run(fmax=0.05)\n",
    "    end_structures.append(atoms)\n",
    "\n",
    "ase.io.write('end_structures.xyz', end_structures)\n",
    "```\n",
    "\n",
    "To do so, we need to identify and define the inputs and outputs of our code.\n",
    "We provide the `data: list[ase.Atoms]` from a data loading Node.\n",
    "Therefore, we use `data: list = zntrack.deps()`.\n",
    "If you want to read directly from file you could use `data_path: str = zntrack.deps_path()`.\n",
    "We access the calculator in a similar way using `model: NodeWithCalculator = zntrack.deps()`.\n",
    "`mlipx` provides the `NodeWithCalculator` abstract base class for a common communication on how to share `ASE` calculators.\n",
    "Another convention is providing inputs as `data: list[ase.Atoms]` and outputs as `frames: list[ase.Atoms]`.\n",
    "As we save our data to a file, we define `frames_path: pathlib.Path = zntrack.outs_path(zntrack.nwd / 'frames.xyz')` to store the output trajetory in the node working directory (nwd) as `frames.xyz`.\n",
    "The `zntrack.nwd` provides a unique directory per `Node` to store the data at.\n",
    "As the communication between `mlipx` nodes is based on `ase.Atoms` we define a `@frames` property.\n",
    "Within this, we could also alter the `ase.Atoms` object, thus making the node communication independent of the file format facilitating data communication via code or Data as Code (DaC).\n",
    "To summarize, each Node provides all the information on how to `save` and `load` the produced data, simplifying communication and reducing issues with different file format conventions.\n",
    "\n",
    "Besides the implemented fields, there are also `x: dict = zntrack.params`, `x: dict = zntrack.metrics` and `x: pd.DataFrame = zntrack.plots` and their corresponding file path versions `x: str|pathlib.Path = zntrack.params_path`, `zntrack.metrics_path` and `zntrack.plots_path`.\n",
    "For general outputs there is `x: any = zntrack.outs`. More information can be found at https://dvc.org/doc/start/data-pipelines/metrics-parameters-plots ."
   ]
  },
  {
   "cell_type": "code",
   "execution_count": null,
   "metadata": {},
   "outputs": [],
   "source": [
    "%%writefile src/relaxation.py\n",
    "import zntrack\n",
    "from mlipx.abc import NodeWithCalculator\n",
    "from ase.optimize import BFGS\n",
    "import ase.io\n",
    "import pathlib\n",
    "\n",
    "\n",
    "\n",
    "class Relax(zntrack.Node):\n",
    "    data: list = zntrack.deps()\n",
    "    model: NodeWithCalculator = zntrack.deps()\n",
    "    frames_path: pathlib.Path = zntrack.outs_path(zntrack.nwd / 'frames.xyz')\n",
    "\n",
    "    def run(self):\n",
    "        end_structures = []\n",
    "        for atoms in self.data:\n",
    "            atoms.set_calculator(self.model.get_calculator())\n",
    "            opt = BFGS(atoms)\n",
    "            opt.run(fmax=0.05)\n",
    "            end_structures.append(atoms)\n",
    "        with open(self.frames_path, 'w') as f:\n",
    "            ase.io.write(f, end_structures, format='extxyz')\n",
    "    \n",
    "    @property\n",
    "    def frames(self) -> list[ase.Atoms]:\n",
    "        with self.state.fs.open(self.frames_path, \"r\") as f:\n",
    "            return ase.io.read(f, format='extxyz', index=':')\n"
   ]
  },
  {
   "cell_type": "markdown",
   "metadata": {},
   "source": [
    "With this Node definition, we can import the Node and connect it with `mlipx` to form a graph."
   ]
  },
  {
   "cell_type": "code",
   "execution_count": null,
   "metadata": {},
   "outputs": [],
   "source": [
    "from src.relaxation import Relax\n",
    "\n",
    "import mlipx"
   ]
  },
  {
   "cell_type": "code",
   "execution_count": null,
   "metadata": {},
   "outputs": [],
   "source": [
    "project = mlipx.Project()\n",
    "\n",
    "emt = mlipx.GenericASECalculator(\n",
    "    module=\"ase.calculators.emt\",\n",
    "    class_name=\"EMT\",\n",
    ")\n",
    "\n",
    "with project:\n",
    "    confs = mlipx.Smiles2Conformers(smiles=\"CCCC\", num_confs=5)\n",
    "    relax = Relax(data=confs.frames, model=emt)\n",
    "\n",
    "project.build()"
   ]
  },
  {
   "cell_type": "markdown",
   "metadata": {},
   "source": [
    "To execute the graph, we make use of `dvc repro` via `project.repro`."
   ]
  },
  {
   "cell_type": "code",
   "execution_count": null,
   "metadata": {},
   "outputs": [],
   "source": [
    "project.repro(build=False)"
   ]
  },
  {
   "cell_type": "markdown",
   "metadata": {},
   "source": [
    "Once the graph has been executed, we can look at the resulting structures."
   ]
  },
  {
   "cell_type": "code",
   "execution_count": null,
   "metadata": {},
   "outputs": [],
   "source": [
    "relax.frames"
   ]
  },
  {
   "cell_type": "code",
   "execution_count": null,
   "metadata": {},
   "outputs": [],
   "source": [
    "temp_dir.cleanup()"
   ]
  }
 ],
 "metadata": {
  "kernelspec": {
   "display_name": "Python 3",
   "language": "python",
   "name": "python3"
  },
  "language_info": {
   "codemirror_mode": {
    "name": "ipython",
    "version": 3
   },
   "file_extension": ".py",
   "mimetype": "text/x-python",
   "name": "python",
   "nbconvert_exporter": "python",
   "pygments_lexer": "ipython3",
   "version": "3.10.0"
  }
 },
 "nbformat": 4,
 "nbformat_minor": 2
}
