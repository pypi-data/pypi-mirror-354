{
 "cells": [
  {
   "cell_type": "markdown",
   "id": "0bf12a2c-827d-4e19-80e7-e610a0b05102",
   "metadata": {
    "editable": true,
    "slideshow": {
     "slide_type": "slide"
    },
    "tags": []
   },
   "source": [
    "# Software Design and Modularity\n",
    "\n",
    "Eva Maxfield Brown\n",
    "\n",
    "\n",
    "UW Information School"
   ]
  },
  {
   "cell_type": "markdown",
   "id": "75f068c5-0ad9-462b-adea-b5931c17683b",
   "metadata": {
    "editable": true,
    "slideshow": {
     "slide_type": "slide"
    },
    "tags": []
   },
   "source": [
    "## Agenda\n",
    "\n",
    "1. Motivation\n",
    "2. Core Ideas\n",
    "3. Basic Application\n",
    "4. Common Patterns\n",
    "5. Takeaways"
   ]
  },
  {
   "cell_type": "markdown",
   "id": "ef469fed-f514-4aac-b71e-7a0d6da66bbe",
   "metadata": {
    "editable": true,
    "slideshow": {
     "slide_type": "slide"
    },
    "tags": []
   },
   "source": [
    "## Motivation"
   ]
  },
  {
   "cell_type": "markdown",
   "id": "04aa464f-494f-435e-8cad-086d21bfe169",
   "metadata": {
    "editable": true,
    "slideshow": {
     "slide_type": "slide"
    },
    "tags": []
   },
   "source": [
    "### Computers do exactly what you program them to do.<br><br>If you aren’t getting the results you expect, look for a simpler model."
   ]
  },
  {
   "cell_type": "markdown",
   "id": "edcd665d-f209-4626-83cf-bc9cd6177e9b",
   "metadata": {
    "editable": true,
    "slideshow": {
     "slide_type": "slide"
    },
    "tags": []
   },
   "source": [
    "### Three Targets For Simpler Programs\n",
    "\n",
    "1. Make software easier to understand by breaking it into pieces that can be understood separately\n"
   ]
  },
  {
   "cell_type": "markdown",
   "id": "a1a89c31-47e2-4be2-a4eb-a258b5bddf3c",
   "metadata": {
    "editable": true,
    "slideshow": {
     "slide_type": "slide"
    },
    "tags": []
   },
   "source": [
    "### Three Targets For Simpler Programs\n",
    "\n",
    "1. Make software easier to understand by breaking it into pieces that can be understood separately\n",
    "\n",
    "2. Enable the ability to maintain, reuse and extend software (or bits of software)"
   ]
  },
  {
   "cell_type": "markdown",
   "id": "99e9819c-dbf8-4b37-aff5-18274bf68c81",
   "metadata": {
    "editable": true,
    "slideshow": {
     "slide_type": "slide"
    },
    "tags": []
   },
   "source": [
    "### Three Targets For Simpler Programs\n",
    "\n",
    "1. Make software easier to understand by breaking it into pieces that can be understood separately\n",
    "\n",
    "2. Enable the ability to maintain, reuse and extend software (or bits of software)\n",
    "\n",
    "3. Avoid extra work from lack of forethought towards methods of engagement with software\n"
   ]
  },
  {
   "cell_type": "markdown",
   "id": "6eaa3564-3419-4cb6-8c86-48dcbcd0e284",
   "metadata": {
    "editable": true,
    "slideshow": {
     "slide_type": "slide"
    },
    "tags": []
   },
   "source": [
    "### Three Targets For Simpler Programs\n",
    "\n",
    "1. <b>Make software easier to understand by breaking it into pieces that can be understood separately</b>\n",
    "\n",
    "    Make it easier to collaborate with others by making your code understandable OR make it easier for yourself when you ultimately need to revisit your code after six months, a year, or more working on a different project.\n",
    "\n",
    "2. Enable the ability to maintain, reuse and extend software (or bits of software)\n",
    "\n",
    "3. Avoid extra work from lack of forethought towards methods of engagement with software\n"
   ]
  },
  {
   "cell_type": "markdown",
   "id": "01d75ff6-dca5-48fa-9e72-a3f42f4d85e7",
   "metadata": {
    "editable": true,
    "slideshow": {
     "slide_type": "slide"
    },
    "tags": []
   },
   "source": [
    "### Three Targets For Simpler Programs\n",
    "\n",
    "1. Make software easier to understand by breaking it into pieces that can be understood separately\n",
    "\n",
    "2. <b>Enable the ability to maintain, reuse and extend software (or bits of software)</b>\n",
    "\n",
    "    By breaking software into pieces that can be understood and operate independently, we hope they are not only easier to maintain, but portable from project to project. If your research continues to build off prior work, why doesn't your code?\n",
    "\n",
    "3. Avoid extra work from lack of forethought towards methods of engagement with software\n"
   ]
  },
  {
   "cell_type": "markdown",
   "id": "f0356117-623b-40fe-bea3-12b46dbe7b81",
   "metadata": {
    "editable": true,
    "slideshow": {
     "slide_type": "slide"
    },
    "tags": []
   },
   "source": [
    "### Three Targets For Simpler Programs\n",
    "\n",
    "1. Make software easier to understand by breaking it into pieces that can be understood separately\n",
    "\n",
    "2. Enable the ability to maintain, reuse and extend software (or bits of software)\n",
    "\n",
    "3. <b>Avoid extra work from lack of forethought towards methods of engagement with software</b>\n",
    "\n",
    "    Less work good 👍👍\n"
   ]
  },
  {
   "cell_type": "markdown",
   "id": "9ecc75a1-3d20-4c7e-9e05-7f70f5008c4b",
   "metadata": {
    "editable": true,
    "slideshow": {
     "slide_type": "slide"
    },
    "tags": []
   },
   "source": [
    "## Core Ideas"
   ]
  },
  {
   "cell_type": "markdown",
   "id": "f2d7727a-6823-458b-90e3-6fd5dd1042bb",
   "metadata": {
    "editable": true,
    "slideshow": {
     "slide_type": "slide"
    },
    "tags": []
   },
   "source": [
    "### Core Ideas\n",
    "\n",
    "1. **Decomposable** – can be broken down into modules to reduce complexity and allow teamwork<br><br>"
   ]
  },
  {
   "cell_type": "markdown",
   "id": "f5ec9f5d-e5bc-4174-bfcc-7839a78b8927",
   "metadata": {
    "editable": true,
    "slideshow": {
     "slide_type": "slide"
    },
    "tags": []
   },
   "source": [
    "### Core Ideas\n",
    "\n",
    "1. **Decomposable** – can be broken down into modules to reduce complexity and allow teamwork<br><br>\n",
    "2. **Composable** – enable code to be reused in many places<br><br>"
   ]
  },
  {
   "cell_type": "markdown",
   "id": "f6a1a72b-64bb-4316-985d-958b0fef0895",
   "metadata": {
    "editable": true,
    "slideshow": {
     "slide_type": "slide"
    },
    "tags": []
   },
   "source": [
    "### Core Ideas\n",
    "\n",
    "1. **Decomposable** – can be broken down into modules to reduce complexity and allow teamwork<br><br>\n",
    "2. **Composable** – enable code to be reused in many places<br><br>\n",
    "3. **Understandable** – one module can be examined, reasoned about, developed, etc. in isolation<br><br>"
   ]
  },
  {
   "cell_type": "markdown",
   "id": "73b61b10-bd25-456c-af8e-f95285770108",
   "metadata": {
    "editable": true,
    "slideshow": {
     "slide_type": "slide"
    },
    "tags": []
   },
   "source": [
    "### Core Ideas\n",
    "\n",
    "1. **Decomposable** – can be broken down into modules to reduce complexity and allow teamwork<br><br>\n",
    "2. **Composable** – enable code to be reused in many places<br><br>\n",
    "3. **Understandable** – one module can be examined, reasoned about, developed, etc. in isolation<br><br>\n",
    "4. **Continuity** – a small change in the requirements should affect a small number of modules<br><br>"
   ]
  },
  {
   "cell_type": "markdown",
   "id": "91dfb8c3-db0a-415d-9839-9be888959737",
   "metadata": {
    "editable": true,
    "slideshow": {
     "slide_type": "slide"
    },
    "tags": []
   },
   "source": [
    "### Core Ideas\n",
    "\n",
    "1. **Decomposable** – can be broken down into modules to reduce complexity and allow teamwork<br><br>\n",
    "2. **Composable** – enable code to be reused in many places<br><br>\n",
    "3. **Understandable** – one module can be examined, reasoned about, developed, etc. in isolation<br><br>\n",
    "4. **Continuity** – a small change in the requirements should affect a small number of modules<br><br>\n",
    "5. **Isolation** – an error in one module should be as contained as possible<br><br>"
   ]
  },
  {
   "cell_type": "markdown",
   "id": "65e0c4ea-6fd9-4134-b8e8-4ba9e9ea65c3",
   "metadata": {
    "editable": true,
    "slideshow": {
     "slide_type": "slide"
    },
    "tags": []
   },
   "source": [
    "### Core Ideas\n",
    "\n",
    "#### Cohesion – internal consistency\n",
    "\n",
    "Generally, we want to create separation of concerns\n",
    "\n",
    "##### Methods / Functions\n",
    "* Compute a value, let client decide what to do with it\n",
    "* Observe or mutate; don’t do both\n",
    "* Hard to follow? Refactor into multiple simpler methods\n",
    "\n",
    "##### Data Containers (abstract data types)\n",
    "* Provide a single abstraction, represent a single concept\n",
    "* Redesign your class if it violates this principal"
   ]
  },
  {
   "cell_type": "code",
   "execution_count": 1,
   "id": "89fee74f-62ee-47a0-a2cd-bb6c4f6c45c2",
   "metadata": {
    "editable": true,
    "slideshow": {
     "slide_type": "slide"
    },
    "tags": []
   },
   "outputs": [],
   "source": [
    "from copy import deepcopy\n",
    "\n",
    "\n",
    "def observe(data: dict[str, str]) -> dict[str, str]:\n",
    "    # No modifications to the dataframe\n",
    "    updated = deepcopy(data)\n",
    "    updated[\"hello\"] = \"world\"\n",
    "    return updated\n",
    "\n",
    "\n",
    "def mutate(data: dict[str, str]) -> None:\n",
    "    # Modify the original\n",
    "    data[\"hello\"] = \"world\""
   ]
  },
  {
   "cell_type": "code",
   "execution_count": 2,
   "id": "c7039907-5019-4228-bfb2-627a35fc4789",
   "metadata": {
    "editable": true,
    "slideshow": {
     "slide_type": "slide"
    },
    "tags": []
   },
   "outputs": [
    {
     "name": "stdout",
     "output_type": "stream",
     "text": [
      "observed\n",
      "original is still the same {}\n",
      "new data includes the addition {'hello': 'world'}\n",
      "\n",
      "mutated\n",
      "original was {}\n",
      "original now is {'hello': 'world'}\n"
     ]
    }
   ],
   "source": [
    "# Create empty dict for testing\n",
    "empty = {\"name\": \"eva\"}\n",
    "\n",
    "# Demonstrate observe\n",
    "new_data = observe(empty)\n",
    "print(\"observed\")\n",
    "print(\"original is still the same\", empty)\n",
    "print(\"new data includes the addition\", new_data)\n",
    "print()\n",
    "\n",
    "# Demonstrate mutate\n",
    "print(\"mutated\")\n",
    "print(\"original was\", empty)\n",
    "mutate(empty)\n",
    "print(\"original now is\", empty)"
   ]
  },
  {
   "cell_type": "markdown",
   "id": "e1d1c5b1-bc7a-42be-8908-9fa219016cef",
   "metadata": {
    "editable": true,
    "slideshow": {
     "slide_type": "slide"
    },
    "tags": []
   },
   "source": [
    "### Core Ideas\n",
    "\n",
    "#### Cohesion – internal consistency\n",
    "\n",
    "Its fine to have some functions which observe and some which mutate but **don't do both within a single function.**\n",
    "\n",
    "When you do have different functions with different modes of operation, be clear and consistent in their naming and design."
   ]
  },
  {
   "cell_type": "code",
   "execution_count": 4,
   "id": "f6fc1189-e999-4b8f-ab93-95475ac3c89d",
   "metadata": {
    "editable": true,
    "slideshow": {
     "slide_type": "slide"
    },
    "tags": []
   },
   "outputs": [],
   "source": [
    "def new_dataset_from_additions(\n",
    "    existing_data: dict[str, str],\n",
    "    new_data: dict[str, str],\n",
    ") -> dict[str, str]:\n",
    "    # copy existing and new\n",
    "    # add them together into a new object\n",
    "    # return new object\n",
    "    return {}\n",
    "\n",
    "\n",
    "def update_dataset_with_additions(\n",
    "    existing_data: dict[str, str],\n",
    "    new_data: dict[str, str],\n",
    ") -> None:\n",
    "    # add new data to existing\n",
    "    pass"
   ]
  },
  {
   "cell_type": "markdown",
   "id": "6d9a5177-8579-4523-a821-a577816b1c2e",
   "metadata": {
    "editable": true,
    "slideshow": {
     "slide_type": "slide"
    },
    "tags": []
   },
   "source": [
    "### Core Ideas\n",
    "\n",
    "#### Avoid Coupling - dependency between components\n",
    "\n",
    "* How do modules depend upon each other?\n",
    "* If modules are highly coupled you must reason about them as though they are a single, larger module.\n",
    "\n",
    "![coupling in software projects](https://raw.githubusercontent.com/evamaxfield/evamaxfield/main/coupling.png)"
   ]
  },
  {
   "cell_type": "markdown",
   "id": "08335ff1-e2c0-4d4b-9800-026aa9c72014",
   "metadata": {
    "editable": true,
    "slideshow": {
     "slide_type": "slide"
    },
    "tags": []
   },
   "source": [
    "### Well designed software should try to minimize the mental effort required to reason about it.<br><br>If there are too complex of functions, break them out to think about and develop one at a time. If there is too much coupling between functions or modules, try to reduce coupling."
   ]
  },
  {
   "cell_type": "markdown",
   "id": "7ba5ae5c-b9d1-4c78-8c15-cde4ed231142",
   "metadata": {
    "editable": true,
    "slideshow": {
     "slide_type": "slide"
    },
    "tags": []
   },
   "source": [
    "## Basic Application"
   ]
  },
  {
   "cell_type": "markdown",
   "id": "45e07fa1-4401-4b86-a511-32ed5226e1d6",
   "metadata": {
    "editable": true,
    "slideshow": {
     "slide_type": "slide"
    },
    "tags": []
   },
   "source": [
    "### Basic Application\n",
    "\n",
    "You have _{some process}_ in which data is monitored by different sensors. Data collected from sensors stored in CSV files. You want to collect all the data in a single Google Sheet for plot creation and other post-processing. Only keep data columns that correspond to headers specified in the Google sheet."
   ]
  },
  {
   "cell_type": "markdown",
   "id": "4e363a5e-1a40-401c-a844-8266ee80d7fc",
   "metadata": {
    "editable": true,
    "slideshow": {
     "slide_type": "slide"
    },
    "tags": []
   },
   "source": [
    "### Basic Application\n",
    "\n",
    "#### Needs at First Thought\n",
    "\n",
    "* Read data from a CSV-file.\n",
    "* Write data to a CSV-file.\n",
    "* Read data from Google Sheets.\n",
    "* Write data to Google Sheets.\n",
    "* Append new data, ignoring duplicates.\n",
    "* Ensure only user-specified columns are stored."
   ]
  },
  {
   "cell_type": "markdown",
   "id": "2f2bcd19-a79c-446d-b204-c665de911aa2",
   "metadata": {
    "editable": true,
    "slideshow": {
     "slide_type": "slide"
    },
    "tags": []
   },
   "source": [
    "### Basic Application\n",
    "\n",
    "#### Needs at Second Thought\n",
    "\n",
    "* Create classes for CSV and Google Sheet operations which have similar interaction modes.\n",
    "\n",
    "* Create a function to append new data to existing data, ignoring duplicates.\n",
    "* Create a function to select specific columns / data fields from dataset."
   ]
  },
  {
   "cell_type": "markdown",
   "id": "2f64e6f2-e9c0-414f-b753-f5c7e7dc78bb",
   "metadata": {
    "editable": true,
    "slideshow": {
     "slide_type": "slide"
    },
    "tags": []
   },
   "source": [
    "### Basic Application\n",
    "\n",
    "#### Planned Work\n",
    "\n",
    "* Define a basic generalized specification for reading and writing data for both CSV and Google Sheets.\n",
    "* Implement both “file handling” specifications (i.e. two separate functions / classes)\n",
    "* Write a function to remove duplicate data points.\n",
    "* Write a function to subset / select the specific data points we want to save."
   ]
  },
  {
   "cell_type": "markdown",
   "id": "58de3bb9-4a7f-449a-9eeb-21fd7c8fd02e",
   "metadata": {
    "editable": true,
    "slideshow": {
     "slide_type": "slide"
    },
    "tags": []
   },
   "source": [
    "### Basic Application\n",
    "\n",
    "1. **Decomposable** - split the reading and writing of files out to their own handlers in case you need to add or change storage locations or data formats later.\n",
    "\n",
    "2. **Composable** -- this is a toy problem but you might imagine that the same file reading and writing code can be used in other projects with minimal change.\n",
    "\n",
    "3. **Understandable** -- each part of the process is separate (reading separate from processing)\n",
    "\n",
    "4. **Continuity** -- if you need to change which data points are selected, there is a single place to update\n",
    "\n",
    "5. **Isolation** -- an error in Python will always tell you which function it came from, these separate functions and handlers will help debug when things go wrong."
   ]
  },
  {
   "cell_type": "markdown",
   "id": "b5bb170f-d8b9-454b-a0a1-16d0d8f7a55d",
   "metadata": {
    "editable": true,
    "slideshow": {
     "slide_type": ""
    },
    "tags": []
   },
   "source": [
    "### Basic Application\n",
    "\n",
    "Let's step through an existing notebook and talk about how we might convert a notebook to a collection of independent functions."
   ]
  },
  {
   "cell_type": "markdown",
   "id": "551e3530-b3a4-4e70-a97b-1367e0ae9187",
   "metadata": {
    "editable": true,
    "slideshow": {
     "slide_type": "slide"
    },
    "tags": []
   },
   "source": [
    "## Common Patterns"
   ]
  },
  {
   "cell_type": "markdown",
   "id": "c55ce807-2ad2-46db-960e-88c53f2a01a9",
   "metadata": {
    "editable": true,
    "slideshow": {
     "slide_type": "slide"
    },
    "tags": []
   },
   "source": [
    "### Common Patterns\n",
    "\n",
    "For the next ten minutes, with a partner, look through:\n",
    "\n",
    "#### [https://github.com/faif/python-patterns](https://github.com/faif/python-patterns)\n",
    "\n",
    "Think about how any of these patterns might be useful to a problem you recently encountered.\n",
    "\n",
    "A first one to look at might be the `factory` which is very useful when trying to have a standard interface to create different objects or functions using a parameter.\n",
    "\n",
    "Ex: you are processing a bunch of different image file formats and you need to find the appropriate file reader for each\n",
    "\n",
    "---\n",
    "\n",
    "As you are doing this, make note of patterns you find interesting or particularly useful and why. Or take note of patterns you have never seen before."
   ]
  },
  {
   "cell_type": "markdown",
   "id": "e1e2bc66-8602-4d35-beb0-f1752e5145dc",
   "metadata": {
    "editable": true,
    "slideshow": {
     "slide_type": "slide"
    },
    "tags": []
   },
   "source": [
    "## Takeaways"
   ]
  },
  {
   "cell_type": "markdown",
   "id": "dc8112ed-4710-4a37-b762-5a16ace29065",
   "metadata": {
    "editable": true,
    "slideshow": {
     "slide_type": "slide"
    },
    "tags": []
   },
   "source": [
    "### Three Targets For Simpler Programs\n",
    "\n",
    "1. Make software easier to understand by breaking it into pieces that can be understood separately\n",
    "\n",
    "2. Enable the ability to maintain, reuse and extend software (or bits of software)\n",
    "\n",
    "3. Avoid extra work from lack of forethought towards methods of engagement with software"
   ]
  },
  {
   "cell_type": "markdown",
   "id": "090f781f-3ddd-41a2-8a24-9a28423296bd",
   "metadata": {
    "editable": true,
    "slideshow": {
     "slide_type": "slide"
    },
    "tags": []
   },
   "source": [
    "### Well designed software should try to minimize the mental effort required to reason about it.<br><br>If there are too complex of functions, break them out to think about and develop one at a time. If there is too much coupling between functions or modules, try to reduce coupling."
   ]
  },
  {
   "cell_type": "markdown",
   "id": "383dc5d7-4456-45c3-b8c8-219f9199c37b",
   "metadata": {
    "editable": true,
    "slideshow": {
     "slide_type": "slide"
    },
    "tags": []
   },
   "source": [
    "### Learn and apply coding patterns. There are many resources to look up common patterns.<br><br>A good way to learn them is to use the example code commonly given and change, add, or remove values and see what happens."
   ]
  },
  {
   "cell_type": "markdown",
   "id": "911971fc-bc93-4b1f-991f-25930a76247c",
   "metadata": {
    "editable": true,
    "slideshow": {
     "slide_type": "slide"
    },
    "tags": []
   },
   "source": [
    "## Credit\n",
    "\n",
    "Much of the content of this talk comes from:\n",
    "1. [UW CSE 331 Lecture 1](https://courses.cs.washington.edu/courses/cse331/20wi/lectures/lec01-intro.pdf)\n",
    "2. [Previous URSSI Winter School](https://docs.google.com/presentation/d/1eNpMYEyS2x92P2r94pWwykfHSS2KaRHxzRsRN85WFh0/edit#slide=id.p)\n",
    "3. [Software Design for Research Software](https://intersect-training.org/Design/)"
   ]
  }
 ],
 "metadata": {
  "kernelspec": {
   "display_name": "Python 3 (ipykernel)",
   "language": "python",
   "name": "python3"
  },
  "language_info": {
   "codemirror_mode": {
    "name": "ipython",
    "version": 3
   },
   "file_extension": ".py",
   "mimetype": "text/x-python",
   "name": "python",
   "nbconvert_exporter": "python",
   "pygments_lexer": "ipython3",
   "version": "3.11.5"
  }
 },
 "nbformat": 4,
 "nbformat_minor": 5
}
