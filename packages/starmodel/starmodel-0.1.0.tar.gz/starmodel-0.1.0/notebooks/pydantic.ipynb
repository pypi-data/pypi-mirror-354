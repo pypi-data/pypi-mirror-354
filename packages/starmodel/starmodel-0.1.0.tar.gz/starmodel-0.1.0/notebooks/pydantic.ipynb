{
 "cells": [
  {
   "cell_type": "code",
   "execution_count": 2,
   "metadata": {},
   "outputs": [],
   "source": [
    "from __future__ import annotations\n",
    "from typing import Any\n",
    "from pydantic import BaseModel, Field\n",
    "from pydantic._internal._model_construction import ModelMetaclass\n",
    "from typing import Dict\n",
    "from uuid import uuid4\n",
    "\n",
    "class SignalDescriptor:\n",
    "    \"\"\"Return `$Model.field` on the class, real value on an instance.\"\"\"\n",
    "\n",
    "    def __init__(self, field_name: str) -> None:\n",
    "        self.field_name = field_name\n",
    "\n",
    "    def __get__(self, instance, owner):\n",
    "        #  class access  →  owner is the model class, instance is None\n",
    "        if instance is None:\n",
    "            config = getattr(owner, \"model_config\", {})\n",
    "            ns = config.get(\"namespace\", owner.__name__)\n",
    "            use_ns = config.get(\"use_namespace\", False)\n",
    "            return f\"${ns}.{self.field_name}\" if use_ns else f\"${self.field_name}\"\n",
    "        return instance.__dict__[self.field_name]        \n",
    "\n",
    "        #  instance access  →  behave like a normal attribute\n",
    "\n",
    "class SignalModelMeta(ModelMetaclass):\n",
    "    def __init__(cls, name, bases, ns, **kw):\n",
    "        super().__init__(name, bases, ns, **kw)\n",
    "\n",
    "        for field_name in cls.model_fields:\n",
    "            setattr(cls, f\"{field_name}_signal\", SignalDescriptor(field_name))\n",
    "        for field_name in cls.model_computed_fields:\n",
    "            setattr(cls, f\"{field_name}_signal\", SignalDescriptor(field_name))\n",
    "\n",
    "class User(BaseModel, metaclass=SignalModelMeta):\n",
    "    # id: str = Field(default_factory=lambda: str(uuid4()), primary_key=True)\n",
    "    id: str\n",
    "\n",
    "    def __init__(self, **kwargs):\n",
    "        super().__init__(**kwargs)\n",
    "        # self.id = 123\n",
    "\n",
    "    model_config = {\n",
    "        \"namespace\": \"User\",\n",
    "        \"use_namespace\": True,\n",
    "    }\n",
    "\n",
    "    @property\n",
    "    def signals(self) -> Dict[str, Any]:\n",
    "        return self.model_dump()\n",
    "    \n",
    "    @property\n",
    "    def signals_ns(self) -> Dict[str, Any]:\n",
    "        \"namespaced signals\"\n",
    "        return {self.__class__.__name__:self.signals}\n",
    "    \n",
    "    @property\n",
    "    def scope(self) -> str:\n",
    "        \"scope as string\"\n",
    "        return self.__class__._get_config_value(\"scope\", \"Unnamed\")\n",
    "    \n",
    "    @classmethod\n",
    "    def _get_config_value(cls, key: str, default=None):\n",
    "        \"\"\"Get configuration value from model_config.\"\"\"\n",
    "        return cls.model_config.get(f\"stm_{key}\", default)\n",
    "    \n",
    "    def signal(self, field: str) -> Any:\n",
    "        if field in self.signals.keys():\n",
    "            return f\"${self.__class__.__name__}.{field}\"\n",
    "        else:\n",
    "            raise ValueError(f\"Field {field} not found in {self.__class__.__name__}\")\n",
    "\n",
    "\n",
    "f = User.model_fields['id'].get_default(call_default_factory=True)\n"
   ]
  },
  {
   "cell_type": "code",
   "execution_count": 9,
   "metadata": {},
   "outputs": [
    {
     "data": {
      "text/plain": [
       "'$full_name'"
      ]
     },
     "execution_count": 9,
     "metadata": {},
     "output_type": "execute_result"
    }
   ],
   "source": [
    "from pydantic import computed_field\n",
    "from pydantic.dataclasses import dataclass\n",
    "\n",
    "class User(BaseModel, metaclass=SignalModelMeta):\n",
    "    id: str = Field(default_factory=lambda: str(uuid4()), primary_key=True)\n",
    "    name: str\n",
    "    age: int\n",
    "\n",
    "class Person(BaseModel, metaclass=SignalModelMeta):\n",
    "    model_config = {\n",
    "        \"namespace\": \"Person\"\n",
    "    }\n",
    "    name: str\n",
    "    lastName: str\n",
    "\n",
    "    @computed_field\n",
    "    def full_name(self) -> str:\n",
    "        return f\"{self.name} {self.lastName}\"\n",
    "    \n",
    "\n",
    "person = Person(name=\"John\", lastName=\"Doe\")\n",
    "Person.model_fields\n",
    "Person.full_name_signal"
   ]
  },
  {
   "cell_type": "code",
   "execution_count": 10,
   "metadata": {},
   "outputs": [
    {
     "data": {
      "text/plain": [
       "'$full_name'"
      ]
     },
     "execution_count": 10,
     "metadata": {},
     "output_type": "execute_result"
    }
   ],
   "source": [
    "Person.full_name_signal"
   ]
  },
  {
   "cell_type": "code",
   "execution_count": 23,
   "metadata": {},
   "outputs": [],
   "source": [
    "from pydantic import BaseModel, Field\n",
    "from pydantic.dataclasses import dataclass\n",
    "from typing import get_type_hints, get_origin, get_args\n",
    "import copy\n",
    "\n",
    "def model2dataclass(model_cls: type[BaseModel]) -> type[dataclass]:\n",
    "    \"\"\"Convert BaseModel to dataclass preserving validators and complex types\"\"\"\n",
    "    \n",
    "    # Get model configuration\n",
    "    config = getattr(model_cls, 'model_config', {})\n",
    "    \n",
    "    # Extract field information\n",
    "    fields = model_cls.model_fields\n",
    "    annotations = get_type_hints(model_cls)\n",
    "    \n",
    "    # Prepare class attributes\n",
    "    class_attrs = {'__annotations__': annotations.copy()}\n",
    "    \n",
    "    # Process each field\n",
    "    for field_name, field_info in fields.items():\n",
    "        if field_info.default is not ...:\n",
    "            class_attrs[field_name] = field_info.default\n",
    "        elif field_info.default_factory is not None:\n",
    "            class_attrs[field_name] = Field(default_factory=field_info.default_factory)\n",
    "        \n",
    "        # Preserve field constraints and metadata\n",
    "        if hasattr(field_info, 'constraints') or hasattr(field_info, 'metadata'):\n",
    "            field_copy = copy.deepcopy(field_info)\n",
    "            class_attrs[field_name] = field_copy\n",
    "    \n",
    "    # Create the dataclass with config\n",
    "    DataClass = type(f\"{model_cls.__name__}DataClass\", (), class_attrs)\n",
    "    \n",
    "    # Apply dataclass decorator with config\n",
    "    return dataclass(DataClass, config=config)"
   ]
  },
  {
   "cell_type": "code",
   "execution_count": 31,
   "metadata": {},
   "outputs": [
    {
     "data": {
      "text/plain": [
       "{'User': __main__.UserDataClass, 'Person': __main__.PersonDataClass}"
      ]
     },
     "execution_count": 31,
     "metadata": {},
     "output_type": "execute_result"
    }
   ],
   "source": [
    "UserDS = model2dataclass(User)\n",
    "\n",
    "user1_ds = UserDS(name=\"John\", age=30)\n",
    "user1_ds.name\n",
    "type(user1_ds)\n",
    "\n",
    "BaseModel.__subclasses__()\n",
    "\n",
    "ds_classes = {ds.__name__: model2dataclass(ds) for ds in BaseModel.__subclasses__()}\n",
    "ds_classes"
   ]
  },
  {
   "cell_type": "code",
   "execution_count": null,
   "metadata": {},
   "outputs": [],
   "source": []
  }
 ],
 "metadata": {
  "kernelspec": {
   "display_name": ".venv (3.12.9)",
   "language": "python",
   "name": "python3"
  },
  "language_info": {
   "codemirror_mode": {
    "name": "ipython",
    "version": 3
   },
   "file_extension": ".py",
   "mimetype": "text/x-python",
   "name": "python",
   "nbconvert_exporter": "python",
   "pygments_lexer": "ipython3",
   "version": "3.12.9"
  }
 },
 "nbformat": 4,
 "nbformat_minor": 2
}
