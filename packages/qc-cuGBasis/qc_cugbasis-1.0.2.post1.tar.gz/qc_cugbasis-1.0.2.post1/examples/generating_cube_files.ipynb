{
 "cells": [
  {
   "metadata": {},
   "cell_type": "markdown",
   "source": [
    "# Generating Cube Files\n",
    "\n",
    "This example will illustrate how to generate .cube files using UniformGrid from Grid package for various functions that CuChemTools can compute. \n",
    "There are many scalar-functions that CuChemTools can compute that can be used to substitute any function (e.g. density, laplacian) below."
   ],
   "id": "c3f6be589f2f01a9"
  },
  {
   "cell_type": "code",
   "id": "initial_id",
   "metadata": {
    "collapsed": true,
    "ExecuteTime": {
     "end_time": "2024-04-12T17:44:48.063131Z",
     "start_time": "2024-04-12T17:44:47.391852Z"
    }
   },
   "source": [
    "from cugbasis import Molecule\n",
    "\n",
    "file_path = r\"./ALA_ALA_peptide_uwb97xd_def2svpd.fchk\"\n",
    "mol = Molecule(file_path)"
   ],
   "outputs": [],
   "execution_count": 1
  },
  {
   "metadata": {
    "ExecuteTime": {
     "end_time": "2024-04-12T17:44:49.755672Z",
     "start_time": "2024-04-12T17:44:48.065530Z"
    }
   },
   "cell_type": "code",
   "source": [
    "from grid.cubic import UniformGrid\n",
    "\n",
    "grid = UniformGrid.from_molecule(mol.atnums, mol.atcoords, spacing=0.13, extension=10.0, weight=\"Rectangle\")\n",
    "print(f\"Origin of grid:   {grid.origin}\")\n",
    "print(f\"Cubic Grid Axes:  {grid.axes}\")\n",
    "print(f\"Cubic Grid Shape: {grid.shape}\")\n",
    "print(f\"Number of Points: {len(grid.points)}\")\n"
   ],
   "id": "58d948ef4885b543",
   "outputs": [
    {
     "name": "stdout",
     "output_type": "stream",
     "text": [
      "Origin of grid:   [23.83113906 34.61384519  5.25461588]\n",
      "Cubic Grid Axes:  [[-0.0488626  -0.05321598  0.10807639]\n",
      " [ 0.04014544 -0.11715483 -0.03953591]\n",
      " [-0.11358164 -0.01851498 -0.06046822]]\n",
      "Cubic Grid Shape: [279 245 199]\n",
      "Number of Points: 13602645\n"
     ]
    }
   ],
   "execution_count": 2
  },
  {
   "metadata": {},
   "cell_type": "markdown",
   "source": "## Density\n",
   "id": "9e5cfee887d91290"
  },
  {
   "metadata": {
    "ExecuteTime": {
     "end_time": "2024-04-12T17:45:17.661369Z",
     "start_time": "2024-04-12T17:44:49.757108Z"
    }
   },
   "cell_type": "code",
   "source": [
    "import numpy as np\n",
    "\n",
    "dens = mol.compute_density(grid.points)\n",
    "\n",
    "print(f\"Total number of electrons:       {np.sum(mol.atnums)}\")\n",
    "print(f\"Integration of electron density: {grid.integrate(dens)}\")\n",
    "\n",
    "# Generate cube file for the density\n",
    "grid.generate_cube(\"density_ala_ala.cube\", dens, mol.atcoords, mol.atnums)\n",
    "\n",
    "# Load the cube file \n",
    "grid_2, grid_data = UniformGrid.from_cube(\"./density_ala_ala.cube\", weight=\"Rectangle\", return_data=True) \n",
    "\n",
    "print(f\"Integration Using Loaded Cube:   {grid_2.integrate(grid_data['data'])}\")\n",
    "print(f\"Do both densities match:         {np.all(np.abs(dens - grid_data['data']) < 1e-3)}\")"
   ],
   "id": "be54873ac22bbf71",
   "outputs": [
    {
     "name": "stdout",
     "output_type": "stream",
     "text": [
      "Total number of electrons:       108\n",
      "Integration of electron density: 107.9762750986812\n",
      "Integration Using Loaded Cube:   107.97634587639091\n",
      "Do both densities match:         True\n"
     ]
    }
   ],
   "execution_count": 3
  },
  {
   "metadata": {},
   "cell_type": "markdown",
   "source": "## Laplacian",
   "id": "c5e6c9100564e6e0"
  },
  {
   "metadata": {
    "ExecuteTime": {
     "end_time": "2024-04-12T17:45:49.387106Z",
     "start_time": "2024-04-12T17:45:17.662481Z"
    }
   },
   "cell_type": "code",
   "source": [
    "lap = mol.compute_laplacian(grid.points)\n",
    "\n",
    "# Generate cube file for the density\n",
    "grid.generate_cube(\"lap_ala_ala.cube\", lap, mol.atcoords, mol.atnums)\n",
    "\n",
    "# Load the cube file \n",
    "#grid_2, grid_data = UniformGrid.from_cube(\"./lap_ala_ala.cube\", weight=\"Rectangle\", return_data=True) \n",
    "#lap_2 = grid_data[\"data\"]"
   ],
   "id": "6d454e1d58642547",
   "outputs": [],
   "execution_count": 4
  },
  {
   "metadata": {},
   "cell_type": "markdown",
   "source": "## Reduced Density Gradient",
   "id": "951cc5a9e1137378"
  },
  {
   "metadata": {
    "ExecuteTime": {
     "end_time": "2024-04-12T17:46:20.861707Z",
     "start_time": "2024-04-12T17:45:49.388061Z"
    }
   },
   "cell_type": "code",
   "source": [
    "rdg = mol.compute_reduced_density_gradient(grid.points)\n",
    "\n",
    "# Generate cube file for the density\n",
    "grid.generate_cube(\"rdg_ala_ala.cube\", rdg, mol.atcoords, mol.atnums)\n",
    "\n",
    "# Load the cube file \n",
    "#grid_2, grid_data = UniformGrid.from_cube(\"./rdg_ala_ala.cube\", weight=\"Rectangle\", return_data=True) \n",
    "#rdg_2 = grid_data[\"data\"]"
   ],
   "id": "7d9a31b642e29ac0",
   "outputs": [],
   "execution_count": 5
  }
 ],
 "metadata": {
  "kernelspec": {
   "display_name": "Python 3",
   "language": "python",
   "name": "python3"
  },
  "language_info": {
   "codemirror_mode": {
    "name": "ipython",
    "version": 2
   },
   "file_extension": ".py",
   "mimetype": "text/x-python",
   "name": "python",
   "nbconvert_exporter": "python",
   "pygments_lexer": "ipython2",
   "version": "2.7.6"
  }
 },
 "nbformat": 4,
 "nbformat_minor": 5
}
