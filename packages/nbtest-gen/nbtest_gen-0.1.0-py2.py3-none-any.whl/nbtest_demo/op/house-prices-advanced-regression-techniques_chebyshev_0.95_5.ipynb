{
 "cells": [
  {
   "cell_type": "code",
   "execution_count": null,
   "id": "7b41434f",
   "metadata": {},
   "outputs": [],
   "source": [
    "import nbtest\n",
    "import json\n",
    "import numpy as np\n",
    "random_seed = np.random.randint(10000)"
   ]
  },
  {
   "cell_type": "code",
   "execution_count": null,
   "id": "aec11145",
   "metadata": {},
   "outputs": [],
   "source": [
    "import numpy as np\n",
    "import pandas as pd\n",
    "import matplotlib.pyplot as plt\n",
    "import seaborn as sns\n",
    "from sklearn.impute import SimpleImputer\n",
    "import missingno as msno\n",
    "from sklearn.metrics import mean_squared_error, r2_score\n",
    "from sklearn.model_selection import train_test_split, cross_val_score\n",
    "from sklearn.preprocessing import StandardScaler\n",
    "from sklearn.linear_model import LinearRegression\n",
    "from sklearn.svm import SVR\n",
    "from sklearn.tree import DecisionTreeRegressor\n",
    "from sklearn.ensemble import RandomForestRegressor\n",
    "from sklearn.preprocessing import PolynomialFeatures\n",
    "import nbtest\n",
    "import warnings\n",
    "warnings.filterwarnings('ignore')"
   ]
  },
  {
   "cell_type": "code",
   "execution_count": null,
   "id": "801063be",
   "metadata": {},
   "outputs": [],
   "source": [
    "train_df = pd.read_csv('./input/train.csv')\n",
    "nbtest.assert_df_var(train_df, 1010233951.9129188, atol=0.0, test_id='4')\n",
    "nbtest.assert_df_mean(train_df, 5457.877675397229, atol=0.0, test_id='3')\n",
    "nbtest.assert_column_types(train_df, ['int64', 'int64', 'int64', 'object', 'int64', 'object', 'object', 'object', 'int64', 'int64', 'object', 'object', 'int64', 'int64', 'object', 'int64', 'object', 'object', 'object', 'object', 'int64', 'object', 'object', 'object', 'object', 'object', 'object', 'int64', 'object', 'int64', 'object', 'int64', 'int64', 'object', 'object', 'object', 'object', 'float64', 'int64', 'int64', 'object', 'object', 'object', 'int64', 'int64', 'object', 'object', 'object', 'int64', 'object', 'float64', 'object', 'int64', 'int64', 'object', 'float64', 'object', 'object', 'int64', 'int64', 'object', 'int64', 'int64', 'int64', 'object', 'int64', 'object', 'object', 'object', 'object', 'int64', 'object', 'int64', 'object', 'int64', 'int64', 'object', 'int64', 'int64', 'int64', 'int64'], test_id='2')\n",
    "nbtest.assert_column_names(train_df, ['1stFlrSF', '2ndFlrSF', '3SsnPorch', 'Alley', 'BedroomAbvGr', 'BldgType', 'BsmtCond', 'BsmtExposure', 'BsmtFinSF1', 'BsmtFinSF2', 'BsmtFinType1', 'BsmtFinType2', 'BsmtFullBath', 'BsmtHalfBath', 'BsmtQual', 'BsmtUnfSF', 'CentralAir', 'Condition1', 'Condition2', 'Electrical', 'EnclosedPorch', 'ExterCond', 'ExterQual', 'Exterior1st', 'Exterior2nd', 'Fence', 'FireplaceQu', 'Fireplaces', 'Foundation', 'FullBath', 'Functional', 'GarageArea', 'GarageCars', 'GarageCond', 'GarageFinish', 'GarageQual', 'GarageType', 'GarageYrBlt', 'GrLivArea', 'HalfBath', 'Heating', 'HeatingQC', 'HouseStyle', 'Id', 'KitchenAbvGr', 'KitchenQual', 'LandContour', 'LandSlope', 'LotArea', 'LotConfig', 'LotFrontage', 'LotShape', 'LowQualFinSF', 'MSSubClass', 'MSZoning', 'MasVnrArea', 'MasVnrType', 'MiscFeature', 'MiscVal', 'MoSold', 'Neighborhood', 'OpenPorchSF', 'OverallCond', 'OverallQual', 'PavedDrive', 'PoolArea', 'PoolQC', 'RoofMatl', 'RoofStyle', 'SaleCondition', 'SalePrice', 'SaleType', 'ScreenPorch', 'Street', 'TotRmsAbvGrd', 'TotalBsmtSF', 'Utilities', 'WoodDeckSF', 'YearBuilt', 'YearRemodAdd', 'YrSold'], test_id='1')\n",
    "nbtest.assert_shape(train_df, (1460, 81), test_id='0')"
   ]
  },
  {
   "cell_type": "code",
   "execution_count": null,
   "id": "1e16b9a8",
   "metadata": {},
   "outputs": [],
   "source": [
    "nbtest_tmpvar_0 = train_df.head(10)\n",
    "nbtest.assert_df_var(nbtest_tmpvar_0, 1010819066.8543522, atol=0.0, test_id='9')\n",
    "nbtest.assert_df_mean(nbtest_tmpvar_0, 5668.179419525066, atol=0.0, test_id='8')\n",
    "nbtest.assert_column_types(nbtest_tmpvar_0, ['int64', 'int64', 'int64', 'object', 'int64', 'object', 'object', 'object', 'int64', 'int64', 'object', 'object', 'int64', 'int64', 'object', 'int64', 'object', 'object', 'object', 'object', 'int64', 'object', 'object', 'object', 'object', 'object', 'object', 'int64', 'object', 'int64', 'object', 'int64', 'int64', 'object', 'object', 'object', 'object', 'float64', 'int64', 'int64', 'object', 'object', 'object', 'int64', 'int64', 'object', 'object', 'object', 'int64', 'object', 'float64', 'object', 'int64', 'int64', 'object', 'float64', 'object', 'object', 'int64', 'int64', 'object', 'int64', 'int64', 'int64', 'object', 'int64', 'object', 'object', 'object', 'object', 'int64', 'object', 'int64', 'object', 'int64', 'int64', 'object', 'int64', 'int64', 'int64', 'int64'], test_id='7')\n",
    "nbtest.assert_column_names(nbtest_tmpvar_0, ['1stFlrSF', '2ndFlrSF', '3SsnPorch', 'Alley', 'BedroomAbvGr', 'BldgType', 'BsmtCond', 'BsmtExposure', 'BsmtFinSF1', 'BsmtFinSF2', 'BsmtFinType1', 'BsmtFinType2', 'BsmtFullBath', 'BsmtHalfBath', 'BsmtQual', 'BsmtUnfSF', 'CentralAir', 'Condition1', 'Condition2', 'Electrical', 'EnclosedPorch', 'ExterCond', 'ExterQual', 'Exterior1st', 'Exterior2nd', 'Fence', 'FireplaceQu', 'Fireplaces', 'Foundation', 'FullBath', 'Functional', 'GarageArea', 'GarageCars', 'GarageCond', 'GarageFinish', 'GarageQual', 'GarageType', 'GarageYrBlt', 'GrLivArea', 'HalfBath', 'Heating', 'HeatingQC', 'HouseStyle', 'Id', 'KitchenAbvGr', 'KitchenQual', 'LandContour', 'LandSlope', 'LotArea', 'LotConfig', 'LotFrontage', 'LotShape', 'LowQualFinSF', 'MSSubClass', 'MSZoning', 'MasVnrArea', 'MasVnrType', 'MiscFeature', 'MiscVal', 'MoSold', 'Neighborhood', 'OpenPorchSF', 'OverallCond', 'OverallQual', 'PavedDrive', 'PoolArea', 'PoolQC', 'RoofMatl', 'RoofStyle', 'SaleCondition', 'SalePrice', 'SaleType', 'ScreenPorch', 'Street', 'TotRmsAbvGrd', 'TotalBsmtSF', 'Utilities', 'WoodDeckSF', 'YearBuilt', 'YearRemodAdd', 'YrSold'], test_id='6')\n",
    "nbtest.assert_shape(nbtest_tmpvar_0, (10, 81), test_id='5')"
   ]
  },
  {
   "cell_type": "code",
   "execution_count": null,
   "id": "3c282b8d",
   "metadata": {},
   "outputs": [],
   "source": [
    "train_df = train_df.drop('Id', axis=1)"
   ]
  },
  {
   "cell_type": "code",
   "execution_count": null,
   "id": "a50b4c36",
   "metadata": {},
   "outputs": [],
   "source": [
    "nbtest_tmpvar_1 = train_df.head(3)\n",
    "nbtest.assert_df_var(nbtest_tmpvar_1, 1103547059.2994075, atol=0.0, test_id='14')\n",
    "nbtest.assert_df_mean(nbtest_tmpvar_1, 6172.873873873874, atol=0.0, test_id='13')\n",
    "nbtest.assert_column_types(nbtest_tmpvar_1, ['int64', 'int64', 'int64', 'object', 'int64', 'object', 'object', 'object', 'int64', 'int64', 'object', 'object', 'int64', 'int64', 'object', 'int64', 'object', 'object', 'object', 'object', 'int64', 'object', 'object', 'object', 'object', 'object', 'object', 'int64', 'object', 'int64', 'object', 'int64', 'int64', 'object', 'object', 'object', 'object', 'float64', 'int64', 'int64', 'object', 'object', 'object', 'int64', 'object', 'object', 'object', 'int64', 'object', 'float64', 'object', 'int64', 'int64', 'object', 'float64', 'object', 'object', 'int64', 'int64', 'object', 'int64', 'int64', 'int64', 'object', 'int64', 'object', 'object', 'object', 'object', 'int64', 'object', 'int64', 'object', 'int64', 'int64', 'object', 'int64', 'int64', 'int64', 'int64'], test_id='12')\n",
    "nbtest.assert_column_names(nbtest_tmpvar_1, ['1stFlrSF', '2ndFlrSF', '3SsnPorch', 'Alley', 'BedroomAbvGr', 'BldgType', 'BsmtCond', 'BsmtExposure', 'BsmtFinSF1', 'BsmtFinSF2', 'BsmtFinType1', 'BsmtFinType2', 'BsmtFullBath', 'BsmtHalfBath', 'BsmtQual', 'BsmtUnfSF', 'CentralAir', 'Condition1', 'Condition2', 'Electrical', 'EnclosedPorch', 'ExterCond', 'ExterQual', 'Exterior1st', 'Exterior2nd', 'Fence', 'FireplaceQu', 'Fireplaces', 'Foundation', 'FullBath', 'Functional', 'GarageArea', 'GarageCars', 'GarageCond', 'GarageFinish', 'GarageQual', 'GarageType', 'GarageYrBlt', 'GrLivArea', 'HalfBath', 'Heating', 'HeatingQC', 'HouseStyle', 'KitchenAbvGr', 'KitchenQual', 'LandContour', 'LandSlope', 'LotArea', 'LotConfig', 'LotFrontage', 'LotShape', 'LowQualFinSF', 'MSSubClass', 'MSZoning', 'MasVnrArea', 'MasVnrType', 'MiscFeature', 'MiscVal', 'MoSold', 'Neighborhood', 'OpenPorchSF', 'OverallCond', 'OverallQual', 'PavedDrive', 'PoolArea', 'PoolQC', 'RoofMatl', 'RoofStyle', 'SaleCondition', 'SalePrice', 'SaleType', 'ScreenPorch', 'Street', 'TotRmsAbvGrd', 'TotalBsmtSF', 'Utilities', 'WoodDeckSF', 'YearBuilt', 'YearRemodAdd', 'YrSold'], test_id='11')\n",
    "nbtest.assert_shape(nbtest_tmpvar_1, (3, 80), test_id='10')"
   ]
  },
  {
   "cell_type": "code",
   "execution_count": null,
   "id": "f74c2cd4",
   "metadata": {},
   "outputs": [],
   "source": [
    "train_df.shape\n",
    "nbtest.assert_shape(train_df, (1460, 80), test_id='15')"
   ]
  },
  {
   "cell_type": "code",
   "execution_count": null,
   "id": "452b7d0e",
   "metadata": {},
   "outputs": [],
   "source": [
    "train_df.drop_duplicates(inplace=True)"
   ]
  },
  {
   "cell_type": "code",
   "execution_count": null,
   "id": "8c9d4d4c",
   "metadata": {},
   "outputs": [],
   "source": [
    "nbtest_tmpvar_3 = train_df.dtypes.value_counts()\n",
    "nbtest.assert_allclose(nbtest_tmpvar_3.sum(), 80.0, atol=0.0, test_id='16')"
   ]
  },
  {
   "cell_type": "code",
   "execution_count": null,
   "id": "184e7161",
   "metadata": {},
   "outputs": [],
   "source": [
    "train_df.info()"
   ]
  },
  {
   "cell_type": "code",
   "execution_count": null,
   "id": "64e556d1",
   "metadata": {},
   "outputs": [],
   "source": [
    "numerical_features = list(train_df.select_dtypes(include=['float64', 'int64']).columns)\n",
    "print(numerical_features)\n",
    "nbtest.assert_equal(numerical_features, ['MSSubClass', 'LotFrontage', 'LotArea', 'OverallQual', 'OverallCond', 'YearBuilt', 'YearRemodAdd', 'MasVnrArea', 'BsmtFinSF1', 'BsmtFinSF2', 'BsmtUnfSF', 'TotalBsmtSF', '1stFlrSF', '2ndFlrSF', 'LowQualFinSF', 'GrLivArea', 'BsmtFullBath', 'BsmtHalfBath', 'FullBath', 'HalfBath', 'BedroomAbvGr', 'KitchenAbvGr', 'TotRmsAbvGrd', 'Fireplaces', 'GarageYrBlt', 'GarageCars', 'GarageArea', 'WoodDeckSF', 'OpenPorchSF', 'EnclosedPorch', '3SsnPorch', 'ScreenPorch', 'PoolArea', 'MiscVal', 'MoSold', 'YrSold', 'SalePrice'], test_id='17')"
   ]
  },
  {
   "cell_type": "code",
   "execution_count": null,
   "id": "49aa5cdd",
   "metadata": {},
   "outputs": [],
   "source": [
    "categorical_features = list(train_df.select_dtypes(exclude=['float64', 'int64']).columns)\n",
    "print(categorical_features)\n",
    "nbtest.assert_equal(categorical_features, ['MSZoning', 'Street', 'Alley', 'LotShape', 'LandContour', 'Utilities', 'LotConfig', 'LandSlope', 'Neighborhood', 'Condition1', 'Condition2', 'BldgType', 'HouseStyle', 'RoofStyle', 'RoofMatl', 'Exterior1st', 'Exterior2nd', 'MasVnrType', 'ExterQual', 'ExterCond', 'Foundation', 'BsmtQual', 'BsmtCond', 'BsmtExposure', 'BsmtFinType1', 'BsmtFinType2', 'Heating', 'HeatingQC', 'CentralAir', 'Electrical', 'KitchenQual', 'Functional', 'FireplaceQu', 'GarageType', 'GarageFinish', 'GarageQual', 'GarageCond', 'PavedDrive', 'PoolQC', 'Fence', 'MiscFeature', 'SaleType', 'SaleCondition'], test_id='18')"
   ]
  },
  {
   "cell_type": "code",
   "execution_count": null,
   "id": "1f966974",
   "metadata": {},
   "outputs": [],
   "source": [
    "nbtest_tmpvar_5 = train_df.isnull().sum()\n",
    "nbtest.assert_allclose(nbtest_tmpvar_5.sum(), 7829.0, atol=0.0, test_id='19')"
   ]
  },
  {
   "cell_type": "code",
   "execution_count": null,
   "id": "293b6bdf",
   "metadata": {},
   "outputs": [],
   "source": [
    "nbtest_tmpvar_6 = train_df.describe()\n",
    "nbtest.assert_df_var(nbtest_tmpvar_6, 2477680803.1303663, atol=0.0, test_id='24')\n",
    "nbtest.assert_df_mean(nbtest_tmpvar_6, 6766.960801175723, atol=0.0, test_id='23')\n",
    "nbtest.assert_column_types(nbtest_tmpvar_6, ['float64', 'float64', 'float64', 'float64', 'float64', 'float64', 'float64', 'float64', 'float64', 'float64', 'float64', 'float64', 'float64', 'float64', 'float64', 'float64', 'float64', 'float64', 'float64', 'float64', 'float64', 'float64', 'float64', 'float64', 'float64', 'float64', 'float64', 'float64', 'float64', 'float64', 'float64', 'float64', 'float64', 'float64', 'float64', 'float64', 'float64'], test_id='22')\n",
    "nbtest.assert_column_names(nbtest_tmpvar_6, ['1stFlrSF', '2ndFlrSF', '3SsnPorch', 'BedroomAbvGr', 'BsmtFinSF1', 'BsmtFinSF2', 'BsmtFullBath', 'BsmtHalfBath', 'BsmtUnfSF', 'EnclosedPorch', 'Fireplaces', 'FullBath', 'GarageArea', 'GarageCars', 'GarageYrBlt', 'GrLivArea', 'HalfBath', 'KitchenAbvGr', 'LotArea', 'LotFrontage', 'LowQualFinSF', 'MSSubClass', 'MasVnrArea', 'MiscVal', 'MoSold', 'OpenPorchSF', 'OverallCond', 'OverallQual', 'PoolArea', 'SalePrice', 'ScreenPorch', 'TotRmsAbvGrd', 'TotalBsmtSF', 'WoodDeckSF', 'YearBuilt', 'YearRemodAdd', 'YrSold'], test_id='21')\n",
    "nbtest.assert_shape(nbtest_tmpvar_6, (8, 37), test_id='20')"
   ]
  },
  {
   "cell_type": "code",
   "execution_count": null,
   "id": "6fb170b3",
   "metadata": {},
   "outputs": [],
   "source": [
    "numeric_df = train_df.select_dtypes(include=[float, int])\n",
    "nbtest_tmpvar_7 = numeric_df.corr()\n",
    "nbtest.assert_df_var(nbtest_tmpvar_7, 0.05950563856963451, atol=0.0, test_id='29')\n",
    "nbtest.assert_df_mean(nbtest_tmpvar_7, 0.1289884890116645, atol=0.0, test_id='28')\n",
    "nbtest.assert_column_types(nbtest_tmpvar_7, ['float64', 'float64', 'float64', 'float64', 'float64', 'float64', 'float64', 'float64', 'float64', 'float64', 'float64', 'float64', 'float64', 'float64', 'float64', 'float64', 'float64', 'float64', 'float64', 'float64', 'float64', 'float64', 'float64', 'float64', 'float64', 'float64', 'float64', 'float64', 'float64', 'float64', 'float64', 'float64', 'float64', 'float64', 'float64', 'float64', 'float64'], test_id='27')\n",
    "nbtest.assert_column_names(nbtest_tmpvar_7, ['1stFlrSF', '2ndFlrSF', '3SsnPorch', 'BedroomAbvGr', 'BsmtFinSF1', 'BsmtFinSF2', 'BsmtFullBath', 'BsmtHalfBath', 'BsmtUnfSF', 'EnclosedPorch', 'Fireplaces', 'FullBath', 'GarageArea', 'GarageCars', 'GarageYrBlt', 'GrLivArea', 'HalfBath', 'KitchenAbvGr', 'LotArea', 'LotFrontage', 'LowQualFinSF', 'MSSubClass', 'MasVnrArea', 'MiscVal', 'MoSold', 'OpenPorchSF', 'OverallCond', 'OverallQual', 'PoolArea', 'SalePrice', 'ScreenPorch', 'TotRmsAbvGrd', 'TotalBsmtSF', 'WoodDeckSF', 'YearBuilt', 'YearRemodAdd', 'YrSold'], test_id='26')\n",
    "nbtest.assert_shape(nbtest_tmpvar_7, (37, 37), test_id='25')"
   ]
  },
  {
   "cell_type": "code",
   "execution_count": null,
   "id": "6dcb2a43",
   "metadata": {},
   "outputs": [],
   "source": [
    "duplicated_columns = train_df.columns[train_df.columns.duplicated()]\n",
    "if len(duplicated_columns) > 0:\n",
    "    print(\"Duplicated columns:\", duplicated_columns)\n",
    "else:\n",
    "    print(\"No duplicated columns found.\")"
   ]
  },
  {
   "cell_type": "code",
   "execution_count": null,
   "id": "5c719a87",
   "metadata": {},
   "outputs": [],
   "source": [
    "duplicated_rows = train_df[train_df.duplicated()]\n",
    "if not duplicated_rows.empty:\n",
    "    print(\"Duplicated rows:\")\n",
    "    print(duplicated_rows)\n",
    "else:\n",
    "    print(\"No duplicated rows found.\")"
   ]
  },
  {
   "cell_type": "code",
   "execution_count": null,
   "id": "6df1ff19",
   "metadata": {},
   "outputs": [],
   "source": [
    "msno.matrix(train_df)"
   ]
  },
  {
   "cell_type": "code",
   "execution_count": null,
   "id": "d76ac18a",
   "metadata": {},
   "outputs": [],
   "source": [
    "imputer = SimpleImputer(missing_values=np.nan, strategy='mean')\n",
    "null_numerical_columns = ['LotFrontage', 'MasVnrArea', 'GarageYrBlt']\n",
    "imputer.fit(train_df[null_numerical_columns])\n",
    "train_df[null_numerical_columns] = imputer.transform(train_df[null_numerical_columns])"
   ]
  },
  {
   "cell_type": "code",
   "execution_count": null,
   "id": "a849d43a",
   "metadata": {},
   "outputs": [],
   "source": [
    "imputer = SimpleImputer(missing_values=np.nan, strategy='most_frequent')\n",
    "null_catagorical_columns = ['Alley', 'MasVnrType', 'BsmtQual', 'BsmtCond', 'BsmtExposure', 'BsmtFinType1', 'BsmtFinType2', 'Electrical', 'FireplaceQu', 'GarageType', 'GarageFinish', 'GarageQual', 'GarageCond', 'PoolQC', 'Fence', 'MiscFeature']\n",
    "imputer.fit(train_df[null_catagorical_columns])\n",
    "train_df[null_catagorical_columns] = imputer.transform(train_df[null_catagorical_columns])"
   ]
  },
  {
   "cell_type": "code",
   "execution_count": null,
   "id": "ef280cb0",
   "metadata": {},
   "outputs": [],
   "source": [
    "nbtest_tmpvar_10 = train_df.isnull().sum().sum()\n",
    "nbtest.assert_allclose(nbtest_tmpvar_10, 0.0, atol=0.0, test_id='30')"
   ]
  },
  {
   "cell_type": "code",
   "execution_count": null,
   "id": "704b1aa9",
   "metadata": {},
   "outputs": [],
   "source": [
    "dummies = pd.get_dummies(train_df[categorical_features], drop_first=True)\n",
    "train_df = pd.concat([train_df, dummies], axis=1)\n",
    "train_df.drop(categorical_features, axis=1, inplace=True)\n",
    "nbtest_tmpvar_12 = train_df.head()\n",
    "nbtest.assert_df_var(nbtest_tmpvar_12, 1093361665.2591379, atol=0.0, test_id='35')\n",
    "nbtest.assert_df_mean(nbtest_tmpvar_12, 6104.275675675675, atol=0.0, test_id='34')\n",
    "nbtest.assert_column_types(nbtest_tmpvar_12, ['int64', 'int64', 'int64', 'bool', 'int64', 'bool', 'bool', 'bool', 'bool', 'bool', 'bool', 'bool', 'bool', 'bool', 'bool', 'int64', 'int64', 'bool', 'bool', 'bool', 'bool', 'bool', 'bool', 'bool', 'bool', 'bool', 'bool', 'int64', 'int64', 'bool', 'bool', 'bool', 'int64', 'bool', 'bool', 'bool', 'bool', 'bool', 'bool', 'bool', 'bool', 'bool', 'bool', 'bool', 'bool', 'bool', 'bool', 'bool', 'bool', 'bool', 'bool', 'bool', 'bool', 'int64', 'bool', 'bool', 'bool', 'bool', 'bool', 'bool', 'bool', 'bool', 'bool', 'bool', 'bool', 'bool', 'bool', 'bool', 'bool', 'bool', 'bool', 'bool', 'bool', 'bool', 'bool', 'bool', 'bool', 'bool', 'bool', 'bool', 'bool', 'bool', 'bool', 'bool', 'bool', 'bool', 'bool', 'bool', 'bool', 'bool', 'bool', 'bool', 'bool', 'bool', 'bool', 'bool', 'bool', 'int64', 'bool', 'bool', 'bool', 'bool', 'bool', 'int64', 'bool', 'bool', 'bool', 'bool', 'bool', 'bool', 'int64', 'int64', 'bool', 'bool', 'bool', 'bool', 'bool', 'bool', 'bool', 'bool', 'bool', 'bool', 'bool', 'bool', 'bool', 'bool', 'bool', 'float64', 'int64', 'int64', 'bool', 'bool', 'bool', 'bool', 'bool', 'bool', 'bool', 'bool', 'bool', 'bool', 'bool', 'bool', 'bool', 'bool', 'bool', 'bool', 'int64', 'bool', 'bool', 'bool', 'bool', 'bool', 'bool', 'bool', 'bool', 'int64', 'bool', 'bool', 'bool', 'bool', 'float64', 'bool', 'bool', 'bool', 'int64', 'int64', 'bool', 'bool', 'bool', 'bool', 'float64', 'bool', 'bool', 'bool', 'bool', 'bool', 'int64', 'int64', 'bool', 'bool', 'bool', 'bool', 'bool', 'bool', 'bool', 'bool', 'bool', 'bool', 'bool', 'bool', 'bool', 'bool', 'bool', 'bool', 'bool', 'bool', 'bool', 'bool', 'bool', 'bool', 'bool', 'bool', 'int64', 'int64', 'int64', 'bool', 'bool', 'int64', 'bool', 'bool', 'bool', 'bool', 'bool', 'bool', 'bool', 'bool', 'bool', 'bool', 'bool', 'bool', 'bool', 'bool', 'bool', 'bool', 'bool', 'bool', 'bool', 'int64', 'bool', 'bool', 'bool', 'bool', 'bool', 'bool', 'bool', 'bool', 'int64', 'bool', 'int64', 'int64', 'bool', 'int64', 'int64', 'int64', 'int64'], test_id='33')\n",
    "nbtest.assert_column_names(nbtest_tmpvar_12, ['1stFlrSF', '2ndFlrSF', '3SsnPorch', 'Alley_Pave', 'BedroomAbvGr', 'BldgType_2fmCon', 'BldgType_Duplex', 'BldgType_Twnhs', 'BldgType_TwnhsE', 'BsmtCond_Gd', 'BsmtCond_Po', 'BsmtCond_TA', 'BsmtExposure_Gd', 'BsmtExposure_Mn', 'BsmtExposure_No', 'BsmtFinSF1', 'BsmtFinSF2', 'BsmtFinType1_BLQ', 'BsmtFinType1_GLQ', 'BsmtFinType1_LwQ', 'BsmtFinType1_Rec', 'BsmtFinType1_Unf', 'BsmtFinType2_BLQ', 'BsmtFinType2_GLQ', 'BsmtFinType2_LwQ', 'BsmtFinType2_Rec', 'BsmtFinType2_Unf', 'BsmtFullBath', 'BsmtHalfBath', 'BsmtQual_Fa', 'BsmtQual_Gd', 'BsmtQual_TA', 'BsmtUnfSF', 'CentralAir_Y', 'Condition1_Feedr', 'Condition1_Norm', 'Condition1_PosA', 'Condition1_PosN', 'Condition1_RRAe', 'Condition1_RRAn', 'Condition1_RRNe', 'Condition1_RRNn', 'Condition2_Feedr', 'Condition2_Norm', 'Condition2_PosA', 'Condition2_PosN', 'Condition2_RRAe', 'Condition2_RRAn', 'Condition2_RRNn', 'Electrical_FuseF', 'Electrical_FuseP', 'Electrical_Mix', 'Electrical_SBrkr', 'EnclosedPorch', 'ExterCond_Fa', 'ExterCond_Gd', 'ExterCond_Po', 'ExterCond_TA', 'ExterQual_Fa', 'ExterQual_Gd', 'ExterQual_TA', 'Exterior1st_AsphShn', 'Exterior1st_BrkComm', 'Exterior1st_BrkFace', 'Exterior1st_CBlock', 'Exterior1st_CemntBd', 'Exterior1st_HdBoard', 'Exterior1st_ImStucc', 'Exterior1st_MetalSd', 'Exterior1st_Plywood', 'Exterior1st_Stone', 'Exterior1st_Stucco', 'Exterior1st_VinylSd', 'Exterior1st_Wd Sdng', 'Exterior1st_WdShing', 'Exterior2nd_AsphShn', 'Exterior2nd_Brk Cmn', 'Exterior2nd_BrkFace', 'Exterior2nd_CBlock', 'Exterior2nd_CmentBd', 'Exterior2nd_HdBoard', 'Exterior2nd_ImStucc', 'Exterior2nd_MetalSd', 'Exterior2nd_Other', 'Exterior2nd_Plywood', 'Exterior2nd_Stone', 'Exterior2nd_Stucco', 'Exterior2nd_VinylSd', 'Exterior2nd_Wd Sdng', 'Exterior2nd_Wd Shng', 'Fence_GdWo', 'Fence_MnPrv', 'Fence_MnWw', 'FireplaceQu_Fa', 'FireplaceQu_Gd', 'FireplaceQu_Po', 'FireplaceQu_TA', 'Fireplaces', 'Foundation_CBlock', 'Foundation_PConc', 'Foundation_Slab', 'Foundation_Stone', 'Foundation_Wood', 'FullBath', 'Functional_Maj2', 'Functional_Min1', 'Functional_Min2', 'Functional_Mod', 'Functional_Sev', 'Functional_Typ', 'GarageArea', 'GarageCars', 'GarageCond_Fa', 'GarageCond_Gd', 'GarageCond_Po', 'GarageCond_TA', 'GarageFinish_RFn', 'GarageFinish_Unf', 'GarageQual_Fa', 'GarageQual_Gd', 'GarageQual_Po', 'GarageQual_TA', 'GarageType_Attchd', 'GarageType_Basment', 'GarageType_BuiltIn', 'GarageType_CarPort', 'GarageType_Detchd', 'GarageYrBlt', 'GrLivArea', 'HalfBath', 'HeatingQC_Fa', 'HeatingQC_Gd', 'HeatingQC_Po', 'HeatingQC_TA', 'Heating_GasA', 'Heating_GasW', 'Heating_Grav', 'Heating_OthW', 'Heating_Wall', 'HouseStyle_1.5Unf', 'HouseStyle_1Story', 'HouseStyle_2.5Fin', 'HouseStyle_2.5Unf', 'HouseStyle_2Story', 'HouseStyle_SFoyer', 'HouseStyle_SLvl', 'KitchenAbvGr', 'KitchenQual_Fa', 'KitchenQual_Gd', 'KitchenQual_TA', 'LandContour_HLS', 'LandContour_Low', 'LandContour_Lvl', 'LandSlope_Mod', 'LandSlope_Sev', 'LotArea', 'LotConfig_CulDSac', 'LotConfig_FR2', 'LotConfig_FR3', 'LotConfig_Inside', 'LotFrontage', 'LotShape_IR2', 'LotShape_IR3', 'LotShape_Reg', 'LowQualFinSF', 'MSSubClass', 'MSZoning_FV', 'MSZoning_RH', 'MSZoning_RL', 'MSZoning_RM', 'MasVnrArea', 'MasVnrType_BrkFace', 'MasVnrType_Stone', 'MiscFeature_Othr', 'MiscFeature_Shed', 'MiscFeature_TenC', 'MiscVal', 'MoSold', 'Neighborhood_Blueste', 'Neighborhood_BrDale', 'Neighborhood_BrkSide', 'Neighborhood_ClearCr', 'Neighborhood_CollgCr', 'Neighborhood_Crawfor', 'Neighborhood_Edwards', 'Neighborhood_Gilbert', 'Neighborhood_IDOTRR', 'Neighborhood_MeadowV', 'Neighborhood_Mitchel', 'Neighborhood_NAmes', 'Neighborhood_NPkVill', 'Neighborhood_NWAmes', 'Neighborhood_NoRidge', 'Neighborhood_NridgHt', 'Neighborhood_OldTown', 'Neighborhood_SWISU', 'Neighborhood_Sawyer', 'Neighborhood_SawyerW', 'Neighborhood_Somerst', 'Neighborhood_StoneBr', 'Neighborhood_Timber', 'Neighborhood_Veenker', 'OpenPorchSF', 'OverallCond', 'OverallQual', 'PavedDrive_P', 'PavedDrive_Y', 'PoolArea', 'PoolQC_Fa', 'PoolQC_Gd', 'RoofMatl_CompShg', 'RoofMatl_Membran', 'RoofMatl_Metal', 'RoofMatl_Roll', 'RoofMatl_Tar&Grv', 'RoofMatl_WdShake', 'RoofMatl_WdShngl', 'RoofStyle_Gable', 'RoofStyle_Gambrel', 'RoofStyle_Hip', 'RoofStyle_Mansard', 'RoofStyle_Shed', 'SaleCondition_AdjLand', 'SaleCondition_Alloca', 'SaleCondition_Family', 'SaleCondition_Normal', 'SaleCondition_Partial', 'SalePrice', 'SaleType_CWD', 'SaleType_Con', 'SaleType_ConLD', 'SaleType_ConLI', 'SaleType_ConLw', 'SaleType_New', 'SaleType_Oth', 'SaleType_WD', 'ScreenPorch', 'Street_Pave', 'TotRmsAbvGrd', 'TotalBsmtSF', 'Utilities_NoSeWa', 'WoodDeckSF', 'YearBuilt', 'YearRemodAdd', 'YrSold'], test_id='32')\n",
    "nbtest.assert_shape(nbtest_tmpvar_12, (5, 245), test_id='31')"
   ]
  },
  {
   "cell_type": "code",
   "execution_count": null,
   "id": "1604c4f2",
   "metadata": {},
   "outputs": [],
   "source": [
    "sns.distplot(train_df['SalePrice']);"
   ]
  },
  {
   "cell_type": "code",
   "execution_count": null,
   "id": "1f5aa298",
   "metadata": {},
   "outputs": [],
   "source": [
    "plt.figure(figsize=(8, 6))\n",
    "plt.bar(train_df['OverallQual'], train_df['SalePrice'], color='skyblue')  # Create the bar plot\n",
    "plt.xlabel('OverallQual', fontsize=12)\n",
    "plt.ylabel('SalePrice', fontsize=12)\n",
    "plt.title('SalePrice vs OverallQual', fontsize=16) \n",
    "plt.show()"
   ]
  },
  {
   "cell_type": "code",
   "execution_count": null,
   "id": "bae22d72",
   "metadata": {},
   "outputs": [],
   "source": [
    "plt.figure(figsize=(12, 6))  \n",
    "sns.lineplot(x=\"YearBuilt\", y=\"SalePrice\", data=train_df, label='SalePrice', marker='o', color='grey')\n",
    "plt.title(\"SalePrice vs YearBuilt\", fontsize=16)\n",
    "plt.xlabel(\"YearBuilt\", fontsize=12)\n",
    "plt.ylabel(\"SalePrice\", fontsize=12)\n",
    "plt.xticks(range(min(train_df['YearBuilt']), max(train_df['YearBuilt']) + 1, 10))  # Adjust the interval (e.g., 10 years)\n",
    "plt.legend()\n",
    "plt.tight_layout()\n",
    "plt.show()"
   ]
  },
  {
   "cell_type": "code",
   "execution_count": null,
   "id": "91014b5a",
   "metadata": {},
   "outputs": [],
   "source": [
    "sns.set(style=\"whitegrid\")\n",
    "ax = sns.barplot(x=\"GarageCars\", y=\"SalePrice\", data=train_df, color='red')\n",
    "plt.title(\"SalePrice vs GarageCars\", fontsize=16)\n",
    "ax.set_xlabel(\"GarageCars\", fontsize=12)\n",
    "ax.set_ylabel(\"SalePrice\", fontsize=12)\n",
    "plt.tight_layout()\n",
    "plt.show()"
   ]
  },
  {
   "cell_type": "code",
   "execution_count": null,
   "id": "3a4795da",
   "metadata": {},
   "outputs": [],
   "source": [
    "X = train_df.drop('SalePrice', axis=1)\n",
    "y = train_df['SalePrice']"
   ]
  },
  {
   "cell_type": "code",
   "execution_count": null,
   "id": "12bc39fd",
   "metadata": {},
   "outputs": [],
   "source": [
    "(X_train, X_test, y_train, y_test) = train_test_split(X, y, test_size=0.2, random_state=42)\n",
    "nbtest.assert_allclose(y_test.sum(), 52869337.0, atol=5477385.386116991, test_id='47')\n",
    "nbtest.assert_allclose(y_train.sum(), 211275609.0, atol=5477385.386116991, test_id='46')\n",
    "nbtest.assert_df_var(X_test, 5828025.612931939, atol=7479208.885827521, test_id='45')\n",
    "nbtest.assert_df_mean(X_test, 687.5325287294766, atol=57.987492168827046, test_id='44')\n",
    "nbtest.assert_column_types(X_test, ['int64', 'int64', 'int64', 'bool', 'int64', 'bool', 'bool', 'bool', 'bool', 'bool', 'bool', 'bool', 'bool', 'bool', 'bool', 'int64', 'int64', 'bool', 'bool', 'bool', 'bool', 'bool', 'bool', 'bool', 'bool', 'bool', 'bool', 'int64', 'int64', 'bool', 'bool', 'bool', 'int64', 'bool', 'bool', 'bool', 'bool', 'bool', 'bool', 'bool', 'bool', 'bool', 'bool', 'bool', 'bool', 'bool', 'bool', 'bool', 'bool', 'bool', 'bool', 'bool', 'bool', 'int64', 'bool', 'bool', 'bool', 'bool', 'bool', 'bool', 'bool', 'bool', 'bool', 'bool', 'bool', 'bool', 'bool', 'bool', 'bool', 'bool', 'bool', 'bool', 'bool', 'bool', 'bool', 'bool', 'bool', 'bool', 'bool', 'bool', 'bool', 'bool', 'bool', 'bool', 'bool', 'bool', 'bool', 'bool', 'bool', 'bool', 'bool', 'bool', 'bool', 'bool', 'bool', 'bool', 'bool', 'int64', 'bool', 'bool', 'bool', 'bool', 'bool', 'int64', 'bool', 'bool', 'bool', 'bool', 'bool', 'bool', 'int64', 'int64', 'bool', 'bool', 'bool', 'bool', 'bool', 'bool', 'bool', 'bool', 'bool', 'bool', 'bool', 'bool', 'bool', 'bool', 'bool', 'float64', 'int64', 'int64', 'bool', 'bool', 'bool', 'bool', 'bool', 'bool', 'bool', 'bool', 'bool', 'bool', 'bool', 'bool', 'bool', 'bool', 'bool', 'bool', 'int64', 'bool', 'bool', 'bool', 'bool', 'bool', 'bool', 'bool', 'bool', 'int64', 'bool', 'bool', 'bool', 'bool', 'float64', 'bool', 'bool', 'bool', 'int64', 'int64', 'bool', 'bool', 'bool', 'bool', 'float64', 'bool', 'bool', 'bool', 'bool', 'bool', 'int64', 'int64', 'bool', 'bool', 'bool', 'bool', 'bool', 'bool', 'bool', 'bool', 'bool', 'bool', 'bool', 'bool', 'bool', 'bool', 'bool', 'bool', 'bool', 'bool', 'bool', 'bool', 'bool', 'bool', 'bool', 'bool', 'int64', 'int64', 'int64', 'bool', 'bool', 'int64', 'bool', 'bool', 'bool', 'bool', 'bool', 'bool', 'bool', 'bool', 'bool', 'bool', 'bool', 'bool', 'bool', 'bool', 'bool', 'bool', 'bool', 'bool', 'bool', 'bool', 'bool', 'bool', 'bool', 'bool', 'bool', 'bool', 'bool', 'int64', 'bool', 'int64', 'int64', 'bool', 'int64', 'int64', 'int64', 'int64'], test_id='43')\n",
    "nbtest.assert_column_names(X_test, ['1stFlrSF', '2ndFlrSF', '3SsnPorch', 'Alley_Pave', 'BedroomAbvGr', 'BldgType_2fmCon', 'BldgType_Duplex', 'BldgType_Twnhs', 'BldgType_TwnhsE', 'BsmtCond_Gd', 'BsmtCond_Po', 'BsmtCond_TA', 'BsmtExposure_Gd', 'BsmtExposure_Mn', 'BsmtExposure_No', 'BsmtFinSF1', 'BsmtFinSF2', 'BsmtFinType1_BLQ', 'BsmtFinType1_GLQ', 'BsmtFinType1_LwQ', 'BsmtFinType1_Rec', 'BsmtFinType1_Unf', 'BsmtFinType2_BLQ', 'BsmtFinType2_GLQ', 'BsmtFinType2_LwQ', 'BsmtFinType2_Rec', 'BsmtFinType2_Unf', 'BsmtFullBath', 'BsmtHalfBath', 'BsmtQual_Fa', 'BsmtQual_Gd', 'BsmtQual_TA', 'BsmtUnfSF', 'CentralAir_Y', 'Condition1_Feedr', 'Condition1_Norm', 'Condition1_PosA', 'Condition1_PosN', 'Condition1_RRAe', 'Condition1_RRAn', 'Condition1_RRNe', 'Condition1_RRNn', 'Condition2_Feedr', 'Condition2_Norm', 'Condition2_PosA', 'Condition2_PosN', 'Condition2_RRAe', 'Condition2_RRAn', 'Condition2_RRNn', 'Electrical_FuseF', 'Electrical_FuseP', 'Electrical_Mix', 'Electrical_SBrkr', 'EnclosedPorch', 'ExterCond_Fa', 'ExterCond_Gd', 'ExterCond_Po', 'ExterCond_TA', 'ExterQual_Fa', 'ExterQual_Gd', 'ExterQual_TA', 'Exterior1st_AsphShn', 'Exterior1st_BrkComm', 'Exterior1st_BrkFace', 'Exterior1st_CBlock', 'Exterior1st_CemntBd', 'Exterior1st_HdBoard', 'Exterior1st_ImStucc', 'Exterior1st_MetalSd', 'Exterior1st_Plywood', 'Exterior1st_Stone', 'Exterior1st_Stucco', 'Exterior1st_VinylSd', 'Exterior1st_Wd Sdng', 'Exterior1st_WdShing', 'Exterior2nd_AsphShn', 'Exterior2nd_Brk Cmn', 'Exterior2nd_BrkFace', 'Exterior2nd_CBlock', 'Exterior2nd_CmentBd', 'Exterior2nd_HdBoard', 'Exterior2nd_ImStucc', 'Exterior2nd_MetalSd', 'Exterior2nd_Other', 'Exterior2nd_Plywood', 'Exterior2nd_Stone', 'Exterior2nd_Stucco', 'Exterior2nd_VinylSd', 'Exterior2nd_Wd Sdng', 'Exterior2nd_Wd Shng', 'Fence_GdWo', 'Fence_MnPrv', 'Fence_MnWw', 'FireplaceQu_Fa', 'FireplaceQu_Gd', 'FireplaceQu_Po', 'FireplaceQu_TA', 'Fireplaces', 'Foundation_CBlock', 'Foundation_PConc', 'Foundation_Slab', 'Foundation_Stone', 'Foundation_Wood', 'FullBath', 'Functional_Maj2', 'Functional_Min1', 'Functional_Min2', 'Functional_Mod', 'Functional_Sev', 'Functional_Typ', 'GarageArea', 'GarageCars', 'GarageCond_Fa', 'GarageCond_Gd', 'GarageCond_Po', 'GarageCond_TA', 'GarageFinish_RFn', 'GarageFinish_Unf', 'GarageQual_Fa', 'GarageQual_Gd', 'GarageQual_Po', 'GarageQual_TA', 'GarageType_Attchd', 'GarageType_Basment', 'GarageType_BuiltIn', 'GarageType_CarPort', 'GarageType_Detchd', 'GarageYrBlt', 'GrLivArea', 'HalfBath', 'HeatingQC_Fa', 'HeatingQC_Gd', 'HeatingQC_Po', 'HeatingQC_TA', 'Heating_GasA', 'Heating_GasW', 'Heating_Grav', 'Heating_OthW', 'Heating_Wall', 'HouseStyle_1.5Unf', 'HouseStyle_1Story', 'HouseStyle_2.5Fin', 'HouseStyle_2.5Unf', 'HouseStyle_2Story', 'HouseStyle_SFoyer', 'HouseStyle_SLvl', 'KitchenAbvGr', 'KitchenQual_Fa', 'KitchenQual_Gd', 'KitchenQual_TA', 'LandContour_HLS', 'LandContour_Low', 'LandContour_Lvl', 'LandSlope_Mod', 'LandSlope_Sev', 'LotArea', 'LotConfig_CulDSac', 'LotConfig_FR2', 'LotConfig_FR3', 'LotConfig_Inside', 'LotFrontage', 'LotShape_IR2', 'LotShape_IR3', 'LotShape_Reg', 'LowQualFinSF', 'MSSubClass', 'MSZoning_FV', 'MSZoning_RH', 'MSZoning_RL', 'MSZoning_RM', 'MasVnrArea', 'MasVnrType_BrkFace', 'MasVnrType_Stone', 'MiscFeature_Othr', 'MiscFeature_Shed', 'MiscFeature_TenC', 'MiscVal', 'MoSold', 'Neighborhood_Blueste', 'Neighborhood_BrDale', 'Neighborhood_BrkSide', 'Neighborhood_ClearCr', 'Neighborhood_CollgCr', 'Neighborhood_Crawfor', 'Neighborhood_Edwards', 'Neighborhood_Gilbert', 'Neighborhood_IDOTRR', 'Neighborhood_MeadowV', 'Neighborhood_Mitchel', 'Neighborhood_NAmes', 'Neighborhood_NPkVill', 'Neighborhood_NWAmes', 'Neighborhood_NoRidge', 'Neighborhood_NridgHt', 'Neighborhood_OldTown', 'Neighborhood_SWISU', 'Neighborhood_Sawyer', 'Neighborhood_SawyerW', 'Neighborhood_Somerst', 'Neighborhood_StoneBr', 'Neighborhood_Timber', 'Neighborhood_Veenker', 'OpenPorchSF', 'OverallCond', 'OverallQual', 'PavedDrive_P', 'PavedDrive_Y', 'PoolArea', 'PoolQC_Fa', 'PoolQC_Gd', 'RoofMatl_CompShg', 'RoofMatl_Membran', 'RoofMatl_Metal', 'RoofMatl_Roll', 'RoofMatl_Tar&Grv', 'RoofMatl_WdShake', 'RoofMatl_WdShngl', 'RoofStyle_Gable', 'RoofStyle_Gambrel', 'RoofStyle_Hip', 'RoofStyle_Mansard', 'RoofStyle_Shed', 'SaleCondition_AdjLand', 'SaleCondition_Alloca', 'SaleCondition_Family', 'SaleCondition_Normal', 'SaleCondition_Partial', 'SaleType_CWD', 'SaleType_Con', 'SaleType_ConLD', 'SaleType_ConLI', 'SaleType_ConLw', 'SaleType_New', 'SaleType_Oth', 'SaleType_WD', 'ScreenPorch', 'Street_Pave', 'TotRmsAbvGrd', 'TotalBsmtSF', 'Utilities_NoSeWa', 'WoodDeckSF', 'YearBuilt', 'YearRemodAdd', 'YrSold'], test_id='42')\n",
    "nbtest.assert_shape(X_test, (292, 244), test_id='41')\n",
    "nbtest.assert_df_var(X_train, 6057707.7556051845, atol=1869904.9010915381, test_id='40')\n",
    "nbtest.assert_df_mean(X_train, 681.2244453620044, atol=14.496873042206817, test_id='39')\n",
    "nbtest.assert_column_types(X_train, ['int64', 'int64', 'int64', 'bool', 'int64', 'bool', 'bool', 'bool', 'bool', 'bool', 'bool', 'bool', 'bool', 'bool', 'bool', 'int64', 'int64', 'bool', 'bool', 'bool', 'bool', 'bool', 'bool', 'bool', 'bool', 'bool', 'bool', 'int64', 'int64', 'bool', 'bool', 'bool', 'int64', 'bool', 'bool', 'bool', 'bool', 'bool', 'bool', 'bool', 'bool', 'bool', 'bool', 'bool', 'bool', 'bool', 'bool', 'bool', 'bool', 'bool', 'bool', 'bool', 'bool', 'int64', 'bool', 'bool', 'bool', 'bool', 'bool', 'bool', 'bool', 'bool', 'bool', 'bool', 'bool', 'bool', 'bool', 'bool', 'bool', 'bool', 'bool', 'bool', 'bool', 'bool', 'bool', 'bool', 'bool', 'bool', 'bool', 'bool', 'bool', 'bool', 'bool', 'bool', 'bool', 'bool', 'bool', 'bool', 'bool', 'bool', 'bool', 'bool', 'bool', 'bool', 'bool', 'bool', 'bool', 'int64', 'bool', 'bool', 'bool', 'bool', 'bool', 'int64', 'bool', 'bool', 'bool', 'bool', 'bool', 'bool', 'int64', 'int64', 'bool', 'bool', 'bool', 'bool', 'bool', 'bool', 'bool', 'bool', 'bool', 'bool', 'bool', 'bool', 'bool', 'bool', 'bool', 'float64', 'int64', 'int64', 'bool', 'bool', 'bool', 'bool', 'bool', 'bool', 'bool', 'bool', 'bool', 'bool', 'bool', 'bool', 'bool', 'bool', 'bool', 'bool', 'int64', 'bool', 'bool', 'bool', 'bool', 'bool', 'bool', 'bool', 'bool', 'int64', 'bool', 'bool', 'bool', 'bool', 'float64', 'bool', 'bool', 'bool', 'int64', 'int64', 'bool', 'bool', 'bool', 'bool', 'float64', 'bool', 'bool', 'bool', 'bool', 'bool', 'int64', 'int64', 'bool', 'bool', 'bool', 'bool', 'bool', 'bool', 'bool', 'bool', 'bool', 'bool', 'bool', 'bool', 'bool', 'bool', 'bool', 'bool', 'bool', 'bool', 'bool', 'bool', 'bool', 'bool', 'bool', 'bool', 'int64', 'int64', 'int64', 'bool', 'bool', 'int64', 'bool', 'bool', 'bool', 'bool', 'bool', 'bool', 'bool', 'bool', 'bool', 'bool', 'bool', 'bool', 'bool', 'bool', 'bool', 'bool', 'bool', 'bool', 'bool', 'bool', 'bool', 'bool', 'bool', 'bool', 'bool', 'bool', 'bool', 'int64', 'bool', 'int64', 'int64', 'bool', 'int64', 'int64', 'int64', 'int64'], test_id='38')\n",
    "nbtest.assert_column_names(X_train, ['1stFlrSF', '2ndFlrSF', '3SsnPorch', 'Alley_Pave', 'BedroomAbvGr', 'BldgType_2fmCon', 'BldgType_Duplex', 'BldgType_Twnhs', 'BldgType_TwnhsE', 'BsmtCond_Gd', 'BsmtCond_Po', 'BsmtCond_TA', 'BsmtExposure_Gd', 'BsmtExposure_Mn', 'BsmtExposure_No', 'BsmtFinSF1', 'BsmtFinSF2', 'BsmtFinType1_BLQ', 'BsmtFinType1_GLQ', 'BsmtFinType1_LwQ', 'BsmtFinType1_Rec', 'BsmtFinType1_Unf', 'BsmtFinType2_BLQ', 'BsmtFinType2_GLQ', 'BsmtFinType2_LwQ', 'BsmtFinType2_Rec', 'BsmtFinType2_Unf', 'BsmtFullBath', 'BsmtHalfBath', 'BsmtQual_Fa', 'BsmtQual_Gd', 'BsmtQual_TA', 'BsmtUnfSF', 'CentralAir_Y', 'Condition1_Feedr', 'Condition1_Norm', 'Condition1_PosA', 'Condition1_PosN', 'Condition1_RRAe', 'Condition1_RRAn', 'Condition1_RRNe', 'Condition1_RRNn', 'Condition2_Feedr', 'Condition2_Norm', 'Condition2_PosA', 'Condition2_PosN', 'Condition2_RRAe', 'Condition2_RRAn', 'Condition2_RRNn', 'Electrical_FuseF', 'Electrical_FuseP', 'Electrical_Mix', 'Electrical_SBrkr', 'EnclosedPorch', 'ExterCond_Fa', 'ExterCond_Gd', 'ExterCond_Po', 'ExterCond_TA', 'ExterQual_Fa', 'ExterQual_Gd', 'ExterQual_TA', 'Exterior1st_AsphShn', 'Exterior1st_BrkComm', 'Exterior1st_BrkFace', 'Exterior1st_CBlock', 'Exterior1st_CemntBd', 'Exterior1st_HdBoard', 'Exterior1st_ImStucc', 'Exterior1st_MetalSd', 'Exterior1st_Plywood', 'Exterior1st_Stone', 'Exterior1st_Stucco', 'Exterior1st_VinylSd', 'Exterior1st_Wd Sdng', 'Exterior1st_WdShing', 'Exterior2nd_AsphShn', 'Exterior2nd_Brk Cmn', 'Exterior2nd_BrkFace', 'Exterior2nd_CBlock', 'Exterior2nd_CmentBd', 'Exterior2nd_HdBoard', 'Exterior2nd_ImStucc', 'Exterior2nd_MetalSd', 'Exterior2nd_Other', 'Exterior2nd_Plywood', 'Exterior2nd_Stone', 'Exterior2nd_Stucco', 'Exterior2nd_VinylSd', 'Exterior2nd_Wd Sdng', 'Exterior2nd_Wd Shng', 'Fence_GdWo', 'Fence_MnPrv', 'Fence_MnWw', 'FireplaceQu_Fa', 'FireplaceQu_Gd', 'FireplaceQu_Po', 'FireplaceQu_TA', 'Fireplaces', 'Foundation_CBlock', 'Foundation_PConc', 'Foundation_Slab', 'Foundation_Stone', 'Foundation_Wood', 'FullBath', 'Functional_Maj2', 'Functional_Min1', 'Functional_Min2', 'Functional_Mod', 'Functional_Sev', 'Functional_Typ', 'GarageArea', 'GarageCars', 'GarageCond_Fa', 'GarageCond_Gd', 'GarageCond_Po', 'GarageCond_TA', 'GarageFinish_RFn', 'GarageFinish_Unf', 'GarageQual_Fa', 'GarageQual_Gd', 'GarageQual_Po', 'GarageQual_TA', 'GarageType_Attchd', 'GarageType_Basment', 'GarageType_BuiltIn', 'GarageType_CarPort', 'GarageType_Detchd', 'GarageYrBlt', 'GrLivArea', 'HalfBath', 'HeatingQC_Fa', 'HeatingQC_Gd', 'HeatingQC_Po', 'HeatingQC_TA', 'Heating_GasA', 'Heating_GasW', 'Heating_Grav', 'Heating_OthW', 'Heating_Wall', 'HouseStyle_1.5Unf', 'HouseStyle_1Story', 'HouseStyle_2.5Fin', 'HouseStyle_2.5Unf', 'HouseStyle_2Story', 'HouseStyle_SFoyer', 'HouseStyle_SLvl', 'KitchenAbvGr', 'KitchenQual_Fa', 'KitchenQual_Gd', 'KitchenQual_TA', 'LandContour_HLS', 'LandContour_Low', 'LandContour_Lvl', 'LandSlope_Mod', 'LandSlope_Sev', 'LotArea', 'LotConfig_CulDSac', 'LotConfig_FR2', 'LotConfig_FR3', 'LotConfig_Inside', 'LotFrontage', 'LotShape_IR2', 'LotShape_IR3', 'LotShape_Reg', 'LowQualFinSF', 'MSSubClass', 'MSZoning_FV', 'MSZoning_RH', 'MSZoning_RL', 'MSZoning_RM', 'MasVnrArea', 'MasVnrType_BrkFace', 'MasVnrType_Stone', 'MiscFeature_Othr', 'MiscFeature_Shed', 'MiscFeature_TenC', 'MiscVal', 'MoSold', 'Neighborhood_Blueste', 'Neighborhood_BrDale', 'Neighborhood_BrkSide', 'Neighborhood_ClearCr', 'Neighborhood_CollgCr', 'Neighborhood_Crawfor', 'Neighborhood_Edwards', 'Neighborhood_Gilbert', 'Neighborhood_IDOTRR', 'Neighborhood_MeadowV', 'Neighborhood_Mitchel', 'Neighborhood_NAmes', 'Neighborhood_NPkVill', 'Neighborhood_NWAmes', 'Neighborhood_NoRidge', 'Neighborhood_NridgHt', 'Neighborhood_OldTown', 'Neighborhood_SWISU', 'Neighborhood_Sawyer', 'Neighborhood_SawyerW', 'Neighborhood_Somerst', 'Neighborhood_StoneBr', 'Neighborhood_Timber', 'Neighborhood_Veenker', 'OpenPorchSF', 'OverallCond', 'OverallQual', 'PavedDrive_P', 'PavedDrive_Y', 'PoolArea', 'PoolQC_Fa', 'PoolQC_Gd', 'RoofMatl_CompShg', 'RoofMatl_Membran', 'RoofMatl_Metal', 'RoofMatl_Roll', 'RoofMatl_Tar&Grv', 'RoofMatl_WdShake', 'RoofMatl_WdShngl', 'RoofStyle_Gable', 'RoofStyle_Gambrel', 'RoofStyle_Hip', 'RoofStyle_Mansard', 'RoofStyle_Shed', 'SaleCondition_AdjLand', 'SaleCondition_Alloca', 'SaleCondition_Family', 'SaleCondition_Normal', 'SaleCondition_Partial', 'SaleType_CWD', 'SaleType_Con', 'SaleType_ConLD', 'SaleType_ConLI', 'SaleType_ConLw', 'SaleType_New', 'SaleType_Oth', 'SaleType_WD', 'ScreenPorch', 'Street_Pave', 'TotRmsAbvGrd', 'TotalBsmtSF', 'Utilities_NoSeWa', 'WoodDeckSF', 'YearBuilt', 'YearRemodAdd', 'YrSold'], test_id='37')\n",
    "nbtest.assert_shape(X_train, (1168, 244), test_id='36')\n",
    "nbtest.assert_df_leakage(X_test, X_test)"
   ]
  },
  {
   "cell_type": "code",
   "execution_count": null,
   "id": "fe505591",
   "metadata": {},
   "outputs": [],
   "source": [
    "sc = StandardScaler()\n",
    "X_train = sc.fit_transform(X_train)\n",
    "X_test = sc.transform(X_test)"
   ]
  },
  {
   "cell_type": "code",
   "execution_count": null,
   "id": "8bf92d3c",
   "metadata": {},
   "outputs": [],
   "source": [
    "models = {'Multiple Linear Regression': LinearRegression(), 'Polynomial Regression': LinearRegression(), 'Support Vector Regression': SVR(), 'Decision Tree Regression': DecisionTreeRegressor(), 'Random Forest Regression': RandomForestRegressor()}\n",
    "poly_degree = 2\n",
    "cv_scores = {}\n",
    "for (model_name, model) in models.items():\n",
    "    if model_name == 'Polynomial Regression':\n",
    "        poly_features = PolynomialFeatures(degree=poly_degree)\n",
    "        X_train_poly = poly_features.fit_transform(X_train)\n",
    "        scores = cross_val_score(model, X_train_poly, y_train, scoring='neg_mean_squared_error', cv=5)\n",
    "    else:\n",
    "        scores = cross_val_score(model, X_train, y_train, scoring='neg_mean_squared_error', cv=5)\n",
    "    mse_scores = -scores\n",
    "    cv_scores[model_name] = mse_scores.mean()\n",
    "best_model_name = min(cv_scores, key=cv_scores.get)\n",
    "best_model = models[best_model_name]\n",
    "if best_model_name == 'Polynomial Regression':\n",
    "    poly_features = PolynomialFeatures(degree=poly_degree)\n",
    "    X_train_poly = poly_features.fit_transform(X_train)\n",
    "    best_model.fit(X_train_poly, y_train)\n",
    "else:\n",
    "    best_model.fit(X_train, y_train)\n",
    "if best_model_name == 'Polynomial Regression':\n",
    "    X_test_poly = poly_features.transform(X_test)\n",
    "    y_pred = best_model.predict(X_test_poly)\n",
    "else:\n",
    "    y_pred = best_model.predict(X_test)\n",
    "mse = mean_squared_error(y_test, y_pred)\n",
    "nbtest.assert_allclose(mse, 1618922831.3776536, atol=4651276323.369059, test_id='48')\n",
    "print(f'Best Model: {best_model_name}')\n",
    "print(f'Mean Squared Error on Test Data: {mse}')"
   ]
  },
  {
   "cell_type": "code",
   "execution_count": null,
   "id": "5db54e91",
   "metadata": {},
   "outputs": [],
   "source": [
    "results = {'Model': [], 'Cross-Validation MSE': [], 'Test MSE': []}\n",
    "for (model_name, model) in models.items():\n",
    "    if model_name == 'Polynomial Regression':\n",
    "        poly_features = PolynomialFeatures(degree=poly_degree)\n",
    "        X_train_poly = poly_features.fit_transform(X_train)\n",
    "        scores = cross_val_score(model, X_train_poly, y_train, scoring='neg_mean_squared_error', cv=5)\n",
    "    else:\n",
    "        scores = cross_val_score(model, X_train, y_train, scoring='neg_mean_squared_error', cv=5)\n",
    "    mse_scores = -scores\n",
    "    cv_mse_mean = mse_scores.mean()\n",
    "    if model_name == 'Polynomial Regression':\n",
    "        poly_features = PolynomialFeatures(degree=poly_degree)\n",
    "        X_train_poly = poly_features.fit_transform(X_train)\n",
    "        model.fit(X_train_poly, y_train)\n",
    "        X_test_poly = poly_features.transform(X_test)\n",
    "        y_pred = model.predict(X_test_poly)\n",
    "    else:\n",
    "        model.fit(X_train, y_train)\n",
    "        y_pred = model.predict(X_test)\n",
    "    test_mse = mean_squared_error(y_test, y_pred)\n",
    "    results['Model'].append(model_name)\n",
    "    results['Cross-Validation MSE'].append(cv_mse_mean)\n",
    "    results['Test MSE'].append(test_mse)\n",
    "results_df = pd.DataFrame(results)\n",
    "nbtest.assert_df_var(results_df, 3.782873822638334e+20, atol=3.3377827472798e+21, test_id='53')\n",
    "nbtest.assert_df_mean(results_df, 6828454977.803773, atol=34277777280.479485, test_id='52')\n",
    "nbtest.assert_column_types(results_df, ['float64', 'object', 'float64'], test_id='51')\n",
    "nbtest.assert_column_names(results_df, ['Cross-Validation MSE', 'Model', 'Test MSE'], test_id='50')\n",
    "nbtest.assert_shape(results_df, (5, 3), test_id='49')\n",
    "print(results_df)\n",
    "nbtest.assert_df_var(results_df, 3.782873822638334e+20, atol=3.3377827472798e+21, test_id='58')\n",
    "nbtest.assert_df_mean(results_df, 6828454977.803773, atol=34277777280.479485, test_id='57')\n",
    "nbtest.assert_column_types(results_df, ['float64', 'object', 'float64'], test_id='56')\n",
    "nbtest.assert_column_names(results_df, ['Cross-Validation MSE', 'Model', 'Test MSE'], test_id='55')\n",
    "nbtest.assert_shape(results_df, (5, 3), test_id='54')"
   ]
  },
  {
   "cell_type": "code",
   "execution_count": null,
   "id": "c0036250",
   "metadata": {},
   "outputs": [],
   "source": [
    "regressor = RandomForestRegressor(n_estimators=10, random_state=0)\n",
    "nbtest_tmpvar_17 = regressor.fit(X_train, y_train)\n",
    "nbtest.assert_sklearn_model(nbtest_tmpvar_17, '/home/verve/ml_nb_testing/comp_analysis/nbtest-gen/nbtest_demo/op/sklearn_model_59.pkl', test_id='59')"
   ]
  },
  {
   "cell_type": "code",
   "execution_count": null,
   "id": "fd54b6ff",
   "metadata": {},
   "outputs": [],
   "source": [
    "y_pred = regressor.predict(X_test)"
   ]
  },
  {
   "cell_type": "code",
   "execution_count": null,
   "id": "e11c9798",
   "metadata": {},
   "outputs": [],
   "source": [
    "nbtest_tmpvar_18 = r2_score(y_test, y_pred)\n",
    "nbtest.assert_allclose(nbtest_tmpvar_18, 0.7646479958882588, atol=0.4518267654734712, test_id='60')"
   ]
  },
  {
   "cell_type": "code",
   "execution_count": null,
   "id": "dfd61641",
   "metadata": {},
   "outputs": [],
   "source": [
    "plt.figure(figsize=(8, 8))\n",
    "plt.scatter(y_test, y_pred, alpha=0.5, color = 'green')\n",
    "plt.xlabel(\"Actual Values\")\n",
    "plt.ylabel(\"Predicted Values\")\n",
    "plt.title(\"Random Forest Regression\")\n",
    "plt.grid(True)\n",
    "plt.show()"
   ]
  }
 ],
 "metadata": {
  "kernelspec": {
   "display_name": "Python 3 (ipykernel)",
   "language": "python",
   "name": "python3"
  },
  "language_info": {
   "codemirror_mode": {
    "name": "ipython",
    "version": 3
   },
   "file_extension": ".py",
   "mimetype": "text/x-python",
   "name": "python",
   "nbconvert_exporter": "python",
   "pygments_lexer": "ipython3",
   "version": "3.10.13"
  }
 },
 "nbformat": 4,
 "nbformat_minor": 5
}
