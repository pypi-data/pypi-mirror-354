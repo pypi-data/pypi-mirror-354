{
 "cells": [
  {
   "cell_type": "code",
   "execution_count": null,
   "id": "e24be9e7",
   "metadata": {},
   "outputs": [],
   "source": [
    "import nbtest\n",
    "import json\n",
    "import numpy as np\n",
    "random_seed = np.random.randint(10000)"
   ]
  },
  {
   "cell_type": "code",
   "execution_count": null,
   "id": "69d2610c",
   "metadata": {},
   "outputs": [],
   "source": [
    "import pandas as pd\n",
    "import matplotlib.pyplot as plt\n",
    "df = pd.read_csv('./heart_failure.csv')\n",
    "nbtest.instrument(df, 2, 3, 'heart-failure-classification', 'df', api='read_csv')"
   ]
  },
  {
   "cell_type": "code",
   "execution_count": null,
   "id": "7ce4f4e5",
   "metadata": {},
   "outputs": [],
   "source": [
    "nbtest_tmpvar_0 = df.head(n=10)\n",
    "nbtest.instrument(nbtest_tmpvar_0, 3, 1, 'heart-failure-classification', 'nbtest_tmpvar_0', api='head')"
   ]
  },
  {
   "cell_type": "code",
   "execution_count": null,
   "id": "1cd780dc",
   "metadata": {},
   "outputs": [],
   "source": [
    "nbtest_tmpvar_1 = df.info()\n",
    "nbtest.instrument(nbtest_tmpvar_1, 4, 1, 'heart-failure-classification', 'nbtest_tmpvar_1', api='info')"
   ]
  },
  {
   "cell_type": "code",
   "execution_count": null,
   "id": "744bdfb6",
   "metadata": {},
   "outputs": [],
   "source": [
    "nbtest_tmpvar_2 = df.isnull().any()\n",
    "nbtest.instrument(nbtest_tmpvar_2, 5, 1, 'heart-failure-classification', 'nbtest_tmpvar_2', api='any')"
   ]
  },
  {
   "cell_type": "code",
   "execution_count": null,
   "id": "834a80d3",
   "metadata": {},
   "outputs": [],
   "source": [
    "df.shape\n",
    "nbtest.instrument(df.shape, 6, 1, 'heart-failure-classification', 'df.shape')"
   ]
  },
  {
   "cell_type": "code",
   "execution_count": null,
   "id": "47d6ac51",
   "metadata": {},
   "outputs": [],
   "source": [
    "nbtest_tmpvar_3 = df.describe()\n",
    "nbtest.instrument(nbtest_tmpvar_3, 7, 1, 'heart-failure-classification', 'nbtest_tmpvar_3', api='describe')"
   ]
  },
  {
   "cell_type": "code",
   "execution_count": null,
   "id": "7d6b6954",
   "metadata": {},
   "outputs": [],
   "source": [
    "for i in df.columns:\n",
    "    print(i)\n",
    "    nbtest.instrument(i, 8, 2, 'heart-failure-classification', 'i')\n",
    "    print(df[f'{i}'].value_counts())"
   ]
  },
  {
   "cell_type": "code",
   "execution_count": null,
   "id": "2f181516",
   "metadata": {},
   "outputs": [],
   "source": [
    "import seaborn as sns\n",
    "import matplotlib.pyplot as plt\n",
    "sns.pairplot(df, vars=['age', 'anaemia', 'creatinine_phosphokinase', 'diabetes', 'ejection_fraction', 'high_blood_pressure', 'platelets', 'serum_creatinine', 'serum_sodium', 'sex', 'smoking', 'time', 'DEATH_EVENT'], hue='DEATH_EVENT')\n",
    "plt.show()"
   ]
  },
  {
   "cell_type": "code",
   "execution_count": null,
   "id": "28dd4428",
   "metadata": {},
   "outputs": [],
   "source": [
    "korelasyon_matrisi = df.corr().abs()\n",
    "plt.figure(figsize=(8, 6), dpi=100)\n",
    "sns.heatmap(korelasyon_matrisi, annot=True, cmap='rocket_r', fmt='.2f', linewidths=1)\n",
    "plt.title('Korelasyon Heatmap')\n",
    "plt.show()"
   ]
  },
  {
   "cell_type": "code",
   "execution_count": null,
   "id": "39bac33d",
   "metadata": {},
   "outputs": [],
   "source": [
    "print(df.corr().abs()['DEATH_EVENT'].nlargest(15))"
   ]
  },
  {
   "cell_type": "code",
   "execution_count": null,
   "id": "15da6d65",
   "metadata": {},
   "outputs": [],
   "source": [
    "col_reduced = df.corr().abs()['DEATH_EVENT'].nlargest(6).index\n",
    "col_reduced"
   ]
  },
  {
   "cell_type": "code",
   "execution_count": null,
   "id": "53ee0d73",
   "metadata": {},
   "outputs": [],
   "source": [
    "x = df[['time', 'serum_creatinine', 'ejection_fraction', 'age', 'serum_sodium']].values\n",
    "y = df.iloc[:, -1].values"
   ]
  },
  {
   "cell_type": "code",
   "execution_count": null,
   "id": "4b2ad73c",
   "metadata": {},
   "outputs": [],
   "source": [
    "from sklearn.model_selection import train_test_split\n",
    "(x_train, x_test, y_train, y_test) = train_test_split(x, y, test_size=0.2, random_state=random_seed)\n",
    "nbtest.instrument(y_test, 14, 2, 'heart-failure-classification', 'y_test', api='train_test_split')\n",
    "nbtest.instrument(y_train, 14, 2, 'heart-failure-classification', 'y_train', api='train_test_split')\n",
    "nbtest.instrument(x_test, 14, 2, 'heart-failure-classification', 'x_test', api='train_test_split')\n",
    "nbtest.instrument(x_train, 14, 2, 'heart-failure-classification', 'x_train', api='train_test_split')"
   ]
  },
  {
   "cell_type": "code",
   "execution_count": null,
   "id": "691951a1",
   "metadata": {},
   "outputs": [],
   "source": [
    "from sklearn.metrics import roc_curve, auc, accuracy_score\n",
    "from sklearn.metrics import confusion_matrix\n",
    "from sklearn.metrics import ConfusionMatrixDisplay\n",
    "from sklearn.preprocessing import StandardScaler\n",
    "sc = StandardScaler()\n",
    "X_train = sc.fit_transform(x_train)\n",
    "X_test = sc.transform(x_test)"
   ]
  },
  {
   "cell_type": "code",
   "execution_count": null,
   "id": "fe9bb582",
   "metadata": {},
   "outputs": [],
   "source": [
    "from sklearn.linear_model import LogisticRegression\n",
    "logr = LogisticRegression(random_state=random_seed)\n",
    "nbtest_tmpvar_4 = logr.fit(X_train, y_train)\n",
    "nbtest.instrument(nbtest_tmpvar_4, 16, 3, 'heart-failure-classification', 'nbtest_tmpvar_4', api='fit')\n",
    "y_pred = logr.predict(X_test)\n",
    "cm = confusion_matrix(y_test, y_pred, labels=logr.classes_)\n",
    "nbtest.instrument(cm, 16, 5, 'heart-failure-classification', 'cm', api='confusion_matrix')\n",
    "disp = ConfusionMatrixDisplay(confusion_matrix=cm, display_labels=logr.classes_)\n",
    "disp.plot(cmap='YlGnBu')\n",
    "plt.show()\n",
    "print()\n",
    "print('accuracy: ', accuracy_score(y_test, y_pred))\n",
    "nbtest.instrument(accuracy_score(y_test, y_pred), 16, 10, 'heart-failure-classification', 'accuracy_score(y_test, y_pred)', api='accuracy_score')"
   ]
  },
  {
   "cell_type": "code",
   "execution_count": null,
   "id": "fce070c2",
   "metadata": {},
   "outputs": [],
   "source": [
    "import sklearn\n",
    "y_proba = logr.predict_proba(X_test)\n",
    "(fpr, tpr, thresholds) = roc_curve(y_test, y_proba[:, 1], pos_label=1)\n",
    "roc_auc = auc(fpr, tpr)\n",
    "nbtest.instrument(roc_auc, 17, 4, 'heart-failure-classification', 'roc_auc', api='auc')\n",
    "plt.figure(figsize=(10, 6))\n",
    "plt.plot(fpr, tpr, color='darkorange', lw=2, label='ROC curve (area = {:.2f})'.format(roc_auc))\n",
    "plt.plot([0, 1], [0, 1], color='navy', lw=2, linestyle='--')\n",
    "plt.xlim([0.0, 1.0])\n",
    "plt.ylim([0.0, 1.05])\n",
    "plt.xlabel('False Positive Rate')\n",
    "plt.ylabel('True Positive Rate')\n",
    "plt.title('Receiver Operating Characteristic (ROC) Curve')\n",
    "plt.legend(loc='lower right')\n",
    "plt.show()\n",
    "print(sklearn.metrics.roc_auc_score(y_test, y_pred))\n",
    "nbtest.instrument(sklearn.metrics.roc_auc_score(y_test, y_pred), 17, 15, 'heart-failure-classification', 'sklearn.metrics.roc_auc_score(y_test, y_pred)', api='roc_auc_score')"
   ]
  },
  {
   "cell_type": "code",
   "execution_count": null,
   "id": "00959126",
   "metadata": {},
   "outputs": [],
   "source": [
    "from sklearn.neighbors import KNeighborsClassifier\n",
    "knn = KNeighborsClassifier(n_neighbors=5, metric='euclidean')\n",
    "nbtest_tmpvar_5 = knn.fit(X_train, y_train)\n",
    "nbtest.instrument(nbtest_tmpvar_5, 18, 3, 'heart-failure-classification', 'nbtest_tmpvar_5', api='fit')\n",
    "y_pred = knn.predict(X_test)\n",
    "cm = confusion_matrix(y_test, y_pred, labels=knn.classes_)\n",
    "nbtest.instrument(cm, 18, 5, 'heart-failure-classification', 'cm', api='confusion_matrix')\n",
    "disp = ConfusionMatrixDisplay(confusion_matrix=cm, display_labels=knn.classes_)\n",
    "disp.plot(cmap='YlGnBu')\n",
    "plt.show()\n",
    "print()\n",
    "print('accuracy: ', accuracy_score(y_test, y_pred))\n",
    "nbtest.instrument(accuracy_score(y_test, y_pred), 18, 10, 'heart-failure-classification', 'accuracy_score(y_test, y_pred)', api='accuracy_score')"
   ]
  },
  {
   "cell_type": "code",
   "execution_count": null,
   "id": "cd28a0f8",
   "metadata": {},
   "outputs": [],
   "source": [
    "import matplotlib.pyplot as plt\n",
    "y_proba = knn.predict_proba(X_test)\n",
    "(fpr, tpr, thresholds) = roc_curve(y_test, y_proba[:, 1], pos_label=1)\n",
    "roc_auc = auc(fpr, tpr)\n",
    "nbtest.instrument(roc_auc, 19, 4, 'heart-failure-classification', 'roc_auc', api='auc')\n",
    "plt.figure(figsize=(10, 6))\n",
    "plt.plot(fpr, tpr, color='darkorange', lw=2, label='ROC curve (area = {:.2f})'.format(roc_auc))\n",
    "plt.plot([0, 1], [0, 1], color='navy', lw=2, linestyle='--')\n",
    "plt.xlim([0.0, 1.0])\n",
    "plt.ylim([0.0, 1.05])\n",
    "plt.xlabel('False Positive Rate')\n",
    "plt.ylabel('True Positive Rate')\n",
    "plt.title('Receiver Operating Characteristic (ROC) Curve')\n",
    "plt.legend(loc='lower right')\n",
    "plt.show()\n",
    "print(sklearn.metrics.roc_auc_score(y_test, y_pred))\n",
    "nbtest.instrument(sklearn.metrics.roc_auc_score(y_test, y_pred), 19, 15, 'heart-failure-classification', 'sklearn.metrics.roc_auc_score(y_test, y_pred)', api='roc_auc_score')"
   ]
  },
  {
   "cell_type": "code",
   "execution_count": null,
   "id": "b67a033e",
   "metadata": {},
   "outputs": [],
   "source": [
    "from sklearn.svm import SVC\n",
    "svc = SVC(kernel='rbf', probability=True)\n",
    "nbtest_tmpvar_6 = svc.fit(X_train, y_train)\n",
    "nbtest.instrument(nbtest_tmpvar_6, 20, 3, 'heart-failure-classification', 'nbtest_tmpvar_6', api='fit')\n",
    "y_pred = svc.predict(X_test)\n",
    "cm = confusion_matrix(y_test, y_pred, labels=svc.classes_)\n",
    "nbtest.instrument(cm, 20, 5, 'heart-failure-classification', 'cm', api='confusion_matrix')\n",
    "disp = ConfusionMatrixDisplay(confusion_matrix=cm, display_labels=svc.classes_)\n",
    "disp.plot(cmap='YlGnBu')\n",
    "plt.show()\n",
    "print()\n",
    "print('accuracy: ', accuracy_score(y_test, y_pred))\n",
    "nbtest.instrument(accuracy_score(y_test, y_pred), 20, 10, 'heart-failure-classification', 'accuracy_score(y_test, y_pred)', api='accuracy_score')"
   ]
  },
  {
   "cell_type": "code",
   "execution_count": null,
   "id": "eb1d73a6",
   "metadata": {},
   "outputs": [],
   "source": [
    "import matplotlib.pyplot as plt\n",
    "y_proba = svc.predict_proba(X_test)\n",
    "(fpr, tpr, thresholds) = roc_curve(y_test, y_proba[:, 1], pos_label=1)\n",
    "roc_auc = auc(fpr, tpr)\n",
    "nbtest.instrument(roc_auc, 21, 4, 'heart-failure-classification', 'roc_auc', api='auc')\n",
    "plt.figure(figsize=(10, 6))\n",
    "plt.plot(fpr, tpr, color='darkorange', lw=2, label='ROC curve (area = {:.2f})'.format(roc_auc))\n",
    "plt.plot([0, 1], [0, 1], color='navy', lw=2, linestyle='--')\n",
    "plt.xlim([0.0, 1.0])\n",
    "plt.ylim([0.0, 1.05])\n",
    "plt.xlabel('False Positive Rate')\n",
    "plt.ylabel('True Positive Rate')\n",
    "plt.title('Receiver Operating Characteristic (ROC) Curve')\n",
    "plt.legend(loc='lower right')\n",
    "plt.show()\n",
    "print(sklearn.metrics.roc_auc_score(y_test, y_pred))\n",
    "nbtest.instrument(sklearn.metrics.roc_auc_score(y_test, y_pred), 21, 15, 'heart-failure-classification', 'sklearn.metrics.roc_auc_score(y_test, y_pred)', api='roc_auc_score')"
   ]
  },
  {
   "cell_type": "code",
   "execution_count": null,
   "id": "d492b5f5",
   "metadata": {},
   "outputs": [],
   "source": [
    "from sklearn.naive_bayes import GaussianNB\n",
    "gnb = GaussianNB()\n",
    "nbtest_tmpvar_7 = gnb.fit(X_train, y_train)\n",
    "nbtest.instrument(nbtest_tmpvar_7, 22, 3, 'heart-failure-classification', 'nbtest_tmpvar_7', api='fit')\n",
    "y_pred = gnb.predict(X_test)\n",
    "cm = confusion_matrix(y_test, y_pred, labels=gnb.classes_)\n",
    "nbtest.instrument(cm, 22, 5, 'heart-failure-classification', 'cm', api='confusion_matrix')\n",
    "disp = ConfusionMatrixDisplay(confusion_matrix=cm, display_labels=gnb.classes_)\n",
    "disp.plot(cmap='YlGnBu')\n",
    "plt.show()\n",
    "print()\n",
    "print('accuracy: ', accuracy_score(y_test, y_pred))\n",
    "nbtest.instrument(accuracy_score(y_test, y_pred), 22, 10, 'heart-failure-classification', 'accuracy_score(y_test, y_pred)', api='accuracy_score')"
   ]
  },
  {
   "cell_type": "code",
   "execution_count": null,
   "id": "24ba43d8",
   "metadata": {},
   "outputs": [],
   "source": [
    "import matplotlib.pyplot as plt\n",
    "y_proba = gnb.predict_proba(X_test)\n",
    "(fpr, tpr, thresholds) = roc_curve(y_test, y_proba[:, 1], pos_label=1)\n",
    "roc_auc = auc(fpr, tpr)\n",
    "nbtest.instrument(roc_auc, 23, 4, 'heart-failure-classification', 'roc_auc', api='auc')\n",
    "plt.figure(figsize=(10, 6))\n",
    "plt.plot(fpr, tpr, color='darkorange', lw=2, label='ROC curve (area = {:.2f})'.format(roc_auc))\n",
    "plt.plot([0, 1], [0, 1], color='navy', lw=2, linestyle='--')\n",
    "plt.xlim([0.0, 1.0])\n",
    "plt.ylim([0.0, 1.05])\n",
    "plt.xlabel('False Positive Rate')\n",
    "plt.ylabel('True Positive Rate')\n",
    "plt.title('Receiver Operating Characteristic (ROC) Curve')\n",
    "plt.legend(loc='lower right')\n",
    "plt.show()\n",
    "print(sklearn.metrics.roc_auc_score(y_test, y_pred))\n",
    "nbtest.instrument(sklearn.metrics.roc_auc_score(y_test, y_pred), 23, 15, 'heart-failure-classification', 'sklearn.metrics.roc_auc_score(y_test, y_pred)', api='roc_auc_score')"
   ]
  },
  {
   "cell_type": "code",
   "execution_count": null,
   "id": "532a4ca1",
   "metadata": {},
   "outputs": [],
   "source": [
    "from sklearn.tree import DecisionTreeClassifier\n",
    "dtc = DecisionTreeClassifier(criterion='entropy', random_state=random_seed)\n",
    "nbtest_tmpvar_8 = dtc.fit(X_train, y_train)\n",
    "nbtest.instrument(nbtest_tmpvar_8, 24, 3, 'heart-failure-classification', 'nbtest_tmpvar_8', api='fit')\n",
    "y_pred = dtc.predict(X_test)\n",
    "cm = confusion_matrix(y_test, y_pred, labels=dtc.classes_)\n",
    "nbtest.instrument(cm, 24, 5, 'heart-failure-classification', 'cm', api='confusion_matrix')\n",
    "disp = ConfusionMatrixDisplay(confusion_matrix=cm, display_labels=dtc.classes_)\n",
    "disp.plot(cmap='YlGnBu')\n",
    "plt.show()\n",
    "print()\n",
    "print('accuracy: ', accuracy_score(y_test, y_pred))\n",
    "nbtest.instrument(accuracy_score(y_test, y_pred), 24, 10, 'heart-failure-classification', 'accuracy_score(y_test, y_pred)', api='accuracy_score')"
   ]
  },
  {
   "cell_type": "code",
   "execution_count": null,
   "id": "2fdd01cb",
   "metadata": {},
   "outputs": [],
   "source": [
    "import matplotlib.pyplot as plt\n",
    "y_proba = dtc.predict_proba(X_test)\n",
    "(fpr, tpr, thresholds) = roc_curve(y_test, y_proba[:, 1], pos_label=1)\n",
    "roc_auc = auc(fpr, tpr)\n",
    "nbtest.instrument(roc_auc, 25, 4, 'heart-failure-classification', 'roc_auc', api='auc')\n",
    "plt.figure(figsize=(10, 6))\n",
    "plt.plot(fpr, tpr, color='darkorange', lw=2, label='ROC curve (area = {:.2f})'.format(roc_auc))\n",
    "plt.plot([0, 1], [0, 1], color='navy', lw=2, linestyle='--')\n",
    "plt.xlim([0.0, 1.0])\n",
    "plt.ylim([0.0, 1.05])\n",
    "plt.xlabel('False Positive Rate')\n",
    "plt.ylabel('True Positive Rate')\n",
    "plt.title('Receiver Operating Characteristic (ROC) Curve')\n",
    "plt.legend(loc='lower right')\n",
    "plt.show()\n",
    "print(sklearn.metrics.roc_auc_score(y_test, y_pred))\n",
    "nbtest.instrument(sklearn.metrics.roc_auc_score(y_test, y_pred), 25, 15, 'heart-failure-classification', 'sklearn.metrics.roc_auc_score(y_test, y_pred)', api='roc_auc_score')"
   ]
  },
  {
   "cell_type": "code",
   "execution_count": null,
   "id": "8581f754",
   "metadata": {},
   "outputs": [],
   "source": [
    "from sklearn.ensemble import RandomForestClassifier\n",
    "rfc = RandomForestClassifier(n_estimators=35, criterion='entropy', random_state=random_seed)\n",
    "nbtest_tmpvar_9 = rfc.fit(X_train, y_train)\n",
    "nbtest.instrument(nbtest_tmpvar_9, 26, 3, 'heart-failure-classification', 'nbtest_tmpvar_9', api='fit')\n",
    "y_pred = rfc.predict(X_test)\n",
    "cm = confusion_matrix(y_test, y_pred, labels=rfc.classes_)\n",
    "nbtest.instrument(cm, 26, 5, 'heart-failure-classification', 'cm', api='confusion_matrix')\n",
    "disp = ConfusionMatrixDisplay(confusion_matrix=cm, display_labels=rfc.classes_)\n",
    "disp.plot(cmap='YlGnBu')\n",
    "plt.show()\n",
    "print()\n",
    "print('accuracy: ', accuracy_score(y_test, y_pred))\n",
    "nbtest.instrument(accuracy_score(y_test, y_pred), 26, 10, 'heart-failure-classification', 'accuracy_score(y_test, y_pred)', api='accuracy_score')"
   ]
  },
  {
   "cell_type": "code",
   "execution_count": null,
   "id": "10ff952f",
   "metadata": {},
   "outputs": [],
   "source": [
    "import matplotlib.pyplot as plt\n",
    "y_proba = rfc.predict_proba(X_test)\n",
    "(fpr, tpr, thresholds) = roc_curve(y_test, y_proba[:, 1], pos_label=1)\n",
    "roc_auc = auc(fpr, tpr)\n",
    "nbtest.instrument(roc_auc, 27, 4, 'heart-failure-classification', 'roc_auc', api='auc')\n",
    "plt.figure(figsize=(10, 6))\n",
    "plt.plot(fpr, tpr, color='darkorange', lw=2, label='ROC curve (area = {:.2f})'.format(roc_auc))\n",
    "plt.plot([0, 1], [0, 1], color='navy', lw=2, linestyle='--')\n",
    "plt.xlim([0.0, 1.0])\n",
    "plt.ylim([0.0, 1.05])\n",
    "plt.xlabel('False Positive Rate')\n",
    "plt.ylabel('True Positive Rate')\n",
    "plt.title('Receiver Operating Characteristic (ROC) Curve')\n",
    "plt.legend(loc='lower right')\n",
    "plt.show()\n",
    "print(sklearn.metrics.roc_auc_score(y_test, y_pred))\n",
    "nbtest.instrument(sklearn.metrics.roc_auc_score(y_test, y_pred), 27, 15, 'heart-failure-classification', 'sklearn.metrics.roc_auc_score(y_test, y_pred)', api='roc_auc_score')"
   ]
  }
 ],
 "metadata": {},
 "nbformat": 4,
 "nbformat_minor": 5
}
