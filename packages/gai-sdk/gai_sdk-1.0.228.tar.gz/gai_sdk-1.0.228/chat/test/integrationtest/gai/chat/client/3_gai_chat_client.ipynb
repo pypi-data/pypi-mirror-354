{
 "cells": [
  {
   "cell_type": "markdown",
   "metadata": {},
   "source": [
    "## 4. Client Test\n",
    "\n",
    "**NOTE**: \n",
    "\n",
    "The client test resides in the `client` directory and mounted to the devcontainer.\n",
    "That means you can either run this test either server-side or client-side.\n",
    "There are 3 different ways to run this test:\n",
    "\n",
    "a) **If you are running from gai-chat-svr devcontainer**:  \n",
    "\n",
    "    - Press **F5** to start the chat server.    \n",
    "    - Set base url to **http://localhost:12031** in client_config  \n",
    "    NOTE: You cannot run the server using `docker-compose up` command in this case, as it will conflict with the devcontainer's port mapping.\n",
    "\n",
    "b) **If you are running from gai-chat-svr Client**:  \n",
    "\n",
    "    - Use `docker-compose up` to start the chat server.  \n",
    "    - Set base url to **http://localhost:12031** in client_config  \n",
    "\n",
    "c) **If you are running from gai-sdk devcontainer**:  \n",
    "\n",
    "    - From gai-sdk, open devcontainer.  \n",
    "    - Set base url to **http://gai-chat-svr:12031** in client_config  \n",
    "\n",
    "### b) Load the client"
   ]
  },
  {
   "cell_type": "code",
   "execution_count": 1,
   "metadata": {},
   "outputs": [],
   "source": [
    "import os\n",
    "os.environ[\"LOG_LEVEL\"] = \"INFO\"\n",
    "from gai.chat.client import ChatClient\n",
    "chat_client = ChatClient({\n",
    "        \"client_type\": \"gai\",\n",
    "        #\"url\": \"http://localhost:12031/gen/v1/chat/completions\"\n",
    "        \"url\": \"http://gai-chat-svr:12031/gen/v1/chat/completions\"\n",
    "        })\n",
    "\n",
    "from gai.chat.client import AsyncChatClient\n",
    "async_client = AsyncChatClient({\n",
    "        \"client_type\": \"gai\",\n",
    "        #\"url\": \"http://localhost:12031/gen/v1/chat/completions\"\n",
    "        \"url\": \"http://gai-chat-svr:12031/gen/v1/chat/completions\"\n",
    "        })\n"
   ]
  },
  {
   "cell_type": "markdown",
   "metadata": {},
   "source": [
    "### c) Stream"
   ]
  },
  {
   "cell_type": "code",
   "execution_count": 3,
   "metadata": {},
   "outputs": [
    {
     "name": "stdout",
     "output_type": "stream",
     "text": [
      "Once upon a time, in a small village nestled between two great mountains, there lived a humble cobbler named Thomas. Every day, he would wake up at the crack of dawn and begin his long journey to the top of the eastern mountain, where he would collect the finest threads and fabrics for his intricate and beautiful shoes. The villagers would often remark on how Thomas's shoes seemed to dance with every step, and many a young man sought to marry the girl who wore the prettiest pair. One day, an elegant stranger passed through the village, seeking the finest cobbler in all the land. Intrigued by tales of Thomas's remarkable footwear, the stranger set out to discover the secret behind his craft. Upon reaching the mountain, the stranger found Thomas patiently waiting at the summit, surrounded by a magnificent array of fabrics and threads. As the sun began to set, casting a warm golden glow over the scene, Thomas revealed his secret: the true magic of his shoes lay not in the materials themselves, but in the countless hours of love and care he poured into each pair. The stranger, inspired by this revelation, decided to embark on a new journey, spreading the tale of Thomas's extraordinary talent and inspiring generations to come.{'type': 'finish_reason', 'finish_reason': 'stop'}"
     ]
    }
   ],
   "source": [
    "result = chat_client.chat(model=\"ttt\",messages=\"User:Tell me a one paragraph story\",stream=True)\n",
    "for chunk in result:\n",
    "    print(chunk.extract(),end=\"\",flush=True)"
   ]
  },
  {
   "cell_type": "code",
   "execution_count": 4,
   "metadata": {},
   "outputs": [
    {
     "ename": "AttributeError",
     "evalue": "'AsyncChatClient' object has no attribute 'chat'",
     "output_type": "error",
     "traceback": [
      "\u001b[0;31m---------------------------------------------------------------------------\u001b[0m",
      "\u001b[0;31mAttributeError\u001b[0m                            Traceback (most recent call last)",
      "Cell \u001b[0;32mIn[4], line 1\u001b[0m\n\u001b[0;32m----> 1\u001b[0m result \u001b[38;5;241m=\u001b[39m \u001b[38;5;28;01mawait\u001b[39;00m async_client\u001b[38;5;241m.\u001b[39mchat(model\u001b[38;5;241m=\u001b[39m\u001b[38;5;124m\"\u001b[39m\u001b[38;5;124mttt\u001b[39m\u001b[38;5;124m\"\u001b[39m,messages\u001b[38;5;241m=\u001b[39m\u001b[38;5;124m\"\u001b[39m\u001b[38;5;124mUser:Tell me a one paragraph story\u001b[39m\u001b[38;5;124m\"\u001b[39m,stream\u001b[38;5;241m=\u001b[39m\u001b[38;5;28;01mTrue\u001b[39;00m)\n\u001b[1;32m      2\u001b[0m \u001b[38;5;28;01masync\u001b[39;00m \u001b[38;5;28;01mfor\u001b[39;00m chunk \u001b[38;5;129;01min\u001b[39;00m result:\n\u001b[1;32m      3\u001b[0m     \u001b[38;5;28mprint\u001b[39m(chunk\u001b[38;5;241m.\u001b[39mextract(),end\u001b[38;5;241m=\u001b[39m\u001b[38;5;124m\"\u001b[39m\u001b[38;5;124m\"\u001b[39m,flush\u001b[38;5;241m=\u001b[39m\u001b[38;5;28;01mTrue\u001b[39;00m)\n",
      "\u001b[0;31mAttributeError\u001b[0m: 'AsyncChatClient' object has no attribute 'chat'"
     ]
    }
   ],
   "source": [
    "result = await async_client.chat(model=\"ttt\",messages=\"User:Tell me a one paragraph story\",stream=True)\n",
    "async for chunk in result:\n",
    "    print(chunk.extract(),end=\"\",flush=True)"
   ]
  },
  {
   "cell_type": "markdown",
   "metadata": {},
   "source": [
    "### d) Generate"
   ]
  },
  {
   "cell_type": "code",
   "execution_count": 4,
   "metadata": {},
   "outputs": [
    {
     "name": "stdout",
     "output_type": "stream",
     "text": [
      "Once upon a time, in a small village nestled between two great mountains, there lived a young girl named Lila. She was known throughout the village for her extraordinary gift of communicating with animals. One day, a fierce storm swept through the village, causing destruction and chaos. The villagers sought Lila's help to calm the frightened animals and restore peace. With her gentle heart and kind touch, Lila connected with the animals, soothing their fears and calming their nerves. As the storm subsided, the villagers rejoiced, grateful for Lila's extraordinary gift and her unwavering compassion.\n"
     ]
    }
   ],
   "source": [
    "result = chat_client.chat(model=\"ttt\",messages=\"User:Tell me a one paragraph story\",stream=False)\n",
    "print(result.extract()[\"content\"])"
   ]
  },
  {
   "cell_type": "code",
   "execution_count": 4,
   "metadata": {},
   "outputs": [
    {
     "name": "stdout",
     "output_type": "stream",
     "text": [
      "Once upon a time, in a small village nestled between two great mountains, there lived a young girl named Akira. She was known throughout the village for her kindness and generosity, always helping those in need without expecting anything in return. One day, a terrible storm swept through the village, destroying homes and uprooting trees. The villagers were in shock, trying to figure out how to rebuild their lives. Akira knew what she had to do; she gathered her friends and together they started working on rebuilding the houses of their neighbors. They worked tirelessly, day and night, until every house was restored. The villagers were overwhelmed with gratitude for Akira and her friends, and soon the village was thriving once again.\n"
     ]
    }
   ],
   "source": [
    "result = await async_client.chat(model=\"ttt\",messages=\"User:Tell me a one paragraph story\",stream=False)\n",
    "print(result.extract()[\"content\"])"
   ]
  },
  {
   "cell_type": "markdown",
   "metadata": {},
   "source": [
    "### e) Tool Call"
   ]
  },
  {
   "cell_type": "code",
   "execution_count": 4,
   "metadata": {},
   "outputs": [
    {
     "name": "stdout",
     "output_type": "stream",
     "text": [
      "{'type': 'function', 'name': 'google', 'arguments': '{\"search_query\": \"current time in Singapore\"}'}\n"
     ]
    }
   ],
   "source": [
    "result = chat_client.chat(\n",
    "        model=\"ttt\",\n",
    "        messages=[\n",
    "            {\"role\":\"user\",\"content\":\"What is the current time in Singapore?\"},\n",
    "            {\"role\":\"assistant\",\"content\":\"\"}\n",
    "        ],\n",
    "        tool_choice=\"required\",\n",
    "        tools=[\n",
    "            {\n",
    "                \"type\": \"function\",\n",
    "                \"function\": {\n",
    "                    \"name\": \"google\",\n",
    "                    \"description\": \"The 'google' function is a powerful tool that allows the AI to gather external information from the internet using Google search. It can be invoked when the AI needs to answer a question or provide information that requires up-to-date, comprehensive, and diverse sources which are not inherently known by the AI. For instance, it can be used to find current date, current news, weather updates, latest sports scores, trending topics, specific facts, or even the current date and time. The usage of this tool should be considered when the user's query implies or explicitly requests recent or wide-ranging data, or when the AI's inherent knowledge base may not have the required or most current information. The 'search_query' parameter should be a concise and accurate representation of the information needed.\",\n",
    "                    \"parameters\": {\n",
    "                        \"type\": \"object\",\n",
    "                        \"properties\": {\n",
    "                            \"search_query\": {\n",
    "                                \"type\": \"string\",\n",
    "                                \"description\": \"The search query to search google with. For example, to find the current date or time, use 'current date' or 'current time' respectively.\"\n",
    "                            }\n",
    "                        },\n",
    "                        \"required\": [\"search_query\"]\n",
    "                    }\n",
    "                }\n",
    "            }\n",
    "        ],\n",
    "        stream=False)\n",
    "print(result.extract())"
   ]
  },
  {
   "cell_type": "code",
   "execution_count": 5,
   "metadata": {},
   "outputs": [
    {
     "name": "stdout",
     "output_type": "stream",
     "text": [
      "{'type': 'function', 'name': 'google', 'arguments': '{\"search_query\": \"current time in Singapore\"}'}\n"
     ]
    }
   ],
   "source": [
    "result = await async_client.chat(\n",
    "        model=\"ttt\",\n",
    "        messages=[\n",
    "            {\"role\":\"user\",\"content\":\"What is the current time in Singapore?\"},\n",
    "            {\"role\":\"assistant\",\"content\":\"\"}\n",
    "        ],\n",
    "        tool_choice=\"required\",\n",
    "        tools=[\n",
    "            {\n",
    "                \"type\": \"function\",\n",
    "                \"function\": {\n",
    "                    \"name\": \"google\",\n",
    "                    \"description\": \"The 'google' function is a powerful tool that allows the AI to gather external information from the internet using Google search. It can be invoked when the AI needs to answer a question or provide information that requires up-to-date, comprehensive, and diverse sources which are not inherently known by the AI. For instance, it can be used to find current date, current news, weather updates, latest sports scores, trending topics, specific facts, or even the current date and time. The usage of this tool should be considered when the user's query implies or explicitly requests recent or wide-ranging data, or when the AI's inherent knowledge base may not have the required or most current information. The 'search_query' parameter should be a concise and accurate representation of the information needed.\",\n",
    "                    \"parameters\": {\n",
    "                        \"type\": \"object\",\n",
    "                        \"properties\": {\n",
    "                            \"search_query\": {\n",
    "                                \"type\": \"string\",\n",
    "                                \"description\": \"The search query to search google with. For example, to find the current date or time, use 'current date' or 'current time' respectively.\"\n",
    "                            }\n",
    "                        },\n",
    "                        \"required\": [\"search_query\"]\n",
    "                    }\n",
    "                }\n",
    "            }\n",
    "        ],\n",
    "        stream=False)\n",
    "print(result.extract())"
   ]
  },
  {
   "cell_type": "markdown",
   "metadata": {},
   "source": [
    "### f) Structured Output"
   ]
  },
  {
   "cell_type": "code",
   "execution_count": 5,
   "metadata": {},
   "outputs": [
    {
     "name": "stderr",
     "output_type": "stream",
     "text": [
      "/tmp/ipykernel_96508/2285534030.py:20: PydanticDeprecatedSince20: The `schema` method is deprecated; use `model_json_schema` instead. Deprecated in Pydantic V2.0 to be removed in V3.0. See Pydantic V2 Migration Guide at https://errors.pydantic.dev/2.11/migration/\n",
      "  json_schema=Book.schema(),\n"
     ]
    },
    {
     "name": "stdout",
     "output_type": "stream",
     "text": [
      "{\n",
      "  \"title\": \"Foundation\",\n",
      "  \"summary\": \"Foundation is a science fiction novel by American writer Isaac Asimov. It is the first published in his Foundation Trilogy (later expanded into the Foundation series). Foundation is a cycle of five interrelated short stories, first published as a single book by Gnome Press in 1951. Collectively they tell the early story of the Foundation, an institute founded by psychohistorian Hari Seldon to preserve the best of galactic civilization after the collapse of the Galactic Empire.\",\n",
      "  \"author\": \"Isaac Asimov\",\n",
      "  \"published_year\": 1951\n",
      "}\n"
     ]
    }
   ],
   "source": [
    "from pydantic import BaseModel\n",
    "class Book(BaseModel):\n",
    "    title: str\n",
    "    summary: str\n",
    "    author: str\n",
    "    published_year: int\n",
    "\n",
    "text = \"\"\"Foundation is a science fiction novel by American writer\n",
    "Isaac Asimov. It is the first published in his Foundation Trilogy (later\n",
    "expanded into the Foundation series). Foundation is a cycle of five\n",
    "interrelated short stories, first published as a single book by Gnome Press\n",
    "in 1951. Collectively they tell the early story of the Foundation,\n",
    "an institute founded by psychohistorian Hari Seldon to preserve the best\n",
    "of galactic civilization after the collapse of the Galactic Empire.\n",
    "\"\"\"\n",
    "\n",
    "result = chat_client.chat(\n",
    "    model=\"ttt\",\n",
    "    messages=[{'role':'user','content':text},{'role':'assistant','content':''}], \n",
    "    json_schema=Book.schema(),\n",
    "    stream=False)\n",
    "print(result.extract()[\"content\"])"
   ]
  },
  {
   "cell_type": "code",
   "execution_count": 7,
   "metadata": {},
   "outputs": [
    {
     "name": "stderr",
     "output_type": "stream",
     "text": [
      "/tmp/ipykernel_7977/1987867710.py:20: PydanticDeprecatedSince20: The `schema` method is deprecated; use `model_json_schema` instead. Deprecated in Pydantic V2.0 to be removed in V3.0. See Pydantic V2 Migration Guide at https://errors.pydantic.dev/2.11/migration/\n",
      "  json_schema=Book.schema(),\n"
     ]
    },
    {
     "name": "stdout",
     "output_type": "stream",
     "text": [
      "{\n",
      "  \"title\": \"Foundation\",\n",
      "  \"summary\": \"Foundation is a science fiction novel by American writer Isaac Asimov. It is the first published in his Foundation Trilogy (later expanded into the Foundation series). Foundation is a cycle of five interrelated short stories, first published as a single book by Gnome Press in 1951. Collectively they tell the early story of the Foundation, an institute founded by psychohistorian Hari Seldon to preserve the best of galactic civilization after the collapse of the Galactic Empire.\",\n",
      "  \"author\": \"Isaac Asimov\",\n",
      "  \"published_year\": 1951\n",
      "}\n"
     ]
    }
   ],
   "source": [
    "from pydantic import BaseModel\n",
    "class Book(BaseModel):\n",
    "    title: str\n",
    "    summary: str\n",
    "    author: str\n",
    "    published_year: int\n",
    "\n",
    "text = \"\"\"Foundation is a science fiction novel by American writer\n",
    "Isaac Asimov. It is the first published in his Foundation Trilogy (later\n",
    "expanded into the Foundation series). Foundation is a cycle of five\n",
    "interrelated short stories, first published as a single book by Gnome Press\n",
    "in 1951. Collectively they tell the early story of the Foundation,\n",
    "an institute founded by psychohistorian Hari Seldon to preserve the best\n",
    "of galactic civilization after the collapse of the Galactic Empire.\n",
    "\"\"\"\n",
    "\n",
    "result = await async_client.chat(\n",
    "    model=\"ttt\",\n",
    "    messages=[{'role':'user','content':text},{'role':'assistant','content':''}], \n",
    "    json_schema=Book.schema(),\n",
    "    stream=False)\n",
    "print(result.extract()[\"content\"])"
   ]
  }
 ],
 "metadata": {
  "kernelspec": {
   "display_name": ".venv",
   "language": "python",
   "name": "python3"
  },
  "language_info": {
   "codemirror_mode": {
    "name": "ipython",
    "version": 3
   },
   "file_extension": ".py",
   "mimetype": "text/x-python",
   "name": "python",
   "nbconvert_exporter": "python",
   "pygments_lexer": "ipython3",
   "version": "3.10.18"
  }
 },
 "nbformat": 4,
 "nbformat_minor": 2
}
