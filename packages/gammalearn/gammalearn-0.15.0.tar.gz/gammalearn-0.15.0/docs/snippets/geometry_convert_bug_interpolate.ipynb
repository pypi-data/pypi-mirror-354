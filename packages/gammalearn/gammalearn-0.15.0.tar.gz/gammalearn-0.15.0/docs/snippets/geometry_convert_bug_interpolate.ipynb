{
 "cells": [
  {
   "cell_type": "markdown",
   "id": "dff2b339",
   "metadata": {},
   "source": [
    "# Dealing with camera geometries in GammaLearn and for LST-1"
   ]
  },
  {
   "cell_type": "markdown",
   "id": "6f483328",
   "metadata": {},
   "source": [
    "The camera geometry is naturally different in MC and real data.\n",
    "\n",
    "While the real data geometry is now dealt with in `ctapipe_io_lst` during data reading, differences remain that lead to wrong reconstruction.\n",
    "\n",
    "Here is a summary done for a bugfix in June  2023."
   ]
  },
  {
   "cell_type": "code",
   "execution_count": null,
   "id": "1e063cf6",
   "metadata": {},
   "outputs": [],
   "source": [
    "import ctapipe\n",
    "\n",
    "print(f\"ctapipe version {ctapipe.__version__}\")"
   ]
  },
  {
   "cell_type": "code",
   "execution_count": null,
   "id": "7d3e2026",
   "metadata": {},
   "outputs": [],
   "source": [
    "import numpy as np\n",
    "from ctapipe.instrument import CameraGeometry, SubarrayDescription\n",
    "from ctapipe.visualization import CameraDisplay"
   ]
  },
  {
   "cell_type": "code",
   "execution_count": null,
   "id": "72a5d99e",
   "metadata": {},
   "outputs": [],
   "source": [
    "# dl1_mc_path = \"/Users/thomasvuillaume/Work/CTA/Data/DL1/20210923_v0.7.5_prod5_trans_80_dynamic_cleaning/dl1_gamma_20deg_180deg_run202___cta-prod5-lapalma_4LSTs_MAGIC_desert-2158m_mono_off0.4.h5\"\n",
    "# dl1_real_data_path = \"/Users/thomasvuillaume/Work/CTA/Data/LST1/dl1_LST-1.Run09704.0000.h5\"\n",
    "\n",
    "dl1_mc_path = \"../../share/data/MC_data/dl1_gamma_example.h5\"\n",
    "dl1_real_data_path = \"../../share/data/real_data/dl1_realdata_example.h5\"\n"
   ]
  },
  {
   "cell_type": "code",
   "execution_count": null,
   "id": "2942f61f",
   "metadata": {},
   "outputs": [],
   "source": [
    "def read_camera_geometry(filename):\n",
    "    return SubarrayDescription.from_hdf(filename).tel[1].camera.geometry"
   ]
  },
  {
   "cell_type": "code",
   "execution_count": null,
   "id": "e4aa7b1f",
   "metadata": {},
   "outputs": [],
   "source": [
    "mc_geom = read_camera_geometry(dl1_mc_path)"
   ]
  },
  {
   "cell_type": "code",
   "execution_count": null,
   "id": "bf803090",
   "metadata": {},
   "outputs": [],
   "source": [
    "real_geom = read_camera_geometry(dl1_real_data_path)"
   ]
  },
  {
   "cell_type": "markdown",
   "id": "064ea992",
   "metadata": {},
   "source": [
    "## Creating a fake image"
   ]
  },
  {
   "cell_type": "code",
   "execution_count": null,
   "id": "460a333f",
   "metadata": {},
   "outputs": [],
   "source": [
    "import astropy.units as u\n",
    "from ctapipe.image import toymodel\n",
    "\n",
    "model = toymodel.Gaussian(\n",
    "    x=0.2 * u.m,\n",
    "    y=0.0 * u.m,\n",
    "    width=0.05 * u.m,\n",
    "    length=0.15 * u.m,\n",
    "    psi=\"35d\",\n",
    ")\n",
    "\n",
    "image, sig, bg = model.generate_image(mc_geom, intensity=1500, nsb_level_pe=10)"
   ]
  },
  {
   "cell_type": "code",
   "execution_count": null,
   "id": "744df3cb",
   "metadata": {},
   "outputs": [],
   "source": []
  },
  {
   "cell_type": "markdown",
   "id": "b9bd447d",
   "metadata": {},
   "source": [
    "## Display images"
   ]
  },
  {
   "cell_type": "code",
   "execution_count": null,
   "id": "8f63d883",
   "metadata": {},
   "outputs": [],
   "source": [
    "import matplotlib.pyplot as plt"
   ]
  },
  {
   "cell_type": "code",
   "execution_count": null,
   "id": "38cd4cdf",
   "metadata": {},
   "outputs": [],
   "source": [
    "fig, axes = plt.subplots(1, 2, figsize=(10, 5))\n",
    "CameraDisplay(mc_geom, image, ax=axes[0])\n",
    "CameraDisplay(real_geom, image, ax=axes[1])"
   ]
  },
  {
   "cell_type": "markdown",
   "id": "1a7eaf5f",
   "metadata": {},
   "source": [
    "Both display look identical.\n",
    "\n",
    "However, there are differences in the geometries in the camera rotation and pixels positions:"
   ]
  },
  {
   "cell_type": "code",
   "execution_count": null,
   "id": "2a943aca",
   "metadata": {},
   "outputs": [],
   "source": [
    "mc_geom"
   ]
  },
  {
   "cell_type": "code",
   "execution_count": null,
   "id": "74d68567",
   "metadata": {},
   "outputs": [],
   "source": [
    "print(\"Pixels positions are equal?\")\n",
    "print(np.allclose(mc_geom.pix_x - real_geom.pix_x, 0, atol=1e-5) & np.allclose(mc_geom.pix_y - real_geom.pix_y, 0, atol=1e-5))\n",
    "\n",
    "print(\"Pixels rotation angles:\")\n",
    "print(mc_geom.pix_rotation, real_geom.pix_rotation)"
   ]
  },
  {
   "cell_type": "markdown",
   "id": "5b3d3331",
   "metadata": {},
   "source": [
    "## Interpolating images with dl1_data_handler"
   ]
  },
  {
   "cell_type": "code",
   "execution_count": null,
   "id": "d535219e",
   "metadata": {},
   "outputs": [],
   "source": [
    "from copy import deepcopy\n",
    "from dl1_data_handler.image_mapper import ImageMapper\n",
    "\n",
    "\n",
    "def interpolate_image(geom, image, rotate=True):\n",
    "    # The geometry needs to be rotated for the interpolation to work\n",
    "    geom_ = deepcopy(geom)\n",
    "    if rotate:\n",
    "        geom_.rotate(geom_.pix_rotation)\n",
    "\n",
    "    image_mapper = ImageMapper(\n",
    "        pixel_positions={geom_.name: np.array([geom_.pix_x.to_value(u.m), geom_.pix_y.to_value(u.m)])},\n",
    "        camera_types=[geom_.name],\n",
    "        mapping_method={geom_.name: \"bilinear_interpolation\"},\n",
    "        interpolation_image_shape={geom_.name: (55, 55, 1)},\n",
    "    )\n",
    "\n",
    "    interpolated_image = image_mapper.map_image(image.reshape(-1, 1), geom.name)\n",
    "    return interpolated_image"
   ]
  },
  {
   "cell_type": "code",
   "execution_count": null,
   "id": "b0cddf1c",
   "metadata": {},
   "outputs": [],
   "source": [
    "mc_interpolated_image = interpolate_image(mc_geom, image)\n",
    "real_interpolated_image = interpolate_image(real_geom, image)"
   ]
  },
  {
   "cell_type": "code",
   "execution_count": null,
   "id": "e77fcffc",
   "metadata": {},
   "outputs": [],
   "source": [
    "fig, axes = plt.subplots(1, 2, figsize=(10, 5))\n",
    "axes[0].imshow(mc_interpolated_image)\n",
    "axes[1].imshow(real_interpolated_image)"
   ]
  },
  {
   "cell_type": "markdown",
   "id": "868d6128",
   "metadata": {},
   "source": [
    "### Without rotation"
   ]
  },
  {
   "cell_type": "code",
   "execution_count": null,
   "id": "3483affc",
   "metadata": {},
   "outputs": [],
   "source": [
    "mc_interpolated_image = interpolate_image(mc_geom, image, False)\n",
    "real_interpolated_image = interpolate_image(real_geom, image, False)\n",
    "\n",
    "fig, axes = plt.subplots(1, 2, figsize=(10, 5))\n",
    "axes[0].imshow(mc_interpolated_image)\n",
    "axes[1].imshow(real_interpolated_image)"
   ]
  },
  {
   "cell_type": "code",
   "execution_count": null,
   "id": "96d6e4e9",
   "metadata": {},
   "outputs": [],
   "source": []
  },
  {
   "cell_type": "markdown",
   "id": "59a0b216",
   "metadata": {},
   "source": [
    "## Solving the issue by using a fixed standard geometry"
   ]
  },
  {
   "cell_type": "code",
   "execution_count": null,
   "id": "1a227f26",
   "metadata": {},
   "outputs": [],
   "source": [
    "lstcam_geom = CameraGeometry.from_name(\"LSTCam\")"
   ]
  },
  {
   "cell_type": "code",
   "execution_count": null,
   "id": "26cd0b2f",
   "metadata": {},
   "outputs": [],
   "source": [
    "def reorganize_image(source_geom, target_geom, image):\n",
    "    inj_table = source_geom.position_to_pix_index(target_geom.pix_x, target_geom.pix_y)\n",
    "    reorganized_image = image[..., inj_table]\n",
    "    return reorganized_image"
   ]
  },
  {
   "cell_type": "code",
   "execution_count": null,
   "id": "603dddc4",
   "metadata": {},
   "outputs": [],
   "source": [
    "mc_reorganized_image = reorganize_image(mc_geom, lstcam_geom, image)\n",
    "real_reorganized_image = reorganize_image(real_geom, lstcam_geom, image)\n",
    "\n",
    "fig, axes = plt.subplots(1, 2, figsize=(10, 5))\n",
    "CameraDisplay(lstcam_geom, mc_reorganized_image, ax=axes[0])\n",
    "CameraDisplay(lstcam_geom, real_reorganized_image, ax=axes[1])"
   ]
  },
  {
   "cell_type": "code",
   "execution_count": null,
   "id": "a55daeed",
   "metadata": {},
   "outputs": [],
   "source": [
    "mc_interpolated_image = interpolate_image(lstcam_geom, mc_reorganized_image)\n",
    "real_interpolated_image = interpolate_image(lstcam_geom, real_reorganized_image)\n",
    "\n",
    "fig, axes = plt.subplots(1, 2, figsize=(10, 5))\n",
    "axes[0].imshow(mc_interpolated_image)\n",
    "axes[1].imshow(real_interpolated_image)"
   ]
  },
  {
   "cell_type": "code",
   "execution_count": null,
   "id": "73bbf059",
   "metadata": {},
   "outputs": [],
   "source": []
  },
  {
   "cell_type": "markdown",
   "id": "ecd8bd5d",
   "metadata": {},
   "source": [
    "### Note: be mindful to NOT rotate the camera before pixel reorganization:"
   ]
  },
  {
   "cell_type": "code",
   "execution_count": null,
   "id": "4e79728b",
   "metadata": {},
   "outputs": [],
   "source": [
    "lstcam_geom.rotate(lstcam_geom.pix_rotation)\n",
    "mc_geom_ = deepcopy(mc_geom)\n",
    "real_geom_ = deepcopy(real_geom)\n",
    "mc_geom_.rotate(mc_geom_.pix_rotation)\n",
    "real_geom_.rotate(real_geom_.pix_rotation)"
   ]
  },
  {
   "cell_type": "code",
   "execution_count": null,
   "id": "e2520167",
   "metadata": {},
   "outputs": [],
   "source": [
    "fig, axes = plt.subplots(1, 2, figsize=(10, 5))\n",
    "CameraDisplay(mc_geom_, image, ax=axes[0])\n",
    "CameraDisplay(real_geom_, image, ax=axes[1])"
   ]
  },
  {
   "cell_type": "code",
   "execution_count": null,
   "id": "d08c9c21",
   "metadata": {},
   "outputs": [],
   "source": []
  },
  {
   "cell_type": "markdown",
   "id": "ae289f3b",
   "metadata": {},
   "source": [
    "# Test using ctapipe coordinates "
   ]
  },
  {
   "cell_type": "code",
   "execution_count": null,
   "id": "87f37ecf",
   "metadata": {},
   "outputs": [],
   "source": [
    "from ctapipe.coordinates import CameraFrame, EngineeringCameraFrame, TelescopeFrame"
   ]
  },
  {
   "cell_type": "code",
   "execution_count": null,
   "id": "e121a117",
   "metadata": {},
   "outputs": [],
   "source": [
    "fig, axes = plt.subplots(1, 3, figsize=(15, 5))\n",
    "mc_cam_geom = mc_geom.transform_to(CameraFrame())\n",
    "mc_eng_geom = mc_geom.transform_to(EngineeringCameraFrame())\n",
    "mc_tel_geom = mc_geom.transform_to(TelescopeFrame())\n",
    "\n",
    "CameraDisplay(mc_cam_geom, image, ax=axes[0])\n",
    "CameraDisplay(mc_eng_geom, image, ax=axes[1])\n",
    "CameraDisplay(mc_tel_geom, image, ax=axes[2])"
   ]
  },
  {
   "cell_type": "code",
   "execution_count": null,
   "id": "c5ca36cb",
   "metadata": {},
   "outputs": [],
   "source": [
    "fig, axes = plt.subplots(1, 3, figsize=(15, 5))\n",
    "real_cam_geom = real_geom.transform_to(CameraFrame())\n",
    "real_eng_geom = real_geom.transform_to(EngineeringCameraFrame())\n",
    "\n",
    "# Transformation to telescope frame failing\n",
    "# real_tel_geom = real_geom.transform_to(TelescopeFrame())\n",
    "\n",
    "CameraDisplay(real_cam_geom, image, ax=axes[0])\n",
    "CameraDisplay(real_eng_geom, image, ax=axes[1])\n",
    "# CameraDisplay(real_tel_geom, image, ax=axes[2])"
   ]
  },
  {
   "cell_type": "markdown",
   "id": "47565191",
   "metadata": {},
   "source": [
    "## Interpolation"
   ]
  },
  {
   "cell_type": "code",
   "execution_count": null,
   "id": "d43332f2",
   "metadata": {},
   "outputs": [],
   "source": [
    "fig, axes = plt.subplots(1, 3, figsize=(10, 5))\n",
    "\n",
    "for i, geom in enumerate([mc_cam_geom, mc_eng_geom, mc_tel_geom]):\n",
    "    try:\n",
    "        mc_interpolated_image = interpolate_image(geom, image)\n",
    "        axes[i].imshow(mc_interpolated_image)\n",
    "    except:\n",
    "        print(f\"Fail for {i}\")"
   ]
  },
  {
   "cell_type": "code",
   "execution_count": null,
   "id": "b50ded02",
   "metadata": {},
   "outputs": [],
   "source": [
    "fig, axes = plt.subplots(1, 3, figsize=(10, 5))\n",
    "\n",
    "for i, geom in enumerate([real_cam_geom, real_eng_geom, None]):\n",
    "    try:\n",
    "        interpolated_image = interpolate_image(geom, image)\n",
    "        axes[i].imshow(interpolated_image)\n",
    "    except:\n",
    "        print(f\"Fail for {i}\")"
   ]
  },
  {
   "cell_type": "code",
   "execution_count": null,
   "id": "50898328",
   "metadata": {},
   "outputs": [],
   "source": []
  }
 ],
 "metadata": {
  "kernelspec": {
   "display_name": "Python 3",
   "language": "python",
   "name": "python3"
  },
  "language_info": {
   "codemirror_mode": {
    "name": "ipython",
    "version": 3
   },
   "file_extension": ".py",
   "mimetype": "text/x-python",
   "name": "python",
   "nbconvert_exporter": "python",
   "pygments_lexer": "ipython3",
   "version": "3.11.11"
  }
 },
 "nbformat": 4,
 "nbformat_minor": 5
}
