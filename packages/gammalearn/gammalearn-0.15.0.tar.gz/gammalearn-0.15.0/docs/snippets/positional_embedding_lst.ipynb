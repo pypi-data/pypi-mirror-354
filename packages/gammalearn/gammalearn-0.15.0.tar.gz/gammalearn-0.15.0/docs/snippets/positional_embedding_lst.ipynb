{
 "cells": [
  {
   "cell_type": "markdown",
   "id": "c0c747e7-a490-45c8-acb3-0019fd1ec9da",
   "metadata": {},
   "source": [
    "# Positional embedding of the LST Transformer"
   ]
  },
  {
   "cell_type": "code",
   "execution_count": null,
   "id": "099b8f90-f0aa-4d25-b95d-65008b4992ff",
   "metadata": {},
   "outputs": [],
   "source": [
    "import importlib.util\n",
    "from copy import deepcopy\n",
    "\n",
    "import matplotlib.pyplot as plt\n",
    "import numpy as np\n",
    "import seaborn as sns\n",
    "import torch\n",
    "from matplotlib.colors import BASE_COLORS\n",
    "\n",
    "from gammalearn.data.telescope_geometry import inject_geometry_into_parameters\n",
    "from gammalearn.data.LST_data_module import GLearnDataModule\n",
    "from gammalearn.gammalearn_lightning_module import LitGLearnModule\n",
    "from gammalearn.experiment_runner import Experiment\n",
    "\n",
    "sns.set()"
   ]
  },
  {
   "cell_type": "markdown",
   "id": "5236980a-2034-4f40-90fc-ee166abb40d0",
   "metadata": {},
   "source": [
    "### Load experiment setting file, data and model"
   ]
  },
  {
   "cell_type": "code",
   "execution_count": null,
   "id": "550bed83-88d8-4766-aa08-02d2c3852fff",
   "metadata": {},
   "outputs": [],
   "source": [
    "configuration_file = \"../../gammalearn/configuration/examples/experiment_settings_mae_lst.py\"\n",
    "\n",
    "\n",
    "spec = importlib.util.spec_from_file_location(\"settings\", configuration_file)\n",
    "settings = importlib.util.module_from_spec(spec)\n",
    "spec.loader.exec_module(settings)\n",
    "experiment = Experiment(settings)\n",
    "\n",
    "gl_data_module = GLearnDataModule(experiment)\n",
    "gl_data_module.setup()\n",
    "geom = gl_data_module.train_set.dataset.datasets[0].dataset.datasets[0].camera_geometry\n",
    "experiment.net_parameters_dic = inject_geometry_into_parameters(experiment.net_parameters_dic, geom)\n",
    "dataloader = gl_data_module.train_dataloader()\n",
    "\n",
    "gl_lightning_module = LitGLearnModule(experiment)\n",
    "model = gl_lightning_module.net"
   ]
  },
  {
   "cell_type": "code",
   "execution_count": null,
   "id": "dca578a6",
   "metadata": {},
   "outputs": [],
   "source": [
    "def get_number_of_parameters(model):\n",
    "    total_params = 0\n",
    "    for param in model.parameters():\n",
    "        total_params += param.numel()\n",
    "\n",
    "    print(\"Total number of parameters: \", total_params)"
   ]
  },
  {
   "cell_type": "code",
   "execution_count": null,
   "id": "83163bd2",
   "metadata": {},
   "outputs": [],
   "source": [
    "get_number_of_parameters(model)\n",
    "get_number_of_parameters(model.encoder)\n",
    "get_number_of_parameters(model.decoder)"
   ]
  },
  {
   "cell_type": "markdown",
   "id": "f24b9561-6a29-40b1-a641-9523188d3d55",
   "metadata": {},
   "source": [
    "### Plot the position of the pixels from the geometry"
   ]
  },
  {
   "cell_type": "code",
   "execution_count": null,
   "id": "a691b0a0-bda7-4e7d-a5c7-a7a00d9c71cc",
   "metadata": {},
   "outputs": [],
   "source": [
    "x = geom.pix_x.value.astype(np.float32)\n",
    "y = geom.pix_y.value.astype(np.float32)\n",
    "print(x.shape, y.shape)\n",
    "\n",
    "pixel_ids = torch.arange(geom.n_pixels)\n",
    "n_pixels_per_module = 7\n",
    "patch_indices = pixel_ids.view(-1, n_pixels_per_module)\n",
    "\n",
    "print(\"Number of pixels:\", geom.n_pixels)\n",
    "print(patch_indices.shape)\n",
    "print(patch_indices[0])\n",
    "\n",
    "plt.figure(figsize=(5, 5))\n",
    "plt.plot(x, y, \"rx\")"
   ]
  },
  {
   "cell_type": "markdown",
   "id": "2f7472f1-bd0d-42ac-a118-8e6ab4292794",
   "metadata": {},
   "source": [
    "### Check if adjacent pixels correspond to the same module"
   ]
  },
  {
   "cell_type": "code",
   "execution_count": null,
   "id": "0b4c9fc7-8a85-4108-bba4-bd65993873ec",
   "metadata": {},
   "outputs": [],
   "source": [
    "xx = torch.from_numpy(x).view(-1, 7).numpy()\n",
    "yy = torch.from_numpy(y).view(-1, 7).numpy()\n",
    "colors = list(BASE_COLORS.keys())\n",
    "plt.figure(figsize=(5, 5))\n",
    "plt.xlim([-1.5, 1.5])\n",
    "plt.ylim([-1.5, 1.5])\n",
    "for i in range(15):\n",
    "    plt.plot(xx[i, :], yy[i, :], colors[i % len(colors)], marker=\"x\")"
   ]
  },
  {
   "cell_type": "markdown",
   "id": "1eba27fd-1b56-4d86-b78f-999f087c91f9",
   "metadata": {},
   "source": [
    "### Calculate the centroid of each module"
   ]
  },
  {
   "cell_type": "code",
   "execution_count": null,
   "id": "075d7c3d-f78f-4c98-904a-993b81bde2ae",
   "metadata": {},
   "outputs": [],
   "source": [
    "from gammalearn.data.image_processing.patchification import get_centroids_from_patches, get_patch_indices_and_centroids_from_geometry, check_patches\n",
    "patch_centroids = get_centroids_from_patches(patch_indices, geom)\n",
    "print(patch_centroids.shape)\n",
    "\n",
    "plt.figure(figsize=(5, 5))\n",
    "plt.plot(x, y, \"b.\")\n",
    "plt.plot(patch_centroids[:, 0], patch_centroids[:, 1], \"rx\")"
   ]
  },
  {
   "cell_type": "code",
   "execution_count": null,
   "id": "7b59335c-2159-4851-9391-ccdd461309ff",
   "metadata": {},
   "outputs": [],
   "source": [
    "patch_indices, patch_centroids = get_patch_indices_and_centroids_from_geometry(geom)\n",
    "\n",
    "print(patch_centroids.shape)"
   ]
  },
  {
   "cell_type": "code",
   "execution_count": null,
   "id": "0b194b4c-d4b6-4f4d-994b-1ce6593dde9b",
   "metadata": {},
   "outputs": [],
   "source": [
    "check_patches(patch_indices, patch_centroids, geom, width_ratio=1.2)"
   ]
  },
  {
   "cell_type": "markdown",
   "id": "50203e9e-99bb-4de8-841d-5564f5e52cb7",
   "metadata": {},
   "source": [
    "### Centroid rescaling"
   ]
  },
  {
   "cell_type": "code",
   "execution_count": null,
   "id": "7440911a-2fec-47c3-b488-95cb0b0aff9d",
   "metadata": {},
   "outputs": [],
   "source": [
    "centroids = deepcopy(patch_centroids)\n",
    "\n",
    "y_width = np.ptp(centroids[:, 1])\n",
    "ratio = np.sqrt(len(centroids)) / y_width\n",
    "centroids[:, 0] -= centroids[:, 0].min()\n",
    "centroids[:, 1] -= centroids[:, 1].min()\n",
    "centroids *= ratio\n",
    "\n",
    "print(len(centroids), np.sqrt(len(centroids)), y_width, ratio)"
   ]
  },
  {
   "cell_type": "markdown",
   "id": "a425df4e-bead-4626-a155-6f10a04c469f",
   "metadata": {},
   "source": [
    "### Positional embedding"
   ]
  },
  {
   "cell_type": "code",
   "execution_count": null,
   "id": "86b2d653-01fd-4d5b-95ff-844ea77d8576",
   "metadata": {},
   "outputs": [],
   "source": [
    "from gammalearn.nets.positional_embedding import get_2d_sincos_pos_embedding_from_patch_centroids\n",
    "add_pointing = True\n",
    "additional_tokens = experiment.net_parameters_dic[\"parameters\"][\"backbone\"][\"parameters\"][\"add_token_list\"]\n",
    "\n",
    "pos_embed = get_2d_sincos_pos_embedding_from_patch_centroids(\n",
    "    centroids=patch_centroids,\n",
    "    embed_dim=256,\n",
    "    additional_tokens=additional_tokens,\n",
    "    add_pointing=add_pointing,\n",
    ")\n",
    "\n",
    "print(pos_embed.shape)"
   ]
  },
  {
   "cell_type": "code",
   "execution_count": null,
   "id": "64d023bf-8d5d-4a61-9cef-3f9205cab3fe",
   "metadata": {},
   "outputs": [],
   "source": [
    "pos_embed"
   ]
  },
  {
   "cell_type": "code",
   "execution_count": null,
   "id": "0681d93d-433d-4f7d-a898-bc3ca4b92509",
   "metadata": {},
   "outputs": [],
   "source": [
    "plt.figure(figsize=(10, 5))\n",
    "for i in range(20):\n",
    "    plt.plot(pos_embed[i, :])"
   ]
  },
  {
   "cell_type": "code",
   "execution_count": null,
   "id": "ee6d0013-a48b-483f-90d5-a63a01851164",
   "metadata": {},
   "outputs": [],
   "source": [
    "plt.imshow(pos_embed, aspect=\"auto\")"
   ]
  },
  {
   "cell_type": "code",
   "execution_count": null,
   "id": "7130aadc",
   "metadata": {},
   "outputs": [],
   "source": [
    "embed_dim = 256\n",
    "\n",
    "sin_x = torch.sin(torch.mm(centroids[:, 0].unsqueeze(1), torch.tensor([[1 / 10000]]).float()))\n",
    "cos_x = torch.cos(\n",
    "    torch.mm(\n",
    "        centroids[:, 0].unsqueeze(1), torch.tensor([[1]]).float()\n",
    "    )\n",
    ")\n",
    "sin_y = torch.sin(\n",
    "    torch.mm(\n",
    "        centroids[:, 1].unsqueeze(1), torch.tensor([[1]]).float()\n",
    "    )\n",
    ")\n",
    "cos_y = torch.cos(\n",
    "    torch.mm(\n",
    "        centroids[:, 1].unsqueeze(1), torch.tensor([[1]]).float()\n",
    "    )\n",
    ")\n",
    "pos_embed = torch.cat([sin_x, cos_x, sin_y, cos_y], dim=1)"
   ]
  },
  {
   "cell_type": "code",
   "execution_count": null,
   "id": "1dea80c4",
   "metadata": {},
   "outputs": [],
   "source": [
    "pos_embed"
   ]
  },
  {
   "cell_type": "code",
   "execution_count": null,
   "id": "b35f990a",
   "metadata": {},
   "outputs": [],
   "source": []
  }
 ],
 "metadata": {
  "kernelspec": {
   "display_name": "Python 3",
   "language": "python",
   "name": "python3"
  },
  "language_info": {
   "codemirror_mode": {
    "name": "ipython",
    "version": 3
   },
   "file_extension": ".py",
   "mimetype": "text/x-python",
   "name": "python",
   "nbconvert_exporter": "python",
   "pygments_lexer": "ipython3",
   "version": "3.11.11"
  }
 },
 "nbformat": 4,
 "nbformat_minor": 5
}
