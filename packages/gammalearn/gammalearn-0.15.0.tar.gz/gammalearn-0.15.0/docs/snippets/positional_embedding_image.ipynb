{
 "cells": [
  {
   "cell_type": "markdown",
   "id": "4c0a82a1-2222-4e5c-bb6f-52b3e8c81369",
   "metadata": {},
   "source": [
    "# Positional embedding of the Image Transformer"
   ]
  },
  {
   "cell_type": "code",
   "execution_count": null,
   "id": "5923709a-311f-472e-a7e7-40f56e13a39e",
   "metadata": {},
   "outputs": [],
   "source": [
    "import importlib.util\n",
    "\n",
    "import matplotlib.pyplot as plt\n",
    "import seaborn as sns\n",
    "import torch\n",
    "\n",
    "# import gammalearn.utils as utils\n",
    "from gammalearn.data.telescope_geometry import inject_geometry_into_parameters\n",
    "from gammalearn.data.LST_data_module import GLearnDataModule\n",
    "from gammalearn.gammalearn_lightning_module import LitGLearnModule\n",
    "from gammalearn.experiment_runner import Experiment\n",
    "\n",
    "sns.set()"
   ]
  },
  {
   "cell_type": "markdown",
   "id": "81ce66db",
   "metadata": {},
   "source": [
    "### Load experiment setting file, data and model"
   ]
  },
  {
   "cell_type": "code",
   "execution_count": null,
   "id": "f31fc4bf",
   "metadata": {},
   "outputs": [],
   "source": [
    "configuration_file = \"../../gammalearn/configuration/examples/experiment_settings_mae_image.py\"\n",
    "\n",
    "spec = importlib.util.spec_from_file_location(\"settings\", configuration_file)\n",
    "settings = importlib.util.module_from_spec(spec)\n",
    "spec.loader.exec_module(settings)\n",
    "experiment = Experiment(settings)\n",
    "\n",
    "gl_data_module = GLearnDataModule(experiment)\n",
    "gl_data_module.setup()\n",
    "geom = gl_data_module.train_set.dataset.datasets[0].dataset.datasets[0].camera_geometry\n",
    "experiment.net_parameters_dic = inject_geometry_into_parameters(experiment.net_parameters_dic, geom)\n",
    "dataloader = gl_data_module.train_dataloader()\n",
    "\n",
    "gl_lightning_module = LitGLearnModule(experiment)\n",
    "model = gl_lightning_module.net"
   ]
  },
  {
   "cell_type": "code",
   "execution_count": null,
   "id": "8e3a950a",
   "metadata": {},
   "outputs": [],
   "source": [
    "def get_number_of_parameters(model):\n",
    "    total_params = 0\n",
    "    for param in model.parameters():\n",
    "        total_params += param.numel()\n",
    "\n",
    "    print(\"Total number of parameters: \", total_params)"
   ]
  },
  {
   "cell_type": "code",
   "execution_count": null,
   "id": "ad35825d",
   "metadata": {},
   "outputs": [],
   "source": [
    "get_number_of_parameters(model)\n",
    "get_number_of_parameters(model.encoder)\n",
    "get_number_of_parameters(model.decoder)"
   ]
  },
  {
   "cell_type": "markdown",
   "id": "bbaabf3f-31ca-4c15-a827-c4c94ac71abb",
   "metadata": {},
   "source": [
    "### Prototype pixel indices"
   ]
  },
  {
   "cell_type": "code",
   "execution_count": null,
   "id": "7546dd6b-cb95-42d1-8676-46b1b20d9005",
   "metadata": {},
   "outputs": [],
   "source": [
    "image_height = 55\n",
    "image_width = 55\n",
    "patch_size = 11\n",
    "\n",
    "pixel_ids = torch.arange(image_height * image_width)\n",
    "pixel_ids = pixel_ids.view(-1, image_width)\n",
    "print(pixel_ids.shape)\n",
    "pixel_ids"
   ]
  },
  {
   "cell_type": "code",
   "execution_count": null,
   "id": "f523c892-3e92-4685-ba90-a9d71347a5fe",
   "metadata": {},
   "outputs": [],
   "source": [
    "n_patches = (image_height // patch_size) * (image_width // patch_size)\n",
    "n_patches"
   ]
  },
  {
   "cell_type": "code",
   "execution_count": null,
   "id": "f460d5e8-4914-49b9-bae6-eb02cf23cb4b",
   "metadata": {},
   "outputs": [],
   "source": [
    "patch_indices = pixel_ids.unfold(0, patch_size, patch_size).unfold(1, patch_size, patch_size)\n",
    "patch_indices = patch_indices.flatten(start_dim=2)\n",
    "patch_indices = patch_indices.view(n_patches, -1)\n",
    "\n",
    "print(patch_indices.shape)\n",
    "# patch_indices"
   ]
  },
  {
   "cell_type": "markdown",
   "id": "e53d249d-ed02-4732-ac08-a23c0fc6a6f6",
   "metadata": {},
   "source": [
    "### Test pixel indices on real images"
   ]
  },
  {
   "cell_type": "code",
   "execution_count": null,
   "id": "b7b43ef5-149d-478c-9623-706509741969",
   "metadata": {},
   "outputs": [],
   "source": [
    "images = gl_data_module.train_set[0][\"image\"]\n",
    "print(\"images\", images.shape)\n",
    "print(type(images))"
   ]
  },
  {
   "cell_type": "code",
   "execution_count": null,
   "id": "eaf690ee-01d9-4893-9bad-24e47eb30fef",
   "metadata": {},
   "outputs": [],
   "source": [
    "image = images[0]\n",
    "\n",
    "plt.figure(figsize=(10, 10))\n",
    "plt.imshow(image.reshape(55, 55))\n",
    "plt.axis(\"off\")\n",
    "plt.tight_layout()\n",
    "plt.savefig(\"vit_image.png\", dpi=300)"
   ]
  },
  {
   "cell_type": "code",
   "execution_count": null,
   "id": "031385a6-8559-4466-b352-e475bf2a55db",
   "metadata": {},
   "outputs": [],
   "source": [
    "from gammalearn.data.image_processing.patchification import get_patch_indices_and_grid\n",
    "image_size = {\"height\": 55, \"width\": 55}\n",
    "patch_size = 5\n",
    "patch_indices, grid = get_patch_indices_and_grid(image_size, patch_size)\n",
    "print(patch_indices.shape, grid.shape)"
   ]
  },
  {
   "cell_type": "code",
   "execution_count": null,
   "id": "56e714fd",
   "metadata": {},
   "outputs": [],
   "source": [
    "grid"
   ]
  },
  {
   "cell_type": "code",
   "execution_count": null,
   "id": "f328ec07-5ae0-4939-8a90-cae02e93156f",
   "metadata": {},
   "outputs": [],
   "source": [
    "patches = []\n",
    "for indice in patch_indices.tolist():\n",
    "    patches.append(image[indice].reshape(patch_size, patch_size))"
   ]
  },
  {
   "cell_type": "code",
   "execution_count": null,
   "id": "852e1bc0-ab63-494b-be50-01a1e3aef960",
   "metadata": {},
   "outputs": [],
   "source": [
    "n_h, n_w = image_size[\"height\"] // patch_size, image_size[\"width\"] // patch_size\n",
    "vmin = image.min()\n",
    "vmax = image.max()\n",
    "\n",
    "plt.figure(figsize=(10, 10))\n",
    "for i, patch in enumerate(patches):\n",
    "    plt.subplot(n_w, n_h, i + 1)\n",
    "    plt.imshow(patch, vmin=vmin, vmax=vmax)\n",
    "    plt.axis(\"off\")\n",
    "plt.tight_layout()\n",
    "plt.savefig(\"vit_patches.png\", dpi=300)"
   ]
  },
  {
   "cell_type": "markdown",
   "id": "c9510cf6-298a-484c-846c-4541470c349b",
   "metadata": {},
   "source": [
    "### Positional embedding"
   ]
  },
  {
   "cell_type": "code",
   "execution_count": null,
   "id": "25245bf2",
   "metadata": {},
   "outputs": [],
   "source": [
    "from gammalearn.nets.positional_embedding import get_2d_sincos_pos_embedding_from_grid\n",
    "\n",
    "add_pointing = True\n",
    "additional_tokens = experiment.net_parameters_dic[\"parameters\"][\"backbone\"][\"parameters\"][\"add_token_list\"]\n",
    "\n",
    "pos_embed = get_2d_sincos_pos_embedding_from_grid(\n",
    "    grid=grid,\n",
    "    embed_dim=256,\n",
    "    additional_tokens=additional_tokens,\n",
    "    add_pointing=add_pointing,\n",
    ")\n",
    "\n",
    "print(pos_embed.shape)"
   ]
  },
  {
   "cell_type": "code",
   "execution_count": null,
   "id": "f39c9bb1-750a-44f6-91f2-9dde3e58025d",
   "metadata": {},
   "outputs": [],
   "source": [
    "plt.figure(figsize=(10, 5))\n",
    "for i in range(20):\n",
    "    plt.plot(pos_embed[i, :])"
   ]
  },
  {
   "cell_type": "code",
   "execution_count": null,
   "id": "64b04fc4",
   "metadata": {},
   "outputs": [],
   "source": [
    "plt.imshow(pos_embed, aspect=\"auto\")"
   ]
  },
  {
   "cell_type": "code",
   "execution_count": null,
   "id": "15fab853-b454-4978-9b46-748232c1766d",
   "metadata": {},
   "outputs": [],
   "source": [
    "# RuntimeError: Expected 2D (unbatched) or 3D (batched) input to conv1d, but got input of size: [2, 2, 55, 55]"
   ]
  },
  {
   "cell_type": "code",
   "execution_count": null,
   "id": "0cba4e69-5c6c-443b-b801-1c373996b3c4",
   "metadata": {},
   "outputs": [],
   "source": []
  }
 ],
 "metadata": {
  "kernelspec": {
   "display_name": "Python 3",
   "language": "python",
   "name": "python3"
  },
  "language_info": {
   "codemirror_mode": {
    "name": "ipython",
    "version": 3
   },
   "file_extension": ".py",
   "mimetype": "text/x-python",
   "name": "python",
   "nbconvert_exporter": "python",
   "pygments_lexer": "ipython3",
   "version": "3.11.11"
  }
 },
 "nbformat": 4,
 "nbformat_minor": 5
}
