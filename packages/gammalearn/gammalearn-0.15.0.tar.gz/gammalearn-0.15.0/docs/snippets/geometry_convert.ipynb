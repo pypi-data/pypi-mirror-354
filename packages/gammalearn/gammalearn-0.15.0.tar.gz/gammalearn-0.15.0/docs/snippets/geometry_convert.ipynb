{
 "cells": [
  {
   "cell_type": "markdown",
   "metadata": {},
   "source": [
    "# Hexagonal geometry to indexed matrix\n",
    "Using ctapipe geometry"
   ]
  },
  {
   "cell_type": "code",
   "execution_count": null,
   "metadata": {},
   "outputs": [],
   "source": [
    "import ctapipe\n",
    "\n",
    "print(ctapipe.__version__)"
   ]
  },
  {
   "cell_type": "code",
   "execution_count": null,
   "metadata": {},
   "outputs": [],
   "source": [
    "from copy import deepcopy\n",
    "import matplotlib.pyplot as plt\n",
    "import numpy as np\n",
    "from ctapipe.instrument import CameraGeometry\n",
    "from ctapipe.visualization import CameraDisplay\n",
    "\n",
    "from gammalearn.data.telescope_geometry import get_index_matrix_from_geom"
   ]
  },
  {
   "cell_type": "code",
   "execution_count": null,
   "metadata": {},
   "outputs": [],
   "source": [
    "def side_by_side_viz(geom, index_matrix, add_indices=False):\n",
    "    fig, axes = plt.subplots(1, 2, figsize=(20, 10))\n",
    "\n",
    "    display = CameraDisplay(geom, geom.pix_id, ax=axes[0])\n",
    "    display.add_colorbar()\n",
    "\n",
    "    axes[1].imshow(index_matrix)\n",
    "\n",
    "    if add_indices:\n",
    "        for i in geom.pix_id:\n",
    "            axes[0].text(geom.pix_x[i].value, geom.pix_y[i].value, str(i))\n",
    "\n",
    "        for i in range(index_matrix.shape[0]):\n",
    "            for j in range(index_matrix.shape[1]):\n",
    "                axes[1].text(j, i, str(index_matrix[i, j]))\n",
    "\n",
    "    return axes"
   ]
  },
  {
   "cell_type": "code",
   "execution_count": null,
   "metadata": {},
   "outputs": [],
   "source": [
    "lstgeom1 = CameraGeometry.from_name(\"LSTCam\")\n",
    "\n",
    "for lst_geom in [lstgeom1]:\n",
    "    idx_matrix = get_index_matrix_from_geom(lst_geom)\n",
    "    side_by_side_viz(lst_geom, idx_matrix)\n",
    "    plt.show()"
   ]
  },
  {
   "cell_type": "code",
   "execution_count": null,
   "metadata": {},
   "outputs": [],
   "source": []
  },
  {
   "cell_type": "markdown",
   "metadata": {},
   "source": [
    "## Test geometries"
   ]
  },
  {
   "cell_type": "code",
   "execution_count": null,
   "metadata": {},
   "outputs": [],
   "source": [
    "import astropy.units as u"
   ]
  },
  {
   "cell_type": "markdown",
   "metadata": {},
   "source": [
    "### Hexa1\n",
    "\n",
    "```\n",
    "    0\n",
    "5       1\n",
    "|   6   |\n",
    "4       2\n",
    "    3\n",
    "```"
   ]
  },
  {
   "cell_type": "code",
   "execution_count": null,
   "metadata": {},
   "outputs": [],
   "source": [
    "pix_id = np.arange(0, 7)\n",
    "short_dist = np.sqrt(3) / 2\n",
    "pix_x = np.array([0, short_dist, short_dist, 0, -short_dist, -short_dist, 0]) * u.m\n",
    "pix_y = np.array([1, 1 / 2, -1 / 2, -1, -1 / 2, 1 / 2, 0]) * u.m\n",
    "\n",
    "pix_area = np.zeros(7) * u.m**2\n",
    "neighbors = [[pix_id[i - 1], pix_id[i + 1], 6] for i in range(len(pix_id) - 2)]\n",
    "neighbors[0] = [5, 1, 6]\n",
    "neighbors.append([0, 1, 2, 3, 4, 5])"
   ]
  },
  {
   "cell_type": "code",
   "execution_count": null,
   "metadata": {},
   "outputs": [],
   "source": [
    "test_hex = CameraGeometry(\"test_hex\", pix_id, pix_x, pix_y, pix_area, \"hexagonal\", neighbors=neighbors)\n",
    "test_hex"
   ]
  },
  {
   "cell_type": "code",
   "execution_count": null,
   "metadata": {},
   "outputs": [],
   "source": [
    "test_hex.pixel_width = np.ones_like(test_hex.pix_x)\n",
    "test_hex.pix_rotation = lstgeom1.pix_rotation * 2.6"
   ]
  },
  {
   "cell_type": "code",
   "execution_count": null,
   "metadata": {},
   "outputs": [],
   "source": [
    "CameraDisplay(test_hex, test_hex.pix_id)"
   ]
  },
  {
   "cell_type": "code",
   "execution_count": null,
   "metadata": {},
   "outputs": [],
   "source": [
    "test_idx_mat = get_index_matrix_from_geom(test_hex)\n",
    "test_idx_mat"
   ]
  },
  {
   "cell_type": "code",
   "execution_count": null,
   "metadata": {},
   "outputs": [],
   "source": [
    "side_by_side_viz(test_hex, test_idx_mat, add_indices=True)"
   ]
  },
  {
   "cell_type": "code",
   "execution_count": null,
   "metadata": {},
   "outputs": [],
   "source": []
  },
  {
   "cell_type": "markdown",
   "metadata": {},
   "source": [
    "## Hexa 2"
   ]
  },
  {
   "cell_type": "code",
   "execution_count": null,
   "metadata": {},
   "outputs": [],
   "source": [
    "minihex = deepcopy(lstgeom1)\n",
    "minihex.camera_name = \"minihex\""
   ]
  },
  {
   "cell_type": "code",
   "execution_count": null,
   "metadata": {},
   "outputs": [],
   "source": [
    "minihex.n_pixels = 7\n",
    "minihex.pix_x = minihex.pix_x[:7]\n",
    "minihex.pix_y = minihex.pix_y[:7]\n",
    "minihex.neighbors = minihex.neighbors[:7]\n",
    "minihex.pix_id = minihex.pix_id[:7]\n",
    "minihex.pixel_width = minihex.pixel_width[:7]"
   ]
  },
  {
   "cell_type": "code",
   "execution_count": null,
   "metadata": {},
   "outputs": [],
   "source": [
    "# correct the neighbors\n",
    "pix_id = minihex.pix_id\n",
    "minihex.neighbors[1:] = [[0, pix_id[i - 1], pix_id[i + 1]] for i in range(1, len(pix_id) - 1)]\n",
    "minihex.neighbors[1] = [0, 6, 2]\n",
    "minihex.neighbors"
   ]
  },
  {
   "cell_type": "code",
   "execution_count": null,
   "metadata": {},
   "outputs": [],
   "source": [
    "display = CameraDisplay(minihex, minihex.pix_id)\n",
    "display.add_colorbar()"
   ]
  },
  {
   "cell_type": "code",
   "execution_count": null,
   "metadata": {},
   "outputs": [],
   "source": [
    "minihex_index_mat = get_index_matrix_from_geom(minihex)\n",
    "minihex_index_mat"
   ]
  },
  {
   "cell_type": "code",
   "execution_count": null,
   "metadata": {},
   "outputs": [],
   "source": [
    "side_by_side_viz(minihex, minihex_index_mat, add_indices=True)"
   ]
  },
  {
   "cell_type": "code",
   "execution_count": null,
   "metadata": {},
   "outputs": [],
   "source": []
  },
  {
   "cell_type": "markdown",
   "metadata": {},
   "source": [
    "## Hexa 3"
   ]
  },
  {
   "cell_type": "markdown",
   "metadata": {},
   "source": [
    "Hexa:\n",
    "\n",
    "```\n",
    "    0\n",
    "1       2\n",
    "|   3   |\n",
    "4       5\n",
    "    6\n",
    "```\n",
    "\n",
    "Square:\n",
    "```\n",
    " 0   1  -1\n",
    " 2   3   4\n",
    "-1   5   6\n",
    "```"
   ]
  },
  {
   "cell_type": "code",
   "execution_count": null,
   "metadata": {},
   "outputs": [],
   "source": [
    "minihex = deepcopy(lstgeom1)\n",
    "minihex.camera_name = \"minihex\"\n",
    "\n",
    "minihex.n_pixels = 7\n",
    "minihex.pix_x = 0.05 * np.array([0, -short_dist, short_dist, 0, -short_dist, short_dist, 0]) * u.m\n",
    "minihex.pix_y = 0.05 * np.array([1, 1 / 2, 1 / 2, 0, -1 / 2, -1 / 2, -1]) * u.m\n",
    "minihex.pix_rotation *= 2.7\n",
    "\n",
    "\n",
    "minihex.neighbors = minihex.neighbors[:7]\n",
    "minihex.pix_id = minihex.pix_id[:7]\n",
    "minihex.pixel_width = minihex.pixel_width[:7]\n",
    "\n",
    "# correct the neighbors\n",
    "minihex.neighbors = [\n",
    "    [1, 2, 3],\n",
    "    [0, 3, 4],\n",
    "    [0, 3, 5],\n",
    "    [0, 1, 2, 4, 5, 6],\n",
    "    [1, 3, 6],\n",
    "    [2, 3, 6],\n",
    "    [4, 3, 5],\n",
    "]\n",
    "\n",
    "\n",
    "display = CameraDisplay(minihex, minihex.pix_id)\n",
    "display.add_colorbar()\n",
    "for i in minihex.pix_id:\n",
    "    plt.text(minihex.pix_x[i].value, minihex.pix_y[i].value, str(i))"
   ]
  },
  {
   "cell_type": "code",
   "execution_count": null,
   "metadata": {},
   "outputs": [],
   "source": [
    "minihex_idx_mat = get_index_matrix_from_geom(minihex)\n",
    "minihex_idx_mat"
   ]
  },
  {
   "cell_type": "code",
   "execution_count": null,
   "metadata": {},
   "outputs": [],
   "source": [
    "side_by_side_viz(minihex, minihex_idx_mat, add_indices=True)"
   ]
  },
  {
   "cell_type": "code",
   "execution_count": null,
   "metadata": {},
   "outputs": [],
   "source": []
  },
  {
   "cell_type": "markdown",
   "metadata": {},
   "source": [
    "### Hexa 4:\n",
    "\n",
    "```\n",
    "  0   1\n",
    "  \n",
    "2   3   4 \n",
    "\n",
    "  5   6\n",
    "```\n",
    "\n",
    "Square:\n",
    "```\n",
    " 0   1  -1\n",
    " 2   3   4\n",
    "-1   5   6\n",
    "```"
   ]
  },
  {
   "cell_type": "code",
   "execution_count": null,
   "metadata": {},
   "outputs": [],
   "source": [
    "minihex = deepcopy(lstgeom1)\n",
    "minihex.camera_name = \"minihex\"\n",
    "\n",
    "minihex.n_pixels = 7\n",
    "minihex.pix_x = 0.05 * np.array([-1 / 2, 1 / 2, -1, 0, 1, -1 / 2, 1 / 2]) * u.m\n",
    "minihex.pix_y = 0.05 * np.array([short_dist, short_dist, 0, 0, 0, -short_dist, -short_dist]) * u.m\n",
    "minihex.pix_rotation *= 0\n",
    "\n",
    "\n",
    "minihex.neighbors = minihex.neighbors[:7]\n",
    "minihex.pix_id = minihex.pix_id[:7]\n",
    "minihex.pixel_width = minihex.pixel_width[:7]\n",
    "\n",
    "# correct the neighbors\n",
    "minihex.neighbors = [\n",
    "    [1, 2, 3],\n",
    "    [0, 3, 4],\n",
    "    [0, 3, 5],\n",
    "    [0, 1, 2, 4, 5, 6],\n",
    "    [1, 3, 6],\n",
    "    [2, 3, 6],\n",
    "    [4, 3, 5],\n",
    "]\n",
    "\n",
    "\n",
    "display = CameraDisplay(minihex, minihex.pix_id)\n",
    "display.add_colorbar()"
   ]
  },
  {
   "cell_type": "code",
   "execution_count": null,
   "metadata": {},
   "outputs": [],
   "source": [
    "idx_mat = get_index_matrix_from_geom(minihex)\n",
    "idx_mat"
   ]
  },
  {
   "cell_type": "code",
   "execution_count": null,
   "metadata": {},
   "outputs": [],
   "source": [
    "side_by_side_viz(minihex, idx_mat, add_indices=True)"
   ]
  },
  {
   "cell_type": "markdown",
   "metadata": {},
   "source": [
    "## Hexa with two rows"
   ]
  },
  {
   "cell_type": "markdown",
   "metadata": {},
   "source": [
    "Hexa:\n",
    "\n",
    "```\n",
    "\n",
    "     0   1   2\n",
    "  \n",
    "   3   4   5   6\n",
    "\n",
    "  7  8   9  10  11\n",
    "  \n",
    "    12 13  14  15\n",
    "     \n",
    "      16 17 18\n",
    "```\n",
    "\n",
    "Square:\n",
    "```\n",
    " 0   1   2  -1  -1\n",
    " \n",
    " 3   4   5   6  -1\n",
    " \n",
    " 7   8   9  10  11\n",
    " \n",
    "-1  12  13  14  15\n",
    "\n",
    "-1  -1  16  17  18\n",
    "```"
   ]
  },
  {
   "cell_type": "code",
   "execution_count": null,
   "metadata": {},
   "outputs": [],
   "source": [
    "minihex = deepcopy(lstgeom1)\n",
    "minihex.camera_name = \"minihex\"\n",
    "\n",
    "minihex.n_pixels = 19\n",
    "minihex.pix_x = (\n",
    "    0.05\n",
    "    * np.array(\n",
    "        [\n",
    "            -1,\n",
    "            0,\n",
    "            1,\n",
    "            -1.5,\n",
    "            -0.5,\n",
    "            0.5,\n",
    "            1.5,\n",
    "            -2,\n",
    "            -1,\n",
    "            0,\n",
    "            1,\n",
    "            2,\n",
    "            -1.5,\n",
    "            -0.5,\n",
    "            0.5,\n",
    "            1.5,\n",
    "            -1,\n",
    "            0,\n",
    "            1,\n",
    "        ]\n",
    "    )\n",
    "    * u.m\n",
    ")\n",
    "\n",
    "minihex.pix_y = (\n",
    "    0.05\n",
    "    * np.array(\n",
    "        [\n",
    "            2 * short_dist,\n",
    "            2 * short_dist,\n",
    "            2 * short_dist,\n",
    "            short_dist,\n",
    "            short_dist,\n",
    "            short_dist,\n",
    "            short_dist,\n",
    "            0,\n",
    "            0,\n",
    "            0,\n",
    "            0,\n",
    "            0,\n",
    "            -short_dist,\n",
    "            -short_dist,\n",
    "            -short_dist,\n",
    "            -short_dist,\n",
    "            -2 * short_dist,\n",
    "            -2 * short_dist,\n",
    "            -2 * short_dist,\n",
    "        ]\n",
    "    )\n",
    "    * u.m\n",
    ")\n",
    "\n",
    "minihex.pix_rotation *= 0\n",
    "\n",
    "\n",
    "minihex.neighbors = minihex.neighbors[: minihex.n_pixels]\n",
    "minihex.pix_id = minihex.pix_id[: minihex.n_pixels]\n",
    "minihex.pixel_width = minihex.pixel_width[: minihex.n_pixels]\n",
    "\n",
    "# correct the neighbors\n",
    "minihex.neighbors = [\n",
    "    [1, 3, 4],\n",
    "    [0, 4, 5, 2],\n",
    "    [1, 5, 6],\n",
    "    [0, 4, 7, 8],\n",
    "    [0, 1, 5, 9, 8, 3],\n",
    "    [1, 2, 6, 10, 9, 4],\n",
    "    [2, 5, 10, 11],\n",
    "    [7, 8, 12],\n",
    "    [3, 4, 9, 13, 12, 7],\n",
    "    [4, 5, 10, 14, 13, 8],\n",
    "    [5, 6, 11, 15, 14, 9],\n",
    "    [6, 10, 15],\n",
    "    [7, 8, 13, 16],\n",
    "    [8, 9, 14, 17, 16, 12],\n",
    "    [9, 10, 15, 18, 17, 13],\n",
    "    [10, 11, 14, 18],\n",
    "    [12, 13, 17],\n",
    "    [13, 14, 16, 18],\n",
    "    [14, 15, 17],\n",
    "]\n",
    "\n",
    "\n",
    "display = CameraDisplay(minihex, minihex.pix_id)\n",
    "display.add_colorbar()"
   ]
  },
  {
   "cell_type": "code",
   "execution_count": null,
   "metadata": {},
   "outputs": [],
   "source": [
    "idx_mat = get_index_matrix_from_geom(minihex)\n",
    "idx_mat"
   ]
  },
  {
   "cell_type": "code",
   "execution_count": null,
   "metadata": {},
   "outputs": [],
   "source": [
    "side_by_side_viz(minihex, idx_mat, add_indices=True)\n",
    "plt.savefig(\"pixels_orga.png\")"
   ]
  },
  {
   "cell_type": "code",
   "execution_count": null,
   "metadata": {},
   "outputs": [],
   "source": []
  }
 ],
 "metadata": {
  "kernelspec": {
   "display_name": "Python 3",
   "language": "python",
   "name": "python3"
  },
  "language_info": {
   "codemirror_mode": {
    "name": "ipython",
    "version": 3
   },
   "file_extension": ".py",
   "mimetype": "text/x-python",
   "name": "python",
   "nbconvert_exporter": "python",
   "pygments_lexer": "ipython3",
   "version": "3.11.11"
  }
 },
 "nbformat": 4,
 "nbformat_minor": 4
}
