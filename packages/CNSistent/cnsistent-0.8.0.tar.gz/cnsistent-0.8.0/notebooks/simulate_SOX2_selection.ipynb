{
 "cells": [
  {
   "cell_type": "code",
   "execution_count": 18,
   "metadata": {},
   "outputs": [
    {
     "name": "stdout",
     "output_type": "stream",
     "text": [
      "The autoreload extension is already loaded. To reload it, use:\n",
      "  %reload_ext autoreload\n"
     ]
    }
   ],
   "source": [
    "# auto reload modules\n",
    "%load_ext autoreload\n",
    "%autoreload 2"
   ]
  },
  {
   "cell_type": "code",
   "execution_count": null,
   "metadata": {},
   "outputs": [],
   "source": [
    "import random\n",
    "import numpy as np\n",
    "import pandas as pd\n",
    "import matplotlib.pyplot as plt\n",
    "import cns\n",
    "import cns.data_utils as cdu"
   ]
  },
  {
   "cell_type": "code",
   "execution_count": 20,
   "metadata": {},
   "outputs": [],
   "source": [
    "plt.rcParams.update({'font.size': 12})"
   ]
  },
  {
   "cell_type": "code",
   "execution_count": 21,
   "metadata": {},
   "outputs": [],
   "source": [
    "cosmic_genes = cdu.load_COSMIC()\n",
    "gene_start, gene_end = [(g_start, g_end) for g_start, g_end, g_name in cosmic_genes[\"chr3\"] if g_name == \"SOX2\"][0]\n",
    "arm_start = [band[2] for band in cns.hg19_cytobands if band[0] == \"chr3\" and band[4] == 'acen'][1]\n",
    "arm_end = cns.hg19.chr_lens['chr3']"
   ]
  },
  {
   "cell_type": "code",
   "execution_count": 22,
   "metadata": {},
   "outputs": [],
   "source": [
    "samples_df, cns_df = cdu.main_load(\"imp\")\n",
    "cns_df = cns.select_cns_by_type(cns_df, samples_df, \"LUSC\")"
   ]
  },
  {
   "cell_type": "code",
   "execution_count": 23,
   "metadata": {},
   "outputs": [
    {
     "data": {
      "text/plain": [
       "4099"
      ]
     },
     "execution_count": 23,
     "metadata": {},
     "output_type": "execute_result"
    }
   ],
   "source": [
    "data_chr3 = cns_df.query(\"chrom == 'chr3'\")\n",
    "data_breaks_chrom = cns.segments_to_breaks(cns.cns_df_to_segments(data_chr3))[\"chr3\"]\n",
    "breaks_arm = [arm_start] + [breakpoint for breakpoint in data_breaks_chrom if arm_start < breakpoint < arm_end] + [arm_end]\n",
    "len(breaks_arm)"
   ]
  },
  {
   "cell_type": "code",
   "execution_count": 24,
   "metadata": {},
   "outputs": [
    {
     "name": "stdout",
     "output_type": "stream",
     "text": [
      "Aggregated into 4081608 CNS.                                        \n"
     ]
    }
   ],
   "source": [
    "aggregated_data = cns.aggregate_by_breaks(data_chr3, {\"chr3\" : breaks_arm}, print_info=True)"
   ]
  },
  {
   "cell_type": "code",
   "execution_count": 25,
   "metadata": {},
   "outputs": [],
   "source": [
    "groups = cns.add_total_cn(cns.group_samples(aggregated_data))\n",
    "groups[\"ampl\"] = groups[\"total_cn\"] - 2\n",
    "groups[\"length\"] = groups[\"end\"] - groups[\"start\"]\n",
    "gene_cn = groups.query(\"@gene_start < end and @gene_end > start\")[\"ampl\"].min()"
   ]
  },
  {
   "cell_type": "code",
   "execution_count": 26,
   "metadata": {},
   "outputs": [
    {
     "data": {
      "image/png": "[encoded data removed]",
      "text/plain": [
       "<Figure size 400x400 with 1 Axes>"
      ]
     },
     "metadata": {},
     "output_type": "display_data"
    }
   ],
   "source": [
    "fig, axs = cns.fig_lines(groups.query(\"chrom == 'chr3'\"), cn_columns=\"ampl\")"
   ]
  },
  {
   "cell_type": "code",
   "execution_count": 27,
   "metadata": {},
   "outputs": [],
   "source": [
    "# Initialize a list to store the ranges\n",
    "random.seed(0)\n",
    "ranges_inside = []\n",
    "sim_segs = 1000\n",
    "\n",
    "# Repeat until 8 ranges are sampled\n",
    "while len(ranges_inside) < sim_segs:    \n",
    "    rand_start = random.randint(arm_start, arm_end)\n",
    "    rand_end = random.randint(arm_start, arm_end)\n",
    "    if rand_start > rand_end:\n",
    "        rand_start, rand_end = rand_end, rand_start\n",
    "\n",
    "    if rand_start < gene_start and rand_end > gene_end:\n",
    "        ranges_inside.append((rand_start, rand_end))"
   ]
  },
  {
   "cell_type": "code",
   "execution_count": 28,
   "metadata": {},
   "outputs": [],
   "source": [
    "breaks = np.array(ranges_inside).flatten()\n",
    "breaks.sort()\n",
    "split_ranges = []\n",
    "\n",
    "for r_start, r_end in ranges_inside:\n",
    "    current_start = r_start\n",
    "\n",
    "    for brk in breaks:\n",
    "        if r_start < brk < r_end:\n",
    "            split_ranges.append((current_start, brk))\n",
    "            current_start = brk\n",
    "\n",
    "    split_ranges.append((current_start, r_end))"
   ]
  },
  {
   "cell_type": "code",
   "execution_count": 29,
   "metadata": {},
   "outputs": [
    {
     "data": {
      "text/html": [
       "<div>\n",
       "<style scoped>\n",
       "    .dataframe tbody tr th:only-of-type {\n",
       "        vertical-align: middle;\n",
       "    }\n",
       "\n",
       "    .dataframe tbody tr th {\n",
       "        vertical-align: top;\n",
       "    }\n",
       "\n",
       "    .dataframe thead th {\n",
       "        text-align: right;\n",
       "    }\n",
       "</style>\n",
       "<table border=\"1\" class=\"dataframe\">\n",
       "  <thead>\n",
       "    <tr style=\"text-align: right;\">\n",
       "      <th></th>\n",
       "      <th>start</th>\n",
       "      <th>end</th>\n",
       "      <th>CN</th>\n",
       "      <th>total_cn</th>\n",
       "      <th>length</th>\n",
       "    </tr>\n",
       "  </thead>\n",
       "  <tbody>\n",
       "    <tr>\n",
       "      <th>0</th>\n",
       "      <td>93932305</td>\n",
       "      <td>93961279</td>\n",
       "      <td>1</td>\n",
       "      <td>2.005561</td>\n",
       "      <td>28974</td>\n",
       "    </tr>\n",
       "    <tr>\n",
       "      <th>1</th>\n",
       "      <td>93961279</td>\n",
       "      <td>94101791</td>\n",
       "      <td>2</td>\n",
       "      <td>2.011122</td>\n",
       "      <td>140512</td>\n",
       "    </tr>\n",
       "    <tr>\n",
       "      <th>2</th>\n",
       "      <td>94101791</td>\n",
       "      <td>94120286</td>\n",
       "      <td>3</td>\n",
       "      <td>2.016684</td>\n",
       "      <td>18495</td>\n",
       "    </tr>\n",
       "    <tr>\n",
       "      <th>3</th>\n",
       "      <td>94120286</td>\n",
       "      <td>94147384</td>\n",
       "      <td>4</td>\n",
       "      <td>2.022245</td>\n",
       "      <td>27098</td>\n",
       "    </tr>\n",
       "    <tr>\n",
       "      <th>4</th>\n",
       "      <td>94147384</td>\n",
       "      <td>94216426</td>\n",
       "      <td>5</td>\n",
       "      <td>2.027806</td>\n",
       "      <td>69042</td>\n",
       "    </tr>\n",
       "  </tbody>\n",
       "</table>\n",
       "</div>"
      ],
      "text/plain": [
       "      start       end  CN  total_cn  length\n",
       "0  93932305  93961279   1  2.005561   28974\n",
       "1  93961279  94101791   2  2.011122  140512\n",
       "2  94101791  94120286   3  2.016684   18495\n",
       "3  94120286  94147384   4  2.022245   27098\n",
       "4  94147384  94216426   5  2.027806   69042"
      ]
     },
     "execution_count": 29,
     "metadata": {},
     "output_type": "execute_result"
    }
   ],
   "source": [
    "# Count the occurrences of each pair\n",
    "counts = pd.Series(split_ranges).value_counts().reset_index()\n",
    "\n",
    "# Rename the columns\n",
    "counts.columns = ['range', 'CN']\n",
    "\n",
    "# Split the range into start and end\n",
    "counts[['start', 'end']] = pd.DataFrame(counts['range'].tolist(), index=counts.index)\n",
    "\n",
    "# Drop the 'range' column\n",
    "counts = counts.drop('range', axis=1)\n",
    "\n",
    "# Reorder the columns\n",
    "counts = counts[['start', 'end', 'CN']].sort_values(by=['start'], ignore_index=True)\n",
    "counts[\"total_cn\"] = counts[\"CN\"] / sim_segs * (gene_cn) + 2\n",
    "counts[\"length\"] = counts[\"end\"] - counts[\"start\"]\n",
    "counts.head()"
   ]
  },
  {
   "cell_type": "code",
   "execution_count": 30,
   "metadata": {},
   "outputs": [
    {
     "data": {
      "text/plain": [
       "<matplotlib.legend.Legend at 0x19598310790>"
      ]
     },
     "execution_count": 30,
     "metadata": {},
     "output_type": "execute_result"
    },
    {
     "data": {
      "image/png": "[encoded data removed]",
      "text/plain": [
       "<Figure size 500x400 with 1 Axes>"
      ]
     },
     "metadata": {},
     "output_type": "display_data"
    }
   ],
   "source": [
    "# bar plot groups \n",
    "fig, ax = plt.subplots(figsize=(5, 4))\n",
    "\n",
    "# Create a bar plot\n",
    "plt.bar(x=groups['start'], height=groups['total_cn'], width=groups[\"length\"], align='edge')\n",
    "plt.bar(x=counts['start'], height=counts['total_cn'], width=counts[\"length\"], align='edge', alpha=0.5, color='red')\n",
    "\n",
    "\n",
    "# Set the x-axis start to 0\n",
    "plt.xlim(arm_start, max(counts['end']))\n",
    "\n",
    "# label\n",
    "plt.xlabel(\"position on the q arm of chr3\")\n",
    "plt.ylabel(\"copy number\")\n",
    "plt.title(\"SOX2 amplification in LUSC\")\n",
    "\n",
    "# add legend\n",
    "plt.legend([\"CNs from data\", \"simulated CNs\"])"
   ]
  },
  {
   "cell_type": "code",
   "execution_count": 31,
   "metadata": {},
   "outputs": [
    {
     "name": "stdout",
     "output_type": "stream",
     "text": [
      "Area of groups: 529584673.8403614\n",
      "Area of counts: 509630256.2792841\n",
      "Shared area: 477785347.2853748\n"
     ]
    }
   ],
   "source": [
    "# Calculate the area of each bar plot\n",
    "groups_area = np.sum(groups['total_cn'] * groups['length'])\n",
    "counts_area = np.sum(counts['total_cn'] * counts['length'])\n",
    "\n",
    "# Calculate the shared area using two-pointer technique\n",
    "shared_area = 0\n",
    "i, j = 0, 0\n",
    "\n",
    "while i < len(groups) and j < len(counts):\n",
    "    g_row = groups.iloc[i]\n",
    "    c_row = counts.iloc[j]\n",
    "    \n",
    "    # Find the overlap between the two bars\n",
    "    overlap_start = max(g_row['start'], c_row['start'])\n",
    "    overlap_end = min(g_row['start'] + g_row['length'], c_row['start'] + c_row['length'])\n",
    "    \n",
    "    if overlap_start < overlap_end:\n",
    "        overlap_length = overlap_end - overlap_start\n",
    "        overlap_height = min(g_row['total_cn'], c_row['total_cn'])\n",
    "        shared_area += overlap_length * overlap_height\n",
    "    \n",
    "    # Move the pointer that has the smaller end value\n",
    "    if g_row['start'] + g_row['length'] < c_row['start'] + c_row['length']:\n",
    "        i += 1\n",
    "    else:\n",
    "        j += 1\n",
    "\n",
    "print(f\"Area of groups: {groups_area}\")\n",
    "print(f\"Area of counts: {counts_area}\")\n",
    "print(f\"Shared area: {shared_area}\")"
   ]
  },
  {
   "cell_type": "code",
   "execution_count": 32,
   "metadata": {},
   "outputs": [
    {
     "name": "stdout",
     "output_type": "stream",
     "text": [
      "Overalapping area: 0.8510156249219468\n"
     ]
    }
   ],
   "source": [
    "overlap = shared_area / (groups_area + counts_area - shared_area)\n",
    "print(\"Overalapping area:\", overlap)"
   ]
  }
 ],
 "metadata": {
  "kernelspec": {
   "display_name": "Python 3",
   "language": "python",
   "name": "python3"
  },
  "language_info": {
   "codemirror_mode": {
    "name": "ipython",
    "version": 3
   },
   "file_extension": ".py",
   "mimetype": "text/x-python",
   "name": "python",
   "nbconvert_exporter": "python",
   "pygments_lexer": "ipython3",
   "version": "3.11.7"
  }
 },
 "nbformat": 4,
 "nbformat_minor": 2
}
