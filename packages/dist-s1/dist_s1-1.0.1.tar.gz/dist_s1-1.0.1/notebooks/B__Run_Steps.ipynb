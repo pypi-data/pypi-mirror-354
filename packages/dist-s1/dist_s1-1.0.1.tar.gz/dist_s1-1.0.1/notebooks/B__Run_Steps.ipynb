{
 "cells": [
  {
   "cell_type": "code",
   "execution_count": 1,
   "id": "f563951a-d1b7-4e75-99f2-56be204cbc08",
   "metadata": {},
   "outputs": [],
   "source": [
    "%load_ext autoreload\n",
    "%autoreload 2"
   ]
  },
  {
   "cell_type": "markdown",
   "id": "ff402f6b-df30-4f99-8742-1881c7e2e6b9",
   "metadata": {},
   "source": [
    "This is a notebook that illustrates how to run the end-to-end (e2e) workflow. Determining suitable parameters for the workflow are for operational considerations are explained in the ops library [`dist-s1-enumerator`](https://github.com/opera-adt/dist-s1-enumerator) - specifically, see this [notebook](https://github.com/opera-adt/dist-s1-enumerator/blob/dev/notebooks/A__Staging_Inputs_for_One_MGRS_Tile.ipynb)."
   ]
  },
  {
   "cell_type": "code",
   "execution_count": 2,
   "id": "91fb3320-c91c-465c-9ac3-926076e413e6",
   "metadata": {},
   "outputs": [
    {
     "name": "stderr",
     "output_type": "stream",
     "text": [
      "/Users/cmarshak/miniforge3/envs/dist-s1-env/lib/python3.13/site-packages/tqdm/auto.py:21: TqdmWarning: IProgress not found. Please update jupyter and ipywidgets. See https://ipywidgets.readthedocs.io/en/stable/user_install.html\n",
      "  from .autonotebook import tqdm as notebook_tqdm\n"
     ]
    }
   ],
   "source": [
    "from pathlib import Path\n",
    "\n",
    "from dist_s1.workflows import (\n",
    "    run_burst_disturbance_workflow,\n",
    "    run_dist_s1_localization_workflow,\n",
    "    run_dist_s1_workflow,\n",
    "    run_disturbance_merge_workflow,\n",
    "    run_dist_s1_packaging_workflow\n",
    ")"
   ]
  },
  {
   "cell_type": "code",
   "execution_count": 3,
   "id": "7ce1f145-b58c-4982-b256-6a56b552d4cc",
   "metadata": {},
   "outputs": [],
   "source": [
    "## Example 0\n",
    "\n",
    "# mgrs_tile_id = '10SGD'\n",
    "# post_date = '2025-01-02'\n",
    "# track_number = 137\n",
    "# dst_dir = Path('out')\n",
    "# memory_strategy = 'high'\n",
    "\n",
    "\n",
    "## Example 1 - Los Angeles Wildfire\n",
    "mgrs_tile_id = '11SLT'\n",
    "post_date = '2025-01-21'\n",
    "track_number = 71\n",
    "dst_dir = Path('los-angeles')\n",
    "memory_strategy = 'high'\n",
    "lookback_strategy='immediate_lookback'"
   ]
  },
  {
   "cell_type": "markdown",
   "id": "88f264fe-f74c-4d3f-b492-27902eaed32e",
   "metadata": {},
   "source": [
    "This takes some time as it not only generates the runconfig but also localizes the necessary data. It will not overwrite files that have been previously downloaded.\n",
    "\n",
    "Few additional notes:\n",
    "\n",
    "1. The runconfig can be serialized to yml and then read from that file.\n",
    "2. The runconfig manages all the paths for the workflows from the initial set of inputs. It's data model is messy and can be confusing. But that's the workhorse of this library."
   ]
  },
  {
   "cell_type": "code",
   "execution_count": 4,
   "id": "d7ee7ad2-b297-41af-bc65-e41cf40dab1e",
   "metadata": {},
   "outputs": [
    {
     "name": "stdout",
     "output_type": "stream",
     "text": [
      "Using immediate lookback strategy\n"
     ]
    },
    {
     "name": "stderr",
     "output_type": "stream",
     "text": [
      "Downloading RTC-S1 burst data: 100%|█████| 416/416 [00:00<00:00, 453674.07it/s]\n"
     ]
    }
   ],
   "source": [
    "run_config = run_dist_s1_localization_workflow(\n",
    "    mgrs_tile_id,\n",
    "    post_date,\n",
    "    track_number,\n",
    "    post_date_buffer_days=1,\n",
    "    dst_dir=dst_dir,\n",
    "    input_data_dir=dst_dir,\n",
    "    lookback_strategy=lookback_strategy,\n",
    ")\n",
    "\n"
   ]
  },
  {
   "cell_type": "code",
   "execution_count": 5,
   "id": "ab033549-611c-4dbc-a80b-5d75150f966c",
   "metadata": {},
   "outputs": [],
   "source": [
    "#run_config.confirmation_strategy='compute_baseline'"
   ]
  },
  {
   "cell_type": "code",
   "execution_count": 6,
   "id": "0a255865-caa4-4958-92b4-2d439d8cadac",
   "metadata": {},
   "outputs": [
    {
     "name": "stdout",
     "output_type": "stream",
     "text": [
      "Using previous product for confirmation\n",
      "Running disturbance confirmation\n",
      "No previous product found for confirmation. Assuming this is the first product.\n",
      "This is a first product tile with date 2025-01-21 13:52:46\n",
      "Packaging CONF DB disturbance tifs\n",
      "Exporting /Users/cmarshak/bekaert-team/dist-s1/notebooks/los-angeles/OPERA_L3_DIST-ALERT-S1_T11SLT_20250121T135246Z_20250609T163058Z_S1_30_v0.1/OPERA_L3_DIST-ALERT-S1_T11SLT_20250121T135246Z_20250609T163058Z_S1_30_v0.1_GEN-DIST-STATUS.tif\n",
      "Exporting /Users/cmarshak/bekaert-team/dist-s1/notebooks/los-angeles/OPERA_L3_DIST-ALERT-S1_T11SLT_20250121T135246Z_20250609T163058Z_S1_30_v0.1/OPERA_L3_DIST-ALERT-S1_T11SLT_20250121T135246Z_20250609T163058Z_S1_30_v0.1_GEN-DIST-STATUS-ACQ.tif\n",
      "Exporting /Users/cmarshak/bekaert-team/dist-s1/notebooks/los-angeles/OPERA_L3_DIST-ALERT-S1_T11SLT_20250121T135246Z_20250609T163058Z_S1_30_v0.1/OPERA_L3_DIST-ALERT-S1_T11SLT_20250121T135246Z_20250609T163058Z_S1_30_v0.1_GEN-METRIC-MAX.tif\n",
      "Exporting /Users/cmarshak/bekaert-team/dist-s1/notebooks/los-angeles/OPERA_L3_DIST-ALERT-S1_T11SLT_20250121T135246Z_20250609T163058Z_S1_30_v0.1/OPERA_L3_DIST-ALERT-S1_T11SLT_20250121T135246Z_20250609T163058Z_S1_30_v0.1_GEN-DIST-CONF.tif\n",
      "Exporting /Users/cmarshak/bekaert-team/dist-s1/notebooks/los-angeles/OPERA_L3_DIST-ALERT-S1_T11SLT_20250121T135246Z_20250609T163058Z_S1_30_v0.1/OPERA_L3_DIST-ALERT-S1_T11SLT_20250121T135246Z_20250609T163058Z_S1_30_v0.1_GEN-DIST-DATE.tif\n",
      "Exporting /Users/cmarshak/bekaert-team/dist-s1/notebooks/los-angeles/OPERA_L3_DIST-ALERT-S1_T11SLT_20250121T135246Z_20250609T163058Z_S1_30_v0.1/OPERA_L3_DIST-ALERT-S1_T11SLT_20250121T135246Z_20250609T163058Z_S1_30_v0.1_GEN-DIST-COUNT.tif\n",
      "Exporting /Users/cmarshak/bekaert-team/dist-s1/notebooks/los-angeles/OPERA_L3_DIST-ALERT-S1_T11SLT_20250121T135246Z_20250609T163058Z_S1_30_v0.1/OPERA_L3_DIST-ALERT-S1_T11SLT_20250121T135246Z_20250609T163058Z_S1_30_v0.1_GEN-DIST-PERC.tif\n",
      "Exporting /Users/cmarshak/bekaert-team/dist-s1/notebooks/los-angeles/OPERA_L3_DIST-ALERT-S1_T11SLT_20250121T135246Z_20250609T163058Z_S1_30_v0.1/OPERA_L3_DIST-ALERT-S1_T11SLT_20250121T135246Z_20250609T163058Z_S1_30_v0.1_GEN-DIST-DUR.tif\n",
      "Exporting /Users/cmarshak/bekaert-team/dist-s1/notebooks/los-angeles/OPERA_L3_DIST-ALERT-S1_T11SLT_20250121T135246Z_20250609T163058Z_S1_30_v0.1/OPERA_L3_DIST-ALERT-S1_T11SLT_20250121T135246Z_20250609T163058Z_S1_30_v0.1_GEN-DIST-LAST-DATE.tif\n",
      "Exporting /Users/cmarshak/bekaert-team/dist-s1/notebooks/los-angeles/OPERA_L3_DIST-ALERT-S1_T11SLT_20250121T135246Z_20250609T163058Z_S1_30_v0.1/OPERA_L3_DIST-ALERT-S1_T11SLT_20250121T135246Z_20250609T163058Z_S1_30_v0.1_GEN-METRIC.tif\n"
     ]
    }
   ],
   "source": [
    "#run_burst_disturbance_workflow(run_config)\n",
    "# run_disturbance_merge_workflow(run_config)\n",
    "run_dist_s1_packaging_workflow(run_config)"
   ]
  }
 ],
 "metadata": {
  "kernelspec": {
   "display_name": "dist-s1-env",
   "language": "python",
   "name": "dist-s1-env"
  },
  "language_info": {
   "codemirror_mode": {
    "name": "ipython",
    "version": 3
   },
   "file_extension": ".py",
   "mimetype": "text/x-python",
   "name": "python",
   "nbconvert_exporter": "python",
   "pygments_lexer": "ipython3",
   "version": "3.13.3"
  }
 },
 "nbformat": 4,
 "nbformat_minor": 5
}
