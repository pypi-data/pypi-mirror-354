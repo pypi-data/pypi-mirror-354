{
 "cells": [
  {
   "cell_type": "code",
   "execution_count": null,
   "metadata": {},
   "outputs": [],
   "source": [
    "import datetime as dt\n",
    "\n",
    "import panel as pn\n",
    "import panel_material_ui as pmui\n",
    "\n",
    "pn.extension()"
   ]
  },
  {
   "cell_type": "markdown",
   "metadata": {},
   "source": [
    "The `DatePicker` widget allows selecting selecting a date value using a text box and the browser's date-picking utility.\n",
    "\n",
    "Discover more on using widgets to add interactivity to your applications in the [how-to guides on interactivity](https://panel.holoviz.org/how_to/interactivity/index.html). Alternatively, learn [how to set up callbacks and (JS-)links between parameters](https://panel.holoviz.org/how_to/links/index.html) or [how to use them as part of declarative UIs with Param](https://panel.holoviz.org/how_to/param/index.html).\n",
    "\n",
    "#### Parameters:\n",
    "\n",
    "For details on other options for customizing the component see the [customization guides](https://panel-material-ui.holoviz.org/customization/index.html).\n",
    "\n",
    "##### Core\n",
    "\n",
    "* **`clearable`** (`boolean`, `default=True`): If true, allows the date to be cleared.\n",
    "* **`disabled`** (`boolean`, `default=False`): Whether the widget is editable\n",
    "* **`disabled_dates`** (`list[datetime.date]`): dates to make unavailable for selection; others will be available\n",
    "* **`disable_future`** (`boolean`): If true, future dates are disabled.\n",
    "* **`disable_past`** (`boolean`): If true, past dates are disabled.\n",
    "* **`enabled_dates`** (`list[datetime.date]`): dates to make available for selection; others will be unavailable\n",
    "* **`format`** (`str`, `default='YYYY-MM-DD'`):The format of the date displayed in the input.\n",
    "* **`end`** (`datetime.date`): The latest selectable date\n",
    "* **`open_to`** (`list[str]`): The default view to open the calendar to.\n",
    "* **`show_today_button`** (`boolean`, `default=False`): If true, shows a button to select today's date.\n",
    "* **`start`** (`datetime.date`): The earliest selectable date\n",
    "* **`value`** (`datetime.date`): The selected value as a datetime type\n",
    "* **`views`** (`list[str]`, `default=['year', 'month', 'day']`): The views that are available for the date picker.\n",
    "\n",
    "##### Display\n",
    "\n",
    "* **`label`** (str): The title of the widget\n",
    "\n",
    "##### Styling\n",
    "\n",
    "- **`color` (str)**: Choose from \"default\" (default), \"primary\", \"secondary\", \"error\", \"info\", \"success\", \"warning\", \"light\", \"dark\", or \"danger\".\n",
    "- **`sx`** (dict): Component level styling API.\n",
    "- **`theme_config`** (dict): Theming API.\n",
    "- **`variant`** (str): Choose from \"filled\", \"outlined\" (default), or \"standard\".\n",
    "\n",
    "##### Aliases\n",
    "\n",
    "For compatibility with Panel certain parameters are allowed as aliases:\n",
    "\n",
    "- **`name`**: Alias for `label`\n",
    "\n",
    "___"
   ]
  },
  {
   "cell_type": "markdown",
   "metadata": {},
   "source": [
    "`DatePicker` uses allows selecting a date, by default this can be any date:"
   ]
  },
  {
   "cell_type": "code",
   "execution_count": null,
   "metadata": {},
   "outputs": [],
   "source": [
    "date_picker = pmui.DatePicker(label='Date Picker', value=dt.datetime(2024, 4, 1, 11, 37))\n",
    "\n",
    "pmui.Row(date_picker, height=400)"
   ]
  },
  {
   "cell_type": "markdown",
   "metadata": {},
   "source": [
    "To ensure it is visible in a notebook we have placed it in a `Column` with a fixed height.\n",
    "\n",
    "`DatePicker.value` returns a `datetime.date` type that can be read out or set like other widgets:"
   ]
  },
  {
   "cell_type": "code",
   "execution_count": null,
   "metadata": {},
   "outputs": [],
   "source": [
    "date_picker.value"
   ]
  },
  {
   "cell_type": "markdown",
   "metadata": {},
   "source": [
    "### Limiting to a calendar range\n",
    "\n",
    "The range of selectable dates can be limited by setting `start` and/or `end`:"
   ]
  },
  {
   "cell_type": "code",
   "execution_count": null,
   "metadata": {},
   "outputs": [],
   "source": [
    "dt_picker = pmui.DatePicker(\n",
    "    label='Date Picker',\n",
    "    start=dt.datetime(2024, 4, 1, 0, 0),\n",
    "    end=dt.datetime(2024, 4, 7, 0, 0),\n",
    "    value=dt.datetime(2024, 4, 1, 11, 37)\n",
    ")\n",
    "\n",
    "pmui.Row(dt_picker, height=400)"
   ]
  },
  {
   "cell_type": "markdown",
   "metadata": {},
   "source": [
    "### Disable Past or Future\n",
    "\n",
    "The `disable_past` and `disable_future` options make it easy to limit the selectable dates:"
   ]
  },
  {
   "cell_type": "code",
   "execution_count": null,
   "metadata": {},
   "outputs": [],
   "source": [
    "disable_past = pmui.DatePicker(\n",
    "    disable_past=True,\n",
    "    label='Date Picker (disable_past)',\n",
    ")\n",
    "\n",
    "disable_future = pmui.DatePicker(\n",
    "    disable_future=True,\n",
    "    label='Date Picker (disable_future)',\n",
    ")\n",
    "\n",
    "pmui.Row(disable_past, disable_future, height=400)"
   ]
  },
  {
   "cell_type": "markdown",
   "metadata": {},
   "source": [
    "### Enabled Dates\n",
    "\n",
    "The `enabled_dates` option allows limiting the dates that can be selected to a specific subset:"
   ]
  },
  {
   "cell_type": "code",
   "execution_count": null,
   "metadata": {},
   "outputs": [],
   "source": [
    "date_picker = pmui.DatePicker(\n",
    "    label='Date Picker (enabled_dates)',\n",
    "    enabled_dates=[dt.datetime(2024, 4, i, 12, 37) for i in range(1, 7)],\n",
    "    value=dt.datetime(2024, 4, 1, 11, 37)\n",
    ")\n",
    "\n",
    "pn.Column(date_picker, height=400)"
   ]
  },
  {
   "cell_type": "markdown",
   "metadata": {},
   "source": [
    "### Disabled Dates\n",
    "\n",
    "The `disabled_dates` option allows excluding specific dates:"
   ]
  },
  {
   "cell_type": "code",
   "execution_count": null,
   "metadata": {},
   "outputs": [],
   "source": [
    "date_picker = pmui.DatePicker(\n",
    "    label='Date Picker (disabled_dates)',\n",
    "    disabled_dates=[dt.datetime(2024, 4, i, 12, 37) for i in range(2, 7)],\n",
    "    value=dt.datetime(2024, 4, 1, 11, 37)\n",
    ")\n",
    "\n",
    "pn.Column(date_picker, height=400)"
   ]
  },
  {
   "cell_type": "markdown",
   "metadata": {},
   "source": [
    "### Controls\n",
    "\n",
    "The `DatePicker` widget exposes a number of options which can be changed from both Python and Javascript. Try out the effect of these parameters interactively:"
   ]
  },
  {
   "cell_type": "code",
   "execution_count": null,
   "metadata": {},
   "outputs": [],
   "source": [
    "pmui.Row(date_picker.api(jslink=False), date_picker)"
   ]
  },
  {
   "cell_type": "markdown",
   "metadata": {},
   "source": [
    "### References\n",
    "\n",
    "Discover more on using widgets to add interactivity to your applications in the [how-to guides on interactivity](https://panel.holoviz.org/how_to/interactivity/index.html).\n",
    "\n",
    "Learn [how to set up callbacks and (JS-)links between parameters](https://panel.holoviz.org/how_to/links/index.html) or [how to use them as part of declarative UIs with Param](https://panel.holoviz.org/how_to/param/index.html).\n",
    "\n",
    "See also the Material UI `DatePicker` [Reference](https://mui.com/x/react-date-pickers/date-picker/) and [API](https://mui.com/x/api/date-pickers/date-picker/) documentation for inspiration."
   ]
  }
 ],
 "metadata": {
  "kernelspec": {
   "display_name": "Python 3 (ipykernel)",
   "language": "python",
   "name": "python3"
  },
  "language_info": {
   "codemirror_mode": {
    "name": "ipython",
    "version": 3
   },
   "file_extension": ".py",
   "mimetype": "text/x-python",
   "name": "python",
   "nbconvert_exporter": "python",
   "pygments_lexer": "ipython3",
   "version": "3.12.2"
  }
 },
 "nbformat": 4,
 "nbformat_minor": 4
}
