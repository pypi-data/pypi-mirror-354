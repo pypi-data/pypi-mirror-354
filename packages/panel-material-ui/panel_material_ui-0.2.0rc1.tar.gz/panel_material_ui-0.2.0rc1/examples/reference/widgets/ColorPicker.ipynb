{
 "cells": [
  {
   "cell_type": "code",
   "execution_count": null,
   "metadata": {},
   "outputs": [],
   "source": [
    "import panel as pn\n",
    "import panel_material_ui as pmui\n",
    "\n",
    "pn.extension()"
   ]
  },
  {
   "cell_type": "markdown",
   "metadata": {},
   "source": [
    "The `ColorPicker` widget allows selecting a color using the browser's color-picking widget support.\n",
    "\n",
    "Discover more on using widgets to add interactivity to your applications in the [how-to guides on interactivity](https://panel.holoviz.org/how_to/interactivity/index.html). Alternatively, learn [how to set up callbacks and (JS-)links between parameters](https://panel.holoviz.org/how_to/links/index.html) or [how to use them as part of declarative UIs with Param](https://panel.holoviz.org/how_to/param/index.html).\n",
    "\n",
    "#### Parameters:\n",
    "\n",
    "For details on other options for customizing the component see the [customization guides](https://panel-material-ui.holoviz.org/customization/index.html).\n",
    "\n",
    "##### Core\n",
    "\n",
    "* **`alpha`** (boolean): Whether the ColorPicker should show a color slider.\n",
    "* **`disabled`** (boolean): Whether the widget is editable\n",
    "* **`format`** (str): The format of the color value. One of:\n",
    "   - `hex`: Hexadecimal color value (e.g. '#ff0000')\n",
    "   - `rgb`: RGB color value (e.g. 'rgb(255, 0, 0)')\n",
    "   - `rgba`: RGBA color value with alpha (e.g. 'rgba(255, 0, 0, 0.5)')\n",
    "   - `hsl`: HSL color value (e.g. 'hsl(0, 100%, 50%)')\n",
    "   - `hsv`: HSV color value (e.g. 'hsv(0, 100%, 100%)')\n",
    "\n",
    "* **`value`** (color): A hexadecimal RGB color value\n",
    "\n",
    "##### Display\n",
    "\n",
    "* **`label`** (str): The title of the widget\n",
    "* **`size`** (`Literal[\"small\", \"medium\", \"large\"]`): The size of the input field. One of:\n",
    "* **`variant`** (`Literal[\"filled\", \"outlined\", \"standard\"]`): The variant of the input field.\n",
    "\n",
    "##### Styling\n",
    "\n",
    "- **`sx`** (dict): Component level styling API.\n",
    "- **`theme_config`** (dict): Theming API.\n",
    "\n",
    "##### Aliases\n",
    "\n",
    "For compatibility with Panel certain parameters are allowed as aliases:\n",
    "\n",
    "- **`button_style`**: Alias for `variant`\n",
    "- **`button_type`**: Alias for `color`\n",
    "- **`name`**: Alias for `label`\n",
    "___"
   ]
  },
  {
   "cell_type": "markdown",
   "metadata": {},
   "source": [
    "When clicked the ``ColorPicker`` opens a browser-dependent color-picking widget: "
   ]
  },
  {
   "cell_type": "code",
   "execution_count": null,
   "metadata": {},
   "outputs": [],
   "source": [
    "colorpicker = pmui.ColorPicker(name='Color Picker', value='#99ef78')\n",
    "\n",
    "colorpicker"
   ]
  },
  {
   "cell_type": "markdown",
   "metadata": {},
   "source": [
    "`ColorPicker.value` returns a hexadecimal RGB value:"
   ]
  },
  {
   "cell_type": "code",
   "execution_count": null,
   "metadata": {},
   "outputs": [],
   "source": [
    "colorpicker.value"
   ]
  },
  {
   "cell_type": "markdown",
   "metadata": {},
   "source": [
    "### Format\n",
    "\n",
    "The `ColorPicker` supports inputting values in a variety of formats. To configure which color specification is used when choosing a new color set the `format`:"
   ]
  },
  {
   "cell_type": "code",
   "execution_count": null,
   "metadata": {},
   "outputs": [],
   "source": [
    "pmui.Column(\n",
    "  pmui.ColorPicker(name='HEX Color Picker', value='#99ef78', format='hex'),\n",
    "  pmui.ColorPicker(name='RGB Color Picker', value='rgb(0, 24, 24)', format='rgb'),\n",
    "  pmui.ColorPicker(name='RGBA Color Picker', value='rgba(90, 255, 120, 0.5)', format='rgba'),\n",
    "  pmui.ColorPicker(name='HSL Color Picker', value='hsl(0, 100%, 50%)', format='hsl'),\n",
    "  pmui.ColorPicker(name='HSV Color Picker', value='hsv(0, 100%, 100%)', format='hsv'),\n",
    ")"
   ]
  },
  {
   "cell_type": "markdown",
   "metadata": {},
   "source": [
    "### Alpha\n",
    "\n",
    "To also set the opacity enable the `alpha` option:"
   ]
  },
  {
   "cell_type": "code",
   "execution_count": null,
   "metadata": {},
   "outputs": [],
   "source": [
    "pmui.ColorPicker(name='HEX Color Picker', value='#99ef78ff', alpha=True)"
   ]
  },
  {
   "cell_type": "markdown",
   "metadata": {},
   "source": [
    "### Color Options\n",
    "\n",
    "You can set the `color` parameter to visually distinguish the `ColorPicker` when active. Available options include \"default\", \"primary\", \"secondary\", \"error\", \"info\", \"success\", \"warning\", \"light\", \"dark\", and \"danger\":"
   ]
  },
  {
   "cell_type": "code",
   "execution_count": null,
   "metadata": {
    "scrolled": true
   },
   "outputs": [],
   "source": [
    "pmui.FlexBox(\n",
    "    *[pmui.ColorPicker(label=color, color=color, value='#f3f3f3') for color in pmui.ColorPicker.param.color.objects]\n",
    ")"
   ]
  },
  {
   "cell_type": "markdown",
   "metadata": {},
   "source": [
    "### Variant\n",
    "\n",
    "The `variant` parameter controls the visual style of the input. Choose from \"filled\", \"outlined\" (default), or \"standard\":"
   ]
  },
  {
   "cell_type": "code",
   "execution_count": null,
   "metadata": {},
   "outputs": [],
   "source": [
    "pmui.FlexBox(\n",
    "    pmui.ColorPicker(label='Filled', variant=\"filled\"),\n",
    "    pmui.ColorPicker(label='Outlined', variant=\"outlined\"),\n",
    "    pmui.ColorPicker(label='Standard', variant=\"standard\"),\n",
    ")"
   ]
  },
  {
   "cell_type": "markdown",
   "metadata": {},
   "source": [
    "### Controls\n",
    "\n",
    "The `ColorPicker` widget exposes a number of options which can be changed from both Python and Javascript. Try out the effect of these parameters interactively:"
   ]
  },
  {
   "cell_type": "code",
   "execution_count": null,
   "metadata": {},
   "outputs": [],
   "source": [
    "pn.Row(colorpicker.api(jslink=True), colorpicker)"
   ]
  },
  {
   "cell_type": "markdown",
   "metadata": {},
   "source": [
    "### References\n",
    "\n",
    "Discover more on using widgets to add interactivity to your applications in the [how-to guides on interactivity](https://panel.holoviz.org/how_to/interactivity/index.html).\n",
    "\n",
    "Learn [how to set up callbacks and (JS-)links between parameters](https://panel.holoviz.org/how_to/links/index.html) or [how to use them as part of declarative UIs with Param](https://panel.holoviz.org/how_to/param/index.html).\n",
    "\n",
    "See also the Material UI `ColorPicker` [Reference](https://viclafouch.github.io/mui-color-input/) and [API](https://viclafouch.github.io/mui-color-input/docs/api-reference/) documentation for inspiration."
   ]
  }
 ],
 "metadata": {
  "kernelspec": {
   "display_name": "Python 3 (ipykernel)",
   "language": "python",
   "name": "python3"
  },
  "language_info": {
   "codemirror_mode": {
    "name": "ipython",
    "version": 3
   },
   "file_extension": ".py",
   "mimetype": "text/x-python",
   "name": "python",
   "nbconvert_exporter": "python",
   "pygments_lexer": "ipython3",
   "version": "3.12.2"
  }
 },
 "nbformat": 4,
 "nbformat_minor": 4
}
