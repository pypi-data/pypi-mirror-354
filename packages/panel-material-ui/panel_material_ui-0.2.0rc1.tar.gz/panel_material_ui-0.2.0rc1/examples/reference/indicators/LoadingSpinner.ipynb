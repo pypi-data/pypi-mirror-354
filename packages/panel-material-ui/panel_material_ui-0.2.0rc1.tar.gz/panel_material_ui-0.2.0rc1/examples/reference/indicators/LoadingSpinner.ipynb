{
 "cells": [
  {
   "cell_type": "code",
   "execution_count": null,
   "metadata": {},
   "outputs": [],
   "source": [
    "import panel as pn\n",
    "from panel_material_ui import LoadingSpinner\n",
    "\n",
    "pn.extension()"
   ]
  },
  {
   "cell_type": "markdown",
   "metadata": {},
   "source": [
    "The `LoadingSpinner` acts both as a boolean indicator (if used using the `indeterminate` variant) and as a numeric indicator (using the `determinate` variant) providing a visual representation of the loading status. If the `value` is set to `True` the spinner will rotate while setting it to `False` will disable the rotating segment in `indeterminate` mode.\n",
    "\n",
    "Discover more on using widgets to add interactivity to your applications in the [how-to guides on interactivity](https://panel.holoviz.org/how_to/interactivity/index.html). Alternatively, learn [how to set up callbacks and (JS-)links between parameters](https://panel.holoviz.org/how_to/links/index.md) or [how to use them as part of declarative UIs with Param](https://panel.holoviz.org/how_to/param/index.md).\n",
    "\n",
    "#### Parameters:\n",
    "\n",
    "For details on other options for customizing the component see the [customization guides](https://panel-material-ui.holoviz.org/customization/index.html).\n",
    "\n",
    "##### Core\n",
    "\n",
    "* **`value`** (boolean): Whether the indicator is spinning or not.\n",
    "* **`variant`** (`Literal[\"determinate\", \"indeterminate\"]`)\n",
    "\n",
    "##### Display\n",
    "\n",
    "* **`bgcolor`** (`Literal['light', 'dark'] | None`): The color of spinner background segment, either 'light', 'dark' or None.\n",
    "* **`color`** (str): The color of the spinning segment, one of 'primary', 'secondary', 'success', 'info', 'warn', 'danger', 'light', 'dark'\n",
    "* **`label`** (str): A label to display alongside the spinner.\n",
    "* **`size`** (int): The size of the spinner in pixels.\n",
    "* **`thickness`** (float): The thickness of the loading spinner.\n",
    "* **`with_label`** (boolean): Whether to show a label inside the loading spinner (when using the 'determinate' variant).\n",
    "\n",
    "##### Styling\n",
    "\n",
    "- **`sx`** (dict): Component level styling API.\n",
    "- **`theme_config`** (dict): Theming API.\n",
    "\n",
    "##### Aliases\n",
    "\n",
    "For compatibility with Panel certain parameters are allowed as aliases:\n",
    "\n",
    "- **`name`**: Alias for `label`\n",
    "\n",
    "___"
   ]
  },
  {
   "cell_type": "markdown",
   "metadata": {},
   "source": [
    "The `LoadingSpinner` can be instantiated in a spinning or idle state:"
   ]
  },
  {
   "cell_type": "code",
   "execution_count": null,
   "metadata": {},
   "outputs": [],
   "source": [
    "idle = LoadingSpinner(value=False, label='Idle...', color='primary')\n",
    "loading = LoadingSpinner(value=True, size=20, label='Loading...', color='primary')\n",
    "\n",
    "pn.Row(idle, loading)"
   ]
  },
  {
   "cell_type": "markdown",
   "metadata": {},
   "source": [
    "The `LoadingSpinner` indicator also supports a range of spinner colors and backgrounds:"
   ]
  },
  {
   "cell_type": "code",
   "execution_count": null,
   "metadata": {},
   "outputs": [],
   "source": [
    "grid = pn.GridBox(*[' ']+LoadingSpinner.param.color.objects, nrows=4)\n",
    "\n",
    "for bgcolor in LoadingSpinner.param.bgcolor.objects:\n",
    "    grid.append(bgcolor or 'None')\n",
    "    for color in LoadingSpinner.param.color.objects:\n",
    "        spinner = LoadingSpinner(size=50, value=True, bgcolor=bgcolor, color=color)\n",
    "        grid.append(spinner)\n",
    "\n",
    "grid"
   ]
  },
  {
   "cell_type": "markdown",
   "metadata": {},
   "source": [
    "When using the `determinate` variant you can use a `LoadingSpinner` like the `Progress` element:"
   ]
  },
  {
   "cell_type": "code",
   "execution_count": null,
   "metadata": {},
   "outputs": [],
   "source": [
    "values = range(0, 110, 10)\n",
    "\n",
    "pn.GridBox(*(values), *(LoadingSpinner(value=value, variant='determinate') for value in values), nrows=2)"
   ]
  },
  {
   "cell_type": "markdown",
   "metadata": {},
   "source": [
    "In `determinate` mode you can also enable a label:"
   ]
  },
  {
   "cell_type": "code",
   "execution_count": null,
   "metadata": {},
   "outputs": [],
   "source": [
    "LoadingSpinner(value=42, variant='determinate', bgcolor='light', size=60, with_label=True)"
   ]
  }
 ],
 "metadata": {
  "kernelspec": {
   "display_name": "Python 3 (ipykernel)",
   "language": "python",
   "name": "python3"
  },
  "language_info": {
   "codemirror_mode": {
    "name": "ipython",
    "version": 3
   },
   "file_extension": ".py",
   "mimetype": "text/x-python",
   "name": "python",
   "nbconvert_exporter": "python",
   "pygments_lexer": "ipython3",
   "version": "3.12.2"
  }
 },
 "nbformat": 4,
 "nbformat_minor": 4
}
