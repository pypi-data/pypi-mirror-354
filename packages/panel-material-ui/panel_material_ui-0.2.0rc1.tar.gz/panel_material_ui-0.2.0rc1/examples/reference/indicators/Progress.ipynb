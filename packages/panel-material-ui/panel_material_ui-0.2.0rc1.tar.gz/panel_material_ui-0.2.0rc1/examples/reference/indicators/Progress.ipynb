{
 "cells": [
  {
   "cell_type": "code",
   "execution_count": null,
   "metadata": {},
   "outputs": [],
   "source": [
    "import panel as pn\n",
    "from panel_material_ui import Progress\n",
    "\n",
    "pn.extension()"
   ]
  },
  {
   "cell_type": "markdown",
   "metadata": {},
   "source": [
    "The `Progress` widget displays the progress towards some target based on the current `value` and the `max` value. If no `value` is set or a `value` of -1 is set the `Progress` widget is in indeterminate mode and will animate if `active` is set to True.\n",
    "\n",
    "Discover more on using widgets to add interactivity to your applications in the [how-to guides on interactivity](https://panel.holoviz.org/how_to/interactivity/index.html). Alternatively, learn [how to set up callbacks and (JS-)links between parameters](https://panel.holoviz.org/how_to/links/index.md) or [how to use them as part of declarative UIs with Param](https://panel.holoviz.org/how_to/param/index.md).\n",
    "\n",
    "#### Parameters:\n",
    "\n",
    "For details on other options for customizing the component see the [customization guides](https://panel-material-ui.holoviz.org/customization/index.html).\n",
    "\n",
    "##### Core\n",
    "\n",
    "* **`active`** (boolean): Whether to animate the bar when in indeterminate mode\n",
    "* **`max`** (int): The maximum progress value\n",
    "* **`value`** (float): The current value towards the progress, set to -1 for an indeterminate state\n",
    "* **`value_buffer`** (int): The current buffer value towards the progress (only available when using the `buffer` variant)\n",
    "\n",
    "##### Display\n",
    "\n",
    "* **`color`** (str): The color of the bar, one of 'primary', 'secondary', 'success', 'info', 'warning', 'danger', 'light', 'dark'\n",
    "* **`variant`** (`Literal[\"determinate\", \"indeterminate\", \"buffer\", \"query\"]`): The style variant.\n",
    "\n",
    "\n",
    "##### Styling\n",
    "\n",
    "- **`sx`** (dict): Component level styling API.\n",
    "- **`theme_config`** (dict): Theming API.\n",
    "\n",
    "___"
   ]
  },
  {
   "cell_type": "markdown",
   "metadata": {},
   "source": [
    "The `Progress` widget can be instantiated with and without a value. If given a `value` the progress bar will fill according to the progress to the `max` value which is 100 by default:"
   ]
  },
  {
   "cell_type": "code",
   "execution_count": null,
   "metadata": {},
   "outputs": [],
   "source": [
    "progress = Progress(name='Progress', value=20, width=200)\n",
    "progress"
   ]
  },
  {
   "cell_type": "markdown",
   "metadata": {},
   "source": [
    "The progress `value` can be updated from Python:"
   ]
  },
  {
   "cell_type": "code",
   "execution_count": null,
   "metadata": {},
   "outputs": [],
   "source": [
    "progress.value = 80"
   ]
  },
  {
   "cell_type": "markdown",
   "metadata": {},
   "source": [
    "The `Progress` can also be instantiated without a `value`:"
   ]
  },
  {
   "cell_type": "code",
   "execution_count": null,
   "metadata": {},
   "outputs": [],
   "source": [
    "indeterminate = Progress(name='Indeterminate Progress', active=True, width=200)\n",
    "indeterminate"
   ]
  },
  {
   "cell_type": "markdown",
   "metadata": {},
   "source": [
    "### Styles"
   ]
  },
  {
   "cell_type": "markdown",
   "metadata": {},
   "source": [
    "The `Progress` widget also supports a range of bar colors:"
   ]
  },
  {
   "cell_type": "code",
   "execution_count": null,
   "metadata": {},
   "outputs": [],
   "source": [
    "colors = pn.GridBox(ncols=2)\n",
    "\n",
    "for i, color in enumerate(Progress.param.color.objects):\n",
    "    colors.extend([color, Progress(width=300, value=10+i*10, color=color)])\n",
    "\n",
    "colors"
   ]
  },
  {
   "cell_type": "markdown",
   "metadata": {},
   "source": [
    "and `variants`"
   ]
  },
  {
   "cell_type": "code",
   "execution_count": null,
   "metadata": {},
   "outputs": [],
   "source": [
    "variants = pn.GridBox(ncols=2)\n",
    "\n",
    "for i, variant in enumerate(Progress.param.variant.objects):\n",
    "    variants.extend([variant, Progress(width=300, value=60 if variant in ('buffer', 'determinate') else -1, value_buffer=80,  variant=variant)])\n",
    "\n",
    "variants"
   ]
  },
  {
   "cell_type": "markdown",
   "metadata": {},
   "source": [
    "### Controls\n",
    "\n",
    "The `Progress` widget exposes a number of options which can be changed from both Python and Javascript. Try out the effect of these parameters interactively:"
   ]
  },
  {
   "cell_type": "code",
   "execution_count": null,
   "metadata": {},
   "outputs": [],
   "source": [
    "pn.Row(progress.controls(jslink=True), progress, indeterminate.controls(jslink=True), indeterminate)"
   ]
  }
 ],
 "metadata": {
  "kernelspec": {
   "display_name": "Python 3 (ipykernel)",
   "language": "python",
   "name": "python3"
  },
  "language_info": {
   "codemirror_mode": {
    "name": "ipython",
    "version": 3
   },
   "file_extension": ".py",
   "mimetype": "text/x-python",
   "name": "python",
   "nbconvert_exporter": "python",
   "pygments_lexer": "ipython3",
   "version": "3.12.2"
  }
 },
 "nbformat": 4,
 "nbformat_minor": 4
}
