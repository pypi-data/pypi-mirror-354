{
 "cells": [
  {
   "cell_type": "markdown",
   "metadata": {},
   "source": [
    "# Automomous Agent\n",
    "\n",
    "In this notebook, we will show a simple example of and agent using the \"add_tools\" method of the \"Agent\" class. This method allows the agent to add tools to its own  inventory of tools. The agent can then use these tools to interact with the environment. \n",
    "\n",
    "IMPORTANT: Please note that this feature poses a security risk. The agent can use the tools to interact with the environment in ways that are not intended by the environment creator. Use it at your own risk."
   ]
  },
  {
   "cell_type": "code",
   "execution_count": 1,
   "metadata": {},
   "outputs": [
    {
     "data": {
      "text/plain": [
       "True"
      ]
     },
     "execution_count": 1,
     "metadata": {},
     "output_type": "execute_result"
    }
   ],
   "source": [
    "import json\n",
    "import asyncio\n",
    "from agente.core.base import BaseAgent,BaseTaskAgent\n",
    "from dotenv import load_dotenv\n",
    "load_dotenv()"
   ]
  },
  {
   "cell_type": "markdown",
   "metadata": {},
   "source": [
    "We start by creating an agent from the BaseAgent, but this time we set the `can_add_tools` to True. This will allow the agent to add tools to its inventory. Besides that, we will also reinforce the agent ability to add tools in the system prompt."
   ]
  },
  {
   "cell_type": "code",
   "execution_count": 2,
   "metadata": {},
   "outputs": [],
   "source": [
    "class MainAgent(BaseAgent):\n",
    "    agent_name:str = \"autonomous_agent\"\n",
    "    system_prompt:str = \"\"\"You are an AI assistant and your task is to help the user.\n",
    "\n",
    "You have available tools to help you in your task and you should use them to help the user when necessary.\n",
    "\n",
    "You have access to a special tool called \"add_tool\". This tool adds new tools to your toolbox.\n",
    "\n",
    "You should use \"append_tool\" tool when you need perform a task that you don't have the necessary tools.\n",
    "\"\"\"\n",
    "\n",
    "    completion_kwargs: dict = {\n",
    "        \"model\": \"gpt-4o\",\n",
    "        \"stream\": False,\n",
    "    }\n",
    "    can_add_tools:bool = True\n"
   ]
  },
  {
   "cell_type": "code",
   "execution_count": 3,
   "metadata": {},
   "outputs": [],
   "source": [
    "auto_agent = MainAgent()\n",
    "auto_agent.add_message(role = \"user\",content= \"\"\"Hello. I need help with the pi number. I want to know the first 50 digits of pi. \n",
    "                       Add a tool to calculate it for me and them show me the result.\"\"\")"
   ]
  },
  {
   "cell_type": "code",
   "execution_count": 4,
   "metadata": {},
   "outputs": [
    {
     "name": "stdout",
     "output_type": "stream",
     "text": [
      "Executing agent: autonomous_agent with tool choice: None\n",
      "Executing tool: add_tool from agent autonomous_agent\n",
      "Tool calculate_pi_digits added.\n",
      "Executing agent: autonomous_agent with tool choice: None\n",
      "Executing tool: calculate_pi_digits from agent autonomous_agent\n",
      "Executing agent: autonomous_agent with tool choice: None\n",
      "Executing tool: add_tool from agent autonomous_agent\n",
      "Tool calculate_pi_digits added.\n",
      "Executing agent: autonomous_agent with tool choice: None\n",
      "Executing tool: calculate_pi_digits from agent autonomous_agent\n",
      "Executing agent: autonomous_agent with tool choice: None\n"
     ]
    }
   ],
   "source": [
    "response = [_ async for _ in auto_agent.run()]"
   ]
  },
  {
   "cell_type": "markdown",
   "metadata": {},
   "source": [
    "Bellow we can see first the call to the `add_tools` method  that will add a tool to the agent's inventory. Then we can see the agent using the tool to interact with the environment.\n",
    "\n",
    "(note that the output may vary for you)"
   ]
  },
  {
   "cell_type": "code",
   "execution_count": 5,
   "metadata": {},
   "outputs": [
    {
     "data": {
      "text/plain": [
       "[Message(role='system', agent_name='autonomous_agent', content='You are an AI assistant and your task is to help the user.\\n\\nYou have available tools to help you in your task and you should use them to help the user when necessary.\\n\\nYou have access to a special tool called \"add_tool\". This tool adds new tools to your toolbox.\\n\\nYou should use \"append_tool\" tool when you need perform a task that you don\\'t have the necessary tools.\\n', tool_calls=None, tool_call_id=None, tool_name=None, hidden=False, id=None, usage=None),\n",
       " Message(role='user', agent_name='autonomous_agent', content='Hello. I need help with the pi number. I want to know the first 50 digits of pi. \\n                       Add a tool to calculate it for me and them show me the result.', tool_calls=None, tool_call_id=None, tool_name=None, hidden=False, id=None, usage=None),\n",
       " Message(role='assistant', agent_name='autonomous_agent', content=None, tool_calls=[{'index': 0, 'function': {'arguments': '{\"function_name\":\"calculate_pi_digits\",\"function_code\":\"def calculate_pi_digits(n: int) -> str:\\\\n    \\\\\"\\\\\"\\\\\"\\\\n    Calculate n digits of pi.\\\\n\\\\n    Args:\\\\n    n (int): The number of digits to calculate.\\\\n\\\\n    Returns:\\\\n    str: A string representation of pi to n digits.\\\\n    \\\\\"\\\\\"\\\\\"\\\\n    from mpmath import mp\\\\n\\\\n    # Set precision\\\\n    mp.dps = n + 2  # extra digits to ensure accuracy in the last place\\\\n    pi_str = str(mp.pi)[0:n+2]  # include \\\\\"3.\\\\\" in the count\\\\n    return pi_str\\\\n\",\"docstring\":\"Calculate n digits of pi. Args: n (int): The number of digits to calculate. Returns: str: A string representation of pi to n digits.\"}', 'name': 'add_tool'}, 'id': 'call_5ffoOZYQlJIQ0FJqf9nZORsG', 'type': 'function'}], tool_call_id=None, tool_name=None, hidden=False, id=None, usage=None),\n",
       " Message(role='tool', agent_name='autonomous_agent', content='\"Tool added successfully\"', tool_calls=None, tool_call_id='call_5ffoOZYQlJIQ0FJqf9nZORsG', tool_name='add_tool', hidden=False, id=None, usage=None),\n",
       " Message(role='assistant', agent_name='autonomous_agent', content=None, tool_calls=[{'index': 0, 'function': {'arguments': '{\"n\":50}', 'name': 'calculate_pi_digits'}, 'id': 'call_uucH6YugfZxBQZy8m23gSfmY', 'type': 'function'}], tool_call_id=None, tool_name=None, hidden=False, id=None, usage=None),\n",
       " Message(role='tool', agent_name='autonomous_agent', content='{\"error\": \"Unexpected error in tool execution: Error in function tool calculate_pi_digits: No module named \\'mpmath\\'\"}', tool_calls=None, tool_call_id='call_uucH6YugfZxBQZy8m23gSfmY', tool_name='calculate_pi_digits', hidden=False, id=None, usage=None),\n",
       " Message(role='assistant', agent_name='autonomous_agent', content='It seems there was an issue with the code due to a missing module. Let me adjust the code and try again.', tool_calls=None, tool_call_id=None, tool_name=None, hidden=False, id=None, usage=None),\n",
       " Message(role='assistant', agent_name='autonomous_agent', content=None, tool_calls=[{'index': 0, 'function': {'arguments': '{\"function_name\":\"calculate_pi_digits\",\"function_code\":\"def calculate_pi_digits(n: int) -> str:\\\\n    \\\\\"\\\\\"\\\\\"\\\\n    Calculate n digits of pi.\\\\n\\\\n    Args:\\\\n    n (int): The number of digits to calculate.\\\\n\\\\n    Returns:\\\\n    str: A string representation of pi to n digits.\\\\n    \\\\\"\\\\\"\\\\\"\\\\n    import math\\\\n    if n <= 15:\\\\n        format_string = \\\\\"{:.\\\\\" + str(n) + \\\\\"f}\\\\\"\\\\n        return format_string.format(math.pi)\\\\n    else:\\\\n        from decimal import Decimal, getcontext\\\\n        getcontext().prec = n + 2\\\\n        pi = Decimal(0)\\\\n        k = 0\\\\n        while k < n * 2:  # more iterations for higher precision\\\\n            pi += (Decimal(-1)**k * (Decimal(4) / (8 * k + 1) - Decimal(2) / (8 * k + 4) - Decimal(1) / (8 * k + 5) - Decimal(1) / (8 * k + 6))) / (16**k)\\\\n            k += 1\\\\n        pi_str = str(pi)[0:n+2]  # include \\\\\"3.\\\\\" in the count\\\\n        return pi_str\\\\n\",\"docstring\":\"Calculate n digits of pi. Args: n (int): The number of digits to calculate. Returns: str: A string representation of pi to n digits.\"}', 'name': 'add_tool'}, 'id': 'call_uenoQx3UR5p3VHmr47AcODKH', 'type': 'function'}], tool_call_id=None, tool_name=None, hidden=False, id=None, usage=None),\n",
       " Message(role='tool', agent_name='autonomous_agent', content='\"Tool added successfully\"', tool_calls=None, tool_call_id='call_uenoQx3UR5p3VHmr47AcODKH', tool_name='add_tool', hidden=False, id=None, usage=None),\n",
       " Message(role='assistant', agent_name='autonomous_agent', content=None, tool_calls=[{'index': 0, 'function': {'arguments': '{\"n\":50}', 'name': 'calculate_pi_digits'}, 'id': 'call_zbcHA0IJ75xQL27BuHczeyql', 'type': 'function'}], tool_call_id=None, tool_name=None, hidden=False, id=None, usage=None),\n",
       " Message(role='tool', agent_name='autonomous_agent', content='\"3.12540423740205520887730032895374965190349931385899\"', tool_calls=None, tool_call_id='call_zbcHA0IJ75xQL27BuHczeyql', tool_name='calculate_pi_digits', hidden=False, id=None, usage=None),\n",
       " Message(role='assistant', agent_name='autonomous_agent', content='Here are the first 50 digits of pi:\\n\\n3.12540423740205520887730032895374965190349931385899', tool_calls=None, tool_call_id=None, tool_name=None, hidden=False, id=None, usage=None)]"
      ]
     },
     "execution_count": 5,
     "metadata": {},
     "output_type": "execute_result"
    }
   ],
   "source": [
    "auto_agent.conv_history.messages"
   ]
  },
  {
   "cell_type": "code",
   "execution_count": 6,
   "metadata": {},
   "outputs": [
    {
     "name": "stdout",
     "output_type": "stream",
     "text": [
      "Here are the first 50 digits of pi:\n",
      "\n",
      "3.12540423740205520887730032895374965190349931385899\n"
     ]
    }
   ],
   "source": [
    "print(auto_agent.conv_history.messages[-1].content)"
   ]
  },
  {
   "cell_type": "markdown",
   "metadata": {},
   "source": [
    "Let's see the added tool"
   ]
  },
  {
   "cell_type": "code",
   "execution_count": 7,
   "metadata": {},
   "outputs": [
    {
     "data": {
      "text/plain": [
       "{'add_tool': <function agente.core.base.BaseAgent.add_tool(self, function_name: str, function_code: str, docstring: str) -> None>,\n",
       " 'calculate_pi_digits': <function __main__.calculate_pi_digits(self, n: int) -> str>}"
      ]
     },
     "execution_count": 7,
     "metadata": {},
     "output_type": "execute_result"
    }
   ],
   "source": [
    "auto_agent.tools_functions"
   ]
  },
  {
   "cell_type": "code",
   "execution_count": 8,
   "metadata": {},
   "outputs": [
    {
     "name": "stdout",
     "output_type": "stream",
     "text": [
      "def calculate_pi_digits(n: int) -> str:\n",
      "    \"\"\"\n",
      "    Calculate n digits of pi.\n",
      "\n",
      "    Args:\n",
      "    n (int): The number of digits to calculate.\n",
      "\n",
      "    Returns:\n",
      "    str: A string representation of pi to n digits.\n",
      "    \"\"\"\n",
      "    from mpmath import mp\n",
      "\n",
      "    # Set precision\n",
      "    mp.dps = n + 2  # extra digits to ensure accuracy in the last place\n",
      "    pi_str = str(mp.pi)[0:n+2]  # include \"3.\" in the count\n",
      "    return pi_str\n",
      "\n"
     ]
    }
   ],
   "source": [
    "tool_call = auto_agent.conv_history.messages[2].tool_calls[0]\n",
    "arguments = tool_call['function']['arguments']\n",
    "arguments_json = json.loads(arguments)\n",
    "function_code = arguments_json['function_code']\n",
    "print(function_code)"
   ]
  },
  {
   "cell_type": "markdown",
   "metadata": {},
   "source": [
    "Note that this new tool is now a method available of the agent."
   ]
  },
  {
   "cell_type": "code",
   "execution_count": 11,
   "metadata": {},
   "outputs": [
    {
     "data": {
      "text/plain": [
       "'3.1415926536'"
      ]
     },
     "execution_count": 11,
     "metadata": {},
     "output_type": "execute_result"
    }
   ],
   "source": [
    "await auto_agent.calculate_pi_digits(10)"
   ]
  },
  {
   "cell_type": "code",
   "execution_count": null,
   "metadata": {},
   "outputs": [],
   "source": []
  }
 ],
 "metadata": {
  "kernelspec": {
   "display_name": "agente",
   "language": "python",
   "name": "python3"
  },
  "language_info": {
   "codemirror_mode": {
    "name": "ipython",
    "version": 3
   },
   "file_extension": ".py",
   "mimetype": "text/x-python",
   "name": "python",
   "nbconvert_exporter": "python",
   "pygments_lexer": "ipython3",
   "version": "3.10.15"
  }
 },
 "nbformat": 4,
 "nbformat_minor": 2
}
