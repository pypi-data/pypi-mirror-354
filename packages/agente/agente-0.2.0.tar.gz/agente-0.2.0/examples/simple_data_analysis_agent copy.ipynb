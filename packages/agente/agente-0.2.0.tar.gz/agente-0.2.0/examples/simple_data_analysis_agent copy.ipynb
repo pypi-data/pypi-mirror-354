{
 "cells": [
  {
   "cell_type": "markdown",
   "metadata": {},
   "source": [
    "# Data Analysis Agent\n",
    "\n",
    "In this notebook, we will create an agent that given a dataframe will answer user questions about it. This example is based on the [Simple Data Analysis Agent](https://github.com/NirDiamant/GenAI_Agents/blob/main/all_agents_tutorials/simple_data_analysis_agent_notebook-pydanticai.ipynb) from the [GenAI Agents](https://github.com/NirDiamant/GenAI_Agents) repository."
   ]
  },
  {
   "cell_type": "code",
   "execution_count": 1,
   "metadata": {},
   "outputs": [
    {
     "name": "stderr",
     "output_type": "stream",
     "text": [
      "/Users/miguelwon/miniconda3/envs/agente/lib/python3.10/site-packages/tqdm/auto.py:21: TqdmWarning: IProgress not found. Please update jupyter and ipywidgets. See https://ipywidgets.readthedocs.io/en/stable/user_install.html\n",
      "  from .autonotebook import tqdm as notebook_tqdm\n"
     ]
    },
    {
     "data": {
      "text/plain": [
       "True"
      ]
     },
     "execution_count": 1,
     "metadata": {},
     "output_type": "execute_result"
    }
   ],
   "source": [
    "import numpy as np\n",
    "from datetime import datetime, timedelta\n",
    "import pandas as pd\n",
    "import gradio as gr\n",
    "\n",
    "from typing import List,Annotated\n",
    "from function_schema import Doc\n",
    "from pydantic import Field\n",
    "\n",
    "from agente.core.base import BaseAgent\n",
    "from agente.core.decorators import function_tool\n",
    "\n",
    "from dotenv import load_dotenv\n",
    "## Load and set environment variables from .env file\n",
    "load_dotenv()\n"
   ]
  },
  {
   "cell_type": "markdown",
   "metadata": {},
   "source": [
    "### We start by simulating a dataset of car sales"
   ]
  },
  {
   "cell_type": "code",
   "execution_count": 2,
   "metadata": {},
   "outputs": [
    {
     "data": {
      "text/html": [
       "<div>\n",
       "<style scoped>\n",
       "    .dataframe tbody tr th:only-of-type {\n",
       "        vertical-align: middle;\n",
       "    }\n",
       "\n",
       "    .dataframe tbody tr th {\n",
       "        vertical-align: top;\n",
       "    }\n",
       "\n",
       "    .dataframe thead th {\n",
       "        text-align: right;\n",
       "    }\n",
       "</style>\n",
       "<table border=\"1\" class=\"dataframe\">\n",
       "  <thead>\n",
       "    <tr style=\"text-align: right;\">\n",
       "      <th></th>\n",
       "      <th>Date</th>\n",
       "      <th>Make</th>\n",
       "      <th>Model</th>\n",
       "      <th>Color</th>\n",
       "      <th>Year</th>\n",
       "      <th>Price</th>\n",
       "      <th>Mileage</th>\n",
       "      <th>EngineSize</th>\n",
       "      <th>FuelEfficiency</th>\n",
       "      <th>SalesPerson</th>\n",
       "    </tr>\n",
       "  </thead>\n",
       "  <tbody>\n",
       "    <tr>\n",
       "      <th>0</th>\n",
       "      <td>2022-01-01</td>\n",
       "      <td>Hyundai</td>\n",
       "      <td>Coupe</td>\n",
       "      <td>Red</td>\n",
       "      <td>2020</td>\n",
       "      <td>79032.69</td>\n",
       "      <td>18911.0</td>\n",
       "      <td>2.5</td>\n",
       "      <td>33.9</td>\n",
       "      <td>Charlie</td>\n",
       "    </tr>\n",
       "    <tr>\n",
       "      <th>1</th>\n",
       "      <td>2022-01-02</td>\n",
       "      <td>Ford</td>\n",
       "      <td>Hatchback</td>\n",
       "      <td>Silver</td>\n",
       "      <td>2022</td>\n",
       "      <td>73039.34</td>\n",
       "      <td>9060.0</td>\n",
       "      <td>4.0</td>\n",
       "      <td>30.7</td>\n",
       "      <td>David</td>\n",
       "    </tr>\n",
       "    <tr>\n",
       "      <th>2</th>\n",
       "      <td>2022-01-03</td>\n",
       "      <td>Kia</td>\n",
       "      <td>Sedan</td>\n",
       "      <td>Blue</td>\n",
       "      <td>2016</td>\n",
       "      <td>60934.47</td>\n",
       "      <td>59155.0</td>\n",
       "      <td>1.6</td>\n",
       "      <td>25.2</td>\n",
       "      <td>Eva</td>\n",
       "    </tr>\n",
       "    <tr>\n",
       "      <th>3</th>\n",
       "      <td>2022-01-04</td>\n",
       "      <td>Kia</td>\n",
       "      <td>Sedan</td>\n",
       "      <td>Blue</td>\n",
       "      <td>2021</td>\n",
       "      <td>56941.75</td>\n",
       "      <td>42754.0</td>\n",
       "      <td>2.5</td>\n",
       "      <td>37.4</td>\n",
       "      <td>Bob</td>\n",
       "    </tr>\n",
       "    <tr>\n",
       "      <th>4</th>\n",
       "      <td>2022-01-05</td>\n",
       "      <td>Chevrolet</td>\n",
       "      <td>SUV</td>\n",
       "      <td>Blue</td>\n",
       "      <td>2017</td>\n",
       "      <td>37281.09</td>\n",
       "      <td>66963.0</td>\n",
       "      <td>3.0</td>\n",
       "      <td>38.2</td>\n",
       "      <td>Eva</td>\n",
       "    </tr>\n",
       "    <tr>\n",
       "      <th>...</th>\n",
       "      <td>...</td>\n",
       "      <td>...</td>\n",
       "      <td>...</td>\n",
       "      <td>...</td>\n",
       "      <td>...</td>\n",
       "      <td>...</td>\n",
       "      <td>...</td>\n",
       "      <td>...</td>\n",
       "      <td>...</td>\n",
       "      <td>...</td>\n",
       "    </tr>\n",
       "    <tr>\n",
       "      <th>995</th>\n",
       "      <td>2024-09-22</td>\n",
       "      <td>Kia</td>\n",
       "      <td>Sedan</td>\n",
       "      <td>Blue</td>\n",
       "      <td>2020</td>\n",
       "      <td>62600.87</td>\n",
       "      <td>82421.0</td>\n",
       "      <td>2.5</td>\n",
       "      <td>29.1</td>\n",
       "      <td>Charlie</td>\n",
       "    </tr>\n",
       "    <tr>\n",
       "      <th>996</th>\n",
       "      <td>2024-09-23</td>\n",
       "      <td>Ford</td>\n",
       "      <td>Coupe</td>\n",
       "      <td>White</td>\n",
       "      <td>2015</td>\n",
       "      <td>35216.18</td>\n",
       "      <td>42201.0</td>\n",
       "      <td>3.5</td>\n",
       "      <td>28.6</td>\n",
       "      <td>Bob</td>\n",
       "    </tr>\n",
       "    <tr>\n",
       "      <th>997</th>\n",
       "      <td>2024-09-24</td>\n",
       "      <td>Hyundai</td>\n",
       "      <td>Van</td>\n",
       "      <td>Black</td>\n",
       "      <td>2017</td>\n",
       "      <td>62000.08</td>\n",
       "      <td>25283.0</td>\n",
       "      <td>3.0</td>\n",
       "      <td>34.0</td>\n",
       "      <td>Bob</td>\n",
       "    </tr>\n",
       "    <tr>\n",
       "      <th>998</th>\n",
       "      <td>2024-09-25</td>\n",
       "      <td>Mercedes</td>\n",
       "      <td>Truck</td>\n",
       "      <td>White</td>\n",
       "      <td>2020</td>\n",
       "      <td>57534.83</td>\n",
       "      <td>20707.0</td>\n",
       "      <td>3.5</td>\n",
       "      <td>39.6</td>\n",
       "      <td>Charlie</td>\n",
       "    </tr>\n",
       "    <tr>\n",
       "      <th>999</th>\n",
       "      <td>2024-09-26</td>\n",
       "      <td>Toyota</td>\n",
       "      <td>Hatchback</td>\n",
       "      <td>Silver</td>\n",
       "      <td>2016</td>\n",
       "      <td>24858.99</td>\n",
       "      <td>14166.0</td>\n",
       "      <td>4.0</td>\n",
       "      <td>28.3</td>\n",
       "      <td>Eva</td>\n",
       "    </tr>\n",
       "  </tbody>\n",
       "</table>\n",
       "<p>1000 rows × 10 columns</p>\n",
       "</div>"
      ],
      "text/plain": [
       "          Date       Make      Model   Color  Year     Price  Mileage  \\\n",
       "0   2022-01-01    Hyundai      Coupe     Red  2020  79032.69  18911.0   \n",
       "1   2022-01-02       Ford  Hatchback  Silver  2022  73039.34   9060.0   \n",
       "2   2022-01-03        Kia      Sedan    Blue  2016  60934.47  59155.0   \n",
       "3   2022-01-04        Kia      Sedan    Blue  2021  56941.75  42754.0   \n",
       "4   2022-01-05  Chevrolet        SUV    Blue  2017  37281.09  66963.0   \n",
       "..         ...        ...        ...     ...   ...       ...      ...   \n",
       "995 2024-09-22        Kia      Sedan    Blue  2020  62600.87  82421.0   \n",
       "996 2024-09-23       Ford      Coupe   White  2015  35216.18  42201.0   \n",
       "997 2024-09-24    Hyundai        Van   Black  2017  62000.08  25283.0   \n",
       "998 2024-09-25   Mercedes      Truck   White  2020  57534.83  20707.0   \n",
       "999 2024-09-26     Toyota  Hatchback  Silver  2016  24858.99  14166.0   \n",
       "\n",
       "     EngineSize  FuelEfficiency SalesPerson  \n",
       "0           2.5            33.9     Charlie  \n",
       "1           4.0            30.7       David  \n",
       "2           1.6            25.2         Eva  \n",
       "3           2.5            37.4         Bob  \n",
       "4           3.0            38.2         Eva  \n",
       "..          ...             ...         ...  \n",
       "995         2.5            29.1     Charlie  \n",
       "996         3.5            28.6         Bob  \n",
       "997         3.0            34.0         Bob  \n",
       "998         3.5            39.6     Charlie  \n",
       "999         4.0            28.3         Eva  \n",
       "\n",
       "[1000 rows x 10 columns]"
      ]
     },
     "execution_count": 2,
     "metadata": {},
     "output_type": "execute_result"
    }
   ],
   "source": [
    "# Generate sample data\n",
    "n_rows = 1000\n",
    "\n",
    "# Generate dates\n",
    "start_date = datetime(2022, 1, 1)\n",
    "dates = [start_date + timedelta(days=i) for i in range(n_rows)]\n",
    "\n",
    "# Define data categories\n",
    "makes = ['Toyota', 'Honda', 'Ford', 'Chevrolet', 'Nissan', 'BMW', 'Mercedes', 'Audi', 'Hyundai', 'Kia']\n",
    "models = ['Sedan', 'SUV', 'Truck', 'Hatchback', 'Coupe', 'Van']\n",
    "colors = ['Red', 'Blue', 'Black', 'White', 'Silver', 'Gray', 'Green']\n",
    "\n",
    "# Create the dataset\n",
    "data = {\n",
    "    'Date': dates,\n",
    "    'Make': np.random.choice(makes, n_rows),\n",
    "    'Model': np.random.choice(models, n_rows),\n",
    "    'Color': np.random.choice(colors, n_rows),\n",
    "    'Year': np.random.randint(2015, 2023, n_rows),\n",
    "    'Price': np.random.uniform(20000, 80000, n_rows).round(2),\n",
    "    'Mileage': np.random.uniform(0, 100000, n_rows).round(0),\n",
    "    'EngineSize': np.random.choice([1.6, 2.0, 2.5, 3.0, 3.5, 4.0], n_rows),\n",
    "    'FuelEfficiency': np.random.uniform(20, 40, n_rows).round(1),\n",
    "    'SalesPerson': np.random.choice(['Alice', 'Bob', 'Charlie', 'David', 'Eva'], n_rows)\n",
    "}\n",
    "\n",
    "# Create DataFrame and sort by date\n",
    "df = pd.DataFrame(data).sort_values('Date')\n",
    "df"
   ]
  },
  {
   "cell_type": "code",
   "execution_count": 3,
   "metadata": {},
   "outputs": [],
   "source": [
    "SYSTEM_PROMPT=\"\"\"You are an AI assistant that helps extract information from a pandas DataFrame.\n",
    "If asked about columns, be sure to check the column names first.\n",
    "Be concise in your answers.\"\"\"\n",
    "\n",
    "\n",
    "class SimpleAnalysisAgent(BaseAgent):\n",
    "    agent_name: str = \"SimpleAnalysisAgent\"\n",
    "    system_prompt:str = SYSTEM_PROMPT\n",
    "    df: pd.DataFrame = Field(default_factory=pd.DataFrame) \n",
    "\n",
    "    completion_kwargs: dict = {\n",
    "        \"model\": \"gpt-4o\",\n",
    "        \"stream\": False,\n",
    "    }\n",
    "\n",
    "    @function_tool\n",
    "    async def df_query(self,query: str):\n",
    "        \"\"\"A tool for running queries on the `pandas.DataFrame`. Use this tool to interact with the DataFrame.\n",
    "\n",
    "        `query` will be executed using `pd.eval(query, target=df)`, so it must contain syntax compatible with\n",
    "        `pandas.eval`.\n",
    "\n",
    "        Args:\n",
    "            query: The query to run on the DataFrame.\n",
    "        \"\"\"\n",
    "        # Print the query for debugging purposes and fun :)\n",
    "        print(f'Running query: `{query}`')\n",
    "        return str(pd.eval(query, target=self.df))"
   ]
  },
  {
   "cell_type": "code",
   "execution_count": 4,
   "metadata": {},
   "outputs": [
    {
     "name": "stdout",
     "output_type": "stream",
     "text": [
      "Executing tool: df_query from agent SimpleAnalysisAgent\n",
      "Running query: `list(df.columns)`\n"
     ]
    }
   ],
   "source": [
    "agent = SimpleAnalysisAgent()\n",
    "agent.add_message( role = \"user\", content = \"What are the column names in this dataset?\")\n",
    "\n",
    "responses = [r async for r in agent.run()]"
   ]
  },
  {
   "cell_type": "code",
   "execution_count": 5,
   "metadata": {},
   "outputs": [
    {
     "data": {
      "text/plain": [
       "{'call_id': 'chatcmpl-AvBTSBeStEGhGK8w2ONL4e9vHiEhR',\n",
       " 'agent_name': 'SimpleAnalysisAgent',\n",
       " 'role': 'assistant',\n",
       " 'content': \"The column names in the dataset are: 'Date', 'Make', 'Model', 'Color', 'Year', 'Price', 'Mileage', 'EngineSize', 'FuelEfficiency', and 'SalesPerson'.\",\n",
       " 'tool_calls': [],\n",
       " 'usage': {'completion_tokens': 44, 'prompt_tokens': 207, 'total_tokens': 251}}"
      ]
     },
     "execution_count": 5,
     "metadata": {},
     "output_type": "execute_result"
    }
   ],
   "source": [
    "responses[-1].dict()"
   ]
  },
  {
   "cell_type": "code",
   "execution_count": 7,
   "metadata": {},
   "outputs": [
    {
     "name": "stdout",
     "output_type": "stream",
     "text": [
      "Executing tool: df_query from agent SimpleAnalysisAgent\n",
      "Running query: `df['Make'].mode()[0]`\n"
     ]
    },
    {
     "data": {
      "text/plain": [
       "{'call_id': 'chatcmpl-AvBTsRynhqoXTre9CMJ82rzwfkr8M',\n",
       " 'agent_name': 'SimpleAnalysisAgent',\n",
       " 'role': 'assistant',\n",
       " 'content': 'The most sold brand is BMW.',\n",
       " 'tool_calls': [],\n",
       " 'usage': {'completion_tokens': 9, 'prompt_tokens': 296, 'total_tokens': 305}}"
      ]
     },
     "execution_count": 7,
     "metadata": {},
     "output_type": "execute_result"
    }
   ],
   "source": [
    "agent.add_message(\"user\",\"What is the most sold brand?\")\n",
    "responses = [r async for r in agent.run()]\n",
    "responses[-1].dict()"
   ]
  },
  {
   "cell_type": "code",
   "execution_count": 9,
   "metadata": {},
   "outputs": [
    {
     "name": "stdout",
     "output_type": "stream",
     "text": [
      "Executing tool: df_query from agent SimpleAnalysisAgent\n",
      "Running query: `df['Price'].mean()`\n"
     ]
    },
    {
     "data": {
      "text/plain": [
       "{'call_id': 'chatcmpl-AvBUACbIMd3MYvhvUkLyvZCtcBnv0',\n",
       " 'agent_name': 'SimpleAnalysisAgent',\n",
       " 'role': 'assistant',\n",
       " 'content': 'The average price of the cars is approximately 50,202.30.',\n",
       " 'tool_calls': [],\n",
       " 'usage': {'completion_tokens': 17, 'prompt_tokens': 356, 'total_tokens': 373}}"
      ]
     },
     "execution_count": 9,
     "metadata": {},
     "output_type": "execute_result"
    }
   ],
   "source": [
    "agent.add_message(\"user\",\"What is the average price of the cars?\")\n",
    "responses = [r async for r in agent.run()]\n",
    "responses[-1].dict()"
   ]
  },
  {
   "cell_type": "markdown",
   "metadata": {},
   "source": [
    "## Streaming\n",
    "\n",
    "### Now the same but with streaming with Gradio"
   ]
  },
  {
   "cell_type": "code",
   "execution_count": 10,
   "metadata": {},
   "outputs": [],
   "source": [
    "import uuid\n",
    "\n",
    "class SimpleAnalysisAgent(BaseAgent):\n",
    "    agent_name: str = \"SimpleAnalysisAgent\"\n",
    "    df: pd.DataFrame = df\n",
    "    completion_kwargs: dict = {\n",
    "        \"model\": \"gpt-4o\",\n",
    "        \"stream\": False,\n",
    "    }\n",
    "\n",
    "    @function_tool\n",
    "    async def df_query(self,query: Annotated[str, Doc(\"The query to run on the DataFrame.\")]) -> str:\n",
    "        \"\"\"A tool for running queries on the `pandas.DataFrame`. Use this tool to interact with the DataFrame.\n",
    "\n",
    "        `query` will be executed using `pd.eval(query, target=df)`, so it must contain syntax compatible with\n",
    "        `pandas.eval`.\n",
    "        \"\"\"\n",
    "        # Print the query for debugging purposes and fun :)\n",
    "        print(f'Running query: `{query}`')\n",
    "        return str(pd.eval(query, target=self.df))\n"
   ]
  },
  {
   "cell_type": "code",
   "execution_count": 10,
   "metadata": {},
   "outputs": [
    {
     "name": "stdout",
     "output_type": "stream",
     "text": [
      "* Running on local URL:  http://127.0.0.1:7861\n",
      "\n",
      "To create a public link, set `share=True` in `launch()`.\n"
     ]
    },
    {
     "data": {
      "text/html": [
       "<div><iframe src=\"http://127.0.0.1:7861/\" width=\"100%\" height=\"500\" allow=\"autoplay; camera; microphone; clipboard-read; clipboard-write;\" frameborder=\"0\" allowfullscreen></iframe></div>"
      ],
      "text/plain": [
       "<IPython.core.display.HTML object>"
      ]
     },
     "metadata": {},
     "output_type": "display_data"
    },
    {
     "data": {
      "text/plain": []
     },
     "execution_count": 10,
     "metadata": {},
     "output_type": "execute_result"
    },
    {
     "name": "stdout",
     "output_type": "stream",
     "text": [
      "Executing tool: df_query from agent SimpleAnalysisAgent\n",
      "Running query: `columns`\n",
      "Executing tool: df_query from agent SimpleAnalysisAgent\n",
      "Running query: `list(df.columns)`\n"
     ]
    }
   ],
   "source": [
    "def get_new_agent():\n",
    "    \"\"\"Create a fresh agent instance\"\"\"\n",
    "    new_agent = SimpleAnalysisAgent()\n",
    "    new_agent.add_message(\"system\", SYSTEM_PROMPT)\n",
    "    return new_agent\n",
    "\n",
    "with gr.Blocks() as demo:\n",
    "    chatbot = gr.Chatbot(type=\"messages\")\n",
    "    msg = gr.Textbox()\n",
    "    clear = gr.Button(\"Clear\")\n",
    "\n",
    "    # Initialize with a function call instead of direct instantiation\n",
    "    agent_state = gr.State(value=None)\n",
    "\n",
    "    def user(user_message, agent):\n",
    "        if agent is None:\n",
    "            agent = get_new_agent()\n",
    "        agent.add_message(\"user\", user_message)\n",
    "        return \"\", [{\"role\": \"user\", \"content\": user_message}], agent\n",
    "\n",
    "    async def bot(history, agent):\n",
    "        if not history:\n",
    "            yield [], agent\n",
    "            return\n",
    "        \n",
    "        history.append({\"role\": \"assistant\", \"content\": \"\"})\n",
    "        async for chunk in agent.run():\n",
    "            if chunk.content:\n",
    "                history[-1][\"content\"] += chunk.content\n",
    "                yield history, agent\n",
    "\n",
    "    def reset_state():\n",
    "        return None, get_new_agent()\n",
    "\n",
    "    msg.submit(user, [msg, agent_state], [msg, chatbot, agent_state], queue=False).then(\n",
    "        bot, [chatbot, agent_state], [chatbot, agent_state]\n",
    "    )\n",
    "    clear.click(reset_state, None, [chatbot, agent_state], queue=False)\n",
    "\n",
    "demo.launch()"
   ]
  },
  {
   "cell_type": "code",
   "execution_count": null,
   "metadata": {},
   "outputs": [],
   "source": []
  }
 ],
 "metadata": {
  "kernelspec": {
   "display_name": "agente",
   "language": "python",
   "name": "python3"
  },
  "language_info": {
   "codemirror_mode": {
    "name": "ipython",
    "version": 3
   },
   "file_extension": ".py",
   "mimetype": "text/x-python",
   "name": "python",
   "nbconvert_exporter": "python",
   "pygments_lexer": "ipython3",
   "version": "3.10.15"
  }
 },
 "nbformat": 4,
 "nbformat_minor": 2
}
