{
 "cells": [
  {
   "cell_type": "markdown",
   "metadata": {},
   "source": [
    "# Very simple agent\n",
    "\n",
    "This notebook show how to create a very simple conversation agent, with no tools."
   ]
  },
  {
   "cell_type": "markdown",
   "metadata": {},
   "source": [
    "### Let's start by importing the necessary libraries and set the api keys"
   ]
  },
  {
   "cell_type": "code",
   "execution_count": 1,
   "metadata": {},
   "outputs": [
    {
     "data": {
      "text/plain": [
       "True"
      ]
     },
     "execution_count": 1,
     "metadata": {},
     "output_type": "execute_result"
    }
   ],
   "source": [
    "from dotenv import load_dotenv\n",
    "\n",
    "from typing import List\n",
    "from agente.core.base import BaseAgent\n",
    "\n",
    "## Load and set environment variables from .env file\n",
    "load_dotenv()"
   ]
  },
  {
   "cell_type": "markdown",
   "metadata": {},
   "source": [
    "### This first example show how to create an agent without streaming.\n",
    "\n",
    "We note that even the agent is set to run without stream, we need to iterate over agent.run() to get the messages. \n",
    "This allows to stream in case a second agent with stream is called by the first parent agent."
   ]
  },
  {
   "cell_type": "code",
   "execution_count": 2,
   "metadata": {},
   "outputs": [
    {
     "data": {
      "text/plain": [
       "{'call_id': 'chatcmpl-AvBRrSewbK2CKEqnYzm540V2OF5a6',\n",
       " 'agent_name': 'VerySimpleAgent',\n",
       " 'role': 'assistant',\n",
       " 'content': \"Why don't scientists trust atoms?\\n\\nBecause they make up everything!\",\n",
       " 'tool_calls': [],\n",
       " 'usage': {'completion_tokens': 13, 'prompt_tokens': 25, 'total_tokens': 38}}"
      ]
     },
     "execution_count": 2,
     "metadata": {},
     "output_type": "execute_result"
    }
   ],
   "source": [
    "class VerySimpleAgent(BaseAgent):\n",
    "    agent_name: str = \"VerySimpleAgent\"\n",
    "    system_prompt:str = \"You are a helpful AI assistant.\"\n",
    "    completion_kwargs: dict = {\n",
    "        \"model\": \"gpt-4o\",\n",
    "        \"stream\": False,\n",
    "        \"temperature\": 1.0,\n",
    "        \"max_tokens\": 500,\n",
    "    }\n",
    "    \n",
    "agent = VerySimpleAgent()\n",
    "agent.add_message(\"user\", \"Please write me a funny joke.\")\n",
    "responses = [r async for r in agent.run()] \n",
    "responses[-1].dict()"
   ]
  },
  {
   "cell_type": "markdown",
   "metadata": {},
   "source": [
    "### The conversation history is stored as well:"
   ]
  },
  {
   "cell_type": "code",
   "execution_count": 3,
   "metadata": {},
   "outputs": [
    {
     "data": {
      "text/plain": [
       "[Message(role='system', agent_name='VerySimpleAgent', content='You are a helpful AI assistant.', tool_calls=None, tool_call_id=None, tool_name=None, hidden=False, id=None, usage=None),\n",
       " Message(role='user', agent_name='VerySimpleAgent', content='Please write me a funny joke.', tool_calls=None, tool_call_id=None, tool_name=None, hidden=False, id=None, usage=None),\n",
       " Message(role='assistant', agent_name='VerySimpleAgent', content=\"Why don't scientists trust atoms?\\n\\nBecause they make up everything!\", tool_calls=None, tool_call_id=None, tool_name=None, hidden=False, id=None, usage=None)]"
      ]
     },
     "execution_count": 3,
     "metadata": {},
     "output_type": "execute_result"
    }
   ],
   "source": [
    "agent.conv_history.messages"
   ]
  },
  {
   "cell_type": "markdown",
   "metadata": {},
   "source": [
    "## Streaming\n",
    "\n",
    "### Now let's create the same agent but with stream. For that we can use Gradio for better visualization"
   ]
  },
  {
   "cell_type": "code",
   "execution_count": 4,
   "metadata": {},
   "outputs": [
    {
     "name": "stderr",
     "output_type": "stream",
     "text": [
      "/Users/miguelwon/miniconda3/envs/agente/lib/python3.10/site-packages/tqdm/auto.py:21: TqdmWarning: IProgress not found. Please update jupyter and ipywidgets. See https://ipywidgets.readthedocs.io/en/stable/user_install.html\n",
      "  from .autonotebook import tqdm as notebook_tqdm\n"
     ]
    },
    {
     "name": "stdout",
     "output_type": "stream",
     "text": [
      "* Running on local URL:  http://127.0.0.1:7860\n",
      "\n",
      "To create a public link, set `share=True` in `launch()`.\n"
     ]
    },
    {
     "data": {
      "text/html": [
       "<div><iframe src=\"http://127.0.0.1:7860/\" width=\"100%\" height=\"500\" allow=\"autoplay; camera; microphone; clipboard-read; clipboard-write;\" frameborder=\"0\" allowfullscreen></iframe></div>"
      ],
      "text/plain": [
       "<IPython.core.display.HTML object>"
      ]
     },
     "metadata": {},
     "output_type": "display_data"
    },
    {
     "data": {
      "text/plain": []
     },
     "execution_count": 4,
     "metadata": {},
     "output_type": "execute_result"
    }
   ],
   "source": [
    "import gradio as gr\n",
    "\n",
    "class VerySimpleAgent(BaseAgent):\n",
    "    agent_name: str = \"VerySimpleAgent\"\n",
    "    completion_kwargs: dict = {\n",
    "        \"model\": \"gpt-4o\",\n",
    "        \"stream\": True,\n",
    "        \"temperature\": 1.0,\n",
    "        \"max_tokens\": 500,\n",
    "    }\n",
    "\n",
    "\n",
    "def get_new_agent():\n",
    "    \"\"\"Create a fresh agent instance\"\"\"\n",
    "    new_agent = VerySimpleAgent()\n",
    "    return new_agent\n",
    "\n",
    "with gr.Blocks() as demo:\n",
    "    chatbot = gr.Chatbot(type=\"messages\")\n",
    "    msg = gr.Textbox()\n",
    "    clear = gr.Button(\"Clear\")\n",
    "\n",
    "    # Initialize with a function call instead of direct instantiation\n",
    "    main_agent = gr.State(value=None)\n",
    "\n",
    "    def user(user_message, agent):\n",
    "        if agent is None:\n",
    "            agent = get_new_agent()\n",
    "        agent.add_message(\"user\", user_message)\n",
    "        return \"\", [{\"role\": \"user\", \"content\": user_message}], agent\n",
    "\n",
    "    async def bot(history, agent):\n",
    "        if agent is None:\n",
    "            agent = get_new_agent()\n",
    "        if not history:\n",
    "            yield [], agent\n",
    "            return\n",
    "        \n",
    "        history.append({\"role\": \"assistant\", \"content\": \"\"})\n",
    "        async for chunk in agent.run():\n",
    "            if chunk.content:\n",
    "                history[-1][\"content\"] += chunk.content\n",
    "                yield history, agent\n",
    "\n",
    "    def reset_state():\n",
    "        return None, get_new_agent()\n",
    "\n",
    "    msg.submit(user, [msg, main_agent], [msg, chatbot, main_agent]).then(\n",
    "        bot, [chatbot, main_agent], [chatbot, main_agent]\n",
    "    )\n",
    "    clear.click(reset_state, None, [chatbot, main_agent])\n",
    "\n",
    "demo.launch()"
   ]
  }
 ],
 "metadata": {
  "kernelspec": {
   "display_name": "agente",
   "language": "python",
   "name": "python3"
  },
  "language_info": {
   "codemirror_mode": {
    "name": "ipython",
    "version": 3
   },
   "file_extension": ".py",
   "mimetype": "text/x-python",
   "name": "python",
   "nbconvert_exporter": "python",
   "pygments_lexer": "ipython3",
   "version": "3.10.15"
  }
 },
 "nbformat": 4,
 "nbformat_minor": 2
}
