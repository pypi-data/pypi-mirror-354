{
 "cells": [
  {
   "cell_type": "markdown",
   "metadata": {},
   "source": [
    "# Scientific Paper Agent\n",
    "\n",
    "In this notebook, we will create an agent that given a dataframe will answer user questions about it. This example is based on the [Scientific Paper Agent](https://github.com/NirDiamant/GenAI_Agents/blob/main/all_agents_tutorials/scientific_paper_agent_langgraph.ipynb) from the [GenAI Agents](https://github.com/NirDiamant/GenAI_Agents) repository."
   ]
  },
  {
   "cell_type": "code",
   "execution_count": 1,
   "metadata": {},
   "outputs": [
    {
     "data": {
      "text/plain": [
       "True"
      ]
     },
     "execution_count": 1,
     "metadata": {},
     "output_type": "execute_result"
    }
   ],
   "source": [
    "import os \n",
    "import io\n",
    "import urllib3\n",
    "import pdfplumber\n",
    "import time\n",
    "\n",
    "from datetime import datetime, timedelta\n",
    "import requests\n",
    "from pydantic import BaseModel, Field\n",
    "\n",
    "from typing import  ClassVar\n",
    "\n",
    "from agente.core.base import BaseAgent,BaseTaskAgent\n",
    "from agente.core.decorators import function_tool,agent_tool\n",
    "\n",
    "## Load and set environment variables from .env file\n",
    "urllib3.disable_warnings(urllib3.exceptions.InsecureRequestWarning)\n",
    "\n",
    "from dotenv import load_dotenv\n",
    "load_dotenv()"
   ]
  },
  {
   "cell_type": "markdown",
   "metadata": {},
   "source": [
    "### First, let's define the Core API Wrapper"
   ]
  },
  {
   "cell_type": "code",
   "execution_count": 2,
   "metadata": {},
   "outputs": [],
   "source": [
    "class CoreAPIWrapper(BaseModel):\n",
    "    \"\"\"Simple wrapper around the CORE API.\"\"\"\n",
    "    base_url: ClassVar[str] = \"https://api.core.ac.uk/v3\"\n",
    "    api_key: ClassVar[str] = os.environ[\"CORE_API_KEY\"]\n",
    "\n",
    "    top_k_results: int = Field(description = \"Top k results obtained by running a query on Core\", default = 1)\n",
    "\n",
    "    def _get_search_response(self, query: str) -> dict:\n",
    "        http = urllib3.PoolManager()\n",
    "\n",
    "        # Retry mechanism to handle transient errors\n",
    "        max_retries = 5    \n",
    "        for attempt in range(max_retries):\n",
    "            response = http.request(\n",
    "                'GET',\n",
    "                f\"{self.base_url}/search/outputs\", \n",
    "                headers={\"Authorization\": f\"Bearer {self.api_key}\"}, \n",
    "                fields={\"q\": query, \"limit\": self.top_k_results}\n",
    "            )\n",
    "            if 200 <= response.status < 300:\n",
    "                return response.json()\n",
    "            elif attempt < max_retries - 1:\n",
    "                time.sleep(2 ** (attempt + 2))\n",
    "            else:\n",
    "                raise Exception(f\"Got non 2xx response from CORE API: {response.status} {response.data}\")\n",
    "\n",
    "    def search(self, query: str) -> str:\n",
    "        response = self._get_search_response(query)\n",
    "        results = response.get(\"results\", [])\n",
    "        if not results:\n",
    "            return \"No relevant results were found\"\n",
    "\n",
    "        # Format the results in a string\n",
    "        docs = []\n",
    "        for result in results:\n",
    "            published_date_str = result.get('publishedDate') or result.get('yearPublished', '')\n",
    "            authors_str = ' and '.join([item['name'] for item in result.get('authors', [])])\n",
    "            docs.append((\n",
    "                f\"* ID: {result.get('id', '')},\\n\"\n",
    "                f\"* Title: {result.get('title', '')},\\n\"\n",
    "                f\"* Published Date: {published_date_str},\\n\"\n",
    "                f\"* Authors: {authors_str},\\n\"\n",
    "                f\"* Abstract: {result.get('abstract', '')},\\n\"\n",
    "                f\"* Paper URLs: {result.get('sourceFulltextUrls') or result.get('downloadUrl', '')}\"\n",
    "            ))\n",
    "        return \"\\n-----\\n\".join(docs)"
   ]
  },
  {
   "cell_type": "markdown",
   "metadata": {},
   "source": [
    "### Now we start by defining the Judge Adgent, because is the last one to be used in the pipeline"
   ]
  },
  {
   "cell_type": "code",
   "execution_count": 4,
   "metadata": {},
   "outputs": [],
   "source": [
    "class JudgeAgent(BaseTaskAgent):\n",
    "    \"\"\"Agent that judges the quality of the final answer provided by the research agent.\"\"\"\n",
    "\n",
    "    agent_name:str = \"judge_agent\"\n",
    "    system_prompt: str = \"\"\"You are an expert scientific researcher.\n",
    "Your goal is to review the final answer you provided for a specific user query.\n",
    "\n",
    "Look at the conversation history between you and the user. Based on it, you need to decide if the final answer is satisfactory or not.\n",
    "\n",
    "A good final answer should:\n",
    "- Directly answer the user query. For example, it does not answer a question about a different paper or area of research.\n",
    "- Answer extensively the request from the user.\n",
    "- Take into account any feedback given through the conversation.\n",
    "- Provide inline sources to support any claim made in the answer.\n",
    "\n",
    "In case the answer is not good enough, provide clear and concise feedback on what needs to be improved to pass the evaluation.\n",
    "\n",
    "Write your evaluation by calling the `complete_task` function with the evaluation as an argument.\n",
    "\"\"\"\n",
    "    completion_kwargs: dict = {\n",
    "        \"model\": \"gpt-4o-mini\",\n",
    "        \"stream\": True,\n",
    "    }\n",
    "    user_query: str = None\n",
    "\n",
    "\n",
    "    @function_tool\n",
    "    def complete_task(self, evaluation: str, re_do: bool = False) -> str:\n",
    "        \"\"\"Evaluate the final answer and provide feedback.\n",
    "\n",
    "        Args:\n",
    "            evaluation: The evaluation of the final answer.\n",
    "            re_do: Whether to go repeat the research process or not. Default is False.\n",
    "        \"\"\"\n",
    "        if re_do:\n",
    "            self.parent_agent.next_tool_map[\"judge_agent\"] = \"planning_agent\"\n",
    "\n",
    "        return evaluation\n"
   ]
  },
  {
   "cell_type": "markdown",
   "metadata": {},
   "source": [
    "### Now we define the Planning Agent"
   ]
  },
  {
   "cell_type": "code",
   "execution_count": 5,
   "metadata": {},
   "outputs": [],
   "source": [
    "class PlanningAgent(BaseTaskAgent):\n",
    "    \"\"\"Agent that plans the search for research papers using the CORE API.\"\"\"\n",
    "\n",
    "    agent_name:str = \"planing_agent\"\n",
    "    system_prompt: str = \"\"\"# IDENTITY AND PURPOSE\n",
    "\n",
    "You are an experienced scientific researcher.\n",
    "Your goal is to make a new step by step plan to help the user with their scientific research .\n",
    "\n",
    "Subtasks should not rely on any assumptions or guesses, but only rely on the information provided in the context or look up for any additional information.\n",
    "\n",
    "If any feedback is provided about a previous answer, incorportate it in your new planning.\n",
    "\n",
    "\n",
    "# TOOLS\n",
    "\n",
    "For each subtask, indicate the given tool required to complete the subtask. \n",
    "Tools can be one of the following:\n",
    "\n",
    "- search_papers: Search for research papers using the CORE API.\n",
    "- download_paper: Download a research paper from a given URL.\n",
    "- ask_human_feedback: Ask for human feedback on a given answer.\n",
    "\"\"\"\n",
    "    completion_kwargs: dict = {\n",
    "        \"model\": \"gpt-4o-mini\",\n",
    "        \"stream\": True,\n",
    "    }\n",
    "\n",
    "\n",
    "    @function_tool\n",
    "    def complete_task(self, plan: str) -> str:\n",
    "        \"\"\"Complete the task by providing the plan.\n",
    "\n",
    "        Args:\n",
    "            plan: The plan to be executed        \n",
    "        \"\"\"\n",
    "        return plan"
   ]
  },
  {
   "cell_type": "markdown",
   "metadata": {},
   "source": [
    "### Now the research agent, that will be solely responsible to execute the research plan"
   ]
  },
  {
   "cell_type": "code",
   "execution_count": 6,
   "metadata": {},
   "outputs": [],
   "source": [
    "class ResearchAgent(BaseTaskAgent):\n",
    "    \"\"\"Agent that do the research for the user.\"\"\"\n",
    "\n",
    "    agent_name:str = \"research_agent\"\n",
    "    system_prompt: str = \"\"\"# IDENTITY AND PURPOSE\n",
    "\n",
    "You are an experienced scientific researcher. \n",
    "Your goal is to help the user with their scientific research. You have access to a set of external tools to complete your tasks.\n",
    "Follow the plan given by the planning agent to successfully complete the task.\n",
    "At the end call the complete_task tool to provide the final answer to the user.\n",
    "\n",
    "Add extensive inline citations to support any claim made in the answer.\n",
    "\n",
    "\n",
    "# EXTERNAL KNOWLEDGE\n",
    "\n",
    "## CORE API\n",
    "\n",
    "The CORE API has a specific query language that allows you to explore a vast papers collection and perform complex queries. See the following table for a list of available operators:\n",
    "\n",
    "| Operator       | Accepted symbols         | Meaning                                                                                      |\n",
    "|---------------|-------------------------|----------------------------------------------------------------------------------------------|\n",
    "| And           | AND, +, space          | Logical binary and.                                                                           |\n",
    "| Or            | OR                     | Logical binary or.                                                                            |\n",
    "| Grouping      | (...)                  | Used to prioritise and group elements of the query.                                           |\n",
    "| Field lookup  | field_name:value       | Used to support lookup of specific fields.                                                    |\n",
    "| Range queries | fieldName(>, <,>=, <=) | For numeric and date fields, it allows to specify a range of valid values to return.         |\n",
    "| Exists queries| _exists_:fieldName     | Allows for complex queries, it returns all the items where the field specified by fieldName is not empty. |\n",
    "\n",
    "Use this table to formulate more complex queries filtering for specific papers, for example publication date/year.\n",
    "Here are the relevant fields of a paper object you can use to filter the results:\n",
    "{\n",
    "  \"authors\": [{\"name\": \"Last Name, First Name\"}],\n",
    "  \"documentType\": \"presentation\" or \"research\" or \"thesis\",\n",
    "  \"publishedDate\": \"2019-08-24T14:15:22Z\",\n",
    "  \"title\": \"Title of the paper\",\n",
    "  \"yearPublished\": \"2019\"\n",
    "}\n",
    "\n",
    "Example queries:\n",
    "- \"machine learning AND yearPublished:2023\"\n",
    "- \"maritime biology AND yearPublished>=2023 AND yearPublished<=2024\"\n",
    "- \"cancer research AND authors:Vaswani, Ashish AND authors:Bello, Irwan\"\n",
    "- \"title:Attention is all you need\"\n",
    "- \"mathematics AND _exists_:abstract\"\n",
    "\"\"\"\n",
    "\n",
    "    completion_kwargs: dict = {\n",
    "        \"model\": \"gpt-4o-mini\",\n",
    "        \"stream\": True,\n",
    "        \"tool_choice\": \"required\"\n",
    "    }\n",
    "\n",
    "\n",
    "    @function_tool\n",
    "    def search_papers(self,query: str,max_papers: int,) -> str:\n",
    "        \"\"\"Search for scientific papers using the CORE API.\n",
    "\n",
    "        Example:\n",
    "        {\"query\": \"Attention is all you need\", \"max_papers\": 1}\n",
    "\n",
    "        Args:\n",
    "            query: The query to search for scientific papers.\n",
    "            max_papers: The maximum number of papers to return. Default is 1.\n",
    "        \"\"\"\n",
    "        try:\n",
    "            return CoreAPIWrapper(top_k_results=max_papers).search(query)\n",
    "        except Exception as e:\n",
    "            return f\"Error performing paper search: {e}\"\n",
    "\n",
    "    @function_tool\n",
    "    def download_paper(self,url: str) -> str:\n",
    "        \"\"\"Download a specific scientific paper from a given URL.\n",
    "\n",
    "        Example:\n",
    "        {\"url\": \"https://sample.pdf\"}\n",
    "\n",
    "        Args:\n",
    "            url: The URL to download the scientific paper\n",
    "        \"\"\"\n",
    "        try:        \n",
    "            http = urllib3.PoolManager(\n",
    "                cert_reqs='CERT_NONE',\n",
    "            )\n",
    "            \n",
    "            # Mock browser headers to avoid 403 error\n",
    "            headers = {\n",
    "                'User-Agent': 'Mozilla/5.0 (Windows NT 10.0; Win64; x64) AppleWebKit/537.36 (KHTML, like Gecko) Chrome/91.0.4472.124 Safari/537.36',\n",
    "                'Accept': 'text/html,application/xhtml+xml,application/xml;q=0.9,*/*;q=0.8',\n",
    "                'Accept-Language': 'en-US,en;q=0.5',\n",
    "                'Accept-Encoding': 'gzip, deflate, br',\n",
    "                'Connection': 'keep-alive',\n",
    "            }\n",
    "            max_retries = 5\n",
    "            for attempt in range(max_retries):\n",
    "                response = http.request('GET', url, headers=headers)\n",
    "                if 200 <= response.status < 300:\n",
    "                    pdf_file = io.BytesIO(response.data)\n",
    "                    with pdfplumber.open(pdf_file) as pdf:\n",
    "                        text = \"\"\n",
    "                        for page in pdf.pages:\n",
    "                            text += page.extract_text() + \"\\n\"\n",
    "                    return text\n",
    "                elif attempt < max_retries - 1:\n",
    "                    time.sleep(2 ** (attempt + 2))\n",
    "                else:\n",
    "                    raise Exception(f\"Got non 2xx when downloading paper: {response.status_code} {response.text}\")\n",
    "        except Exception as e:\n",
    "            return f\"Error downloading paper: {e}\"\n",
    "\n",
    "\n",
    "    @agent_tool\n",
    "    def ask_human_feedback(self,question: str) -> str:\n",
    "        \"\"\"Ask for human feedback. You should call this tool when encountering unexpected errors.\n",
    "\n",
    "        Args:\n",
    "            question: The question to ask for human feedback       \n",
    "        \"\"\"\n",
    "\n",
    "        class HumanFeedback(BaseTaskAgent):\n",
    "\n",
    "            agent_name:str = \"human_feedback\"\n",
    "\n",
    "            @function_tool\n",
    "            def complete_task(self, feedback: str) -> str:\n",
    "                \"\"\"Complete the task by providing the feedback.\n",
    "\n",
    "                Args:\n",
    "                    feedback: The feedback provided by the human.\n",
    "                \"\"\"\n",
    "                return feedback\n",
    "        \n",
    "        human_feedback = HumanFeedback()\n",
    "        human_feedback.add_message(\"assistant\",question)\n",
    "        return human_feedback\n",
    "            \n",
    "\n",
    "    @function_tool\n",
    "    def complete_task(self, final_answer: str) -> str:\n",
    "        \"\"\"Complete the task by providing the final answer.\n",
    "        \n",
    "        Args:\n",
    "            final_answer: The final answer to the user query.\n",
    "        \"\"\"\n",
    "        return final_answer"
   ]
  },
  {
   "cell_type": "markdown",
   "metadata": {},
   "source": [
    "### Now let's define the main agent, responsible to orchestrate the other agents. \n",
    "\n",
    "Here, we merge the original, and initial, decision step in the same main agent. It will decice if it replies directly or start the research pipeline, by calling the planning agent."
   ]
  },
  {
   "cell_type": "code",
   "execution_count": 7,
   "metadata": {},
   "outputs": [],
   "source": [
    "class MainAgent(BaseAgent):\n",
    "\n",
    "    agent_name:str = \"MainAgent\"\n",
    "    system_prompt: str = \"\"\"You are an experienced scientific researcher.\n",
    "Your goal is to help the user with their scientific research.\n",
    "\n",
    "Based on the user query, decide if you need to perform a research or if you can answer the question directly.\n",
    "- You should perform a research if the user query requires any supporting evidence or information. In this case, you should call first the planning agent to create a plan and then the research agent to execute the plan, and finally the judge agent to evaluate the final answer.\n",
    "- You should answer the question directly only for simple conversational questions, like \"how are you?\".\n",
    "\"\"\"    \n",
    "    completion_kwargs: dict = {\n",
    "        \"model\": \"gpt-4o-mini\",\n",
    "        \"stream\": True\n",
    "    }\n",
    "\n",
    "    user_query:str = None\n",
    "\n",
    "    @agent_tool(next_tool=\"research_agent\",manual_call=lambda m:{'plan':m})\n",
    "    def planning_agent(self,user_query: str):\n",
    "        \"\"\"The query to be planned\n",
    "\n",
    "        Args:\n",
    "            user_query: The user query.        \n",
    "        \"\"\"\n",
    "        self.user_query = user_query\n",
    "        planning_agent = PlanningAgent()\n",
    "        planning_agent.add_message(\"user\",user_query)\n",
    "        return planning_agent\n",
    "\n",
    "    @agent_tool(next_tool=\"judge_agent\",manual_call=lambda m:{'final_answer':m})\n",
    "    def research_agent(self,plan: str):\n",
    "        \"\"\"The plan to be executed\n",
    "        \n",
    "        Args:\n",
    "            plan: The plan to be executed        \n",
    "        \"\"\"\n",
    "\n",
    "        research_agent = ResearchAgent()\n",
    "        research_agent.add_message(\"user\",plan)\n",
    "        return research_agent\n",
    "\n",
    "    @agent_tool\n",
    "    def judge_agent(self,final_answer: str):\n",
    "        \"\"\"Judge tool that will evaluate the answer from the research agent. It should be used after the research agent have finished its job.\n",
    "\n",
    "        Args:\n",
    "            final_answer: The final answer to be judged\n",
    "\n",
    "        \"\"\" \n",
    "        judge_agent = JudgeAgent(user_query = self.user_query)\n",
    "        prompt = f\"Initial user question:{self.user_query}\\n\\nThe answer from the research agent:{final_answer}\"\n",
    "        judge_agent.add_message(\"user\",prompt)\n",
    "        return judge_agent"
   ]
  },
  {
   "cell_type": "code",
   "execution_count": 8,
   "metadata": {},
   "outputs": [],
   "source": [
    "main_agent = MainAgent()\n",
    "main_agent.add_message(\"user\",\"Can you find 5 papers on quantum machine learning?\")"
   ]
  },
  {
   "cell_type": "code",
   "execution_count": 9,
   "metadata": {},
   "outputs": [
    {
     "name": "stdout",
     "output_type": "stream",
     "text": [
      "Executing agent: MainAgent\n",
      "Executing agent: planing_agent\n",
      "Executing tool: complete_task from agent planing_agent\n",
      "Executing agent: research_agent\n",
      "Executing tool: search_papers from agent research_agent\n",
      "Executing agent: research_agent\n",
      "Executing tool: complete_task from agent research_agent\n",
      "Executing agent: judge_agent\n",
      "Executing tool: complete_task from agent judge_agent\n",
      "Executing agent: MainAgent\n"
     ]
    }
   ],
   "source": [
    "async for response in main_agent.run(max_retries = 10):\n",
    "    continue"
   ]
  },
  {
   "cell_type": "code",
   "execution_count": 10,
   "metadata": {},
   "outputs": [
    {
     "data": {
      "text/plain": [
       "[Message(role='system', agent_name='MainAgent', content='You are an experienced scientific researcher.\\nYour goal is to help the user with their scientific research.\\n\\nBased on the user query, decide if you need to perform a research or if you can answer the question directly.\\n- You should perform a research if the user query requires any supporting evidence or information. In this case, you should call first the planning agent to create a plan and then the research agent to execute the plan, and finally the judge agent to evaluate the final answer.\\n- You should answer the question directly only for simple conversational questions, like \"how are you?\".\\n', tool_calls=None, tool_call_id=None, tool_name=None, hidden=False, id=None, usage=None),\n",
       " Message(role='user', agent_name='MainAgent', content='Can you find 5 papers on quantum machine learning?', tool_calls=None, tool_call_id=None, tool_name=None, hidden=False, id=None, usage=None),\n",
       " Message(role='assistant', agent_name='MainAgent', content=None, tool_calls=[{'index': 0, 'function': {'arguments': '{\"user_query\":\"find 5 papers on quantum machine learning\"}', 'name': 'planning_agent'}, 'id': 'call_8S3e57Qx9lmEJH5XNaheZhFl', 'type': 'function'}], tool_call_id=None, tool_name=None, hidden=False, id=None, usage=None),\n",
       " Message(role='tool', agent_name='MainAgent', content='\"1. Use the `search_papers` tool to look for research papers focused on the topic of quantum machine learning. \\\\n2. Gather the top 5 relevant papers based on the search results.\"', tool_calls=None, tool_call_id='call_8S3e57Qx9lmEJH5XNaheZhFl', tool_name='planning_agent', hidden=False, id=None, usage=None),\n",
       " Message(role='assistant', agent_name='MainAgent', content=None, tool_calls=[{'id': 'man_UzbfzZdnqx1xDu4QHHCMjdWN', 'function': {'name': 'research_agent', 'arguments': '{\"plan\": \"1. Use the `search_papers` tool to look for research papers focused on the topic of quantum machine learning. \\\\n2. Gather the top 5 relevant papers based on the search results.\"}'}, 'type': 'function'}], tool_call_id=None, tool_name=None, hidden=False, id=None, usage=None),\n",
       " Message(role='tool', agent_name='MainAgent', content='\"Here are the top 5 relevant research papers focused on the topic of quantum machine learning:\\\\n\\\\n1. **Quantum Circuit Learning**  \\\\n   - **Authors**: Mitarai, Kosuke; Negoro, Makoto; Kitagawa, Masahiro; Fujii, Keisuke  \\\\n   - **Published Date**: April 23, 2019  \\\\n   - **Abstract**: This paper proposes a classical-quantum hybrid algorithm for machine learning on near-term quantum processors. The proposed framework allows a quantum circuit to learn a task by tuning its parameters, demonstrating the ability to approximate nonlinear functions verified by numerical simulations.  \\\\n   - **URL**: [Read Paper](http://arxiv.org/abs/1803.00745)\\\\n\\\\n2. **The Power of One Qubit in Machine Learning**  \\\\n   - **Authors**: Ghobadi, Roohollah; Oberoi, Jaspreet S.; Zahedinejhad, Ehsan  \\\\n   - **Published Date**: June 8, 2019  \\\\n   - **Abstract**: This research introduces a kernel-based quantum machine learning algorithm that can be executed on a near-term quantum device. It emphasizes the role of quantum correlations in machine learning applications, distinct from quantum entanglement.  \\\\n   - **URL**: [Read Paper](http://arxiv.org/abs/1905.01390)\\\\n\\\\n3. **Quantum Machine Learning**  \\\\n   - **Authors**: Biamonte, Jacob; Wittek, Peter; Pancotti, Nicola; Rebentrost, Patrick; Wiebe, Nathan; Lloyd, Seth  \\\\n   - **Published Date**: May 10, 2018  \\\\n   - **Abstract**: This paper discusses the potential advantages of quantum computers over classical systems in machine learning tasks, considering the current challenges in quantum hardware and software.  \\\\n   - **URL**: [Read Paper](http://arxiv.org/abs/1611.09347)\\\\n\\\\n4. **Quantum Machine Learning: A Classical Perspective**  \\\\n   - **Authors**: Ciliberto, Carlo; Herbster, Mark; Ialongo, Alessandro Davide; Pontil, Massimiliano; Rocchetto, Andrea; Severini, Simone; Wossnig, Leonard  \\\\n   - **Published Date**: February 13, 2018  \\\\n   - **Abstract**: This review addresses how quantum computation can enhance classical machine learning algorithms, highlighting their limitations and promising future directions. It discusses practical considerations such as encoding classical data in quantum form.  \\\\n   - **URL**: [Read Paper](http://arxiv.org/abs/1707.08561)\\\\n\\\\n5. **Quantum-Enhanced Machine Learning**  \\\\n   - **Authors**: Dunjko, Vedran; Taylor, Jacob M.; Briegel, Hans J.  \\\\n   - **Published Date**: October 26, 2016  \\\\n   - **Abstract**: This study explores quantum enhancements in various machine learning paradigms, specifically focusing on supervised, unsupervised, and reinforcement learning, and outlines improvements in learning efficiency for a variety of problems.  \\\\n   - **URL**: [Read Paper](http://arxiv.org/abs/1610.08251) \\\\n\\\\nThese papers illustrate the breadth and depth of research in quantum machine learning, highlighting both theoretical advances and practical approaches.\"', tool_calls=None, tool_call_id='man_UzbfzZdnqx1xDu4QHHCMjdWN', tool_name='research_agent', hidden=False, id=None, usage=None),\n",
       " Message(role='assistant', agent_name='MainAgent', content=None, tool_calls=[{'id': 'man_bIqt2UNAtOoDzMNa0oxhVu3r', 'function': {'name': 'judge_agent', 'arguments': '{\"final_answer\": \"Here are the top 5 relevant research papers focused on the topic of quantum machine learning:\\\\n\\\\n1. **Quantum Circuit Learning**  \\\\n   - **Authors**: Mitarai, Kosuke; Negoro, Makoto; Kitagawa, Masahiro; Fujii, Keisuke  \\\\n   - **Published Date**: April 23, 2019  \\\\n   - **Abstract**: This paper proposes a classical-quantum hybrid algorithm for machine learning on near-term quantum processors. The proposed framework allows a quantum circuit to learn a task by tuning its parameters, demonstrating the ability to approximate nonlinear functions verified by numerical simulations.  \\\\n   - **URL**: [Read Paper](http://arxiv.org/abs/1803.00745)\\\\n\\\\n2. **The Power of One Qubit in Machine Learning**  \\\\n   - **Authors**: Ghobadi, Roohollah; Oberoi, Jaspreet S.; Zahedinejhad, Ehsan  \\\\n   - **Published Date**: June 8, 2019  \\\\n   - **Abstract**: This research introduces a kernel-based quantum machine learning algorithm that can be executed on a near-term quantum device. It emphasizes the role of quantum correlations in machine learning applications, distinct from quantum entanglement.  \\\\n   - **URL**: [Read Paper](http://arxiv.org/abs/1905.01390)\\\\n\\\\n3. **Quantum Machine Learning**  \\\\n   - **Authors**: Biamonte, Jacob; Wittek, Peter; Pancotti, Nicola; Rebentrost, Patrick; Wiebe, Nathan; Lloyd, Seth  \\\\n   - **Published Date**: May 10, 2018  \\\\n   - **Abstract**: This paper discusses the potential advantages of quantum computers over classical systems in machine learning tasks, considering the current challenges in quantum hardware and software.  \\\\n   - **URL**: [Read Paper](http://arxiv.org/abs/1611.09347)\\\\n\\\\n4. **Quantum Machine Learning: A Classical Perspective**  \\\\n   - **Authors**: Ciliberto, Carlo; Herbster, Mark; Ialongo, Alessandro Davide; Pontil, Massimiliano; Rocchetto, Andrea; Severini, Simone; Wossnig, Leonard  \\\\n   - **Published Date**: February 13, 2018  \\\\n   - **Abstract**: This review addresses how quantum computation can enhance classical machine learning algorithms, highlighting their limitations and promising future directions. It discusses practical considerations such as encoding classical data in quantum form.  \\\\n   - **URL**: [Read Paper](http://arxiv.org/abs/1707.08561)\\\\n\\\\n5. **Quantum-Enhanced Machine Learning**  \\\\n   - **Authors**: Dunjko, Vedran; Taylor, Jacob M.; Briegel, Hans J.  \\\\n   - **Published Date**: October 26, 2016  \\\\n   - **Abstract**: This study explores quantum enhancements in various machine learning paradigms, specifically focusing on supervised, unsupervised, and reinforcement learning, and outlines improvements in learning efficiency for a variety of problems.  \\\\n   - **URL**: [Read Paper](http://arxiv.org/abs/1610.08251) \\\\n\\\\nThese papers illustrate the breadth and depth of research in quantum machine learning, highlighting both theoretical advances and practical approaches.\"}'}, 'type': 'function'}], tool_call_id=None, tool_name=None, hidden=False, id=None, usage=None),\n",
       " Message(role='tool', agent_name='MainAgent', content='\"The final answer is satisfactory. It directly addresses the user\\'s query by providing a list of five relevant papers specifically focusing on quantum machine learning. Each entry includes important details such as authors, publication dates, abstracts, and URLs for accessing the papers, which ensures a comprehensive response. Additionally, the selection showcases a variety of topics within the field, reflecting both theoretical and practical aspects. Overall, the answer is extensive and aligns well with the user\\'s request.\"', tool_calls=None, tool_call_id='man_bIqt2UNAtOoDzMNa0oxhVu3r', tool_name='judge_agent', hidden=False, id=None, usage=None),\n",
       " Message(role='assistant', agent_name='MainAgent', content='Here are the top 5 relevant research papers focused on the topic of quantum machine learning:\\n\\n1. **Quantum Circuit Learning**  \\n   - **Authors**: Mitarai, Kosuke; Negoro, Makoto; Kitagawa, Masahiro; Fujii, Keisuke  \\n   - **Published Date**: April 23, 2019  \\n   - **Abstract**: This paper proposes a classical-quantum hybrid algorithm for machine learning on near-term quantum processors. The proposed framework allows a quantum circuit to learn a task by tuning its parameters, demonstrating the ability to approximate nonlinear functions verified by numerical simulations.  \\n   - **URL**: [Read Paper](http://arxiv.org/abs/1803.00745)\\n\\n2. **The Power of One Qubit in Machine Learning**  \\n   - **Authors**: Ghobadi, Roohollah; Oberoi, Jaspreet S.; Zahedinejhad, Ehsan  \\n   - **Published Date**: June 8, 2019  \\n   - **Abstract**: This research introduces a kernel-based quantum machine learning algorithm that can be executed on a near-term quantum device. It emphasizes the role of quantum correlations in machine learning applications, distinct from quantum entanglement.  \\n   - **URL**: [Read Paper](http://arxiv.org/abs/1905.01390)\\n\\n3. **Quantum Machine Learning**  \\n   - **Authors**: Biamonte, Jacob; Wittek, Peter; Pancotti, Nicola; Rebentrost, Patrick; Wiebe, Nathan; Lloyd, Seth  \\n   - **Published Date**: May 10, 2018  \\n   - **Abstract**: This paper discusses the potential advantages of quantum computers over classical systems in machine learning tasks, considering the current challenges in quantum hardware and software.  \\n   - **URL**: [Read Paper](http://arxiv.org/abs/1611.09347)\\n\\n4. **Quantum Machine Learning: A Classical Perspective**  \\n   - **Authors**: Ciliberto, Carlo; Herbster, Mark; Ialongo, Alessandro Davide; Pontil, Massimiliano; Rocchetto, Andrea; Severini, Simone; Wossnig, Leonard  \\n   - **Published Date**: February 13, 2018  \\n   - **Abstract**: This review addresses how quantum computation can enhance classical machine learning algorithms, highlighting their limitations and promising future directions. It discusses practical considerations such as encoding classical data in quantum form.  \\n   - **URL**: [Read Paper](http://arxiv.org/abs/1707.08561)\\n\\n5. **Quantum-Enhanced Machine Learning**  \\n   - **Authors**: Dunjko, Vedran; Taylor, Jacob M.; Briegel, Hans J.  \\n   - **Published Date**: October 26, 2016  \\n   - **Abstract**: This study explores quantum enhancements in various machine learning paradigms, specifically focusing on supervised, unsupervised, and reinforcement learning, and outlines improvements in learning efficiency for a variety of problems.  \\n   - **URL**: [Read Paper](http://arxiv.org/abs/1610.08251) \\n\\nThese papers illustrate the breadth and depth of research in quantum machine learning, highlighting both theoretical advances and practical approaches.', tool_calls=None, tool_call_id=None, tool_name=None, hidden=False, id=None, usage=None)]"
      ]
     },
     "execution_count": 10,
     "metadata": {},
     "output_type": "execute_result"
    }
   ],
   "source": [
    "main_agent.conv_history.messages"
   ]
  },
  {
   "cell_type": "code",
   "execution_count": 11,
   "metadata": {},
   "outputs": [
    {
     "data": {
      "text/plain": [
       "[Message(role='system', agent_name='research_agent', content='# IDENTITY AND PURPOSE\\n\\nYou are an experienced scientific researcher. \\nYour goal is to help the user with their scientific research. You have access to a set of external tools to complete your tasks.\\nFollow the plan given by the planning agent to successfully complete the task.\\nAt the end call the complete_task tool to provide the final answer to the user.\\n\\nAdd extensive inline citations to support any claim made in the answer.\\n\\n\\n# EXTERNAL KNOWLEDGE\\n\\n## CORE API\\n\\nThe CORE API has a specific query language that allows you to explore a vast papers collection and perform complex queries. See the following table for a list of available operators:\\n\\n| Operator       | Accepted symbols         | Meaning                                                                                      |\\n|---------------|-------------------------|----------------------------------------------------------------------------------------------|\\n| And           | AND, +, space          | Logical binary and.                                                                           |\\n| Or            | OR                     | Logical binary or.                                                                            |\\n| Grouping      | (...)                  | Used to prioritise and group elements of the query.                                           |\\n| Field lookup  | field_name:value       | Used to support lookup of specific fields.                                                    |\\n| Range queries | fieldName(>, <,>=, <=) | For numeric and date fields, it allows to specify a range of valid values to return.         |\\n| Exists queries| _exists_:fieldName     | Allows for complex queries, it returns all the items where the field specified by fieldName is not empty. |\\n\\nUse this table to formulate more complex queries filtering for specific papers, for example publication date/year.\\nHere are the relevant fields of a paper object you can use to filter the results:\\n{\\n  \"authors\": [{\"name\": \"Last Name, First Name\"}],\\n  \"documentType\": \"presentation\" or \"research\" or \"thesis\",\\n  \"publishedDate\": \"2019-08-24T14:15:22Z\",\\n  \"title\": \"Title of the paper\",\\n  \"yearPublished\": \"2019\"\\n}\\n\\nExample queries:\\n- \"machine learning AND yearPublished:2023\"\\n- \"maritime biology AND yearPublished>=2023 AND yearPublished<=2024\"\\n- \"cancer research AND authors:Vaswani, Ashish AND authors:Bello, Irwan\"\\n- \"title:Attention is all you need\"\\n- \"mathematics AND _exists_:abstract\"\\n', tool_calls=None, tool_call_id=None, tool_name=None, hidden=False, id=None, usage=None),\n",
       " Message(role='user', agent_name='research_agent', content='1. Use the `search_papers` tool to look for research papers focused on the topic of quantum machine learning. \\n2. Gather the top 5 relevant papers based on the search results.', tool_calls=None, tool_call_id=None, tool_name=None, hidden=False, id=None, usage=None),\n",
       " Message(role='assistant', agent_name='research_agent', content=None, tool_calls=[{'index': 0, 'function': {'arguments': '{\"query\":\"quantum machine learning\",\"max_papers\":5}', 'name': 'search_papers'}, 'id': 'call_CmNu3CjcOfMt7YNo74IHZtkK', 'type': 'function'}], tool_call_id=None, tool_name=None, hidden=False, id=None, usage=None),\n",
       " Message(role='tool', agent_name='research_agent', content='\"* ID: 151256742,\\\\n* Title: Quantum Circuit Learning,\\\\n* Published Date: 2019-04-23T01:00:00+01:00,\\\\n* Authors: Mitarai, Kosuke and Negoro, Makoto and Kitagawa, Masahiro and Fujii, Keisuke,\\\\n* Abstract: We propose a classical-quantum hybrid algorithm for machine learning on\\\\nnear-term quantum processors, which we call quantum circuit learning. A quantum\\\\ncircuit driven by our framework learns a given task by tuning parameters\\\\nimplemented on it. The iterative optimization of the parameters allows us to\\\\ncircumvent the high-depth circuit. Theoretical investigation shows that a\\\\nquantum circuit can approximate nonlinear functions, which is further confirmed\\\\nby numerical simulations. Hybridizing a low-depth quantum circuit and a\\\\nclassical computer for machine learning, the proposed framework paves the way\\\\ntoward applications of near-term quantum devices for quantum machine learning,\\\\n* Paper URLs: [\\'http://arxiv.org/abs/1803.00745\\']\\\\n-----\\\\n* ID: 200833552,\\\\n* Title: The Power of One Qubit in Machine Learning,\\\\n* Published Date: 2019-06-08T01:00:00+01:00,\\\\n* Authors: Ghobadi, Roohollah and Oberoi, Jaspreet S. and Zahedinejhad, Ehsan,\\\\n* Abstract: Kernel methods are used extensively in classical machine learning, especially\\\\nin the field of pattern analysis. In this paper, we propose a kernel-based\\\\nquantum machine learning algorithm that can be implemented on a near-term,\\\\nintermediate scale quantum device. Our proposal is based on estimating\\\\nclassically intractable kernel functions, using a restricted quantum model\\\\nknown as deterministic quantum computing with one qubit. Our method provides a\\\\nframework for studying the role of quantum correlations other than quantum\\\\nentanglement for machine learning applications,\\\\n* Paper URLs: [\\'http://arxiv.org/abs/1905.01390\\']\\\\n-----\\\\n* ID: 73423988,\\\\n* Title: Quantum Machine Learning,\\\\n* Published Date: 2018-05-10T01:00:00+01:00,\\\\n* Authors: Biamonte, Jacob and Wittek, Peter and Pancotti, Nicola and Rebentrost, Patrick and Wiebe, Nathan and Lloyd, Seth,\\\\n* Abstract: Fuelled by increasing computer power and algorithmic advances, machine\\\\nlearning techniques have become powerful tools for finding patterns in data.\\\\nSince quantum systems produce counter-intuitive patterns believed not to be\\\\nefficiently produced by classical systems, it is reasonable to postulate that\\\\nquantum computers may outperform classical computers on machine learning tasks.\\\\nThe field of quantum machine learning explores how to devise and implement\\\\nconcrete quantum software that offers such advantages. Recent work has made\\\\nclear that the hardware and software challenges are still considerable but has\\\\nalso opened paths towards solutions.Comment: 24 pages, 2 figure,\\\\n* Paper URLs: [\\'http://arxiv.org/abs/1611.09347\\']\\\\n-----\\\\n* ID: 86415391,\\\\n* Title: Quantum machine learning: a classical perspective,\\\\n* Published Date: 2018-02-13T00:00:00+00:00,\\\\n* Authors: Ciliberto, Carlo and Herbster, Mark and Ialongo, Alessandro Davide and Pontil, Massimiliano and Rocchetto, Andrea and Severini, Simone and Wossnig, Leonard,\\\\n* Abstract: Recently, increased computational power and data availability, as well as\\\\nalgorithmic advances, have led machine learning techniques to impressive\\\\nresults in regression, classification, data-generation and reinforcement\\\\nlearning tasks. Despite these successes, the proximity to the physical limits\\\\nof chip fabrication alongside the increasing size of datasets are motivating a\\\\ngrowing number of researchers to explore the possibility of harnessing the\\\\npower of quantum computation to speed-up classical machine learning algorithms.\\\\nHere we review the literature in quantum machine learning and discuss\\\\nperspectives for a mixed readership of classical machine learning and quantum\\\\ncomputation experts. Particular emphasis will be placed on clarifying the\\\\nlimitations of quantum algorithms, how they compare with their best classical\\\\ncounterparts and why quantum resources are expected to provide advantages for\\\\nlearning problems. Learning in the presence of noise and certain\\\\ncomputationally hard problems in machine learning are identified as promising\\\\ndirections for the field. Practical questions, like how to upload classical\\\\ndata into quantum form, will also be addressed.Comment: v3 33 pages; typos corrected and references adde,\\\\n* Paper URLs: [\\'http://arxiv.org/abs/1707.08561\\']\\\\n-----\\\\n* ID: 73401508,\\\\n* Title: Quantum-enhanced machine learning,\\\\n* Published Date: 2016-10-26T01:00:00+01:00,\\\\n* Authors: Dunjko, Vedran and Taylor, Jacob M. and Briegel, Hans J.,\\\\n* Abstract: The emerging field of quantum machine learning has the potential to\\\\nsubstantially aid in the problems and scope of artificial intelligence. This is\\\\nonly enhanced by recent successes in the field of classical machine learning.\\\\nIn this work we propose an approach for the systematic treatment of machine\\\\nlearning, from the perspective of quantum information. Our approach is general\\\\nand covers all three main branches of machine learning: supervised,\\\\nunsupervised and reinforcement learning. While quantum improvements in\\\\nsupervised and unsupervised learning have been reported, reinforcement learning\\\\nhas received much less attention. Within our approach, we tackle the problem of\\\\nquantum enhancements in reinforcement learning as well, and propose a\\\\nsystematic scheme for providing improvements. As an example, we show that\\\\nquadratic improvements in learning efficiency, and exponential improvements in\\\\nperformance over limited time periods, can be obtained for a broad class of\\\\nlearning problems.Comment: 5+15 pages. This paper builds upon and mostly supersedes\\\\n  arXiv:1507.08482. In addition to results provided in this previous work, here\\\\n  we achieve learning improvements in more general environments, and provide\\\\n  connections to other work in quantum machine learning. Explicit constructions\\\\n  of oracularized environments given in arXiv:1507.08482 are omitted in this\\\\n  versio,\\\\n* Paper URLs: [\\'http://arxiv.org/abs/1610.08251\\']\"', tool_calls=None, tool_call_id='call_CmNu3CjcOfMt7YNo74IHZtkK', tool_name='search_papers', hidden=False, id=None, usage=None),\n",
       " Message(role='assistant', agent_name='research_agent', content=None, tool_calls=[{'index': 0, 'function': {'arguments': '{\"final_answer\":\"Here are the top 5 relevant research papers focused on the topic of quantum machine learning:\\\\n\\\\n1. **Quantum Circuit Learning**  \\\\n   - **Authors**: Mitarai, Kosuke; Negoro, Makoto; Kitagawa, Masahiro; Fujii, Keisuke  \\\\n   - **Published Date**: April 23, 2019  \\\\n   - **Abstract**: This paper proposes a classical-quantum hybrid algorithm for machine learning on near-term quantum processors. The proposed framework allows a quantum circuit to learn a task by tuning its parameters, demonstrating the ability to approximate nonlinear functions verified by numerical simulations.  \\\\n   - **URL**: [Read Paper](http://arxiv.org/abs/1803.00745)\\\\n\\\\n2. **The Power of One Qubit in Machine Learning**  \\\\n   - **Authors**: Ghobadi, Roohollah; Oberoi, Jaspreet S.; Zahedinejhad, Ehsan  \\\\n   - **Published Date**: June 8, 2019  \\\\n   - **Abstract**: This research introduces a kernel-based quantum machine learning algorithm that can be executed on a near-term quantum device. It emphasizes the role of quantum correlations in machine learning applications, distinct from quantum entanglement.  \\\\n   - **URL**: [Read Paper](http://arxiv.org/abs/1905.01390)\\\\n\\\\n3. **Quantum Machine Learning**  \\\\n   - **Authors**: Biamonte, Jacob; Wittek, Peter; Pancotti, Nicola; Rebentrost, Patrick; Wiebe, Nathan; Lloyd, Seth  \\\\n   - **Published Date**: May 10, 2018  \\\\n   - **Abstract**: This paper discusses the potential advantages of quantum computers over classical systems in machine learning tasks, considering the current challenges in quantum hardware and software.  \\\\n   - **URL**: [Read Paper](http://arxiv.org/abs/1611.09347)\\\\n\\\\n4. **Quantum Machine Learning: A Classical Perspective**  \\\\n   - **Authors**: Ciliberto, Carlo; Herbster, Mark; Ialongo, Alessandro Davide; Pontil, Massimiliano; Rocchetto, Andrea; Severini, Simone; Wossnig, Leonard  \\\\n   - **Published Date**: February 13, 2018  \\\\n   - **Abstract**: This review addresses how quantum computation can enhance classical machine learning algorithms, highlighting their limitations and promising future directions. It discusses practical considerations such as encoding classical data in quantum form.  \\\\n   - **URL**: [Read Paper](http://arxiv.org/abs/1707.08561)\\\\n\\\\n5. **Quantum-Enhanced Machine Learning**  \\\\n   - **Authors**: Dunjko, Vedran; Taylor, Jacob M.; Briegel, Hans J.  \\\\n   - **Published Date**: October 26, 2016  \\\\n   - **Abstract**: This study explores quantum enhancements in various machine learning paradigms, specifically focusing on supervised, unsupervised, and reinforcement learning, and outlines improvements in learning efficiency for a variety of problems.  \\\\n   - **URL**: [Read Paper](http://arxiv.org/abs/1610.08251) \\\\n\\\\nThese papers illustrate the breadth and depth of research in quantum machine learning, highlighting both theoretical advances and practical approaches.\"}', 'name': 'complete_task'}, 'id': 'call_TuK42ZAtktHUQPBbN5TGqgZH', 'type': 'function'}], tool_call_id=None, tool_name=None, hidden=False, id=None, usage=None),\n",
       " Message(role='tool', agent_name='research_agent', content='\"Here are the top 5 relevant research papers focused on the topic of quantum machine learning:\\\\n\\\\n1. **Quantum Circuit Learning**  \\\\n   - **Authors**: Mitarai, Kosuke; Negoro, Makoto; Kitagawa, Masahiro; Fujii, Keisuke  \\\\n   - **Published Date**: April 23, 2019  \\\\n   - **Abstract**: This paper proposes a classical-quantum hybrid algorithm for machine learning on near-term quantum processors. The proposed framework allows a quantum circuit to learn a task by tuning its parameters, demonstrating the ability to approximate nonlinear functions verified by numerical simulations.  \\\\n   - **URL**: [Read Paper](http://arxiv.org/abs/1803.00745)\\\\n\\\\n2. **The Power of One Qubit in Machine Learning**  \\\\n   - **Authors**: Ghobadi, Roohollah; Oberoi, Jaspreet S.; Zahedinejhad, Ehsan  \\\\n   - **Published Date**: June 8, 2019  \\\\n   - **Abstract**: This research introduces a kernel-based quantum machine learning algorithm that can be executed on a near-term quantum device. It emphasizes the role of quantum correlations in machine learning applications, distinct from quantum entanglement.  \\\\n   - **URL**: [Read Paper](http://arxiv.org/abs/1905.01390)\\\\n\\\\n3. **Quantum Machine Learning**  \\\\n   - **Authors**: Biamonte, Jacob; Wittek, Peter; Pancotti, Nicola; Rebentrost, Patrick; Wiebe, Nathan; Lloyd, Seth  \\\\n   - **Published Date**: May 10, 2018  \\\\n   - **Abstract**: This paper discusses the potential advantages of quantum computers over classical systems in machine learning tasks, considering the current challenges in quantum hardware and software.  \\\\n   - **URL**: [Read Paper](http://arxiv.org/abs/1611.09347)\\\\n\\\\n4. **Quantum Machine Learning: A Classical Perspective**  \\\\n   - **Authors**: Ciliberto, Carlo; Herbster, Mark; Ialongo, Alessandro Davide; Pontil, Massimiliano; Rocchetto, Andrea; Severini, Simone; Wossnig, Leonard  \\\\n   - **Published Date**: February 13, 2018  \\\\n   - **Abstract**: This review addresses how quantum computation can enhance classical machine learning algorithms, highlighting their limitations and promising future directions. It discusses practical considerations such as encoding classical data in quantum form.  \\\\n   - **URL**: [Read Paper](http://arxiv.org/abs/1707.08561)\\\\n\\\\n5. **Quantum-Enhanced Machine Learning**  \\\\n   - **Authors**: Dunjko, Vedran; Taylor, Jacob M.; Briegel, Hans J.  \\\\n   - **Published Date**: October 26, 2016  \\\\n   - **Abstract**: This study explores quantum enhancements in various machine learning paradigms, specifically focusing on supervised, unsupervised, and reinforcement learning, and outlines improvements in learning efficiency for a variety of problems.  \\\\n   - **URL**: [Read Paper](http://arxiv.org/abs/1610.08251) \\\\n\\\\nThese papers illustrate the breadth and depth of research in quantum machine learning, highlighting both theoretical advances and practical approaches.\"', tool_calls=None, tool_call_id='call_TuK42ZAtktHUQPBbN5TGqgZH', tool_name='complete_task', hidden=False, id=None, usage=None)]"
      ]
     },
     "execution_count": 11,
     "metadata": {},
     "output_type": "execute_result"
    }
   ],
   "source": [
    "main_agent.child_agents[1].conv_history.messages"
   ]
  },
  {
   "cell_type": "code",
   "execution_count": 11,
   "metadata": {},
   "outputs": [
    {
     "name": "stdout",
     "output_type": "stream",
     "text": [
      "* Running on local URL:  http://127.0.0.1:7860\n",
      "\n",
      "To create a public link, set `share=True` in `launch()`.\n"
     ]
    },
    {
     "data": {
      "text/html": [
       "<div><iframe src=\"http://127.0.0.1:7860/\" width=\"100%\" height=\"500\" allow=\"autoplay; camera; microphone; clipboard-read; clipboard-write;\" frameborder=\"0\" allowfullscreen></iframe></div>"
      ],
      "text/plain": [
       "<IPython.core.display.HTML object>"
      ]
     },
     "metadata": {},
     "output_type": "display_data"
    },
    {
     "data": {
      "text/plain": []
     },
     "execution_count": 11,
     "metadata": {},
     "output_type": "execute_result"
    },
    {
     "name": "stdout",
     "output_type": "stream",
     "text": [
      "Creating a new agent\n",
      "Executing tool: complete_task from agent planing_agent\n",
      "Next tool: research_agent\n",
      "Executing tool: search_papers from agent research_agent\n",
      "Next tool: research_agent\n",
      "Executing tool: download_paper from agent research_agent\n",
      "Executing tool: download_paper from agent research_agent\n",
      "Executing tool: download_paper from agent research_agent\n"
     ]
    }
   ],
   "source": [
    "import gradio as gr\n",
    "\n",
    "\n",
    "\n",
    "def get_new_agent():\n",
    "    \"\"\"Create a fresh agent instance\"\"\"\n",
    "    print(\"Creating a new agent\")\n",
    "    new_agent = MainAgent()\n",
    "    return new_agent\n",
    "\n",
    "with gr.Blocks() as demo:\n",
    "    chatbot = gr.Chatbot(type=\"messages\")\n",
    "    msg = gr.Textbox()\n",
    "    clear = gr.Button(\"Clear\")\n",
    "\n",
    "    # Initialize with a function call instead of direct instantiation\n",
    "    main_agent = gr.State(value=None)\n",
    "\n",
    "    def user(user_message, history,agent):\n",
    "        if agent is None:\n",
    "            agent = get_new_agent()\n",
    "        agent.add_message(\"user\", user_message)\n",
    "        history.append({\"role\": \"user\", \"content\": user_message})\n",
    "        return \"\", history, agent\n",
    "\n",
    "    async def bot(history, agent):\n",
    "        if agent is None:\n",
    "            agent = get_new_agent()\n",
    "        if not history:\n",
    "            yield [], agent\n",
    "            return\n",
    "        \n",
    "        history.append({\"role\": \"assistant\", \"content\": \"\"})\n",
    "        agent_name = \"\"\n",
    "        async for chunk in agent.run(max_retries=10):            \n",
    "            if chunk.content:\n",
    "                if hasattr(chunk, \"is_tool_call\"):\n",
    "                    if chunk.is_tool_call:\n",
    "                        tool_name = chunk.tool_name\n",
    "                        temp = f\"Calling the {tool_name} tool...\"\n",
    "                        if history[-1][\"content\"].endswith(temp):\n",
    "                            pass\n",
    "                        else:\n",
    "                            history[-1][\"content\"] += f\"\\n\\n{temp}\"\n",
    "                    else:\n",
    "                        history[-1][\"content\"] += chunk.content\n",
    "                    yield history, agent\n",
    "                else:\n",
    "                    history[-1][\"content\"] += chunk.content\n",
    "                    yield history, agent\n",
    "\n",
    "\n",
    "    def reset_state():\n",
    "        return None, get_new_agent()\n",
    "\n",
    "    msg.submit(user, [msg, chatbot,main_agent], [msg, chatbot, main_agent]).then(\n",
    "        bot, [chatbot, main_agent], [chatbot, main_agent]\n",
    "    )\n",
    "    clear.click(reset_state, None, [chatbot, main_agent])\n",
    "\n",
    "demo.launch()"
   ]
  },
  {
   "cell_type": "code",
   "execution_count": null,
   "metadata": {},
   "outputs": [],
   "source": []
  }
 ],
 "metadata": {
  "kernelspec": {
   "display_name": "agente",
   "language": "python",
   "name": "python3"
  },
  "language_info": {
   "codemirror_mode": {
    "name": "ipython",
    "version": 3
   },
   "file_extension": ".py",
   "mimetype": "text/x-python",
   "name": "python",
   "nbconvert_exporter": "python",
   "pygments_lexer": "ipython3",
   "version": "3.10.15"
  }
 },
 "nbformat": 4,
 "nbformat_minor": 2
}
