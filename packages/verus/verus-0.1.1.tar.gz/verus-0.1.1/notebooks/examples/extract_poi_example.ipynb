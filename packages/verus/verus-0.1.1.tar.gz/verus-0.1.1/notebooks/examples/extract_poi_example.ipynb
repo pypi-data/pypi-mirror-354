{
 "cells": [
  {
   "cell_type": "markdown",
   "metadata": {},
   "source": [
    "# VERUS PoTI Extraction\n",
    "\n",
    "This example demonstrates how to extract Points of Temporal Influence (PoTIs) from OpenStreetMap."
   ]
  },
  {
   "cell_type": "code",
   "execution_count": null,
   "metadata": {},
   "outputs": [],
   "source": [
    "import os\n",
    "from verus.data import DataExtractor"
   ]
  },
  {
   "cell_type": "markdown",
   "metadata": {},
   "source": [
    "## 1. Define target region or boundary\n",
    "\n",
    "You can choose to use a custom shapefile or a predefined boundary. In this example, we will use a predefined boundary based on the city name."
   ]
  },
  {
   "cell_type": "code",
   "execution_count": 3,
   "metadata": {},
   "outputs": [],
   "source": [
    "region = \"Porto, Portugal\"\n",
    "buffer_distance = 500  # meters"
   ]
  },
  {
   "cell_type": "markdown",
   "metadata": {},
   "source": [
    "## 2. Initializa extractor\n",
    "\n",
    "The default PoTI classes are defined within the DataExtractor module as:\n",
    "\n",
    "```python\n",
    "tags = {\n",
    "            # Education\n",
    "            \"school\": {\"amenity\": \"school\"},\n",
    "            \"university\": {\"amenity\": \"university\"},\n",
    "            # Healthcare\n",
    "            \"hospital\": {\"amenity\": \"hospital\"},\n",
    "            # Transportation\n",
    "            \"station\": {\"public_transport\": \"station\"},\n",
    "            \"bus_station\": {\"amenity\": \"bus_station\"},\n",
    "            \"aerodrome\": {\"aeroway\": \"aerodrome\"},\n",
    "            # Commercial & Industrial\n",
    "            \"shopping_mall\": {\"shop\": \"mall\"},\n",
    "            \"industrial\": {\"landuse\": \"industrial\"},\n",
    "            # Recreation\n",
    "            \"park\": {\"leisure\": \"park\"},\n",
    "            \"attraction\": {\"tourism\": \"attraction\"},\n",
    "        }\n",
    "```\n",
    "\n",
    "If you want to extract PoTIs based on different classes, you can modify the tags dictionary and pass it to the extractor."
   ]
  },
  {
   "cell_type": "code",
   "execution_count": 4,
   "metadata": {},
   "outputs": [],
   "source": [
    "extractor = DataExtractor(region=region, buffer_distance=buffer_distance, verbose=True)"
   ]
  },
  {
   "cell_type": "markdown",
   "metadata": {},
   "source": [
    "## 3. Extract PoTI data"
   ]
  },
  {
   "cell_type": "code",
   "execution_count": 5,
   "metadata": {},
   "outputs": [
    {
     "name": "stdout",
     "output_type": "stream",
     "text": [
      "2025-03-13 19:07:09 [INFO] OSM cache cleared\n",
      "2025-03-13 19:07:09 [INFO] Fetching boundaries for Porto, Portugal from OpenStreetMap...\n",
      "2025-03-13 19:07:11 [INFO] Combining geometries with unary_union\n",
      "2025-03-13 19:07:11 [INFO] Extracting school POIs (1/10)...\n",
      "2025-03-13 19:07:11 [INFO] Extracting school using polygon with area: 0.005799\n",
      "2025-03-13 19:07:11 [INFO] Fetching school POIs...\n"
     ]
    },
    {
     "name": "stderr",
     "output_type": "stream",
     "text": [
      "/Users/joaocarlos/Developer/Projects/verus/src/verus/data/extraction.py:591: UserWarning: Geometry is in a geographic CRS. Results from 'centroid' are likely incorrect. Use 'GeoSeries.to_crs()' to re-project geometries to a projected CRS before this operation.\n",
      "\n",
      "  ].geometry.centroid\n"
     ]
    },
    {
     "name": "stdout",
     "output_type": "stream",
     "text": [
      "2025-03-13 19:07:20 [INFO] Found 181 school POIs\n",
      "2025-03-13 19:07:20 [INFO] Extracting university POIs (2/10)...\n",
      "2025-03-13 19:07:20 [INFO] Extracting university using polygon with area: 0.005799\n",
      "2025-03-13 19:07:20 [INFO] Fetching university POIs...\n"
     ]
    },
    {
     "name": "stderr",
     "output_type": "stream",
     "text": [
      "/Users/joaocarlos/Developer/Projects/verus/src/verus/data/extraction.py:591: UserWarning: Geometry is in a geographic CRS. Results from 'centroid' are likely incorrect. Use 'GeoSeries.to_crs()' to re-project geometries to a projected CRS before this operation.\n",
      "\n",
      "  ].geometry.centroid\n"
     ]
    },
    {
     "name": "stdout",
     "output_type": "stream",
     "text": [
      "2025-03-13 19:07:21 [INFO] Found 45 university POIs\n",
      "2025-03-13 19:07:21 [INFO] Extracting hospital POIs (3/10)...\n",
      "2025-03-13 19:07:21 [INFO] Extracting hospital using polygon with area: 0.005799\n",
      "2025-03-13 19:07:21 [INFO] Fetching hospital POIs...\n"
     ]
    },
    {
     "name": "stderr",
     "output_type": "stream",
     "text": [
      "/Users/joaocarlos/Developer/Projects/verus/src/verus/data/extraction.py:591: UserWarning: Geometry is in a geographic CRS. Results from 'centroid' are likely incorrect. Use 'GeoSeries.to_crs()' to re-project geometries to a projected CRS before this operation.\n",
      "\n",
      "  ].geometry.centroid\n"
     ]
    },
    {
     "name": "stdout",
     "output_type": "stream",
     "text": [
      "2025-03-13 19:07:22 [INFO] Found 20 hospital POIs\n",
      "2025-03-13 19:07:22 [INFO] Extracting station POIs (4/10)...\n",
      "2025-03-13 19:07:22 [INFO] Extracting station using polygon with area: 0.005799\n",
      "2025-03-13 19:07:22 [INFO] Fetching station POIs...\n"
     ]
    },
    {
     "name": "stderr",
     "output_type": "stream",
     "text": [
      "/Users/joaocarlos/Developer/Projects/verus/src/verus/data/extraction.py:591: UserWarning: Geometry is in a geographic CRS. Results from 'centroid' are likely incorrect. Use 'GeoSeries.to_crs()' to re-project geometries to a projected CRS before this operation.\n",
      "\n",
      "  ].geometry.centroid\n"
     ]
    },
    {
     "name": "stdout",
     "output_type": "stream",
     "text": [
      "2025-03-13 19:07:23 [INFO] Found 48 station POIs\n",
      "2025-03-13 19:07:23 [INFO] Extracting bus_station POIs (5/10)...\n",
      "2025-03-13 19:07:23 [INFO] Extracting bus_station using polygon with area: 0.005799\n",
      "2025-03-13 19:07:23 [INFO] Fetching bus_station POIs...\n"
     ]
    },
    {
     "name": "stderr",
     "output_type": "stream",
     "text": [
      "/Users/joaocarlos/Developer/Projects/verus/src/verus/data/extraction.py:591: UserWarning: Geometry is in a geographic CRS. Results from 'centroid' are likely incorrect. Use 'GeoSeries.to_crs()' to re-project geometries to a projected CRS before this operation.\n",
      "\n",
      "  ].geometry.centroid\n"
     ]
    },
    {
     "name": "stdout",
     "output_type": "stream",
     "text": [
      "2025-03-13 19:07:24 [INFO] Found 5 bus_station POIs\n",
      "2025-03-13 19:07:24 [INFO] Extracting aerodrome POIs (6/10)...\n",
      "2025-03-13 19:07:24 [INFO] Extracting aerodrome using polygon with area: 0.005799\n",
      "2025-03-13 19:07:24 [INFO] Fetching aerodrome POIs...\n",
      "2025-03-13 19:07:27 [ERROR] Error in fetch operation: No matching features. Check query location, tags, and log.\n",
      "2025-03-13 19:07:27 [WARNING] No aerodrome POIs found.\n",
      "2025-03-13 19:07:27 [INFO] Extracting shopping_mall POIs (7/10)...\n",
      "2025-03-13 19:07:27 [INFO] Extracting shopping_mall using polygon with area: 0.005799\n",
      "2025-03-13 19:07:27 [INFO] Fetching shopping_mall POIs...\n"
     ]
    },
    {
     "name": "stderr",
     "output_type": "stream",
     "text": [
      "/Users/joaocarlos/Developer/Projects/verus/src/verus/data/extraction.py:591: UserWarning: Geometry is in a geographic CRS. Results from 'centroid' are likely incorrect. Use 'GeoSeries.to_crs()' to re-project geometries to a projected CRS before this operation.\n",
      "\n",
      "  ].geometry.centroid\n"
     ]
    },
    {
     "name": "stdout",
     "output_type": "stream",
     "text": [
      "2025-03-13 19:07:29 [INFO] Found 33 shopping_mall POIs\n",
      "2025-03-13 19:07:29 [INFO] Extracting industrial POIs (8/10)...\n",
      "2025-03-13 19:07:29 [INFO] Extracting industrial using polygon with area: 0.005799\n",
      "2025-03-13 19:07:29 [INFO] Fetching industrial POIs...\n"
     ]
    },
    {
     "name": "stderr",
     "output_type": "stream",
     "text": [
      "/Users/joaocarlos/Developer/Projects/verus/src/verus/data/extraction.py:591: UserWarning: Geometry is in a geographic CRS. Results from 'centroid' are likely incorrect. Use 'GeoSeries.to_crs()' to re-project geometries to a projected CRS before this operation.\n",
      "\n",
      "  ].geometry.centroid\n"
     ]
    },
    {
     "name": "stdout",
     "output_type": "stream",
     "text": [
      "2025-03-13 19:07:31 [INFO] Filtered out 5 POIs outside the buffer boundary\n",
      "2025-03-13 19:07:31 [INFO] Found 48 industrial POIs\n",
      "2025-03-13 19:07:31 [INFO] Extracting park POIs (9/10)...\n",
      "2025-03-13 19:07:31 [INFO] Extracting park using polygon with area: 0.005799\n",
      "2025-03-13 19:07:31 [INFO] Fetching park POIs...\n"
     ]
    },
    {
     "name": "stderr",
     "output_type": "stream",
     "text": [
      "/Users/joaocarlos/Developer/Projects/verus/src/verus/data/extraction.py:591: UserWarning: Geometry is in a geographic CRS. Results from 'centroid' are likely incorrect. Use 'GeoSeries.to_crs()' to re-project geometries to a projected CRS before this operation.\n",
      "\n",
      "  ].geometry.centroid\n"
     ]
    },
    {
     "name": "stdout",
     "output_type": "stream",
     "text": [
      "2025-03-13 19:07:34 [INFO] Filtered out 1 POIs outside the buffer boundary\n",
      "2025-03-13 19:07:34 [INFO] Found 87 park POIs\n",
      "2025-03-13 19:07:34 [INFO] Extracting attraction POIs (10/10)...\n",
      "2025-03-13 19:07:34 [INFO] Extracting attraction using polygon with area: 0.005799\n",
      "2025-03-13 19:07:34 [INFO] Fetching attraction POIs...\n"
     ]
    },
    {
     "name": "stderr",
     "output_type": "stream",
     "text": [
      "/Users/joaocarlos/Developer/Projects/verus/src/verus/data/extraction.py:591: UserWarning: Geometry is in a geographic CRS. Results from 'centroid' are likely incorrect. Use 'GeoSeries.to_crs()' to re-project geometries to a projected CRS before this operation.\n",
      "\n",
      "  ].geometry.centroid\n"
     ]
    },
    {
     "name": "stdout",
     "output_type": "stream",
     "text": [
      "2025-03-13 19:07:36 [INFO] Filtered out 1 POIs outside the buffer boundary\n",
      "2025-03-13 19:07:36 [INFO] Found 105 attraction POIs\n",
      "2025-03-13 19:07:36 [INFO] Extracted 572 POIs across 9/10 categories.\n",
      "2025-03-13 19:07:36 [INFO] Extracted 487 POIs across 9/10 categories after droping duplicates.\n"
     ]
    }
   ],
   "source": [
    "poi_data = extractor.run()"
   ]
  },
  {
   "cell_type": "markdown",
   "metadata": {},
   "source": [
    "## 4. Inspect results"
   ]
  },
  {
   "cell_type": "code",
   "execution_count": 6,
   "metadata": {},
   "outputs": [
    {
     "name": "stdout",
     "output_type": "stream",
     "text": [
      "Extracted 487 POIs\n",
      "                    geometry                                        name  \\\n",
      "0  POINT (-8.60621 41.14811)  Colégio Dom Dinis - Pólo de Santa Catarina   \n",
      "1  POINT (-8.60353 41.15188)                   InDance Academia de Artes   \n",
      "2  POINT (-8.60727 41.15185)              Escola Profissional Profitecla   \n",
      "3  POINT (-8.60599 41.14888)                       Escola de Yoga Antigo   \n",
      "4  POINT (-8.64127 41.15694)             DeRose Method - Casa Luís Lopes   \n",
      "\n",
      "         id   latitude  longitude category   vi  \n",
      "0  school_0  41.148114  -8.606213   school  0.0  \n",
      "1  school_1  41.151882  -8.603535   school  0.0  \n",
      "2  school_2  41.151851  -8.607272   school  0.0  \n",
      "3  school_3  41.148882  -8.605987   school  0.0  \n",
      "4  school_4  41.156940  -8.641267   school  0.0  \n"
     ]
    }
   ],
   "source": [
    "print(f\"Extracted {len(poi_data)} POIs\")\n",
    "print(poi_data.head())"
   ]
  },
  {
   "cell_type": "markdown",
   "metadata": {},
   "source": [
    "## 5. Save results in a file"
   ]
  },
  {
   "cell_type": "code",
   "execution_count": null,
   "metadata": {},
   "outputs": [],
   "source": [
    "output_dir = \"./data/poti/\"\n",
    "os.makedirs(output_dir, exist_ok=True)\n",
    "poi_data.to_csv(os.path.join(output_dir, \"porto_poti.csv\"), index=False)"
   ]
  }
 ],
 "metadata": {
  "kernelspec": {
   "display_name": ".venv",
   "language": "python",
   "name": "python3"
  },
  "language_info": {
   "codemirror_mode": {
    "name": "ipython",
    "version": 3
   },
   "file_extension": ".py",
   "mimetype": "text/x-python",
   "name": "python",
   "nbconvert_exporter": "python",
   "pygments_lexer": "ipython3",
   "version": "3.13.2"
  }
 },
 "nbformat": 4,
 "nbformat_minor": 2
}
