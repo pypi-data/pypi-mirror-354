{
 "cells": [
  {
   "cell_type": "code",
   "execution_count": null,
   "metadata": {},
   "outputs": [],
   "source": []
  },
  {
   "cell_type": "code",
   "execution_count": 3,
   "metadata": {},
   "outputs": [],
   "source": [
    "from verus.data import TimeWindowGenerator"
   ]
  },
  {
   "cell_type": "markdown",
   "metadata": {},
   "source": [
    "## 1. Create a time window generator"
   ]
  },
  {
   "cell_type": "code",
   "execution_count": 4,
   "metadata": {},
   "outputs": [
    {
     "name": "stdout",
     "output_type": "stream",
     "text": [
      "2025-03-13 19:15:52 [INFO] Using reference date: 2023-11-06\n",
      "2025-03-13 19:15:52 [INFO] Loaded schedules for 9 POI types\n"
     ]
    }
   ],
   "source": [
    "tw_generator = TimeWindowGenerator(\n",
    "    reference_date=\"2023-11-06\", verbose=True  # A Monday\n",
    ")"
   ]
  },
  {
   "cell_type": "markdown",
   "metadata": {},
   "source": [
    "## 2. Generate time windows based on typical opening hours"
   ]
  },
  {
   "cell_type": "code",
   "execution_count": 5,
   "metadata": {},
   "outputs": [
    {
     "name": "stdout",
     "output_type": "stream",
     "text": [
      "2025-03-13 19:15:55 [INFO] Processing schedule for hospital\n",
      "2025-03-13 19:15:55 [INFO] Created 17 time windows for hospital\n",
      "2025-03-13 19:15:55 [INFO] Processing schedule for park\n",
      "2025-03-13 19:15:55 [INFO] Created 7 time windows for park\n",
      "2025-03-13 19:15:55 [INFO] Processing schedule for mall\n",
      "2025-03-13 19:15:55 [INFO] Created 12 time windows for mall\n",
      "2025-03-13 19:15:55 [INFO] Processing schedule for school\n",
      "2025-03-13 19:15:55 [INFO] Created 10 time windows for school\n",
      "2025-03-13 19:15:55 [INFO] Processing schedule for attraction\n",
      "2025-03-13 19:15:55 [INFO] Created 7 time windows for attraction\n",
      "2025-03-13 19:15:55 [INFO] Processing schedule for station\n",
      "2025-03-13 19:15:55 [INFO] Created 15 time windows for station\n",
      "2025-03-13 19:15:55 [INFO] Processing schedule for bus_station\n",
      "2025-03-13 19:15:55 [INFO] Created 15 time windows for bus_station\n",
      "2025-03-13 19:15:55 [INFO] Processing schedule for university\n",
      "2025-03-13 19:15:55 [INFO] Created 10 time windows for university\n",
      "2025-03-13 19:15:55 [INFO] Processing schedule for industrial\n",
      "2025-03-13 19:15:55 [INFO] Created 5 time windows for industrial\n",
      "2025-03-13 19:15:55 [INFO] Successfully generated time windows for 9 POI types\n"
     ]
    }
   ],
   "source": [
    "time_windows = tw_generator.generate_from_schedule()"
   ]
  },
  {
   "cell_type": "markdown",
   "metadata": {},
   "source": [
    "## 3. Debugging"
   ]
  },
  {
   "cell_type": "code",
   "execution_count": 8,
   "metadata": {},
   "outputs": [
    {
     "name": "stderr",
     "output_type": "stream",
     "text": [
      "<>:6: SyntaxWarning: invalid escape sequence '\\S'\n",
      "<>:6: SyntaxWarning: invalid escape sequence '\\S'\n",
      "/var/folders/v5/sz3kxfys65g85pv3kjrwzj4r0000gn/T/ipykernel_60502/1831839382.py:6: SyntaxWarning: invalid escape sequence '\\S'\n",
      "  print(\"\\School vulnerability indices throughout the day:\")\n"
     ]
    },
    {
     "name": "stdout",
     "output_type": "stream",
     "text": [
      "Generated time windows for categories: ['hospital', 'park', 'mall', 'school', 'attraction', 'station', 'bus_station', 'university', 'industrial']\n",
      "\\School vulnerability indices throughout the day:\n",
      "           ts          te   vi\n",
      "0  1699257600  1699264859  0.7\n",
      "1  1699344000  1699351259  0.7\n",
      "2  1699430400  1699437659  0.7\n",
      "3  1699516800  1699524059  0.7\n",
      "4  1699603200  1699610459  0.7\n",
      "5  1699286400  1699293659  0.7\n",
      "6  1699372800  1699380059  0.7\n",
      "7  1699459200  1699466459  0.7\n",
      "8  1699545600  1699552859  0.7\n",
      "9  1699632000  1699639259  0.7\n"
     ]
    }
   ],
   "source": [
    "# Print available categories\n",
    "print(f\"Generated time windows for categories: {list(time_windows.keys())}\")\n",
    "\n",
    "# Examine vulnerability indices for restaurants at different times\n",
    "school_hours = time_windows[\"school\"]\n",
    "print(\"\\School vulnerability indices throughout the day:\")\n",
    "print(school_hours[[\"ts\", \"te\", \"vi\"]].head(24))"
   ]
  }
 ],
 "metadata": {
  "kernelspec": {
   "display_name": ".venv",
   "language": "python",
   "name": "python3"
  },
  "language_info": {
   "codemirror_mode": {
    "name": "ipython",
    "version": 3
   },
   "file_extension": ".py",
   "mimetype": "text/x-python",
   "name": "python",
   "nbconvert_exporter": "python",
   "pygments_lexer": "ipython3",
   "version": "3.13.2"
  }
 },
 "nbformat": 4,
 "nbformat_minor": 2
}
