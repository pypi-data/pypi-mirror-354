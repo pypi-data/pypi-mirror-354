{
 "cells": [
  {
   "cell_type": "markdown",
   "metadata": {},
   "source": [
    "# Serve an Agent with A2A\n",
    "\n",
    "Once you've built an agent, a common question might be: \"how do I let other developers/applications access it?\". Enter the [A2A](https://github.com/google-a2a/A2A) protocol by Google! A2A is \"An open protocol enabling communication and interoperability between opaque agentic applications\". Any-Agent provides support for serving an agent over A2A, as simple as calling `agent.serve()`. In this tutorial, we'll build and serve an agent using any-agent, and show how you can serve and interact with it via the A2A protocol.\n",
    "\n",
    "<img src=\"/images/serve_a2a.png\" alt=\"\" style=\"max-width: 500px; height: auto;\">\n",
    "\n",
    "This tutorial assumes basic familiarity with any-agent: if you haven't used any-agent before you may also find the [Creating your first agent](./../your_first_agent) cookbook to be useful.\n",
    "\n",
    "Note: because this tutorial relies upon advanced stdio/stderr communication using the MCP Server, it cannot be run on Google Colab.\n"
   ]
  },
  {
   "cell_type": "markdown",
   "metadata": {},
   "source": [
    "## Install Dependencies\n",
    "\n",
    "any-agent uses the python asyncio module to support async functionality. When running in Jupyter notebooks, this means we need to enable the use of nested event loops. We'll install any-agent and enable this below using nest_asyncio."
   ]
  },
  {
   "cell_type": "code",
   "execution_count": null,
   "metadata": {},
   "outputs": [],
   "source": [
    "%pip install 'any-agent[a2a]'\n",
    "\n",
    "import nest_asyncio\n",
    "\n",
    "nest_asyncio.apply()"
   ]
  },
  {
   "cell_type": "code",
   "execution_count": 2,
   "metadata": {},
   "outputs": [
    {
     "name": "stdout",
     "output_type": "stream",
     "text": [
      "OPENAI_API_KEY found in environment.\n"
     ]
    }
   ],
   "source": [
    "import os\n",
    "from getpass import getpass\n",
    "\n",
    "# This notebook communicates with OpenAI GPT models using the OpenAI API.\n",
    "if \"OPENAI_API_KEY\" not in os.environ:\n",
    "    print(\"OPENAI_API_KEY not found in environment!\")\n",
    "    api_key = getpass(\"Please enter your OPENAI_API_KEY: \")\n",
    "    os.environ[\"OPENAI_API_KEY\"] = api_key\n",
    "    print(\"OPENAI_API_KEY set for this session!\")\n",
    "else:\n",
    "    print(\"OPENAI_API_KEY found in environment.\")"
   ]
  },
  {
   "cell_type": "markdown",
   "metadata": {},
   "source": [
    "## Configure and run the server\n",
    "\n",
    "Let's give our agent the very simple capability to access the current time through a Model Context Protocol (MCP) server. For this demo, we'll use the async method `agent.serve_async` so that we can easily run both the server and client from inside the notebook. "
   ]
  },
  {
   "cell_type": "code",
   "execution_count": null,
   "metadata": {},
   "outputs": [],
   "source": [
    "from any_agent import AgentConfig, AnyAgent\n",
    "from any_agent.config import MCPStdio\n",
    "from any_agent.serving import A2AServingConfig\n",
    "\n",
    "# This MCP Tool relies upon uvx https://docs.astral.sh/uv/getting-started/installation/\n",
    "time_tool = MCPStdio(\n",
    "    command=\"uvx\",\n",
    "    args=[\"mcp-server-time\", \"--local-timezone=America/New_York\"],\n",
    "    tools=[\n",
    "        \"get_current_time\",\n",
    "    ],\n",
    ")\n",
    "\n",
    "time = await AnyAgent.create_async(\n",
    "    \"tinyagent\",  # See all options in https://mozilla-ai.github.io/any-agent/\n",
    "    AgentConfig(\n",
    "        model_id=\"gpt-4.1-mini\",\n",
    "        description=\"I'm an agent to help with getting the time\",\n",
    "        tools=[time_tool],\n",
    "    ),\n",
    ")\n",
    "(time_task, time_server) = await time.serve_async(A2AServingConfig(port=5000))"
   ]
  },
  {
   "cell_type": "markdown",
   "metadata": {},
   "source": [
    "## Call the agent using A2AClient\n",
    "\n",
    "Now that the agent is listening on http://localhost:5000, we can communicate with it from any other application that supports A2A. For this tutorial we'll use the a2a python SDK, but any client that implements the [A2A Protocol](https://github.com/google-a2a/A2A) would also work."
   ]
  },
  {
   "cell_type": "markdown",
   "metadata": {},
   "source": [
    "### A2A Agent Card\n",
    "\n",
    "Before giving the agent a task, we first retrieve the agent's model card, which is a description of the agents capabilities. This helps the client understand what the agent can do, and what A2A features are available."
   ]
  },
  {
   "cell_type": "code",
   "execution_count": 4,
   "metadata": {},
   "outputs": [
    {
     "name": "stdout",
     "output_type": "stream",
     "text": [
      "{\n",
      "  \"capabilities\": {\n",
      "    \"pushNotifications\": false,\n",
      "    \"stateTransitionHistory\": false,\n",
      "    \"streaming\": false\n",
      "  },\n",
      "  \"defaultInputModes\": [\n",
      "    \"text\"\n",
      "  ],\n",
      "  \"defaultOutputModes\": [\n",
      "    \"text\"\n",
      "  ],\n",
      "  \"description\": \"I'm an agent to help with getting the time\",\n",
      "  \"documentationUrl\": null,\n",
      "  \"name\": \"any_agent\",\n",
      "  \"provider\": null,\n",
      "  \"security\": null,\n",
      "  \"securitySchemes\": null,\n",
      "  \"skills\": [\n",
      "    {\n",
      "      \"description\": \"Get current time in a specific timezones\",\n",
      "      \"examples\": null,\n",
      "      \"id\": \"any_agent-get_current_time\",\n",
      "      \"inputModes\": null,\n",
      "      \"name\": \"get_current_time\",\n",
      "      \"outputModes\": null,\n",
      "      \"tags\": []\n",
      "    }\n",
      "  ],\n",
      "  \"supportsAuthenticatedExtendedCard\": null,\n",
      "  \"url\": \"http://localhost:5000/\",\n",
      "  \"version\": \"0.1.0\"\n",
      "}\n"
     ]
    }
   ],
   "source": [
    "import httpx\n",
    "from a2a.client import A2ACardResolver, A2AClient\n",
    "from a2a.types import AgentCard\n",
    "\n",
    "# Create the httpx client\n",
    "httpx_client = httpx.AsyncClient()\n",
    "\n",
    "agent_card: AgentCard = await A2ACardResolver(\n",
    "    httpx_client,\n",
    "    base_url=\"http://localhost:5000\",\n",
    ").get_agent_card(http_kwargs=None)\n",
    "print(agent_card.model_dump_json(indent=2))\n",
    "\n",
    "client = A2AClient(httpx_client=httpx_client, agent_card=agent_card)"
   ]
  },
  {
   "cell_type": "markdown",
   "metadata": {},
   "source": [
    "### Make a request of the agent\n",
    "\n",
    "Now that we've connected to the agent with the A2AClient, we're ready to make a request of the agent! "
   ]
  },
  {
   "cell_type": "code",
   "execution_count": null,
   "metadata": {},
   "outputs": [],
   "source": [
    "from uuid import uuid4\n",
    "\n",
    "from a2a.types import MessageSendParams, SendMessageRequest\n",
    "\n",
    "send_message_payload = {\n",
    "    \"message\": {\n",
    "        \"role\": \"user\",\n",
    "        \"parts\": [{\"kind\": \"text\", \"text\": \"What time is it?\"}],\n",
    "        \"messageId\": uuid4().hex,\n",
    "    },\n",
    "}\n",
    "request = SendMessageRequest(\n",
    "    id=str(uuid4()), params=MessageSendParams(**send_message_payload)\n",
    ")\n",
    "response = await client.send_message(request)\n",
    "# Close the httpx client when done\n",
    "await httpx_client.aclose()"
   ]
  },
  {
   "cell_type": "code",
   "execution_count": 7,
   "metadata": {},
   "outputs": [
    {
     "name": "stdout",
     "output_type": "stream",
     "text": [
      "{\n",
      "  \"id\": \"8c8d295b-1ef4-4ce4-9b9a-7edf65da27f1\",\n",
      "  \"jsonrpc\": \"2.0\",\n",
      "  \"result\": {\n",
      "    \"contextId\": null,\n",
      "    \"kind\": \"message\",\n",
      "    \"messageId\": \"05c929d8-f009-4a59-a0a0-a1035a3e2099\",\n",
      "    \"metadata\": null,\n",
      "    \"parts\": [\n",
      "      {\n",
      "        \"kind\": \"text\",\n",
      "        \"metadata\": null,\n",
      "        \"text\": \"The current time in New York (Eastern Time) is 6:20 AM on May 28, 2025. If you want the time for another timezone, please tell me which one.\"\n",
      "      }\n",
      "    ],\n",
      "    \"referenceTaskIds\": null,\n",
      "    \"role\": \"agent\",\n",
      "    \"taskId\": null\n",
      "  }\n",
      "}\n"
     ]
    }
   ],
   "source": [
    "print(response.model_dump_json(indent=2))"
   ]
  },
  {
   "cell_type": "markdown",
   "metadata": {},
   "source": [
    "## Cleanup\n",
    "\n",
    "In order to shut down the A2A server, we can set the `should_exit` property of the server, which will cause the server to shutdown and the asyncio task to complete."
   ]
  },
  {
   "cell_type": "code",
   "execution_count": 8,
   "metadata": {},
   "outputs": [
    {
     "name": "stdout",
     "output_type": "stream",
     "text": [
      "Waiting for server to exit\n",
      "Agent server task has completed!\n"
     ]
    }
   ],
   "source": [
    "import asyncio\n",
    "\n",
    "time_server.should_exit = True\n",
    "while True:\n",
    "    if time_task.done():\n",
    "        print(\"Agent server task has completed!\")\n",
    "        break\n",
    "    else:\n",
    "        print(\"Waiting for server to exit\")\n",
    "        await asyncio.sleep(1)"
   ]
  }
 ],
 "metadata": {
  "kernelspec": {
   "display_name": ".venv",
   "language": "python",
   "name": "python3"
  },
  "language_info": {
   "codemirror_mode": {
    "name": "ipython",
    "version": 3
   },
   "file_extension": ".py",
   "mimetype": "text/x-python",
   "name": "python",
   "nbconvert_exporter": "python",
   "pygments_lexer": "ipython3",
   "version": "3.13.2"
  }
 },
 "nbformat": 4,
 "nbformat_minor": 2
}
