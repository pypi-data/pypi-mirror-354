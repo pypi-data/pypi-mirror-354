{
 "cells": [
  {
   "cell_type": "code",
   "execution_count": 1,
   "id": "ddca610d",
   "metadata": {},
   "outputs": [],
   "source": [
    "from waterfall.watermark import *\n",
    "import torch"
   ]
  },
  {
   "cell_type": "code",
   "execution_count": 2,
   "id": "f0b0a02a",
   "metadata": {},
   "outputs": [],
   "source": [
    "model_name_or_path = 'meta-llama/Llama-3.1-8B-Instruct'"
   ]
  },
  {
   "cell_type": "code",
   "execution_count": 3,
   "id": "ca5f7d55",
   "metadata": {},
   "outputs": [
    {
     "data": {
      "application/vnd.jupyter.widget-view+json": {
       "model_id": "2ef1e58174204e879a462a2a829d74fa",
       "version_major": 2,
       "version_minor": 0
      },
      "text/plain": [
       "Loading checkpoint shards:   0%|          | 0/4 [00:00<?, ?it/s]"
      ]
     },
     "metadata": {},
     "output_type": "display_data"
    }
   ],
   "source": [
    "\n",
    "tokenizer = AutoTokenizer.from_pretrained(model_name_or_path)\n",
    "model = AutoModelForCausalLM.from_pretrained(\n",
    "    model_name_or_path,\n",
    "    torch_dtype=torch.bfloat16,\n",
    "    device_map=\"cuda:5\",\n",
    "    )"
   ]
  },
  {
   "cell_type": "code",
   "execution_count": 4,
   "id": "2c475de5",
   "metadata": {},
   "outputs": [],
   "source": [
    "watermarker = Watermarker(tokenizer=tokenizer, model=model, id=1)"
   ]
  },
  {
   "cell_type": "code",
   "execution_count": 5,
   "id": "e74a58b5",
   "metadata": {},
   "outputs": [],
   "source": [
    "texts = [\"James is a scary man who loves to scare children\", \"There were 3 birds that ate the whole bowl\"]"
   ]
  },
  {
   "cell_type": "code",
   "execution_count": 8,
   "id": "fd0af01e",
   "metadata": {},
   "outputs": [],
   "source": [
    "watermarked_text = watermark_texts(texts, id, watermarker=watermarker)"
   ]
  },
  {
   "cell_type": "code",
   "execution_count": 10,
   "id": "4d58ec82",
   "metadata": {},
   "outputs": [
    {
     "data": {
      "text/plain": [
       "['James is an intimidating individual known for taking great pleasure in frightening kids, and this tendency often sends them running in terror.',\n",
       " \"A small flock comprised of three birds consumed the entirety of the offered bowl's contents within a single meal session.\"]"
      ]
     },
     "execution_count": 10,
     "metadata": {},
     "output_type": "execute_result"
    }
   ],
   "source": [
    "watermarked_text"
   ]
  }
 ],
 "metadata": {
  "kernelspec": {
   "display_name": "Python 3",
   "language": "python",
   "name": "python3"
  },
  "language_info": {
   "codemirror_mode": {
    "name": "ipython",
    "version": 3
   },
   "file_extension": ".py",
   "mimetype": "text/x-python",
   "name": "python",
   "nbconvert_exporter": "python",
   "pygments_lexer": "ipython3",
   "version": "3.12.9"
  }
 },
 "nbformat": 4,
 "nbformat_minor": 5
}
