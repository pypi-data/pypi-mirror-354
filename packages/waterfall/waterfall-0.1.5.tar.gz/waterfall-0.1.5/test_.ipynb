{
 "cells": [
  {
   "cell_type": "code",
   "execution_count": 49,
   "id": "116f61a2",
   "metadata": {},
   "outputs": [],
   "source": [
    "import numpy as np\n",
    "from tqdm import tqdm\n",
    "from itertools import product, combinations\n",
    "from scipy.stats import binom"
   ]
  },
  {
   "cell_type": "code",
   "execution_count": 50,
   "id": "53c66973",
   "metadata": {},
   "outputs": [
    {
     "data": {
      "text/plain": [
       "np.float64(0.38742048899999965)"
      ]
     },
     "execution_count": 50,
     "metadata": {},
     "output_type": "execute_result"
    }
   ],
   "source": [
    "binom.pmf(1, 10, 0.1)"
   ]
  },
  {
   "cell_type": "code",
   "execution_count": 56,
   "metadata": {},
   "outputs": [
    {
     "name": "stderr",
     "output_type": "stream",
     "text": [
      "100%|██████████| 32/32 [00:00<00:00, 10845.88it/s]\n",
      "100%|██████████| 32/32 [00:00<00:00, 3035.09it/s]\n",
      "100%|██████████| 32/32 [00:00<00:00, 1622.42it/s]\n",
      "100%|██████████| 32/32 [00:00<00:00, 2020.93it/s]\n",
      "100%|██████████| 32/32 [00:00<00:00, 4749.72it/s]"
     ]
    },
    {
     "name": "stdout",
     "output_type": "stream",
     "text": [
      "0.6582226332676197\n"
     ]
    },
    {
     "name": "stderr",
     "output_type": "stream",
     "text": [
      "\n"
     ]
    }
   ],
   "source": [
    "n = 5   # n-gram\n",
    "# k = 1   # no of bits modified\n",
    "l = 8   # bits of watermark\n",
    "p = 0.1 # probability of modification\n",
    "\n",
    "result = 0\n",
    "for k in range(0, n + 1):\n",
    "    binomial_prob = binom.pmf(k, n, p)\n",
    "    if k == 0:\n",
    "        result += binomial_prob * 1\n",
    "        continue\n",
    "    results = []\n",
    "\n",
    "    original = np.zeros(n, dtype=bool)\n",
    "    for original in tqdm(product([True, False], repeat=n), total=2**n):\n",
    "        original = np.array(original, dtype=bool)\n",
    "        original_agreement = original.mean() > 0.5\n",
    "        for modified_indices in combinations(range(n), k):\n",
    "            modified = original.copy()\n",
    "            for i in product([True, False], repeat=k):\n",
    "                modified[np.array(modified_indices)] = i\n",
    "                modified_agreement = modified.mean() > 0.5\n",
    "                results.append(original_agreement == modified_agreement)\n",
    "    result += binomial_prob * np.mean(results) ** l\n",
    "print(result)"
   ]
  }
 ],
 "metadata": {
  "kernelspec": {
   "display_name": "Python 3",
   "language": "python",
   "name": "python3"
  },
  "language_info": {
   "codemirror_mode": {
    "name": "ipython",
    "version": 3
   },
   "file_extension": ".py",
   "mimetype": "text/x-python",
   "name": "python",
   "nbconvert_exporter": "python",
   "pygments_lexer": "ipython3",
   "version": "3.12.9"
  }
 },
 "nbformat": 4,
 "nbformat_minor": 5
}
