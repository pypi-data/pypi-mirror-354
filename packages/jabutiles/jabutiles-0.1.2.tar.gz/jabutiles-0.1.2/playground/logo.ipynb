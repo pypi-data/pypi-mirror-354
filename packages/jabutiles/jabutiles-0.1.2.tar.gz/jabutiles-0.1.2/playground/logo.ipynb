{
 "cells": [
  {
   "cell_type": "code",
   "execution_count": 2,
   "id": "999eba5a",
   "metadata": {},
   "outputs": [],
   "source": [
    "# Imports\n",
    "from jabutiles.tile import Tile\n",
    "from jabutiles.layer import Layer\n",
    "from jabutiles.shade import Shade\n",
    "from jabutiles.maskgen import MaskGen, ShapeMaskGen\n",
    "from jabutiles.texture import TextureGen\n",
    "from jabutiles.utils_img import display_image\n",
    "\n",
    "# Constants\n",
    "SCALE = 8       # Scale to display and export the image\n",
    "S     = 24      # Generic dimension for the textures and masks\n",
    "SIZE  = (S, S)\n",
    "FORCE = 0.8     # Shade brightness"
   ]
  },
  {
   "cell_type": "code",
   "execution_count": 3,
   "id": "d1c6778e",
   "metadata": {},
   "outputs": [],
   "source": [
    "# Textures\n",
    "tx1 = TextureGen.named_texture(SIZE, \"dirt\")\n",
    "tx2 = TextureGen.named_texture(SIZE, \"gravel\")\n",
    "tx3 = TextureGen.named_texture(SIZE, \"grass\")\n",
    "# tx4 = TextureGen.named_texture(SIZE, \"water.shallow\")\n",
    "\n",
    "tx1.scale(SCALE).save(\"docs/imgs/tx1_dirt.png\")\n",
    "tx2.scale(SCALE).save(\"docs/imgs/tx2_gravel.png\")\n",
    "tx3.scale(SCALE).save(\"docs/imgs/tx3_grass.png\")"
   ]
  },
  {
   "cell_type": "code",
   "execution_count": 4,
   "id": "117491ca",
   "metadata": {},
   "outputs": [],
   "source": [
    "# Masks\n",
    "mk1 = MaskGen.brick_pattern(SIZE, (10, 10), 2, 1).offset((-1, -1), \"wrap\")\n",
    "mk2 = MaskGen.blob_draw(SIZE, [((S/2-0.5, S/2-0.5), S/2-3.5)]).invert()\n",
    "mk3 = ShapeMaskGen.hexagonal(SIZE)\n",
    "\n",
    "mk1.scale(SCALE).save(\"docs/imgs/mk1_brick.png\")\n",
    "mk2.scale(SCALE).save(\"docs/imgs/mk2_blob.png\")\n",
    "mk3.scale(SCALE).save(\"docs/imgs/mk3_shape.png\")"
   ]
  },
  {
   "cell_type": "code",
   "execution_count": 5,
   "id": "df314f66",
   "metadata": {},
   "outputs": [],
   "source": [
    "# Shades\n",
    "sh1 = Shade(1/FORCE, (-1, +1), \"wrap\", inverted=True)   # Darker corner\n",
    "sh2 = Shade(FORCE, (-1, +1), \"wrap\")                    # Brick shadow\n",
    "sh3 = Shade(FORCE, outline=2, dist=0.5, inverted=True)  # Enhance border\n",
    "sh4 = Shade(FORCE, outline=2)                           # Occlusion"
   ]
  },
  {
   "cell_type": "code",
   "execution_count": 6,
   "id": "22897eb3",
   "metadata": {},
   "outputs": [],
   "source": [
    "# Layers\n",
    "ly1 = Layer(tx1)                # Base dirt texture, no mask\n",
    "ly2 = Layer(tx2, mk1, sh1, sh2) # Stone brick over dirt\n",
    "ly3 = Layer(tx3, mk2, sh3, sh4) # Grass growth over bricks\n",
    "ly4 = Layer(None, mk3)          # Hexagonal tile cut\n",
    "\n",
    "from PIL import Image\n",
    "ly1.image.resize((S*SCALE, S*SCALE), Image.Resampling.NEAREST).save(\"docs/imgs/ly1_dirt.png\")\n",
    "ly2.image.resize((S*SCALE, S*SCALE), Image.Resampling.NEAREST).save(\"docs/imgs/ly2_path.png\")\n",
    "ly3.image.resize((S*SCALE, S*SCALE), Image.Resampling.NEAREST).save(\"docs/imgs/ly3_growth.png\")"
   ]
  },
  {
   "cell_type": "code",
   "execution_count": null,
   "id": "22b03407",
   "metadata": {},
   "outputs": [],
   "source": [
    "# Interactions\n",
    "(Tile([ly1, ly2])\n",
    "    .image.resize((S*SCALE, S*SCALE), Image.Resampling.NEAREST)\n",
    "    .save(\"docs/imgs/ly1_2.png\"))\n",
    "\n",
    "(Tile([ly1, ly2, ly3])\n",
    "    .image.resize((S*SCALE, S*SCALE), Image.Resampling.NEAREST)\n",
    "    .save(\"docs/imgs/ly1_2_3.png\"))\n",
    "\n",
    "(Tile([ly2, ly3])\n",
    "    .image.resize((S*SCALE, S*SCALE), Image.Resampling.NEAREST)\n",
    "    .save(\"docs/imgs/ly2_3.png\"))"
   ]
  },
  {
   "cell_type": "code",
   "execution_count": 7,
   "id": "6c30e566",
   "metadata": {},
   "outputs": [
    {
     "data": {
      "image/png": "[encoded data removed]",
      "text/plain": [
       "<PIL.Image.Image image mode=RGBA size=192x192>"
      ]
     },
     "metadata": {},
     "output_type": "display_data"
    }
   ],
   "source": [
    "# Tile\n",
    "tl1 = Tile([ly1, ly2, ly3, ly4])\n",
    "display_image(tl1.image, SCALE)"
   ]
  },
  {
   "cell_type": "code",
   "execution_count": 8,
   "id": "dea16fa6",
   "metadata": {},
   "outputs": [
    {
     "name": "stdout",
     "output_type": "stream",
     "text": [
      "Using cached image\n"
     ]
    }
   ],
   "source": [
    "tl1.image.resize((S*SCALE, S*SCALE), Image.Resampling.NEAREST).save(\"docs/imgs/logo.png\")"
   ]
  },
  {
   "cell_type": "code",
   "execution_count": null,
   "id": "1a0d4578",
   "metadata": {},
   "outputs": [],
   "source": []
  }
 ],
 "metadata": {
  "kernelspec": {
   "display_name": "venv",
   "language": "python",
   "name": "python3"
  },
  "language_info": {
   "codemirror_mode": {
    "name": "ipython",
    "version": 3
   },
   "file_extension": ".py",
   "mimetype": "text/x-python",
   "name": "python",
   "nbconvert_exporter": "python",
   "pygments_lexer": "ipython3",
   "version": "3.12.10"
  }
 },
 "nbformat": 4,
 "nbformat_minor": 5
}
