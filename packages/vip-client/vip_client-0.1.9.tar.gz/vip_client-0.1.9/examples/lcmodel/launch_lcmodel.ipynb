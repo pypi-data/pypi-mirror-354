{
 "cells": [
  {
   "attachments": {},
   "cell_type": "markdown",
   "metadata": {},
   "source": [
    "# Launching LCModel\n",
    "\n",
    "## Prepare environment"
   ]
  },
  {
   "cell_type": "code",
   "execution_count": null,
   "metadata": {},
   "outputs": [],
   "source": [
    "!pip install vip-client wand"
   ]
  },
  {
   "cell_type": "code",
   "execution_count": null,
   "metadata": {},
   "outputs": [],
   "source": [
    "from vip_client import VipSession\n",
    "from pathlib import *\n",
    "from os.path import exists, basename\n",
    "from os import listdir, getcwd\n",
    "\n",
    "# disable local session backup\n",
    "VipSession._BACKUP_LOCATION = None"
   ]
  },
  {
   "cell_type": "markdown",
   "metadata": {},
   "source": [
    "## Set up VIP execution\n",
    "\n",
    "### First, copy paste you VIP API key from the VIP portal (in \"My Account\")"
   ]
  },
  {
   "cell_type": "code",
   "execution_count": null,
   "metadata": {},
   "outputs": [],
   "source": [
    "VipSession.init(api_key=\"TOCHANGE\");"
   ]
  },
  {
   "cell_type": "code",
   "execution_count": null,
   "metadata": {},
   "outputs": [],
   "source": [
    "# Instantiate a Session with a name\n",
    "VipSession._BACKUP_LOCATION = None\n",
    "my_session = VipSession(\"lcmodel\")"
   ]
  },
  {
   "cell_type": "markdown",
   "metadata": {},
   "source": [
    "### Specify where are your input data"
   ]
  },
  {
   "cell_type": "code",
   "execution_count": null,
   "metadata": {},
   "outputs": [],
   "source": [
    "# upload the input dataset, by default it is a \"dataset\" directory but you can change that\n",
    "dataset = Path(\"dataset\")\n",
    "\n",
    "if not listdir(dataset):\n",
    "    raise RuntimeError(f\"[{dataset}] directory must not be empty\") \n",
    "my_session.upload_inputs(dataset)"
   ]
  },
  {
   "cell_type": "markdown",
   "metadata": {},
   "source": [
    "### Prepare the execution inputs"
   ]
  },
  {
   "cell_type": "code",
   "execution_count": null,
   "metadata": {},
   "outputs": [],
   "source": [
    "# get all the signal files from the dataset\n",
    "signal_files = [ dataset / signal_file for signal_file in listdir(dataset) if signal_file.lower().endswith(\".raw\") ]\n",
    "\n",
    "# define the other setting from vip hosted files\n",
    "input_settings = { \n",
    "    \"signal_file\" : signal_files,\n",
    "    \"zipped_folder\": \"/vip/MR Spectroscopy (group)/INPUT/basis.zip\",\n",
    "    \"makebasis_file\" : \"/vip/MR Spectroscopy (group)/INPUT/makeBasis_3T_VIP.in\",\n",
    "    \"control_file\" : \"/vip/MR Spectroscopy (group)/INPUT/fit_3T_VIP.control\"\n",
    "}\n",
    "input_settings"
   ]
  },
  {
   "cell_type": "markdown",
   "metadata": {},
   "source": [
    "## The execution is ready to be launched\n",
    "### You will have to wait a few minutes for the execution to be over"
   ]
  },
  {
   "cell_type": "code",
   "execution_count": null,
   "metadata": {},
   "outputs": [],
   "source": [
    "# launch the execution and wait for it to finish\n",
    "my_session.launch_pipeline(pipeline_id = \"LCModel/0.2-egi\", input_settings = input_settings)\n",
    "my_session.monitor_workflows()"
   ]
  },
  {
   "cell_type": "markdown",
   "metadata": {},
   "source": [
    "### Now you are ready to download the results"
   ]
  },
  {
   "cell_type": "code",
   "execution_count": null,
   "metadata": {},
   "outputs": [],
   "source": [
    "# download the output and clean VIP data\n",
    "my_session.download_outputs()\n",
    "my_session.finish()"
   ]
  },
  {
   "cell_type": "markdown",
   "metadata": {},
   "source": [
    "# Now you can view the pdf result(s)\n"
   ]
  },
  {
   "cell_type": "code",
   "execution_count": null,
   "metadata": {},
   "outputs": [],
   "source": [
    "# This block get the pdf result local paths from the vip client info\n",
    "execution_outputs = next(iter(my_session.workflows.values()))[\"outputs\"]\n",
    "#find pdf results\n",
    "pdf_results = [ output for output in execution_outputs if output[\"path\"].endswith(\".pdf\") ]\n",
    "# get local path\n",
    "prefix_length = len(my_session.vip_output_dir)+1\n",
    "pdf_paths = [ Path(my_session.local_output_dir) / pdf_result[\"path\"][prefix_length:] for pdf_result in pdf_results ]\n",
    "from itertools import cycle\n",
    "pdf_path_iter = cycle(pdf_paths)"
   ]
  },
  {
   "cell_type": "markdown",
   "metadata": {},
   "source": [
    "# This should open a pdf viewer\n",
    "\n",
    "## if you have several pdf results, it will display a different pdf each time you execute it"
   ]
  },
  {
   "cell_type": "code",
   "execution_count": null,
   "metadata": {
    "scrolled": true
   },
   "outputs": [],
   "source": [
    "pdf_path = next(pdf_path_iter)\n",
    "print(f\"displaying {pdf_path}\") \n",
    "import IPython\n",
    "IPython.display.IFrame(pdf_path, width=1000, height=600)"
   ]
  },
  {
   "cell_type": "markdown",
   "metadata": {},
   "source": [
    "# Here is another method for Windows to see the first image of the report"
   ]
  },
  {
   "cell_type": "code",
   "execution_count": null,
   "metadata": {},
   "outputs": [],
   "source": [
    "from wand.image import Image as WImage\n",
    "pdf_path = next(pdf_path_iter)\n",
    "pdf_path = str(pdf_path).replace(\":\",\"-\")\n",
    "pdf_path = Path(pdf_path)\n",
    "\n",
    "img = WImage(filename=str(pdf_path))\n",
    "img"
   ]
  },
  {
   "cell_type": "markdown",
   "metadata": {},
   "source": [
    "## This method allow to show the pdf(s) in separate tab(s)\n",
    "## It should only work in JupyterLab and may fail in other python environments\n",
    "\n",
    "Please change the prefix to the relative path of your notebook inside your jupyterlab root directory (let \"/\" if it is at the root).\n",
    "\n",
    "Then execute the cell and click on the buttons below. Each button should open a jupyterlab tab with a pdf."
   ]
  },
  {
   "cell_type": "code",
   "execution_count": null,
   "metadata": {},
   "outputs": [],
   "source": [
    "prefix = \"/\"\n",
    "\n",
    "from IPython.display import Markdown as md\n",
    "md_elems = [ \"<button data-commandLinker-command=\\\"docmanager:open\\\" \"\n",
    "            \"data-commandLinker-args='{\\\"path\\\":\\\"\" + prefix + str(pdf_path) + \"\\\"}'  \"\n",
    "            \"href=\\\"#\\\">Open \" + basename(pdf_path) + \"</button>\" for pdf_path in pdf_paths ]\n",
    "md(\"\\n\\n\".join(md_elems))"
   ]
  },
  {
   "cell_type": "code",
   "execution_count": null,
   "metadata": {},
   "outputs": [],
   "source": []
  }
 ],
 "metadata": {
  "kernelspec": {
   "display_name": "Python 3 (ipykernel)",
   "language": "python",
   "name": "python3"
  },
  "language_info": {
   "codemirror_mode": {
    "name": "ipython",
    "version": 3
   },
   "file_extension": ".py",
   "mimetype": "text/x-python",
   "name": "python",
   "nbconvert_exporter": "python",
   "pygments_lexer": "ipython3",
   "version": "3.11.6"
  }
 },
 "nbformat": 4,
 "nbformat_minor": 4
}
