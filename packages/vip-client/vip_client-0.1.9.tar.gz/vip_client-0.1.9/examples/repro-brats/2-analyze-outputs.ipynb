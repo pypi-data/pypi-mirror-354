{
 "cells": [
  {
   "attachments": {},
   "cell_type": "markdown",
   "metadata": {},
   "source": [
    "# MICCAI 2023 Tutorial - Part II:\n",
    "## Analyze your computation outputs\n",
    "This part is designed to analyze the results from the [Hands-On Part I](1-launch-application.ipynb) and answer several **reproducibility questions**, such as:\n",
    "- Are the outputs of the BraTS pipeline repeatable from one **execution** to another ?\n",
    "- Are they reproducible between **version** 1.8.1 and version 1.9.0 ?\n",
    "- Could we reproduce the numerical results of the [published paper](https://hal.science/hal-04006057) ?\n",
    "\n",
    "> **N.B.:** At the time you start this Notebook, all tutorial executions may not be over yet. In such case, please **run this Notebook twice**: \n",
    ">-  The 1st time to focus on the outputs from the `vip-team`;\n",
    ">- The 2nd time to update the analyses with the tutorial outputs."
   ]
  },
  {
   "cell_type": "markdown",
   "metadata": {},
   "source": [
    "---\n",
    "## Useful libraries"
   ]
  },
  {
   "cell_type": "markdown",
   "metadata": {},
   "source": [
    "Install: *Uncomment & run the following cell if you are using Google Colab*"
   ]
  },
  {
   "cell_type": "code",
   "execution_count": null,
   "metadata": {},
   "outputs": [],
   "source": [
    "# Remove the hashtag (#) only\n",
    "#! pip install matplotlib nibabel numpy pandas ipywidgets parse scipy vip-client girder-client"
   ]
  },
  {
   "cell_type": "markdown",
   "metadata": {},
   "source": [
    "Import"
   ]
  },
  {
   "cell_type": "code",
   "execution_count": null,
   "metadata": {},
   "outputs": [],
   "source": [
    "# Builtins\n",
    "import matplotlib.pyplot as plt\n",
    "from hashlib import md5\n",
    "from pathlib import *\n",
    "# Third-party\n",
    "import nibabel as nib\n",
    "import numpy as np\n",
    "import pandas as pd\n",
    "from ipywidgets import interact\n",
    "from parse import parse\n",
    "from scipy.ndimage import gaussian_filter\n",
    "from vip_client.classes import VipLoader"
   ]
  },
  {
   "attachments": {},
   "cell_type": "markdown",
   "metadata": {},
   "source": [
    "---\n",
    "## Understand the pipeline outputs"
   ]
  },
  {
   "attachments": {},
   "cell_type": "markdown",
   "metadata": {},
   "source": [
    "The next section will help you understand the outputs of the BraTS pipeline.\n",
    "These outputs will be downloaded from the VIP servers and visualized in 3D.\n",
    "\n",
    "<img src=\"imgs/BraTS-Pipeline.png\" alt=\"BraTS-Pipeline\" height=\"150\" title=\"Full Pipeline for Brain Tumor Segmentation\"/>"
   ]
  },
  {
   "attachments": {},
   "cell_type": "markdown",
   "metadata": {},
   "source": [
    "*In the cell below you need to provide again your VIP API key.*"
   ]
  },
  {
   "cell_type": "code",
   "execution_count": null,
   "metadata": {},
   "outputs": [],
   "source": [
    "# Paste your VIP API key between the quotes\n",
    "VipLoader.init(api_key=\"VIP_API_KEY\");"
   ]
  },
  {
   "cell_type": "markdown",
   "metadata": {},
   "source": [
    "First, download the outputs from previous executions.\n",
    "- Outputs from the `vip-team` (paper results).\n",
    "- Outputs from the `miccai-team`s (including yours) if all executions are over."
   ]
  },
  {
   "cell_type": "code",
   "execution_count": null,
   "metadata": {},
   "outputs": [],
   "source": [
    "# Local & distant paths to the dataset\n",
    "res_dir = Path(\"data\")\n",
    "vip_dir = PurePosixPath(\"/vip/MICCAI tutorial (group)/outputs\")\n",
    "# Use the client to download the data\n",
    "VipLoader.download_dir(vip_dir, \"data\")"
   ]
  },
  {
   "attachments": {},
   "cell_type": "markdown",
   "metadata": {},
   "source": [
    "The following cell shows two kinds of BraTS outputs :\n",
    "1. a registered **brain scan** with skull strip;\n",
    "2. a **tumor mask** relative the registered brain scan."
   ]
  },
  {
   "cell_type": "code",
   "execution_count": null,
   "metadata": {},
   "outputs": [],
   "source": [
    "# Define a filename for each type of result\n",
    "filenames = {\n",
    "    \"tumor\": 'brainTumorMask_SRI.nii.gz',\n",
    "    \"brain\": 'T1_to_SRI_brain.nii.gz'\n",
    "}\n",
    "# Get 1 tumor file and 1 brain scan\n",
    "tumor_file = next(res_dir.rglob('brainTumorMask_SRI.nii.gz'))\n",
    "brain_file = next(res_dir.rglob('T1_to_SRI_brain.nii.gz'))\n",
    "# Display their path\n",
    "print(\"\\n\".join([str(tumor_file), str(brain_file)]))"
   ]
  },
  {
   "attachments": {},
   "cell_type": "markdown",
   "metadata": {},
   "source": [
    "Extract data from the brain & tumor files and display the brain volumes slice by slice "
   ]
  },
  {
   "cell_type": "code",
   "execution_count": null,
   "metadata": {},
   "outputs": [],
   "source": [
    "# Extract brain & tumor data from the previous files\n",
    "brain = nib.load(brain_file).get_fdata()\n",
    "tumor = nib.load(tumor_file).get_fdata()\n",
    "tumor[tumor==0] = np.nan\n",
    "\n",
    "# Interactive method to display the 3D images slice by slice\n",
    "@interact\n",
    "def show_slices(z=(0,150)) -> None:\n",
    "    # Axes\n",
    "    _, (ax_brain, ax_tumor) = plt.subplots(1, 2, figsize=(10,5))\n",
    "    # Display the brain\n",
    "    ax_brain.set_title(\"Brain Scan\")\n",
    "    ax_brain.imshow(brain[:,:,z], cmap='bone', origin=\"lower\")\n",
    "    ax_brain.axis('off')\n",
    "    # Display the brain with tumor\n",
    "    ax_tumor.set_title(\"With Tumor Detection\")\n",
    "    ax_tumor.imshow(brain[:,:,z], cmap='bone', origin=\"lower\")\n",
    "    ax_tumor.imshow(tumor[:,:,z], origin=\"lower\")\n",
    "    ax_tumor.axis('off')\n",
    "    plt.show()"
   ]
  },
  {
   "attachments": {},
   "cell_type": "markdown",
   "metadata": {},
   "source": [
    "---\n",
    "## Compare the outputs\n",
    "\n",
    "The next section will help you compare BraTS outputs:\n",
    "- Across pipeline **executions** from the same team (*exec_1*, *exec_2*, ...)\n",
    "- Across pipeline **versions** (*1.8.1*, *1.9.0*)\n",
    "- Across execution **teams** (*vip-team*, *miccai-teams*)"
   ]
  },
  {
   "attachments": {},
   "cell_type": "markdown",
   "metadata": {},
   "source": [
    "### List all output files\n",
    "Build a [Dataframe](https://www.tutorialspoint.com/python_pandas/python_pandas_dataframe.htm) containing all files with relative metadata"
   ]
  },
  {
   "cell_type": "code",
   "execution_count": null,
   "metadata": {},
   "outputs": [],
   "source": [
    "# List the result files\n",
    "all_files = [str(path) \n",
    "    for type in filenames\n",
    "    for path in res_dir.rglob(filenames[type])\n",
    "]\n",
    "\n",
    "# The file paths contain useful metadata\n",
    "metadata_format = str(res_dir/\"{Team}/{Version}/{Execution}/{_}/{Subject}/{File}\")\n",
    "\n",
    "# Build the dataset\n",
    "# method\n",
    "def get_metadata_from_path(path: str) -> dict:\n",
    "    \"\"\"Function to extract metadata from a single file path \"\"\"\n",
    "    metadata = parse(metadata_format, path)\n",
    "    if metadata is None: \n",
    "        return {}\n",
    "    result = metadata.named\n",
    "    result.update({\"Path\": path}) \n",
    "    return result\n",
    "# command\n",
    "data = pd.DataFrame([get_metadata_from_path(file) for file in all_files])\n",
    "# drop missing examples\n",
    "data.dropna(axis=0, inplace=True) \n",
    "\n",
    "# Simplify the execution names\n",
    "# method\n",
    "def map_names(group: pd.Series):\n",
    "    \"\"\"Function to rename all executions of a given group in the dataset\"\"\"\n",
    "    executions = group.unique()\n",
    "    execution_map = { executions[i]: \"exec_%d\" %(i+1) for i in range(len(executions)) }\n",
    "    return group.map(execution_map)\n",
    "# command\n",
    "data[\"Execution\"] = data.groupby([\"Team\", \"Version\", \"Subject\"], group_keys=False)[\"Execution\"].apply(map_names)\n",
    "\n",
    "# Simplify the file names \n",
    "data[\"File\"] = data[\"File\"].map({\n",
    "    'brainTumorMask_SRI.nii.gz': \"tumor\",\n",
    "    'T1_to_SRI_brain.nii.gz': \"brain\",\n",
    "})\n",
    "\n",
    "# Metadata = Team, Version... everything but 'Path'\n",
    "metadata_keys = list(data.columns)\n",
    "metadata_keys.remove(\"Path\")\n",
    "data.set_index(metadata_keys, inplace=True)\n",
    "\n",
    "# Display the dataset\n",
    "data.head()"
   ]
  },
  {
   "attachments": {},
   "cell_type": "markdown",
   "metadata": {},
   "source": [
    "*You should see a table with file paths, file names, subjects, executions, versions & teams.*"
   ]
  },
  {
   "attachments": {},
   "cell_type": "markdown",
   "metadata": {},
   "source": [
    "### Compute the checksums\n",
    "The following cell computes and displays the MD5 sums of all output files."
   ]
  },
  {
   "cell_type": "code",
   "execution_count": null,
   "metadata": {},
   "outputs": [],
   "source": [
    "# Create a Series of checksums from the file paths\n",
    "# method\n",
    "def md5sum(file: str) -> str:\n",
    "    \"\"\"Computes the md5sum of `file` path.\"\"\"\n",
    "    with open(file, \"rb\") as fid:\n",
    "        return md5(fid.read()).hexdigest()\n",
    "# command\n",
    "checksums = data[\"Path\"].apply(md5sum)\n",
    "\n",
    "# Compare teams & executions\n",
    "checksums.unstack([\"Team\", \"Execution\"])"
   ]
  },
  {
   "attachments": {},
   "cell_type": "markdown",
   "metadata": {},
   "source": [
    "*This table can help you answer the reproducibility questions raised in the introduction.*"
   ]
  },
  {
   "attachments": {},
   "cell_type": "markdown",
   "metadata": {},
   "source": [
    "### Image Analysis\n",
    "This section helps visualizing the differences between tumor segmentations.\n",
    "\n",
    "First, load the Nifti files:"
   ]
  },
  {
   "cell_type": "code",
   "execution_count": null,
   "metadata": {},
   "outputs": [],
   "source": [
    "# Pre-load all Nifti files\n",
    "# method\n",
    "def load(file: str) -> str:\n",
    "    \"\"\"Loads a .nii file from its path\"\"\"\n",
    "    with open(file, \"rb\") as fid:\n",
    "        return nib.load(file)\n",
    "# command\n",
    "images = data[\"Path\"].apply(load)\n",
    "\n",
    "# Display the result\n",
    "images.head()"
   ]
  },
  {
   "attachments": {},
   "cell_type": "markdown",
   "metadata": {},
   "source": [
    "Finally, show the differences in the segmented tumors between two `TEAMS`, pipeline `VERSIONS` or `EXECUTIONS`.\n",
    "\n",
    "*Please modify the `TEAMS`, `VERSIONS` and `EXECUTIONS` in the cell below to observe the differences interactively.*"
   ]
  },
  {
   "cell_type": "code",
   "execution_count": null,
   "metadata": {},
   "outputs": [],
   "source": [
    "# USER'S INPUTS -------------------------------------------------------\n",
    "\n",
    "# Compare execution teams \n",
    "TEAM_A = \"vip-team\"\n",
    "TEAM_B = \"vip-team\"\n",
    "# TEAM_B = \"miccai_team_1\"\n",
    "\n",
    "# Compare software versions \n",
    "VERSION_A = \"v181\"\n",
    "VERSION_B = \"v190\"\n",
    "# VERSION_B = \"v181\"\n",
    "\n",
    "# Compare software executions \n",
    "EXECUTION_A = \"exec_1\"\n",
    "EXECUTION_B = \"exec_1\"\n",
    "# EXECUTION_B = \"exec_2\"\n",
    "\n",
    "# INTERACTIVE DISPLAY --------------------------------------------------\n",
    "\n",
    "# Function to display a tumor\n",
    "def show_tumor(tumor: np.ndarray, brain: np.ndarray, ax: plt.Axes=plt):\n",
    "    if brain is not None:\n",
    "        ax.imshow(brain, cmap='bone', origin=\"lower\")\n",
    "    tumor[tumor==0] = np.nan\n",
    "    ax.imshow(tumor, origin=\"lower\")\n",
    "    ax.axis('off')\n",
    "\n",
    "def make_diff(tumor_a, tumor_b):\n",
    "    values = np.unique(tumor_a)\n",
    "    diff = np.zeros(np.shape(tumor_a))\n",
    "    for val in values:\n",
    "        diff[(tumor_a == val) ^ (tumor_b == val)] = val\n",
    "    return diff\n",
    "\n",
    "@interact\n",
    "def show_diff(subject=list(images.index.get_level_values(\"Subject\").unique()), sigma=(0, 1, 0.1), z=(0,150)):\n",
    "\n",
    "    # Commmon Background: Registered brain image from output A\n",
    "    brain = images[TEAM_A, VERSION_A, EXECUTION_A, subject, \"brain\"].get_fdata()[:,:,z]\n",
    "    _, (ax_a, ax_diff, ax_b) = plt.subplots(1, 3, figsize=(15,5))\n",
    "\n",
    "    # Image A : Tumor output A\n",
    "    tumor_a = images[TEAM_A, VERSION_A, EXECUTION_A, subject, \"tumor\"].get_fdata()[:,:,z]\n",
    "    show_tumor(tumor_a, brain, ax_a)\n",
    "    ax_a.set_title(\"Output A\")\n",
    "    \n",
    "    # Image B : Tumor output B\n",
    "    tumor_b = images[TEAM_B, VERSION_B, EXECUTION_B, subject, \"tumor\"].get_fdata()[:,:,z]\n",
    "    show_tumor(tumor_b, brain, ax_b)\n",
    "    ax_b.set_title(\"Output B\")\n",
    "\n",
    "    # Difference\n",
    "    tumor_diff = make_diff(tumor_a, tumor_b)\n",
    "    tumor_diff = gaussian_filter(tumor_diff, sigma=sigma)\n",
    "    show_tumor(tumor_diff, brain, ax_diff)\n",
    "    ax_diff.set_title(\"Difference\")\n",
    "\n",
    "    plt.show()"
   ]
  },
  {
   "cell_type": "markdown",
   "metadata": {},
   "source": [
    "*You should see 3 brain scans with segmented tumors.*\n",
    "- *Use parameter `z` to navigate across the the Z-axis;*\n",
    "- *Use parameter `sigma` to enhance the differences between outputs A and B.*"
   ]
  },
  {
   "cell_type": "markdown",
   "metadata": {},
   "source": [
    "> **N.B.:** If some executions were not over when you started this Notebbok, you can **run again all cells from the top** to load and analyze all tutorial outputs.\n",
    "\n",
    "---"
   ]
  }
 ],
 "metadata": {
  "kernelspec": {
   "display_name": "Python 3",
   "language": "python",
   "name": "python3"
  },
  "language_info": {
   "codemirror_mode": {
    "name": "ipython",
    "version": 3
   },
   "file_extension": ".py",
   "mimetype": "text/x-python",
   "name": "python",
   "nbconvert_exporter": "python",
   "pygments_lexer": "ipython3",
   "version": "3.10.12"
  },
  "orig_nbformat": 4,
  "vscode": {
   "interpreter": {
    "hash": "e7370f93d1d0cde622a1f8e1c04877d8463912d04d973331ad4851f04de6915a"
   }
  }
 },
 "nbformat": 4,
 "nbformat_minor": 2
}
