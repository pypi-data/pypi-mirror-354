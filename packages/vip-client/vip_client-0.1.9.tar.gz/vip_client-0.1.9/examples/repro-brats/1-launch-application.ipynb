{
 "cells": [
  {
   "attachments": {},
   "cell_type": "markdown",
   "metadata": {},
   "source": [
    "# MICCAI 2023 Tutorial - Part I:\n",
    "## Launch a containerized medical imaging application\n",
    "This Notebook is designed to reproduce the computational experiments of a [published scientific paper](https://hal.science/hal-04006057) on deep learning for **Bra**in **T**umor **S**egmentation (**BraTS**).\n",
    "\n",
    "<img src=\"imgs/BraTS-Results.png\" alt=\"BraTS-Results\" height=\"250\" title=\"Results from Brain Tumor Segmentation\"/>\n",
    "\n",
    "It uses methods from the [VIP client for Python](https://github.com/virtual-imaging-platform/VIP-python-client).\n",
    "\n",
    ">__N.B.__: This tutorial requires inputs from the user. Please carefully read the instructions provided by the *italic-style cell comments*."
   ]
  },
  {
   "cell_type": "markdown",
   "metadata": {},
   "source": [
    "---\n",
    "## Useful libraries"
   ]
  },
  {
   "cell_type": "markdown",
   "metadata": {},
   "source": [
    "Install: *Uncomment & run the following cell if you are using Google Colab*"
   ]
  },
  {
   "cell_type": "code",
   "execution_count": null,
   "metadata": {},
   "outputs": [],
   "source": [
    "# Remove the hashtag (#) only\n",
    "#! pip install vip-client girder-client"
   ]
  },
  {
   "cell_type": "markdown",
   "metadata": {},
   "source": [
    "Import"
   ]
  },
  {
   "cell_type": "code",
   "execution_count": null,
   "metadata": {},
   "outputs": [],
   "source": [
    "# Builtins\n",
    "from pathlib import *\n",
    "# Third-party\n",
    "from vip_client.classes import VipLauncher\n",
    "from vip_client.classes import VipLoader"
   ]
  },
  {
   "attachments": {},
   "cell_type": "markdown",
   "metadata": {},
   "source": [
    "---\n",
    "## Prepare your executions"
   ]
  },
  {
   "attachments": {},
   "cell_type": "markdown",
   "metadata": {},
   "source": [
    "Handshake with VIP using your **API key** \n",
    "\n",
    "*You can follow this [procedure](../../doc/account.md) to get a VIP API key from the [VIP portal](https://vip.creatis.insa-lyon.fr/).*"
   ]
  },
  {
   "cell_type": "code",
   "execution_count": null,
   "metadata": {},
   "outputs": [],
   "source": [
    "# Paste your VIP API key between the quotes\n",
    "VipLauncher.init(api_key=\"VIP_API_KEY\");"
   ]
  },
  {
   "cell_type": "markdown",
   "metadata": {},
   "source": [
    "To provide some variability in the execution environment, this pipeline will be launched by different __teams__.\n",
    "\n",
    "*Please wait for the speakers to make the teams & put your __team number__ instead of `None` in the following cell.*"
   ]
  },
  {
   "cell_type": "code",
   "execution_count": null,
   "metadata": {},
   "outputs": [],
   "source": [
    "# PUT YOUR TEAM NUMBER\n",
    "MY_TEAM_NBR = None"
   ]
  },
  {
   "cell_type": "markdown",
   "metadata": {},
   "source": [
    "---\n",
    "## Launch the Brain Tumor Segmentation"
   ]
  },
  {
   "cell_type": "markdown",
   "metadata": {},
   "source": [
    "### Dataset\n",
    "Show the (small) dataset that will be used in this tutorial"
   ]
  },
  {
   "cell_type": "code",
   "execution_count": null,
   "metadata": {},
   "outputs": [],
   "source": [
    "# The data you need is stored in a folder on VIP Servers \n",
    "input_dir = PurePosixPath(\"/vip/MICCAI tutorial (group)/inputs\")\n",
    "# This folder contains data from several subjects\n",
    "subjects = VipLoader.list_dir(input_dir)\n",
    "print(\"\\n\".join(subjects))"
   ]
  },
  {
   "cell_type": "markdown",
   "metadata": {},
   "source": [
    "### Software\n",
    "The `BraTS` pipeline is declined in **two different versions** that require the same inputs."
   ]
  },
  {
   "cell_type": "code",
   "execution_count": null,
   "metadata": {},
   "outputs": [],
   "source": [
    "# Available versions\n",
    "pipelines = {\n",
    "    \"v181\": \"BraTSPipeline/1.8.1_miccai\", \n",
    "    \"v190\": \"BraTSPipeline/1.9.0_miccai\"\n",
    "}\n",
    "# Show the inputs required by the pipeline\n",
    "VipLauncher.show_pipeline(pipelines[\"v181\"])"
   ]
  },
  {
   "cell_type": "markdown",
   "metadata": {},
   "source": [
    "### Execution Environment\n",
    "Your team will launch BraTS with a fixed number of threads for parallel computing."
   ]
  },
  {
   "cell_type": "code",
   "execution_count": null,
   "metadata": {},
   "outputs": [],
   "source": [
    "# (raises ValueError if no team number is provided)\n",
    "try:\n",
    "    # Select a number of threads based on the team number\n",
    "    nb_threads = 8 if (MY_TEAM_NBR % 2 == 0) else 16\n",
    "except TypeError:\n",
    "    raise ValueError(\"Please precise your team number in the cell above\")"
   ]
  },
  {
   "cell_type": "markdown",
   "metadata": {},
   "source": [
    "### Application Launch\n",
    "*Please execute the following cell __only once__ and go to Notebook N°2.*"
   ]
  },
  {
   "cell_type": "code",
   "execution_count": null,
   "metadata": {},
   "outputs": [],
   "source": [
    "# Each subject contains 4 inputs files for the BraTS pipeline\n",
    "input_settings = {\n",
    "    \"t1Image\": [(input_dir / subject / \"T1.nii.gz\") for subject in subjects],\n",
    "    \"t1ceImage\": [(input_dir / subject / \"T1GD.nii.gz\") for subject in subjects],\n",
    "    \"t2Image\": [(input_dir / subject / \"T2.nii.gz\") for subject in subjects],\n",
    "    \"flImage\": [(input_dir / subject / \"T2-FLAIR.nii.gz\") for subject in subjects],\n",
    "    \"appliOutputDir\": subjects,\n",
    "    \"brainTumor\": \"1\",\n",
    "    \"skullStrip\": \"1\",\n",
    "    \"bundleAllResults\": \"0\",\n",
    "    \"nb_threads\": str(nb_threads)\n",
    "}\n",
    "\n",
    "# Launch both versions of the application\n",
    "for version in pipelines:\n",
    "    session = VipLauncher(\n",
    "        output_dir = input_dir.parent / \"outputs\" / (\"miccai-team-\"+str(MY_TEAM_NBR)) / version,\n",
    "        pipeline_id = pipelines[version],\n",
    "        input_settings = input_settings\n",
    "    ).launch_pipeline();\n",
    "session.monitor_workflows();"
   ]
  },
  {
   "attachments": {},
   "cell_type": "markdown",
   "metadata": {},
   "source": [
    "You should be invited to monitor your executions on the [VIP portal](https://vip.creatis.insa-lyon.fr).\n",
    "\n",
    "After the coffee break, please proceed to the **[Hands-On Part II](2-analyze-outputs.ipynb)**.\n",
    "\n",
    "---"
   ]
  },
  {
   "cell_type": "markdown",
   "metadata": {},
   "source": []
  }
 ],
 "metadata": {
  "kernelspec": {
   "display_name": "Python 3",
   "language": "python",
   "name": "python3"
  },
  "language_info": {
   "codemirror_mode": {
    "name": "ipython",
    "version": 3
   },
   "file_extension": ".py",
   "mimetype": "text/x-python",
   "name": "python",
   "nbconvert_exporter": "python",
   "pygments_lexer": "ipython3",
   "version": "3.10.12"
  },
  "orig_nbformat": 4,
  "vscode": {
   "interpreter": {
    "hash": "e7370f93d1d0cde622a1f8e1c04877d8463912d04d973331ad4851f04de6915a"
   }
  }
 },
 "nbformat": 4,
 "nbformat_minor": 2
}
