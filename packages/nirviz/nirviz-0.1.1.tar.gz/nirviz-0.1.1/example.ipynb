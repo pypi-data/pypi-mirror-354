{
 "cells": [
  {
   "cell_type": "code",
   "execution_count": 1,
   "id": "e6489ed2",
   "metadata": {
    "collapsed": false
   },
   "outputs": [
    {
     "data": {
      "image/svg+xml": [
       "<svg xmlns=\"http://www.w3.org/2000/svg\" xmlns:xlink=\"http://www.w3.org/1999/xlink\" width=\"362pt\" height=\"44pt\" viewBox=\"0.00 0.00 362.00 44.00\">\n",
       "<g id=\"graph0\" class=\"graph\" transform=\"scale(1 1) rotate(0) translate(4 40)\">\n",
       "<title>%3</title>\n",
       "<polygon fill=\"white\" stroke=\"transparent\" points=\"-4,4 -4,-40 358,-40 358,4 -4,4\"/>\n",
       "<!-- input -->\n",
       "<g id=\"node1\" class=\"node\">\n",
       "<title>input</title>\n",
       "<polygon fill=\"none\" stroke=\"black\" stroke-dasharray=\"5,2\" points=\"55,-36 0,-36 0,0 55,0 55,-36\"/>\n",
       "<text text-anchor=\"middle\" x=\"27.5\" y=\"-14.3\" font-family=\"Times,serif\" font-size=\"14.00\">Input</text>\n",
       "</g>\n",
       "<!-- linear -->\n",
       "<g id=\"node2\" class=\"node\">\n",
       "<title>linear</title>\n",
       "<polygon fill=\"#71c8b0\" stroke=\"#71c8b0\" points=\"153,-36 91,-36 91,0 153,0 153,-36\"/>\n",
       "<text text-anchor=\"middle\" x=\"122\" y=\"-14.3\" font-family=\"Times,serif\" font-size=\"14.00\">Linear</text>\n",
       "</g>\n",
       "<!-- input&#45;&gt;linear -->\n",
       "<g id=\"edge1\" class=\"edge\">\n",
       "<title>input-&gt;linear</title>\n",
       "<path fill=\"none\" stroke=\"black\" d=\"M55.25,-18C63.14,-18 71.96,-18 80.51,-18\"/>\n",
       "<polygon fill=\"black\" stroke=\"black\" points=\"80.73,-21.5 90.73,-18 80.73,-14.5 80.73,-21.5\"/>\n",
       "</g>\n",
       "<!-- linear_1 -->\n",
       "<g id=\"node3\" class=\"node\">\n",
       "<title>linear_1</title>\n",
       "<polygon fill=\"#71c8b0\" stroke=\"#71c8b0\" points=\"251,-36 189,-36 189,0 251,0 251,-36\"/>\n",
       "<text text-anchor=\"middle\" x=\"220\" y=\"-14.3\" font-family=\"Times,serif\" font-size=\"14.00\">Linear</text>\n",
       "</g>\n",
       "<!-- linear&#45;&gt;linear_1 -->\n",
       "<g id=\"edge2\" class=\"edge\">\n",
       "<title>linear-&gt;linear_1</title>\n",
       "<path fill=\"none\" stroke=\"black\" d=\"M153.11,-18C161.24,-18 170.17,-18 178.76,-18\"/>\n",
       "<polygon fill=\"black\" stroke=\"black\" points=\"179,-21.5 189,-18 179,-14.5 179,-21.5\"/>\n",
       "</g>\n",
       "<!-- output -->\n",
       "<g id=\"node4\" class=\"node\">\n",
       "<title>output</title>\n",
       "<polygon fill=\"none\" stroke=\"black\" stroke-dasharray=\"5,2\" points=\"354,-36 287,-36 287,0 354,0 354,-36\"/>\n",
       "<text text-anchor=\"middle\" x=\"320.5\" y=\"-14.3\" font-family=\"Times,serif\" font-size=\"14.00\">Output</text>\n",
       "</g>\n",
       "<!-- linear_1&#45;&gt;output -->\n",
       "<g id=\"edge3\" class=\"edge\">\n",
       "<title>linear_1-&gt;output</title>\n",
       "<path fill=\"none\" stroke=\"black\" d=\"M251.09,-18C259.13,-18 267.99,-18 276.58,-18\"/>\n",
       "<polygon fill=\"black\" stroke=\"black\" points=\"276.85,-21.5 286.85,-18 276.85,-14.5 276.85,-21.5\"/>\n",
       "</g>\n",
       "</g>\n",
       "</svg>"
      ],
      "text/plain": [
       "<IPython.core.display.SVG object>"
      ]
     },
     "metadata": {},
     "output_type": "display_data"
    }
   ],
   "source": [
    "import nir\n",
    "import nirviz\n",
    "import importlib\n",
    "importlib.reload(nirviz)\n",
    "import numpy as np\n",
    "\n",
    "w = np.random.randn(2, 2)\n",
    "graph = nir.NIRGraph.from_list(nir.Linear(weight=w), nir.Linear(weight=w))\n",
    "viz = nirviz.visualize(graph)\n",
    "viz.show()"
   ]
  },
  {
   "cell_type": "code",
   "execution_count": 15,
   "id": "dc7287c0-888d-4d1a-a149-a0620866fd1b",
   "metadata": {
    "collapsed": false
   },
   "outputs": [
    {
     "name": "stderr",
     "output_type": "stream",
     "text": [
      "WARNING:root:removing self-connection ('0', '0')\n"
     ]
    }
   ],
   "source": [
    "import snntorch as snn\n",
    "import torch\n",
    "\n",
    "importlib.reload(snn)\n",
    "importlib.reload(nirviz)\n",
    "import numpy as np\n",
    "\n",
    "lif1 = snn.Leaky(beta=0.9, init_hidden=True)\n",
    "lif2 = snn.Leaky(beta=0.9, init_hidden=True, output=True)\n",
    "\n",
    "# Create a network\n",
    "snntorch_network = torch.nn.Sequential(\n",
    "    torch.nn.Flatten(),\n",
    "    #torch.nn.Linear(784, 500),\n",
    "    # lif1,\n",
    "    # torch.nn.Linear(500, 10),\n",
    "    # lif2\n",
    ")\n",
    "\n",
    "sample_data = torch.randn(1, 784)\n",
    "\n",
    "# Export to nir\n",
    "nir_model = snn.export_to_nir(snntorch_network, sample_data)\n",
    "\n",
    "# viz = nirviz.visualize(nir_model)\n",
    "# viz.show()"
   ]
  },
  {
   "cell_type": "code",
   "execution_count": 18,
   "id": "bef33566-65eb-4c5f-b227-c65f5aec2224",
   "metadata": {
    "collapsed": false
   },
   "outputs": [
    {
     "data": {
      "image/svg+xml": [
       "<svg xmlns=\"http://www.w3.org/2000/svg\" xmlns:xlink=\"http://www.w3.org/1999/xlink\" width=\"580pt\" height=\"98pt\" viewBox=\"0.00 0.00 580.00 98.00\">\n",
       "<g id=\"graph0\" class=\"graph\" transform=\"scale(1 1) rotate(0) translate(4 94)\">\n",
       "<title>%3</title>\n",
       "<polygon fill=\"white\" stroke=\"transparent\" points=\"-4,4 -4,-94 576,-94 576,4 -4,4\"/>\n",
       "<!-- input -->\n",
       "<g id=\"node1\" class=\"node\">\n",
       "<title>input</title>\n",
       "<polygon fill=\"none\" stroke=\"black\" stroke-dasharray=\"5,2\" points=\"55,-90 0,-90 0,-54 55,-54 55,-90\"/>\n",
       "<text text-anchor=\"middle\" x=\"27.5\" y=\"-68.3\" font-family=\"Times,serif\" font-size=\"14.00\">Input</text>\n",
       "</g>\n",
       "<!-- affine1 -->\n",
       "<g id=\"node2\" class=\"node\">\n",
       "<title>affine1</title>\n",
       "<polygon fill=\"#71c8b0\" stroke=\"#71c8b0\" points=\"149,-90 91,-90 91,-54 149,-54 149,-90\"/>\n",
       "<text text-anchor=\"middle\" x=\"120\" y=\"-68.3\" font-family=\"Times,serif\" font-size=\"14.00\">Affine</text>\n",
       "</g>\n",
       "<!-- input&#45;&gt;affine1 -->\n",
       "<g id=\"edge1\" class=\"edge\">\n",
       "<title>input-&gt;affine1</title>\n",
       "<path fill=\"none\" stroke=\"black\" d=\"M55.16,-72C63.17,-72 72.12,-72 80.72,-72\"/>\n",
       "<polygon fill=\"black\" stroke=\"black\" points=\"80.95,-75.5 90.95,-72 80.95,-68.5 80.95,-75.5\"/>\n",
       "</g>\n",
       "<!-- cu1 -->\n",
       "<g id=\"node3\" class=\"node\">\n",
       "<title>cu1</title>\n",
       "<polygon fill=\"#a0d5f1\" stroke=\"#a0d5f1\" points=\"262,-90 185,-90 185,-54 262,-54 262,-90\"/>\n",
       "<text text-anchor=\"middle\" x=\"223.5\" y=\"-68.3\" font-family=\"Times,serif\" font-size=\"14.00\">CubaLIF</text>\n",
       "</g>\n",
       "<!-- affine1&#45;&gt;cu1 -->\n",
       "<g id=\"edge2\" class=\"edge\">\n",
       "<title>affine1-&gt;cu1</title>\n",
       "<path fill=\"none\" stroke=\"black\" d=\"M149,-72C156.93,-72 165.8,-72 174.55,-72\"/>\n",
       "<polygon fill=\"black\" stroke=\"black\" points=\"174.71,-75.5 184.71,-72 174.71,-68.5 174.71,-75.5\"/>\n",
       "</g>\n",
       "<!-- affine_rec -->\n",
       "<g id=\"node4\" class=\"node\">\n",
       "<title>affine_rec</title>\n",
       "<polygon fill=\"#71c8b0\" stroke=\"#71c8b0\" points=\"356,-90 298,-90 298,-54 356,-54 356,-90\"/>\n",
       "<text text-anchor=\"middle\" x=\"327\" y=\"-68.3\" font-family=\"Times,serif\" font-size=\"14.00\">Affine</text>\n",
       "</g>\n",
       "<!-- cu1&#45;&gt;affine_rec -->\n",
       "<g id=\"edge4\" class=\"edge\">\n",
       "<title>cu1-&gt;affine_rec</title>\n",
       "<path fill=\"none\" stroke=\"black\" d=\"M262.01,-65.46C270.44,-65.19 279.39,-65.18 287.85,-65.44\"/>\n",
       "<polygon fill=\"black\" stroke=\"black\" points=\"287.7,-68.94 297.85,-65.88 288.02,-61.94 287.7,-68.94\"/>\n",
       "</g>\n",
       "<!-- affine2 -->\n",
       "<g id=\"node5\" class=\"node\">\n",
       "<title>affine2</title>\n",
       "<polygon fill=\"#71c8b0\" stroke=\"#71c8b0\" points=\"356,-36 298,-36 298,0 356,0 356,-36\"/>\n",
       "<text text-anchor=\"middle\" x=\"327\" y=\"-14.3\" font-family=\"Times,serif\" font-size=\"14.00\">Affine</text>\n",
       "</g>\n",
       "<!-- cu1&#45;&gt;affine2 -->\n",
       "<g id=\"edge5\" class=\"edge\">\n",
       "<title>cu1-&gt;affine2</title>\n",
       "<path fill=\"none\" stroke=\"black\" d=\"M258.58,-53.87C268.37,-48.66 279.09,-42.96 289.04,-37.66\"/>\n",
       "<polygon fill=\"black\" stroke=\"black\" points=\"290.73,-40.73 297.92,-32.94 287.45,-34.55 290.73,-40.73\"/>\n",
       "</g>\n",
       "<!-- affine_rec&#45;&gt;cu1 -->\n",
       "<g id=\"edge3\" class=\"edge\">\n",
       "<title>affine_rec-&gt;cu1</title>\n",
       "<path fill=\"none\" stroke=\"black\" d=\"M297.85,-78.12C289.88,-78.59 280.98,-78.8 272.2,-78.74\"/>\n",
       "<polygon fill=\"black\" stroke=\"black\" points=\"272.07,-75.24 262.01,-78.54 271.94,-82.23 272.07,-75.24\"/>\n",
       "</g>\n",
       "<!-- cu2 -->\n",
       "<g id=\"node6\" class=\"node\">\n",
       "<title>cu2</title>\n",
       "<polygon fill=\"#a0d5f1\" stroke=\"#a0d5f1\" points=\"469,-36 392,-36 392,0 469,0 469,-36\"/>\n",
       "<text text-anchor=\"middle\" x=\"430.5\" y=\"-14.3\" font-family=\"Times,serif\" font-size=\"14.00\">CubaLIF</text>\n",
       "</g>\n",
       "<!-- affine2&#45;&gt;cu2 -->\n",
       "<g id=\"edge6\" class=\"edge\">\n",
       "<title>affine2-&gt;cu2</title>\n",
       "<path fill=\"none\" stroke=\"black\" d=\"M356,-18C363.93,-18 372.8,-18 381.55,-18\"/>\n",
       "<polygon fill=\"black\" stroke=\"black\" points=\"381.71,-21.5 391.71,-18 381.71,-14.5 381.71,-21.5\"/>\n",
       "</g>\n",
       "<!-- output -->\n",
       "<g id=\"node7\" class=\"node\">\n",
       "<title>output</title>\n",
       "<polygon fill=\"none\" stroke=\"black\" stroke-dasharray=\"5,2\" points=\"572,-36 505,-36 505,0 572,0 572,-36\"/>\n",
       "<text text-anchor=\"middle\" x=\"538.5\" y=\"-14.3\" font-family=\"Times,serif\" font-size=\"14.00\">Output</text>\n",
       "</g>\n",
       "<!-- cu2&#45;&gt;output -->\n",
       "<g id=\"edge7\" class=\"edge\">\n",
       "<title>cu2-&gt;output</title>\n",
       "<path fill=\"none\" stroke=\"black\" d=\"M469.17,-18C477.46,-18 486.3,-18 494.78,-18\"/>\n",
       "<polygon fill=\"black\" stroke=\"black\" points=\"494.87,-21.5 504.87,-18 494.87,-14.5 494.87,-21.5\"/>\n",
       "</g>\n",
       "</g>\n",
       "</svg>"
      ],
      "text/plain": [
       "<IPython.core.display.SVG object>"
      ]
     },
     "metadata": {},
     "output_type": "display_data"
    }
   ],
   "source": [
    "a = np.random.randn(2)\n",
    "ir = nir.NIRGraph(\n",
    "    nodes={\n",
    "        \"input\": nir.Input(input_type=np.array([2])),\n",
    "        \"affine1\": nir.Affine(weight=np.zeros((2,2)), bias=False),\n",
    "        \"cu1\": nir.CubaLIF(tau_mem=a, tau_syn=a, r=a, v_leak=a, v_threshold=a, v_reset=a),\n",
    "        \"affine_rec\": nir.Affine(weight=np.zeros((2,2)), bias=False),\n",
    "        \"affine2\": nir.Affine(weight=np.zeros((2,2)), bias=False),\n",
    "        \"cu2\": nir.CubaLIF(tau_mem=a, tau_syn=a, r=a, v_leak=a, v_threshold=a, v_reset=a),\n",
    "        \"output\": nir.Output(output_type=np.array([2]))\n",
    "    },\n",
    "    edges=[(\"input\", \"affine1\"), (\"affine1\", \"cu1\"), (\"affine_rec\", \"cu1\"),  (\"cu1\", \"affine_rec\"), (\"cu1\", \"affine2\"), (\"affine2\", \"cu2\"), (\"cu2\", \"output\")])\n",
    "\n",
    "nir.write(\"./srnn.nir\", ir)\n",
    "\n",
    "viz = nirviz.visualize(ir)\n",
    "viz.show()\n",
    "viz.to_image().save(\"./img/srnn.png\")"
   ]
  }
 ],
 "metadata": {
  "kernelspec": {
   "argv": [
    "python",
    "-m",
    "ipykernel_launcher",
    "-f",
    "{connection_file}"
   ],
   "display_name": "Python 3 (ipykernel)",
   "env": null,
   "interrupt_mode": "signal",
   "language": "python",
   "metadata": {
    "debugger": true
   },
   "name": "python3"
  },
  "language_info": {
   "codemirror_mode": {
    "name": "ipython",
    "version": 3
   },
   "file_extension": ".py",
   "mimetype": "text/x-python",
   "name": "python",
   "nbconvert_exporter": "python",
   "pygments_lexer": "ipython3",
   "version": "3.12.3"
  },
  "name": "example.ipynb"
 },
 "nbformat": 4,
 "nbformat_minor": 5
}
