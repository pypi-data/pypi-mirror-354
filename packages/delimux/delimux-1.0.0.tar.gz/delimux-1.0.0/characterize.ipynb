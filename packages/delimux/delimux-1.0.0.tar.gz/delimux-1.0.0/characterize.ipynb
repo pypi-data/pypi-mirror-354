{
 "cells": [
  {
   "cell_type": "code",
   "execution_count": null,
   "id": "f0e79fbe",
   "metadata": {},
   "outputs": [],
   "source": [
    "import matplotlib.pyplot as plt\n",
    "import pandas as pd\n",
    "import numpy as np"
   ]
  },
  {
   "cell_type": "code",
   "execution_count": null,
   "id": "c0384486",
   "metadata": {},
   "outputs": [],
   "source": [
    "khz_001=pd.read_csv(\"001kHz.csv\")\n",
    "khz_200=pd.read_csv(\"200kHz.csv\")"
   ]
  },
  {
   "cell_type": "code",
   "execution_count": null,
   "id": "acee4768",
   "metadata": {},
   "outputs": [],
   "source": [
    "f=plt.figure()\n",
    "ax=f.add_subplot(111)\n",
    "ax.plot(khz_001['Time'],khz_001['Channel A'],'-',label='In')\n",
    "ax.plot(khz_001['Time'],khz_001['Channel C'],'.',label='OUT')\n",
    "ax.set_xlabel(\"Time [ms]\")\n",
    "ax.set_ylabel(\"Signal [V]\")\n",
    "ax.legend()\n",
    "inset=f.add_axes([0.6,0.2,0.28,0.4])\n",
    "time=khz_001['Time'].values\n",
    "A=khz_001['Channel A'].values\n",
    "C=khz_001['Channel C'].values\n",
    "selector=(time>-0.05)*(time<0.05)\n",
    "inset.plot(time[selector],C[selector])\n",
    "inset.plot(time[selector],A[selector],'.')\n",
    "inset.set_yticklabels([]);\n",
    "f.suptitle(\"1 KHz\")\n",
    "plt.savefig(\"001kHz.png\",dpi=300,facecolor='white')"
   ]
  },
  {
   "cell_type": "code",
   "execution_count": null,
   "id": "43ae4c8f",
   "metadata": {},
   "outputs": [],
   "source": [
    "f=plt.figure()\n",
    "ax=f.add_subplot(111)\n",
    "ax.plot(khz_200['Time'],khz_200['Channel A'],'-',label='In')\n",
    "ax.plot(khz_200['Time'][::4],khz_200['Channel C'][::4],'.',label='OUT')\n",
    "ax.set_xlabel(\"Time [$\\mu$s]\")\n",
    "ax.set_ylabel(\"Signal [V]\")\n",
    "ax.legend()\n",
    "inset=f.add_axes([0.6,0.2,0.28,0.4])\n",
    "time=khz_200['Time'].values\n",
    "A=khz_200['Channel A'].values\n",
    "C=khz_200['Channel C'].values\n",
    "selector=(time>-.5)*(time<1)\n",
    "inset.plot(time[selector],C[selector])\n",
    "inset.plot(time[selector],A[selector],'.')\n",
    "inset.set_yticklabels([]);\n",
    "f.suptitle(\"200 KHz\")\n",
    "plt.savefig(\"200kHz.png\",dpi=300,facecolor='white')"
   ]
  },
  {
   "cell_type": "code",
   "execution_count": null,
   "id": "3dd6ad3a",
   "metadata": {},
   "outputs": [],
   "source": []
  }
 ],
 "metadata": {
  "kernelspec": {
   "display_name": "tools",
   "language": "python",
   "name": "python3"
  },
  "language_info": {
   "codemirror_mode": {
    "name": "ipython",
    "version": 3
   },
   "file_extension": ".py",
   "mimetype": "text/x-python",
   "name": "python",
   "nbconvert_exporter": "python",
   "pygments_lexer": "ipython3",
   "version": "3.10.8"
  }
 },
 "nbformat": 4,
 "nbformat_minor": 5
}
