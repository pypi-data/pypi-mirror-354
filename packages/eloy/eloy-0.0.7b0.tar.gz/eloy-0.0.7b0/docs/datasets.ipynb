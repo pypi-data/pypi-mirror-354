{
 "cells": [
  {
   "cell_type": "markdown",
   "id": "ada33833",
   "metadata": {},
   "source": [
    "# Datasets\n",
    "\n",
    "Some of our tutorials rely on example datasets you may want to download beforehand.\n",
    "\n",
    "**Photometry dataset**\n",
    "\n",
    "This dataset consists of the raw images and calibration files of a field of view containing the star WASP-12. All images can be downloaded from [https://astrodennis.com/](https://astrodennis.com/) (**1.16 GB**)."
   ]
  },
  {
   "cell_type": "markdown",
   "id": "bc98423c",
   "metadata": {},
   "source": []
  }
 ],
 "metadata": {
  "language_info": {
   "name": "python"
  }
 },
 "nbformat": 4,
 "nbformat_minor": 5
}
