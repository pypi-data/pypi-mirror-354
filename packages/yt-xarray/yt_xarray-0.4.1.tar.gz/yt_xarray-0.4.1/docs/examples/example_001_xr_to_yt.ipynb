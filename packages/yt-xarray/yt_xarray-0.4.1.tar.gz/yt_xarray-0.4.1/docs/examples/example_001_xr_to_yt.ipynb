{
 "cells": [
  {
   "cell_type": "markdown",
   "id": "9abc7ae0-1bba-47d8-a1df-17386def470c",
   "metadata": {},
   "source": [
    "## Loading data with yt_xarray \n",
    "\n",
    "This notebook demonstrates how to initialize a yt dataset object from an open xarray dataset.\n",
    "\n",
    "After describing the sample data that is used, the notebook covers:\n",
    "\n",
    "* [Loading all fields](#Loading-all-fields)\n",
    "* [Overview of yt datasets](#A-brief-overview-of-yt-datasets)\n",
    "* [Loading a subset of fields](#Loading-a-subset-of-fields)\n",
    "* [Loading method and memory usage](#Loading-method-and-memory-usage)\n",
    "\n",
    "\n",
    "### sample data\n",
    "\n",
    "We'll be using some random sample data in this notebook (as well as many of the others), generated from a convenience function, `yt_xarray.sample_data.load_random_xr_data()`. To use it, we have to supply two dictionaries: one containing fieldnames mapped to the dimension names and a second containing the starting value, end value and number of elements for each dimension:\n",
    "\n",
    "\n"
   ]
  },
  {
   "cell_type": "code",
   "execution_count": 1,
   "id": "9b750bb0-f68d-4765-8860-caeb37f1b2f2",
   "metadata": {},
   "outputs": [
    {
     "data": {
      "text/html": [
       "<div><svg style=\"position: absolute; width: 0; height: 0; overflow: hidden\">\n",
       "<defs>\n",
       "<symbol id=\"icon-database\" viewBox=\"0 0 32 32\">\n",
       "<path d=\"M16 0c-8.837 0-16 2.239-16 5v4c0 2.761 7.163 5 16 5s16-2.239 16-5v-4c0-2.761-7.163-5-16-5z\"></path>\n",
       "<path d=\"M16 17c-8.837 0-16-2.239-16-5v6c0 2.761 7.163 5 16 5s16-2.239 16-5v-6c0 2.761-7.163 5-16 5z\"></path>\n",
       "<path d=\"M16 26c-8.837 0-16-2.239-16-5v6c0 2.761 7.163 5 16 5s16-2.239 16-5v-6c0 2.761-7.163 5-16 5z\"></path>\n",
       "</symbol>\n",
       "<symbol id=\"icon-file-text2\" viewBox=\"0 0 32 32\">\n",
       "<path d=\"M28.681 7.159c-0.694-0.947-1.662-2.053-2.724-3.116s-2.169-2.030-3.116-2.724c-1.612-1.182-2.393-1.319-2.841-1.319h-15.5c-1.378 0-2.5 1.121-2.5 2.5v27c0 1.378 1.122 2.5 2.5 2.5h23c1.378 0 2.5-1.122 2.5-2.5v-19.5c0-0.448-0.137-1.23-1.319-2.841zM24.543 5.457c0.959 0.959 1.712 1.825 2.268 2.543h-4.811v-4.811c0.718 0.556 1.584 1.309 2.543 2.268zM28 29.5c0 0.271-0.229 0.5-0.5 0.5h-23c-0.271 0-0.5-0.229-0.5-0.5v-27c0-0.271 0.229-0.5 0.5-0.5 0 0 15.499-0 15.5 0v7c0 0.552 0.448 1 1 1h7v19.5z\"></path>\n",
       "<path d=\"M23 26h-14c-0.552 0-1-0.448-1-1s0.448-1 1-1h14c0.552 0 1 0.448 1 1s-0.448 1-1 1z\"></path>\n",
       "<path d=\"M23 22h-14c-0.552 0-1-0.448-1-1s0.448-1 1-1h14c0.552 0 1 0.448 1 1s-0.448 1-1 1z\"></path>\n",
       "<path d=\"M23 18h-14c-0.552 0-1-0.448-1-1s0.448-1 1-1h14c0.552 0 1 0.448 1 1s-0.448 1-1 1z\"></path>\n",
       "</symbol>\n",
       "</defs>\n",
       "</svg>\n",
       "<style>/* CSS stylesheet for displaying xarray objects in jupyterlab.\n",
       " *\n",
       " */\n",
       "\n",
       ":root {\n",
       "  --xr-font-color0: var(--jp-content-font-color0, rgba(0, 0, 0, 1));\n",
       "  --xr-font-color2: var(--jp-content-font-color2, rgba(0, 0, 0, 0.54));\n",
       "  --xr-font-color3: var(--jp-content-font-color3, rgba(0, 0, 0, 0.38));\n",
       "  --xr-border-color: var(--jp-border-color2, #e0e0e0);\n",
       "  --xr-disabled-color: var(--jp-layout-color3, #bdbdbd);\n",
       "  --xr-background-color: var(--jp-layout-color0, white);\n",
       "  --xr-background-color-row-even: var(--jp-layout-color1, white);\n",
       "  --xr-background-color-row-odd: var(--jp-layout-color2, #eeeeee);\n",
       "}\n",
       "\n",
       "html[theme=dark],\n",
       "body.vscode-dark {\n",
       "  --xr-font-color0: rgba(255, 255, 255, 1);\n",
       "  --xr-font-color2: rgba(255, 255, 255, 0.54);\n",
       "  --xr-font-color3: rgba(255, 255, 255, 0.38);\n",
       "  --xr-border-color: #1F1F1F;\n",
       "  --xr-disabled-color: #515151;\n",
       "  --xr-background-color: #111111;\n",
       "  --xr-background-color-row-even: #111111;\n",
       "  --xr-background-color-row-odd: #313131;\n",
       "}\n",
       "\n",
       ".xr-wrap {\n",
       "  display: block !important;\n",
       "  min-width: 300px;\n",
       "  max-width: 700px;\n",
       "}\n",
       "\n",
       ".xr-text-repr-fallback {\n",
       "  /* fallback to plain text repr when CSS is not injected (untrusted notebook) */\n",
       "  display: none;\n",
       "}\n",
       "\n",
       ".xr-header {\n",
       "  padding-top: 6px;\n",
       "  padding-bottom: 6px;\n",
       "  margin-bottom: 4px;\n",
       "  border-bottom: solid 1px var(--xr-border-color);\n",
       "}\n",
       "\n",
       ".xr-header > div,\n",
       ".xr-header > ul {\n",
       "  display: inline;\n",
       "  margin-top: 0;\n",
       "  margin-bottom: 0;\n",
       "}\n",
       "\n",
       ".xr-obj-type,\n",
       ".xr-array-name {\n",
       "  margin-left: 2px;\n",
       "  margin-right: 10px;\n",
       "}\n",
       "\n",
       ".xr-obj-type {\n",
       "  color: var(--xr-font-color2);\n",
       "}\n",
       "\n",
       ".xr-sections {\n",
       "  padding-left: 0 !important;\n",
       "  display: grid;\n",
       "  grid-template-columns: 150px auto auto 1fr 20px 20px;\n",
       "}\n",
       "\n",
       ".xr-section-item {\n",
       "  display: contents;\n",
       "}\n",
       "\n",
       ".xr-section-item input {\n",
       "  display: none;\n",
       "}\n",
       "\n",
       ".xr-section-item input + label {\n",
       "  color: var(--xr-disabled-color);\n",
       "}\n",
       "\n",
       ".xr-section-item input:enabled + label {\n",
       "  cursor: pointer;\n",
       "  color: var(--xr-font-color2);\n",
       "}\n",
       "\n",
       ".xr-section-item input:enabled + label:hover {\n",
       "  color: var(--xr-font-color0);\n",
       "}\n",
       "\n",
       ".xr-section-summary {\n",
       "  grid-column: 1;\n",
       "  color: var(--xr-font-color2);\n",
       "  font-weight: 500;\n",
       "}\n",
       "\n",
       ".xr-section-summary > span {\n",
       "  display: inline-block;\n",
       "  padding-left: 0.5em;\n",
       "}\n",
       "\n",
       ".xr-section-summary-in:disabled + label {\n",
       "  color: var(--xr-font-color2);\n",
       "}\n",
       "\n",
       ".xr-section-summary-in + label:before {\n",
       "  display: inline-block;\n",
       "  content: '►';\n",
       "  font-size: 11px;\n",
       "  width: 15px;\n",
       "  text-align: center;\n",
       "}\n",
       "\n",
       ".xr-section-summary-in:disabled + label:before {\n",
       "  color: var(--xr-disabled-color);\n",
       "}\n",
       "\n",
       ".xr-section-summary-in:checked + label:before {\n",
       "  content: '▼';\n",
       "}\n",
       "\n",
       ".xr-section-summary-in:checked + label > span {\n",
       "  display: none;\n",
       "}\n",
       "\n",
       ".xr-section-summary,\n",
       ".xr-section-inline-details {\n",
       "  padding-top: 4px;\n",
       "  padding-bottom: 4px;\n",
       "}\n",
       "\n",
       ".xr-section-inline-details {\n",
       "  grid-column: 2 / -1;\n",
       "}\n",
       "\n",
       ".xr-section-details {\n",
       "  display: none;\n",
       "  grid-column: 1 / -1;\n",
       "  margin-bottom: 5px;\n",
       "}\n",
       "\n",
       ".xr-section-summary-in:checked ~ .xr-section-details {\n",
       "  display: contents;\n",
       "}\n",
       "\n",
       ".xr-array-wrap {\n",
       "  grid-column: 1 / -1;\n",
       "  display: grid;\n",
       "  grid-template-columns: 20px auto;\n",
       "}\n",
       "\n",
       ".xr-array-wrap > label {\n",
       "  grid-column: 1;\n",
       "  vertical-align: top;\n",
       "}\n",
       "\n",
       ".xr-preview {\n",
       "  color: var(--xr-font-color3);\n",
       "}\n",
       "\n",
       ".xr-array-preview,\n",
       ".xr-array-data {\n",
       "  padding: 0 5px !important;\n",
       "  grid-column: 2;\n",
       "}\n",
       "\n",
       ".xr-array-data,\n",
       ".xr-array-in:checked ~ .xr-array-preview {\n",
       "  display: none;\n",
       "}\n",
       "\n",
       ".xr-array-in:checked ~ .xr-array-data,\n",
       ".xr-array-preview {\n",
       "  display: inline-block;\n",
       "}\n",
       "\n",
       ".xr-dim-list {\n",
       "  display: inline-block !important;\n",
       "  list-style: none;\n",
       "  padding: 0 !important;\n",
       "  margin: 0;\n",
       "}\n",
       "\n",
       ".xr-dim-list li {\n",
       "  display: inline-block;\n",
       "  padding: 0;\n",
       "  margin: 0;\n",
       "}\n",
       "\n",
       ".xr-dim-list:before {\n",
       "  content: '(';\n",
       "}\n",
       "\n",
       ".xr-dim-list:after {\n",
       "  content: ')';\n",
       "}\n",
       "\n",
       ".xr-dim-list li:not(:last-child):after {\n",
       "  content: ',';\n",
       "  padding-right: 5px;\n",
       "}\n",
       "\n",
       ".xr-has-index {\n",
       "  font-weight: bold;\n",
       "}\n",
       "\n",
       ".xr-var-list,\n",
       ".xr-var-item {\n",
       "  display: contents;\n",
       "}\n",
       "\n",
       ".xr-var-item > div,\n",
       ".xr-var-item label,\n",
       ".xr-var-item > .xr-var-name span {\n",
       "  background-color: var(--xr-background-color-row-even);\n",
       "  margin-bottom: 0;\n",
       "}\n",
       "\n",
       ".xr-var-item > .xr-var-name:hover span {\n",
       "  padding-right: 5px;\n",
       "}\n",
       "\n",
       ".xr-var-list > li:nth-child(odd) > div,\n",
       ".xr-var-list > li:nth-child(odd) > label,\n",
       ".xr-var-list > li:nth-child(odd) > .xr-var-name span {\n",
       "  background-color: var(--xr-background-color-row-odd);\n",
       "}\n",
       "\n",
       ".xr-var-name {\n",
       "  grid-column: 1;\n",
       "}\n",
       "\n",
       ".xr-var-dims {\n",
       "  grid-column: 2;\n",
       "}\n",
       "\n",
       ".xr-var-dtype {\n",
       "  grid-column: 3;\n",
       "  text-align: right;\n",
       "  color: var(--xr-font-color2);\n",
       "}\n",
       "\n",
       ".xr-var-preview {\n",
       "  grid-column: 4;\n",
       "}\n",
       "\n",
       ".xr-var-name,\n",
       ".xr-var-dims,\n",
       ".xr-var-dtype,\n",
       ".xr-preview,\n",
       ".xr-attrs dt {\n",
       "  white-space: nowrap;\n",
       "  overflow: hidden;\n",
       "  text-overflow: ellipsis;\n",
       "  padding-right: 10px;\n",
       "}\n",
       "\n",
       ".xr-var-name:hover,\n",
       ".xr-var-dims:hover,\n",
       ".xr-var-dtype:hover,\n",
       ".xr-attrs dt:hover {\n",
       "  overflow: visible;\n",
       "  width: auto;\n",
       "  z-index: 1;\n",
       "}\n",
       "\n",
       ".xr-var-attrs,\n",
       ".xr-var-data {\n",
       "  display: none;\n",
       "  background-color: var(--xr-background-color) !important;\n",
       "  padding-bottom: 5px !important;\n",
       "}\n",
       "\n",
       ".xr-var-attrs-in:checked ~ .xr-var-attrs,\n",
       ".xr-var-data-in:checked ~ .xr-var-data {\n",
       "  display: block;\n",
       "}\n",
       "\n",
       ".xr-var-data > table {\n",
       "  float: right;\n",
       "}\n",
       "\n",
       ".xr-var-name span,\n",
       ".xr-var-data,\n",
       ".xr-attrs {\n",
       "  padding-left: 25px !important;\n",
       "}\n",
       "\n",
       ".xr-attrs,\n",
       ".xr-var-attrs,\n",
       ".xr-var-data {\n",
       "  grid-column: 1 / -1;\n",
       "}\n",
       "\n",
       "dl.xr-attrs {\n",
       "  padding: 0;\n",
       "  margin: 0;\n",
       "  display: grid;\n",
       "  grid-template-columns: 125px auto;\n",
       "}\n",
       "\n",
       ".xr-attrs dt,\n",
       ".xr-attrs dd {\n",
       "  padding: 0;\n",
       "  margin: 0;\n",
       "  float: left;\n",
       "  padding-right: 10px;\n",
       "  width: auto;\n",
       "}\n",
       "\n",
       ".xr-attrs dt {\n",
       "  font-weight: normal;\n",
       "  grid-column: 1;\n",
       "}\n",
       "\n",
       ".xr-attrs dt:hover span {\n",
       "  display: inline-block;\n",
       "  background: var(--xr-background-color);\n",
       "  padding-right: 10px;\n",
       "}\n",
       "\n",
       ".xr-attrs dd {\n",
       "  grid-column: 2;\n",
       "  white-space: pre-wrap;\n",
       "  word-break: break-all;\n",
       "}\n",
       "\n",
       ".xr-icon-database,\n",
       ".xr-icon-file-text2 {\n",
       "  display: inline-block;\n",
       "  vertical-align: middle;\n",
       "  width: 1em;\n",
       "  height: 1.5em !important;\n",
       "  stroke-width: 0;\n",
       "  stroke: currentColor;\n",
       "  fill: currentColor;\n",
       "}\n",
       "</style><pre class='xr-text-repr-fallback'>&lt;xarray.Dataset&gt;\n",
       "Dimensions:      (x: 15, y: 10, z: 15)\n",
       "Coordinates:\n",
       "  * x            (x) float64 0.0 0.07143 0.1429 0.2143 ... 0.8571 0.9286 1.0\n",
       "  * y            (y) float64 0.0 0.1111 0.2222 0.3333 ... 0.7778 0.8889 1.0\n",
       "  * z            (z) float64 0.0 0.07143 0.1429 0.2143 ... 0.8571 0.9286 1.0\n",
       "Data variables:\n",
       "    temperature  (x, y, z) float64 0.7337 0.2377 0.9107 ... 0.3052 0.8424 0.615\n",
       "    pressure     (x, y, z) float64 0.8171 0.6735 0.5087 ... 0.5845 0.2743 0.3072\n",
       "Attributes:\n",
       "    geospatial_vertical_units:  m</pre><div class='xr-wrap' style='display:none'><div class='xr-header'><div class='xr-obj-type'>xarray.Dataset</div></div><ul class='xr-sections'><li class='xr-section-item'><input id='section-6e1ba29b-8814-4d38-8eda-0d42303db254' class='xr-section-summary-in' type='checkbox' disabled ><label for='section-6e1ba29b-8814-4d38-8eda-0d42303db254' class='xr-section-summary'  title='Expand/collapse section'>Dimensions:</label><div class='xr-section-inline-details'><ul class='xr-dim-list'><li><span class='xr-has-index'>x</span>: 15</li><li><span class='xr-has-index'>y</span>: 10</li><li><span class='xr-has-index'>z</span>: 15</li></ul></div><div class='xr-section-details'></div></li><li class='xr-section-item'><input id='section-a959cdcc-4431-4aaa-b57d-82222cdaad32' class='xr-section-summary-in' type='checkbox'  checked><label for='section-a959cdcc-4431-4aaa-b57d-82222cdaad32' class='xr-section-summary' >Coordinates: <span>(3)</span></label><div class='xr-section-inline-details'></div><div class='xr-section-details'><ul class='xr-var-list'><li class='xr-var-item'><div class='xr-var-name'><span class='xr-has-index'>x</span></div><div class='xr-var-dims'>(x)</div><div class='xr-var-dtype'>float64</div><div class='xr-var-preview xr-preview'>0.0 0.07143 0.1429 ... 0.9286 1.0</div><input id='attrs-828e41c2-49b5-4ada-9c97-4a890c4d2234' class='xr-var-attrs-in' type='checkbox' disabled><label for='attrs-828e41c2-49b5-4ada-9c97-4a890c4d2234' title='Show/Hide attributes'><svg class='icon xr-icon-file-text2'><use xlink:href='#icon-file-text2'></use></svg></label><input id='data-d020e68b-a5e7-4410-82cb-3e4ab9df9d0d' class='xr-var-data-in' type='checkbox'><label for='data-d020e68b-a5e7-4410-82cb-3e4ab9df9d0d' title='Show/Hide data repr'><svg class='icon xr-icon-database'><use xlink:href='#icon-database'></use></svg></label><div class='xr-var-attrs'><dl class='xr-attrs'></dl></div><div class='xr-var-data'><pre>array([0.      , 0.071429, 0.142857, 0.214286, 0.285714, 0.357143, 0.428571,\n",
       "       0.5     , 0.571429, 0.642857, 0.714286, 0.785714, 0.857143, 0.928571,\n",
       "       1.      ])</pre></div></li><li class='xr-var-item'><div class='xr-var-name'><span class='xr-has-index'>y</span></div><div class='xr-var-dims'>(y)</div><div class='xr-var-dtype'>float64</div><div class='xr-var-preview xr-preview'>0.0 0.1111 0.2222 ... 0.8889 1.0</div><input id='attrs-c5c446ab-47ea-4237-a1ab-e62ae4d27add' class='xr-var-attrs-in' type='checkbox' disabled><label for='attrs-c5c446ab-47ea-4237-a1ab-e62ae4d27add' title='Show/Hide attributes'><svg class='icon xr-icon-file-text2'><use xlink:href='#icon-file-text2'></use></svg></label><input id='data-6da6a5b2-58a7-4e40-8192-57bd48ef64d3' class='xr-var-data-in' type='checkbox'><label for='data-6da6a5b2-58a7-4e40-8192-57bd48ef64d3' title='Show/Hide data repr'><svg class='icon xr-icon-database'><use xlink:href='#icon-database'></use></svg></label><div class='xr-var-attrs'><dl class='xr-attrs'></dl></div><div class='xr-var-data'><pre>array([0.      , 0.111111, 0.222222, 0.333333, 0.444444, 0.555556, 0.666667,\n",
       "       0.777778, 0.888889, 1.      ])</pre></div></li><li class='xr-var-item'><div class='xr-var-name'><span class='xr-has-index'>z</span></div><div class='xr-var-dims'>(z)</div><div class='xr-var-dtype'>float64</div><div class='xr-var-preview xr-preview'>0.0 0.07143 0.1429 ... 0.9286 1.0</div><input id='attrs-45f6cc58-eacc-4d28-af5e-02cb0b2e0925' class='xr-var-attrs-in' type='checkbox' disabled><label for='attrs-45f6cc58-eacc-4d28-af5e-02cb0b2e0925' title='Show/Hide attributes'><svg class='icon xr-icon-file-text2'><use xlink:href='#icon-file-text2'></use></svg></label><input id='data-72379613-dcaf-4fae-a81b-94188f7f0da4' class='xr-var-data-in' type='checkbox'><label for='data-72379613-dcaf-4fae-a81b-94188f7f0da4' title='Show/Hide data repr'><svg class='icon xr-icon-database'><use xlink:href='#icon-database'></use></svg></label><div class='xr-var-attrs'><dl class='xr-attrs'></dl></div><div class='xr-var-data'><pre>array([0.      , 0.071429, 0.142857, 0.214286, 0.285714, 0.357143, 0.428571,\n",
       "       0.5     , 0.571429, 0.642857, 0.714286, 0.785714, 0.857143, 0.928571,\n",
       "       1.      ])</pre></div></li></ul></div></li><li class='xr-section-item'><input id='section-d8f3f7ed-52a1-4ed0-b794-643ffac89d5a' class='xr-section-summary-in' type='checkbox'  checked><label for='section-d8f3f7ed-52a1-4ed0-b794-643ffac89d5a' class='xr-section-summary' >Data variables: <span>(2)</span></label><div class='xr-section-inline-details'></div><div class='xr-section-details'><ul class='xr-var-list'><li class='xr-var-item'><div class='xr-var-name'><span>temperature</span></div><div class='xr-var-dims'>(x, y, z)</div><div class='xr-var-dtype'>float64</div><div class='xr-var-preview xr-preview'>0.7337 0.2377 ... 0.8424 0.615</div><input id='attrs-966841c4-6517-430d-acb2-09f97088be5c' class='xr-var-attrs-in' type='checkbox' disabled><label for='attrs-966841c4-6517-430d-acb2-09f97088be5c' title='Show/Hide attributes'><svg class='icon xr-icon-file-text2'><use xlink:href='#icon-file-text2'></use></svg></label><input id='data-531a3167-46a0-4979-bbc4-3e4701d5ea41' class='xr-var-data-in' type='checkbox'><label for='data-531a3167-46a0-4979-bbc4-3e4701d5ea41' title='Show/Hide data repr'><svg class='icon xr-icon-database'><use xlink:href='#icon-database'></use></svg></label><div class='xr-var-attrs'><dl class='xr-attrs'></dl></div><div class='xr-var-data'><pre>array([[[0.73368176, 0.23771448, 0.91073601, ..., 0.06008264,\n",
       "         0.37625964, 0.60894307],\n",
       "        [0.36703254, 0.92475816, 0.93867247, ..., 0.62492092,\n",
       "         0.85110374, 0.01710773],\n",
       "        [0.00786893, 0.24076778, 0.15011879, ..., 0.84437393,\n",
       "         0.90841068, 0.80679204],\n",
       "        ...,\n",
       "        [0.68457997, 0.4605649 , 0.79889932, ..., 0.30221566,\n",
       "         0.03109809, 0.33582512],\n",
       "        [0.05650869, 0.20030877, 0.90223706, ..., 0.90971329,\n",
       "         0.45483192, 0.65580303],\n",
       "        [0.84728364, 0.77436776, 0.37467561, ..., 0.73817668,\n",
       "         0.95293866, 0.02186096]],\n",
       "\n",
       "       [[0.26920323, 0.57245454, 0.63481885, ..., 0.16790371,\n",
       "         0.1605442 , 0.92581818],\n",
       "        [0.49346315, 0.44162591, 0.3513115 , ..., 0.82997637,\n",
       "         0.26915307, 0.69966989],\n",
       "        [0.25534113, 0.6505062 , 0.71681105, ..., 0.79076677,\n",
       "         0.80730701, 0.33001465],\n",
       "...\n",
       "        [0.52114317, 0.80826312, 0.6081363 , ..., 0.9506118 ,\n",
       "         0.01655698, 0.62626934],\n",
       "        [0.50851549, 0.34243155, 0.30978383, ..., 0.40368426,\n",
       "         0.65488025, 0.03426049],\n",
       "        [0.07107822, 0.07294193, 0.68502822, ..., 0.37187616,\n",
       "         0.48171863, 0.32071365]],\n",
       "\n",
       "       [[0.00980528, 0.53736763, 0.9977264 , ..., 0.69486939,\n",
       "         0.16251459, 0.79911676],\n",
       "        [0.63242795, 0.62261564, 0.01691862, ..., 0.34824451,\n",
       "         0.55688345, 0.14296885],\n",
       "        [0.70497576, 0.04419448, 0.91866438, ..., 0.33666275,\n",
       "         0.4068478 , 0.12225796],\n",
       "        ...,\n",
       "        [0.27302668, 0.07709793, 0.82416857, ..., 0.06691517,\n",
       "         0.03271343, 0.55392403],\n",
       "        [0.03522629, 0.22326103, 0.2900984 , ..., 0.3656976 ,\n",
       "         0.25798972, 0.18221715],\n",
       "        [0.58971867, 0.07627362, 0.61026897, ..., 0.30522095,\n",
       "         0.84243193, 0.6150061 ]]])</pre></div></li><li class='xr-var-item'><div class='xr-var-name'><span>pressure</span></div><div class='xr-var-dims'>(x, y, z)</div><div class='xr-var-dtype'>float64</div><div class='xr-var-preview xr-preview'>0.8171 0.6735 ... 0.2743 0.3072</div><input id='attrs-54e15717-8e84-46ca-b0aa-6385015c4ace' class='xr-var-attrs-in' type='checkbox' disabled><label for='attrs-54e15717-8e84-46ca-b0aa-6385015c4ace' title='Show/Hide attributes'><svg class='icon xr-icon-file-text2'><use xlink:href='#icon-file-text2'></use></svg></label><input id='data-b3bdb4d8-51da-4e3a-acc9-694e7a03f20a' class='xr-var-data-in' type='checkbox'><label for='data-b3bdb4d8-51da-4e3a-acc9-694e7a03f20a' title='Show/Hide data repr'><svg class='icon xr-icon-database'><use xlink:href='#icon-database'></use></svg></label><div class='xr-var-attrs'><dl class='xr-attrs'></dl></div><div class='xr-var-data'><pre>array([[[0.81705536, 0.67346801, 0.50869439, ..., 0.27714732,\n",
       "         0.61226064, 0.85082597],\n",
       "        [0.9426367 , 0.41442298, 0.91748896, ..., 0.56614286,\n",
       "         0.72885531, 0.89973352],\n",
       "        [0.65620274, 0.12359577, 0.42757551, ..., 0.49788247,\n",
       "         0.55293363, 0.54619041],\n",
       "        ...,\n",
       "        [0.59284083, 0.733435  , 0.98857121, ..., 0.2209063 ,\n",
       "         0.97476519, 0.79449075],\n",
       "        [0.45258129, 0.6306918 , 0.82110543, ..., 0.92057936,\n",
       "         0.11464806, 0.98857959],\n",
       "        [0.18825568, 0.59885988, 0.82740492, ..., 0.54189993,\n",
       "         0.58514944, 0.39845225]],\n",
       "\n",
       "       [[0.76941162, 0.78807526, 0.25807742, ..., 0.23660976,\n",
       "         0.16401969, 0.67811219],\n",
       "        [0.37219013, 0.24312284, 0.29684515, ..., 0.1505512 ,\n",
       "         0.96448087, 0.99265141],\n",
       "        [0.58479592, 0.041415  , 0.05089004, ..., 0.15931219,\n",
       "         0.54076498, 0.71717521],\n",
       "...\n",
       "        [0.22967799, 0.94408679, 0.47757772, ..., 0.18990161,\n",
       "         0.70186946, 0.67768263],\n",
       "        [0.33497562, 0.92862798, 0.26213819, ..., 0.95788614,\n",
       "         0.56837299, 0.35687302],\n",
       "        [0.64178113, 0.47886679, 0.41504985, ..., 0.28395306,\n",
       "         0.07680298, 0.36630436]],\n",
       "\n",
       "       [[0.90369568, 0.05583482, 0.91647535, ..., 0.43616768,\n",
       "         0.12088932, 0.87967023],\n",
       "        [0.20886172, 0.97878674, 0.8707838 , ..., 0.383281  ,\n",
       "         0.57368865, 0.05284215],\n",
       "        [0.71899016, 0.47950988, 0.74057308, ..., 0.30676444,\n",
       "         0.51546102, 0.95487417],\n",
       "        ...,\n",
       "        [0.68292096, 0.96613135, 0.46183927, ..., 0.2367633 ,\n",
       "         0.27646835, 0.68366993],\n",
       "        [0.21992429, 0.60791978, 0.3722718 , ..., 0.70672664,\n",
       "         0.6636147 , 0.94569748],\n",
       "        [0.16862236, 0.42773392, 0.83714861, ..., 0.58446992,\n",
       "         0.2743106 , 0.30723962]]])</pre></div></li></ul></div></li><li class='xr-section-item'><input id='section-04d12c18-2804-4b5a-b97b-ff5e58db9ef5' class='xr-section-summary-in' type='checkbox'  checked><label for='section-04d12c18-2804-4b5a-b97b-ff5e58db9ef5' class='xr-section-summary' >Attributes: <span>(1)</span></label><div class='xr-section-inline-details'></div><div class='xr-section-details'><dl class='xr-attrs'><dt><span>geospatial_vertical_units :</span></dt><dd>m</dd></dl></div></li></ul></div></div>"
      ],
      "text/plain": [
       "<xarray.Dataset>\n",
       "Dimensions:      (x: 15, y: 10, z: 15)\n",
       "Coordinates:\n",
       "  * x            (x) float64 0.0 0.07143 0.1429 0.2143 ... 0.8571 0.9286 1.0\n",
       "  * y            (y) float64 0.0 0.1111 0.2222 0.3333 ... 0.7778 0.8889 1.0\n",
       "  * z            (z) float64 0.0 0.07143 0.1429 0.2143 ... 0.8571 0.9286 1.0\n",
       "Data variables:\n",
       "    temperature  (x, y, z) float64 0.7337 0.2377 0.9107 ... 0.3052 0.8424 0.615\n",
       "    pressure     (x, y, z) float64 0.8171 0.6735 0.5087 ... 0.5845 0.2743 0.3072\n",
       "Attributes:\n",
       "    geospatial_vertical_units:  m"
      ]
     },
     "execution_count": 1,
     "metadata": {},
     "output_type": "execute_result"
    }
   ],
   "source": [
    "from yt_xarray.sample_data import load_random_xr_data\n",
    "\n",
    "fields = {'temperature': ('x', 'y', 'z'), 'pressure': ('x', 'y', 'z')}\n",
    "dims = {'x': (0,1,15), 'y': (0, 1, 10), 'z': (0, 1, 15)}\n",
    "ds = load_random_xr_data(fields, dims, length_unit='m')\n",
    "ds"
   ]
  },
  {
   "cell_type": "markdown",
   "id": "c0f06a1a-7196-4da0-b41d-4298fa5644e7",
   "metadata": {},
   "source": [
    "While we're using random sample data here, note that yt_xarray provides a simple wrapper of the standard xarray `open_dataset` function that will check yt's `test_data_dir` for data if the file is not found in the local path. It is used in the same way as xarray:\n",
    "\n",
    "```python\n",
    "ds = yt_xarray.open_dataset(\"path/to/your/dataset.nc\")\n",
    "```\n",
    "\n"
   ]
  },
  {
   "cell_type": "markdown",
   "id": "c7603170-3ece-4240-be38-bfc9f963f1b2",
   "metadata": {},
   "source": [
    "### Loading all fields\n",
    "\n",
    "The primary way of loading data into yt is by creation of a yt dataset object. \n",
    "\n",
    "To create a yt dataset that loads all the data variables:"
   ]
  },
  {
   "cell_type": "code",
   "execution_count": 2,
   "id": "272662d7-65cc-426f-8a42-b41cf5a07313",
   "metadata": {},
   "outputs": [
    {
     "name": "stderr",
     "output_type": "stream",
     "text": [
      "yt_xarray : [INFO ] 2023-02-06 12:24:07,825:  Inferred geometry type is cartesian. To override, use ds.yt.set_geometry\n",
      "yt_xarray : [INFO ] 2023-02-06 12:24:07,826:  Attempting to detect if yt_xarray will require field interpolation:\n",
      "yt_xarray : [INFO ] 2023-02-06 12:24:07,827:      Cartesian geometry on uniform grid: yt_xarray will not interpolate.\n",
      "yt : [INFO     ] 2023-02-06 12:24:07,927 Parameters: current_time              = 0.0\n",
      "yt : [INFO     ] 2023-02-06 12:24:07,928 Parameters: domain_dimensions         = [15 10 15]\n",
      "yt : [INFO     ] 2023-02-06 12:24:07,929 Parameters: domain_left_edge          = [-0.03571429 -0.05555556 -0.03571429]\n",
      "yt : [INFO     ] 2023-02-06 12:24:07,930 Parameters: domain_right_edge         = [1.03571429 1.05555556 1.03571429]\n",
      "yt : [INFO     ] 2023-02-06 12:24:07,931 Parameters: cosmological_simulation   = 0\n"
     ]
    }
   ],
   "source": [
    "import yt_xarray\n",
    "import yt\n",
    "\n",
    "yt_ds = ds.yt.load_grid()"
   ]
  },
  {
   "cell_type": "markdown",
   "id": "ccde9182-3221-4ade-a4e7-2b85bb1cdde6",
   "metadata": {},
   "source": [
    "note that this yt dataset actually maintains references to the open xarray dataset! Data will be loaded into yt only as needed. \n",
    "\n",
    "\n",
    "### A brief overview of yt datasets\n",
    "\n",
    "Now that we have a yt dataset, let's do a quick overview of a yt dataset:\n",
    "\n",
    "\n",
    "**Field Tuples**\n",
    "\n",
    "You can check the available fields in a yt dataset with:"
   ]
  },
  {
   "cell_type": "code",
   "execution_count": 3,
   "id": "0dcf56f3-434c-41a9-a94d-d26e96cfbf65",
   "metadata": {},
   "outputs": [
    {
     "data": {
      "text/plain": [
       "[('stream', 'pressure'), ('stream', 'temperature')]"
      ]
     },
     "execution_count": 3,
     "metadata": {},
     "output_type": "execute_result"
    }
   ],
   "source": [
    "yt_ds.field_list"
   ]
  },
  {
   "cell_type": "markdown",
   "id": "baf4848a-b204-4f7c-b942-c92b7312f892",
   "metadata": {},
   "source": [
    "fields in yt include both a field type and a field name. yt_xarray relies on yt's \"stream\" frontend infrastructure, so all of our xarray fields end up with a field type of \"stream\". This is important because when referring to fields, you'll need to supply both the field type and the field name. \n",
    "\n",
    "To construct a `SlicePlot`, for example:"
   ]
  },
  {
   "cell_type": "code",
   "execution_count": 4,
   "id": "f8bdd9b1-ad86-459e-ab7b-5baded948653",
   "metadata": {},
   "outputs": [
    {
     "name": "stderr",
     "output_type": "stream",
     "text": [
      "yt : [INFO     ] 2023-02-06 12:24:08,113 xlim = -0.035714 1.035714\n",
      "yt : [INFO     ] 2023-02-06 12:24:08,114 ylim = -0.055556 1.055556\n",
      "yt : [INFO     ] 2023-02-06 12:24:08,115 xlim = -0.035714 1.035714\n",
      "yt : [INFO     ] 2023-02-06 12:24:08,115 ylim = -0.055556 1.055556\n",
      "yt : [INFO     ] 2023-02-06 12:24:08,121 Making a fixed resolution buffer of (('stream', 'temperature')) 800 by 800\n"
     ]
    },
    {
     "data": {
      "text/html": [
       "<img style=\"max-width:100%;max-height:100%;\" src=\"data:image/png;base64,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\"><br>"
      ],
      "text/plain": [
       "<yt.visualization.plot_window.AxisAlignedSlicePlot at 0x7fe7a8536f70>"
      ]
     },
     "metadata": {},
     "output_type": "display_data"
    }
   ],
   "source": [
    "slc = yt.SlicePlot(yt_ds, \"z\", (\"stream\", \"temperature\"))\n",
    "slc.set_log((\"stream\", \"temperature\"), False)\n",
    "slc.show()"
   ]
  },
  {
   "cell_type": "markdown",
   "id": "0d007ae9-28d8-4673-8884-7e3745020bb3",
   "metadata": {},
   "source": [
    "**Domain extent and units**\n",
    "\n",
    "yt also has some useful attributes to quickly check the domain extents:"
   ]
  },
  {
   "cell_type": "code",
   "execution_count": 5,
   "id": "6585e4c2-5010-4483-bbd2-9582a549970d",
   "metadata": {},
   "outputs": [
    {
     "name": "stdout",
     "output_type": "stream",
     "text": [
      "[0.5 0.5 0.5] code_length\n"
     ]
    }
   ],
   "source": [
    "print(yt_ds.domain_center)"
   ]
  },
  {
   "cell_type": "code",
   "execution_count": 6,
   "id": "2c6e209d-b953-4af8-9143-d80ad77a9983",
   "metadata": {},
   "outputs": [
    {
     "name": "stdout",
     "output_type": "stream",
     "text": [
      "[1.07142857 1.11111111 1.07142857] code_length\n"
     ]
    }
   ],
   "source": [
    "print(yt_ds.domain_width)"
   ]
  },
  {
   "cell_type": "markdown",
   "id": "0c8ac07d-d47f-4557-b771-55d35abf19cd",
   "metadata": {},
   "source": [
    "You'll notice that the output above are `unyt` arrays. The \"code_length\" refers to the representative length of your volume. You can view a unyt array with different unyts with:\n"
   ]
  },
  {
   "cell_type": "code",
   "execution_count": 7,
   "id": "abe0b1f8-968f-4f7d-b517-e8edc3e345c9",
   "metadata": {},
   "outputs": [
    {
     "name": "stdout",
     "output_type": "stream",
     "text": [
      "[1.07142857 1.11111111 1.07142857] m\n"
     ]
    }
   ],
   "source": [
    "print(yt_ds.domain_width.to('m'))"
   ]
  },
  {
   "cell_type": "markdown",
   "id": "42c9e68b-5093-444c-b123-9d8bcc14ee64",
   "metadata": {},
   "source": [
    "\n",
    "The above sample dataset sets an attribute, `geospatial_vertical_units`:"
   ]
  },
  {
   "cell_type": "code",
   "execution_count": 8,
   "id": "284b12f5-b595-40da-aff7-a079f28b8aa0",
   "metadata": {},
   "outputs": [
    {
     "data": {
      "text/plain": [
       "'m'"
      ]
     },
     "execution_count": 8,
     "metadata": {},
     "output_type": "execute_result"
    }
   ],
   "source": [
    "ds.geospatial_vertical_units"
   ]
  },
  {
   "cell_type": "markdown",
   "id": "f99f4103-d17d-4765-be60-6a694d393f09",
   "metadata": {},
   "source": [
    "which yt_xarray sets as the dataset `length_unit`:"
   ]
  },
  {
   "cell_type": "code",
   "execution_count": 9,
   "id": "abeab962-3051-477e-ac80-fb87df87e5de",
   "metadata": {},
   "outputs": [
    {
     "data": {
      "text/plain": [
       "unyt_quantity(1., 'm')"
      ]
     },
     "execution_count": 9,
     "metadata": {},
     "output_type": "execute_result"
    }
   ],
   "source": [
    "yt_ds.length_unit"
   ]
  },
  {
   "cell_type": "markdown",
   "id": "6f3677b7-1532-4397-b540-bbbde5e4f750",
   "metadata": {},
   "source": [
    "without this attribute, you can set it explicitly so that yt will know the dimensions of your input coordinates:"
   ]
  },
  {
   "cell_type": "code",
   "execution_count": 10,
   "id": "27e472e6-2c01-4dcc-b7ba-75566cd4749d",
   "metadata": {},
   "outputs": [
    {
     "name": "stderr",
     "output_type": "stream",
     "text": [
      "yt_xarray : [INFO ] 2023-02-06 12:24:08,945:  Attempting to detect if yt_xarray will require field interpolation:\n",
      "yt_xarray : [INFO ] 2023-02-06 12:24:08,946:      Cartesian geometry on uniform grid: yt_xarray will not interpolate.\n",
      "yt : [INFO     ] 2023-02-06 12:24:09,045 Parameters: current_time              = 0.0\n",
      "yt : [INFO     ] 2023-02-06 12:24:09,046 Parameters: domain_dimensions         = [15 10 15]\n",
      "yt : [INFO     ] 2023-02-06 12:24:09,047 Parameters: domain_left_edge          = [-0.03571429 -0.05555556 -0.03571429]\n",
      "yt : [INFO     ] 2023-02-06 12:24:09,048 Parameters: domain_right_edge         = [1.03571429 1.05555556 1.03571429]\n",
      "yt : [INFO     ] 2023-02-06 12:24:09,049 Parameters: cosmological_simulation   = 0\n"
     ]
    }
   ],
   "source": [
    "yt_ds = ds.yt.load_grid(length_unit='km')"
   ]
  },
  {
   "cell_type": "code",
   "execution_count": 11,
   "id": "6207284e-1a85-4ac9-8209-0d2d094956d2",
   "metadata": {},
   "outputs": [
    {
     "data": {
      "text/plain": [
       "unyt_array([1071.42857143, 1111.11111111, 1071.42857143], 'm')"
      ]
     },
     "execution_count": 11,
     "metadata": {},
     "output_type": "execute_result"
    }
   ],
   "source": [
    "yt_ds.domain_width.to('m')"
   ]
  },
  {
   "cell_type": "markdown",
   "id": "341ce0e1-4aa6-475b-834b-ee6ad96b9e4e",
   "metadata": {},
   "source": [
    "for more on units, unyt and yt, you can read more [here](https://yt-project.org/doc/analyzing/units.html). \n",
    "\n"
   ]
  },
  {
   "cell_type": "markdown",
   "id": "3fb9cf0a-64d1-481e-9433-1c3e2b4dee5a",
   "metadata": {},
   "source": [
    "You also might notice that the domain width in the yt dataset is **slightly** larger than that in the xarray dataset:"
   ]
  },
  {
   "cell_type": "code",
   "execution_count": 12,
   "id": "018bb5f4-da2e-4e33-b1fc-ec5a4a62cfdb",
   "metadata": {},
   "outputs": [
    {
     "name": "stdout",
     "output_type": "stream",
     "text": [
      "[1.07142857 1.11111111 1.07142857] code_length\n"
     ]
    }
   ],
   "source": [
    "print(yt_ds.domain_width)"
   ]
  },
  {
   "cell_type": "code",
   "execution_count": 13,
   "id": "efb1aa9c-0d3c-468b-a8b2-3bf47be7725a",
   "metadata": {},
   "outputs": [
    {
     "data": {
      "text/plain": [
       "[1.0, 1.0, 1.0]"
      ]
     },
     "execution_count": 13,
     "metadata": {},
     "output_type": "execute_result"
    }
   ],
   "source": [
    "[ds.coords[dim].max().values.item() - ds.coords[dim].min().values.item() for dim in ds.dims]"
   ]
  },
  {
   "cell_type": "markdown",
   "id": "77a8d8d8-b994-4656-ae9f-ae20bc70ac8f",
   "metadata": {},
   "source": [
    "This is related to how yt_xarray builds cells from node values, see [here](https://yt-xarray.readthedocs.io/en/latest/supported_grids.html) for an explanation."
   ]
  },
  {
   "cell_type": "markdown",
   "id": "64143714-9589-42d6-afb2-fa4def4f937f",
   "metadata": {},
   "source": [
    "### Loading a subset of fields\n",
    "\n",
    "When you call `ds.yt.load_grid()` without arguments, it attempts to grab references to all of the available fields. If you only want to work with a subset of fields, you can supply the `fields` argument:"
   ]
  },
  {
   "cell_type": "code",
   "execution_count": 14,
   "id": "2fdaf1b5-0248-4cc9-870f-6a5ed8b24bd4",
   "metadata": {},
   "outputs": [
    {
     "name": "stderr",
     "output_type": "stream",
     "text": [
      "yt_xarray : [INFO ] 2023-02-06 12:24:09,089:  Attempting to detect if yt_xarray will require field interpolation:\n",
      "yt_xarray : [INFO ] 2023-02-06 12:24:09,091:      Cartesian geometry on uniform grid: yt_xarray will not interpolate.\n",
      "yt : [INFO     ] 2023-02-06 12:24:09,164 Parameters: current_time              = 0.0\n",
      "yt : [INFO     ] 2023-02-06 12:24:09,165 Parameters: domain_dimensions         = [15 10 15]\n",
      "yt : [INFO     ] 2023-02-06 12:24:09,166 Parameters: domain_left_edge          = [-0.03571429 -0.05555556 -0.03571429]\n",
      "yt : [INFO     ] 2023-02-06 12:24:09,168 Parameters: domain_right_edge         = [1.03571429 1.05555556 1.03571429]\n",
      "yt : [INFO     ] 2023-02-06 12:24:09,169 Parameters: cosmological_simulation   = 0\n"
     ]
    }
   ],
   "source": [
    "yt_ds = ds.yt.load_grid(fields=('temperature',))"
   ]
  },
  {
   "cell_type": "markdown",
   "id": "9c981496-9c50-4bee-9a2c-e1fc4b0088c6",
   "metadata": {},
   "source": [
    "One of the limitations to `yt_xarray`at present is that the fields loaded into yt must have the same dimensions. \n",
    "\n",
    "If for example, we had a dataset with a mix of 2d and 3d and 4d (space + time) variables:\n"
   ]
  },
  {
   "cell_type": "code",
   "execution_count": 15,
   "id": "58628610-e6e6-428a-a49e-7a43ddc98bbe",
   "metadata": {},
   "outputs": [],
   "source": [
    "fields = {'temperature': ('x', 'y', 'z'), \n",
    "          'pressure': ('x', 'y', 'z'), \n",
    "          'precip': ('x', 'y', 'time'), \n",
    "          'cumulative_precip': ('x', 'y')}\n",
    "dims = {'x': (0,1,14), 'y': (0, 1, 10), 'z': (0, 1, 15), 'time': (0, 1, 11)}\n",
    "ds = load_random_xr_data(fields, dims, length_unit='m')"
   ]
  },
  {
   "cell_type": "markdown",
   "id": "c49a8f17-c79c-422d-bf63-d9eb5fbb5bc7",
   "metadata": {},
   "source": [
    "and simply try to load the full dataset with \n",
    "\n",
    "```\n",
    "ds.yt.load_grid()\n",
    "```\n",
    "then we will get an error due to the mismatching dimensions of the variables. In this case, we can load both the temperature and pressure fields with:"
   ]
  },
  {
   "cell_type": "code",
   "execution_count": 16,
   "id": "c65a0110-816b-4e78-b6af-7c427639e7c7",
   "metadata": {},
   "outputs": [
    {
     "name": "stderr",
     "output_type": "stream",
     "text": [
      "yt_xarray : [INFO ] 2023-02-06 12:24:09,202:  Inferred geometry type is cartesian. To override, use ds.yt.set_geometry\n",
      "yt_xarray : [INFO ] 2023-02-06 12:24:09,203:  Attempting to detect if yt_xarray will require field interpolation:\n",
      "yt_xarray : [INFO ] 2023-02-06 12:24:09,204:      Cartesian geometry on uniform grid: yt_xarray will not interpolate.\n",
      "yt : [INFO     ] 2023-02-06 12:24:09,266 Parameters: current_time              = 0.0\n",
      "yt : [INFO     ] 2023-02-06 12:24:09,267 Parameters: domain_dimensions         = [14 10 15]\n",
      "yt : [INFO     ] 2023-02-06 12:24:09,268 Parameters: domain_left_edge          = [-0.03846154 -0.05555556 -0.03571429]\n",
      "yt : [INFO     ] 2023-02-06 12:24:09,269 Parameters: domain_right_edge         = [1.03846154 1.05555556 1.03571429]\n",
      "yt : [INFO     ] 2023-02-06 12:24:09,270 Parameters: cosmological_simulation   = 0\n"
     ]
    }
   ],
   "source": [
    "yt_ds = ds.yt.load_grid(fields=('temperature', 'pressure'))"
   ]
  },
  {
   "cell_type": "markdown",
   "id": "b0f0c000-c6b5-4d5b-90e1-a99741218f46",
   "metadata": {},
   "source": [
    "Furthermore, when loading variables with a time dimension, you should select the time index to load:"
   ]
  },
  {
   "cell_type": "code",
   "execution_count": 17,
   "id": "320cb3f4-eed1-4a25-b14a-dbbaf12b9096",
   "metadata": {},
   "outputs": [
    {
     "name": "stderr",
     "output_type": "stream",
     "text": [
      "yt_xarray : [INFO ] 2023-02-06 12:24:09,285:  Attempting to detect if yt_xarray will require field interpolation:\n",
      "yt_xarray : [INFO ] 2023-02-06 12:24:09,287:      Cartesian geometry on uniform grid: yt_xarray will not interpolate.\n",
      "yt : [INFO     ] 2023-02-06 12:24:09,344 Parameters: current_time              = 0.1\n",
      "yt : [INFO     ] 2023-02-06 12:24:09,345 Parameters: domain_dimensions         = [14 10  1]\n",
      "yt : [INFO     ] 2023-02-06 12:24:09,347 Parameters: domain_left_edge          = [-0.03846154 -0.05555556 -0.5       ]\n",
      "yt : [INFO     ] 2023-02-06 12:24:09,348 Parameters: domain_right_edge         = [1.03846154 1.05555556 0.5       ]\n",
      "yt : [INFO     ] 2023-02-06 12:24:09,349 Parameters: cosmological_simulation   = 0\n"
     ]
    }
   ],
   "source": [
    "yt_ds = ds.yt.load_grid(fields=('precip',), sel_dict={'time':1})"
   ]
  },
  {
   "cell_type": "code",
   "execution_count": 18,
   "id": "a96806a9-b9df-4466-97df-b87f7554e3f3",
   "metadata": {},
   "outputs": [
    {
     "name": "stderr",
     "output_type": "stream",
     "text": [
      "yt : [INFO     ] 2023-02-06 12:24:09,494 min value is 1.64191e-02 at 0.9230769230769234 0.3333333333333334 0.0000000000000000\n"
     ]
    }
   ],
   "source": [
    "value, location = yt_ds.find_min(('stream', 'precip'))"
   ]
  },
  {
   "cell_type": "markdown",
   "id": "7e410e6b-73c1-4512-a3d5-3e9c7cadd555",
   "metadata": {},
   "source": [
    "### Loading method and memory usage\n",
    "\n",
    "When you use `ds.yt.load_grid`, by default yt_xarray will use references to the open xarray dataset handle internally within yt to avoid copying data. If your dataset fits into memory without a problem, then you can supply an additional `use_callable=False` argument to direct yt_xarray to instead work in memory on copies of data."
   ]
  },
  {
   "cell_type": "code",
   "execution_count": 19,
   "id": "e7b9892b-20d4-4af2-9322-d59f7413b2bc",
   "metadata": {},
   "outputs": [
    {
     "name": "stderr",
     "output_type": "stream",
     "text": [
      "yt_xarray : [INFO ] 2023-02-06 12:24:09,500:  Attempting to detect if yt_xarray will require field interpolation:\n",
      "yt_xarray : [INFO ] 2023-02-06 12:24:09,502:      Cartesian geometry on uniform grid: yt_xarray will not interpolate.\n",
      "yt : [INFO     ] 2023-02-06 12:24:09,552 Parameters: current_time              = 0.0\n",
      "yt : [INFO     ] 2023-02-06 12:24:09,553 Parameters: domain_dimensions         = [14 10 15]\n",
      "yt : [INFO     ] 2023-02-06 12:24:09,554 Parameters: domain_left_edge          = [-0.03846154 -0.05555556 -0.03571429]\n",
      "yt : [INFO     ] 2023-02-06 12:24:09,556 Parameters: domain_right_edge         = [1.03846154 1.05555556 1.03571429]\n",
      "yt : [INFO     ] 2023-02-06 12:24:09,557 Parameters: cosmological_simulation   = 0\n"
     ]
    }
   ],
   "source": [
    "yt_ds = ds.yt.load_grid(fields=('temperature',), use_callable=False)"
   ]
  },
  {
   "cell_type": "markdown",
   "id": "77d32668-466a-4203-a2e0-4cea364e6c4e",
   "metadata": {},
   "source": [
    "and data will be copied from the xarray dataset during creation of the yt dataset."
   ]
  },
  {
   "cell_type": "code",
   "execution_count": null,
   "id": "d876c775-2d74-4124-8ab9-8ea540a54343",
   "metadata": {},
   "outputs": [],
   "source": []
  }
 ],
 "metadata": {
  "kernelspec": {
   "display_name": "Python 3 (ipykernel)",
   "language": "python",
   "name": "python3"
  },
  "language_info": {
   "codemirror_mode": {
    "name": "ipython",
    "version": 3
   },
   "file_extension": ".py",
   "mimetype": "text/x-python",
   "name": "python",
   "nbconvert_exporter": "python",
   "pygments_lexer": "ipython3",
   "version": "3.9.0"
  }
 },
 "nbformat": 4,
 "nbformat_minor": 5
}
