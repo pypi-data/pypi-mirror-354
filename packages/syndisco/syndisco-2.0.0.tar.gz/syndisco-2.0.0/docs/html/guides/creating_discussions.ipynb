{
 "cells": [
  {
   "cell_type": "markdown",
   "metadata": {},
   "source": [
    "# Creating a Discussion\n",
    "\n",
    "The simplest task you can accomplish with this library is to create a small discussion between LLMs. \n",
    "\n",
    "This guide will teach you the basic setup of the library. You will understand how to setup models, user-agents and how to coordinate them in a discussion. By the end of htis guide, you will be able to run a small discussion with a moderator and save it to the disk for persistence."
   ]
  },
  {
   "cell_type": "markdown",
   "metadata": {},
   "source": [
    "## Basics"
   ]
  },
  {
   "cell_type": "markdown",
   "metadata": {},
   "source": [
    "### The Model\n",
    "\n",
    "SynDisco can theoretically support any LLM, as long as it is wrapped in a `BaseModel` wrapper. The `BaseModel` class is a very simple interface with one method. This method gives the underlying LLM input, and returns its output to the library.\n",
    "\n",
    "There already exists a `TransformersModel` class which handles models from the `transformers` python library. In 90% of your applications, this will be enough. We can load a TransformersModel using the following code:"
   ]
  },
  {
   "cell_type": "code",
   "execution_count": 1,
   "metadata": {},
   "outputs": [],
   "source": [
    "%load_ext autoreload\n",
    "%autoreload 2"
   ]
  },
  {
   "cell_type": "code",
   "execution_count": 2,
   "metadata": {
    "execution": {
     "iopub.execute_input": "2025-04-04T13:14:26.434159Z",
     "iopub.status.busy": "2025-04-04T13:14:26.433413Z",
     "iopub.status.idle": "2025-04-04T13:17:17.032081Z",
     "shell.execute_reply": "2025-04-04T13:17:17.031468Z"
    }
   },
   "outputs": [
    {
     "name": "stderr",
     "output_type": "stream",
     "text": [
      "/home/dimits/miniconda3/envs/syndiscooooo/lib/python3.13/site-packages/requests/__init__.py:86: RequestsDependencyWarning: Unable to find acceptable character detection dependency (chardet or charset_normalizer).\n",
      "  warnings.warn(\n",
      "Device set to use cuda:0\n"
     ]
    }
   ],
   "source": [
    "from syndisco.model import TransformersModel\n",
    "\n",
    "llm = TransformersModel(\n",
    "    model_path=\"unsloth/Llama-3.2-3B-Instruct-bnb-4bit\",\n",
    "    name=\"test_model\",\n",
    "    max_out_tokens=100,\n",
    ")"
   ]
  },
  {
   "cell_type": "markdown",
   "metadata": {},
   "source": [
    "This will download a small LLM from huggingface. You can substitute the model_path for any similar model in [HuggingFace](https://huggingface.co/) supporting the Transformers library."
   ]
  },
  {
   "cell_type": "markdown",
   "metadata": {},
   "source": [
    "### Creating personas\n",
    "\n",
    "All `actors` can be defined by a `persona`, aka a set of attributes that define them. These attributes can be age, ethnicity, and even include special instructions on how they should behave.\n",
    "\n",
    "Creating a persona programmatically is simple:"
   ]
  },
  {
   "cell_type": "code",
   "execution_count": 3,
   "metadata": {
    "execution": {
     "iopub.execute_input": "2025-04-04T13:17:17.035421Z",
     "iopub.status.busy": "2025-04-04T13:17:17.035009Z",
     "iopub.status.idle": "2025-04-04T13:17:17.043083Z",
     "shell.execute_reply": "2025-04-04T13:17:17.042635Z"
    }
   },
   "outputs": [
    {
     "name": "stdout",
     "output_type": "stream",
     "text": [
      "{\"username\": \"Emma35\", \"age\": 38, \"sex\": \"female\", \"sexual_orientation\": \"Heterosexual\", \"demographic_group\": \"Latino\", \"current_employment\": \"Registered Nurse\", \"education_level\": \"Bachelor's\", \"special_instructions\": \"\", \"personality_characteristics\": [\"compassionate\", \"patient\", \"diligent\", \"overwhelmed\"]}\n",
      "{\"username\": \"Giannis\", \"age\": 21, \"sex\": \"male\", \"sexual_orientation\": \"Pansexual\", \"demographic_group\": \"White\", \"current_employment\": \"Game Developer\", \"education_level\": \"College\", \"special_instructions\": \"\", \"personality_characteristics\": [\"strategic\", \"meticulous\", \"nerdy\", \"hyper-focused\"]}\n"
     ]
    }
   ],
   "source": [
    "from syndisco.actors import Persona\n",
    "\n",
    "persona_data = [\n",
    "    {\n",
    "        \"username\": \"Emma35\",\n",
    "        \"age\": 38,\n",
    "        \"sex\": \"female\",\n",
    "        \"education_level\": \"Bachelor's\",\n",
    "        \"sexual_orientation\": \"Heterosexual\",\n",
    "        \"demographic_group\": \"Latino\",\n",
    "        \"current_employment\": \"Registered Nurse\",\n",
    "        \"special_instructions\": \"\",\n",
    "        \"personality_characteristics\": [\n",
    "            \"compassionate\",\n",
    "            \"patient\",\n",
    "            \"diligent\",\n",
    "            \"overwhelmed\",\n",
    "        ],\n",
    "    },\n",
    "    {\n",
    "        \"username\": \"Giannis\",\n",
    "        \"age\": 21,\n",
    "        \"sex\": \"male\",\n",
    "        \"education_level\": \"College\",\n",
    "        \"sexual_orientation\": \"Pansexual\",\n",
    "        \"demographic_group\": \"White\",\n",
    "        \"current_employment\": \"Game Developer\",\n",
    "        \"special_instructions\": \"\",\n",
    "        \"personality_characteristics\": [\n",
    "            \"strategic\",\n",
    "            \"meticulous\",\n",
    "            \"nerdy\",\n",
    "            \"hyper-focused\",\n",
    "        ],\n",
    "    },\n",
    "]\n",
    "\n",
    "personas = [Persona(**data) for data in persona_data]\n",
    "\n",
    "for persona in personas:\n",
    "    print(persona)"
   ]
  },
  {
   "cell_type": "markdown",
   "metadata": {},
   "source": [
    "Since creating a lot of distinct users is essential in running large-scale experiments, users are usually defined in JSON format. That way, you can change anything without touching your code!\n",
    "\n",
    "[Here](https://github.com/dimits-ts/synthetic_moderation_experiments/blob/master/data/discussions_input/personas/personas.json) is an applied example of how to mass-define user personas through JSON files."
   ]
  },
  {
   "cell_type": "markdown",
   "metadata": {},
   "source": [
    "### Creating the user-agents\n",
    "\n",
    "Having a `persona` and a `model` we can finally create an `actor`. The actor will personify the selected persona using the model to talk.\n",
    "\n",
    "Besides a persona and a model, the actors will also need instructions and a context. By convention, all actors share the same context, and all user-agents share the same instructions. Personalized instructions are defined in the actor's persona."
   ]
  },
  {
   "cell_type": "code",
   "execution_count": 4,
   "metadata": {
    "execution": {
     "iopub.execute_input": "2025-04-04T13:17:17.045370Z",
     "iopub.status.busy": "2025-04-04T13:17:17.045239Z",
     "iopub.status.idle": "2025-04-04T13:17:17.048755Z",
     "shell.execute_reply": "2025-04-04T13:17:17.048324Z"
    }
   },
   "outputs": [],
   "source": [
    "from syndisco.actors import Actor, ActorType\n",
    "\n",
    "\n",
    "CONTEXT = \"You are taking part in an online conversation\"\n",
    "INSTRUCTIONS = \"Act like a human would\"\n",
    "\n",
    "actors = [\n",
    "    Actor(\n",
    "        model=llm,\n",
    "        persona=p,\n",
    "        actor_type=ActorType.USER,\n",
    "        context=CONTEXT,\n",
    "        instructions=INSTRUCTIONS\n",
    "    )\n",
    "    for p in personas\n",
    "]"
   ]
  },
  {
   "cell_type": "markdown",
   "metadata": {},
   "source": [
    "### Managing turn-taking\n",
    "\n",
    "In real-life discussions, who gets to speak at each point in time is determined by complex social dynamics, which are difficult to realistically model.\n",
    "However, there are ways with which we can simulate these dynamics. \n",
    "\n",
    "SynDisco uses the `TurnManager` class to model turn taking. Two implementations are available by default: Round Robin, and Random Weighted"
   ]
  },
  {
   "cell_type": "markdown",
   "metadata": {},
   "source": [
    "- `Round Robin` is the simplest, most intuitive way to model turn-taking; everyone gets to talk once per round. Once everyone talks once, they get to talk again in the same sequence"
   ]
  },
  {
   "cell_type": "code",
   "execution_count": 5,
   "metadata": {
    "execution": {
     "iopub.execute_input": "2025-04-04T13:17:17.051022Z",
     "iopub.status.busy": "2025-04-04T13:17:17.050894Z",
     "iopub.status.idle": "2025-04-04T13:17:17.054840Z",
     "shell.execute_reply": "2025-04-04T13:17:17.054315Z"
    }
   },
   "outputs": [
    {
     "name": "stdout",
     "output_type": "stream",
     "text": [
      "John\n",
      "Mary\n",
      "Howard\n",
      "Todd\n",
      "John\n",
      "Mary\n",
      "Howard\n",
      "Todd\n",
      "John\n",
      "Mary\n"
     ]
    }
   ],
   "source": [
    "from syndisco.turn_manager import RoundRobin\n",
    "\n",
    "\n",
    "rrobin_turn_manager = RoundRobin([\"John\", \"Mary\", \"Howard\", \"Todd\"])\n",
    "\n",
    "for i in range(10):\n",
    "    print(next(rrobin_turn_manager))"
   ]
  },
  {
   "cell_type": "markdown",
   "metadata": {},
   "source": [
    "- `RandomWeighted` on the other hand throws a weighted coin on each round. If the coin flip succedes, the previous user gets to respond. If not, another user is selected at random"
   ]
  },
  {
   "cell_type": "code",
   "execution_count": 6,
   "metadata": {
    "execution": {
     "iopub.execute_input": "2025-04-04T13:17:17.057039Z",
     "iopub.status.busy": "2025-04-04T13:17:17.056846Z",
     "iopub.status.idle": "2025-04-04T13:17:17.060907Z",
     "shell.execute_reply": "2025-04-04T13:17:17.060380Z"
    }
   },
   "outputs": [
    {
     "name": "stdout",
     "output_type": "stream",
     "text": [
      "Todd\n",
      "Mary\n",
      "Howard\n",
      "John\n",
      "Todd\n",
      "Mary\n",
      "Todd\n",
      "Howard\n",
      "Mary\n",
      "Howard\n"
     ]
    }
   ],
   "source": [
    "from syndisco.turn_manager import RandomWeighted\n",
    "\n",
    "\n",
    "rweighted_turn_manager = RandomWeighted(\n",
    "    names=[\"John\", \"Mary\", \"Howard\", \"Todd\"], p_respond=0.5\n",
    ")\n",
    "\n",
    "for i in range(10):\n",
    "    print(next(rweighted_turn_manager))"
   ]
  },
  {
   "cell_type": "markdown",
   "metadata": {},
   "source": [
    "## Generating a discussion\n",
    "\n",
    "Let's start with the most basic task; a single discussion between two user-agents."
   ]
  },
  {
   "cell_type": "markdown",
   "metadata": {},
   "source": [
    "Since we only have two users, a RoundRobin approach where each user takes a turn sequentially is sufficient."
   ]
  },
  {
   "cell_type": "markdown",
   "metadata": {},
   "source": [
    "Now we can run a simple discussion"
   ]
  },
  {
   "cell_type": "code",
   "execution_count": 7,
   "metadata": {
    "execution": {
     "iopub.execute_input": "2025-04-04T13:17:17.063253Z",
     "iopub.status.busy": "2025-04-04T13:17:17.063053Z",
     "iopub.status.idle": "2025-04-04T13:17:44.769808Z",
     "shell.execute_reply": "2025-04-04T13:17:44.768924Z"
    }
   },
   "outputs": [
    {
     "name": "stdout",
     "output_type": "stream",
     "text": [
      "User Emma35 posted:\n",
      "I'm so glad I finally got a moment to myself. I've been running around\n",
      "nonstop since the morning shift at the hospital. How about you, how's\n",
      "your day going? \n",
      "\n",
      "User Giannis posted:\n",
      "\"Hey Emma, I feel you. I've been in coding mode nonstop since morning\n",
      "too. Just trying to meet a tight deadline for a project I'm working\n",
      "on. But I did manage to squeeze in a quick lunch break and catch up on\n",
      "some gaming. How was your shift? Anything exciting happen?\" \n",
      "\n",
      "User Emma35 posted:\n",
      "\"Ah, I'm glad I could finally take a breather too! My shift was pretty\n",
      "crazy, as usual. We had a code blue in the ER and I had to help\n",
      "stabilize the patient, but thankfully everything turned out okay. It\n",
      "was a bit overwhelming, to be honest, but it was a great feeling\n",
      "knowing I was able to help. I'm just ready to unwind now and maybe\n",
      "catch up on some sleep. How was your coding marathon? Did you manage\n",
      "to meet that deadline?\" \n",
      "\n",
      "User Giannis posted:\n",
      "\"Ah, nice to hear that everything turned out okay at the hospital,\n",
      "Emma! Sorry to hear that it was chaotic, though. As for my coding\n",
      "marathon, I think I made it, just barely. I had to make some last-\n",
      "minute adjustments to the game mechanics, but I'm happy to say that\n",
      "it's looking good. I'm actually pretty proud of how it turned out. The\n",
      "team is going to be happy when they see the final product. Now, I'm\n",
      "just trying to keep \n",
      "\n",
      "User Emma35 posted:\n",
      "\"Haha, I'm glad to hear you made it, Giannis! I'm sure it was a lot of\n",
      "work, but it sounds like it was worth it. I'm a bit jealous, actually\n",
      "- I wish I could be as productive as you are. As for me, I'm just\n",
      "trying to relax now and recharge. I did manage to sneak in a cup of\n",
      "coffee and a quick power nap, so that was a win, right? I'm also\n",
      "looking forward to getting home and \n",
      "\n"
     ]
    }
   ],
   "source": [
    "from syndisco.jobs import Discussion\n",
    "\n",
    "\n",
    "turn_manager = RoundRobin([actor.get_name() for actor in actors])\n",
    "conv = Discussion(next_turn_manager=turn_manager, users=actors)\n",
    "conv.begin()"
   ]
  },
  {
   "cell_type": "markdown",
   "metadata": {},
   "source": [
    "Let's add a moderator to oversee the discussion."
   ]
  },
  {
   "cell_type": "code",
   "execution_count": 8,
   "metadata": {
    "execution": {
     "iopub.execute_input": "2025-04-04T13:17:44.772648Z",
     "iopub.status.busy": "2025-04-04T13:17:44.772462Z",
     "iopub.status.idle": "2025-04-04T13:18:34.768890Z",
     "shell.execute_reply": "2025-04-04T13:18:34.768037Z"
    }
   },
   "outputs": [
    {
     "name": "stdout",
     "output_type": "stream",
     "text": [
      "User Emma35 posted:\n",
      "I'm happy to chat with you, but I don't see what Emma35 posted. Could\n",
      "you please share the text or topic you'd like to discuss? I'm all\n",
      "ears! \n",
      "\n",
      "User Moderator posted:\n",
      "User Moderator posted: Hello Emma35, I'm glad you're excited to chat.\n",
      "Unfortunately, this is the beginning of our conversation, and there is\n",
      "no previous post from you to refer to. Would you like to start fresh\n",
      "and introduce a topic you'd like to discuss, or would you like me to\n",
      "suggest some conversation starters? \n",
      "\n",
      "User Giannis posted:\n",
      "Thanks for the warm welcome, Moderator! I'm excited to start fresh. I\n",
      "think I'd love to discuss something that's been on my mind lately -\n",
      "have you guys ever heard of the latest advancements in artificial\n",
      "intelligence in game development? I've been working on a project that\n",
      "incorporates some pretty cutting-edge AI techniques, and I'm curious\n",
      "to hear what others think about the possibilities and challenges that\n",
      "come with it. What are your thoughts? \n",
      "\n",
      "User Moderator posted:\n",
      "User Emma35 posted: That sounds fascinating, Giannis! I'm not familiar\n",
      "with the specifics of artificial intelligence in game development, but\n",
      "I'm eager to learn. Can you tell me more about what you're working on?\n",
      "What kind of game are you creating, and what kind of AI techniques are\n",
      "you incorporating? I'd love to hear more about your project and see if\n",
      "I can offer any insights or suggestions. \n",
      "\n"
     ]
    },
    {
     "name": "stderr",
     "output_type": "stream",
     "text": [
      "You seem to be using the pipelines sequentially on GPU. In order to maximize efficiency please use a dataset\n"
     ]
    },
    {
     "name": "stdout",
     "output_type": "stream",
     "text": [
      "User Moderator posted:\n",
      "User Giannis posted: I'm glad you're interested, Emma! I'm actually\n",
      "working on a new game that incorporates machine learning algorithms to\n",
      "create a more immersive experience for players. One of the key\n",
      "features I'm experimenting with is procedural generation, which uses\n",
      "AI to create unique levels and game worlds on the fly. I'm also\n",
      "looking into using natural language processing to enable more\n",
      "realistic NPC interactions. I'd love to hear your thoughts on the\n",
      "potential benefits and challenges of using \n",
      "\n",
      "User Moderator posted:\n",
      "User Giannis posted:   I'm glad to hear that you're interested, Emma!\n",
      "Procedural generation is a game-changer for game development. The\n",
      "ability to generate unique levels and game worlds on the fly can\n",
      "create an almost endless variety of experiences for players. However,\n",
      "it also presents some challenges, such as ensuring that the generated\n",
      "content is coherent and fun to play through. Have you come across any\n",
      "notable examples of procedural generation in games that you think are\n",
      "particularly effective?   User Emma35 \n",
      "\n",
      "User Emma35 posted:\n",
      "I've always been impressed by games like No Man's Sky, where the\n",
      "procedural generation creates an almost endless variety of planets and\n",
      "biomes to explore. The ability to generate unique and diverse\n",
      "environments on the fly really enhances the sense of discovery and\n",
      "wonder. However, I can understand the challenges that come with it, as\n",
      "you mentioned. Ensuring that the generated content is coherent and fun\n",
      "to play through can be a delicate balance. I'd love to hear more about\n",
      "how you're tackling this challenge in your \n",
      "\n",
      "User Moderator posted:\n",
      "User Giannis posted: That's a great example, Emma! No Man's Sky is a\n",
      "fantastic example of procedural generation in action. I'm actually\n",
      "drawing inspiration from their approach to my own game. One of the key\n",
      "differences, though, is that my game is focused on a more narrative-\n",
      "driven experience, so I'm experimenting with different techniques to\n",
      "create a sense of continuity and coherence in the generated content.\n",
      "For instance, I'm using a combination of machine learning algorithms\n",
      "and hand-crafted rules to create \n",
      "\n",
      "User Giannis posted:\n",
      "User Giannis posted: Exactly, Emma, that's a great point. I think one\n",
      "of the biggest challenges of procedural generation is creating a sense\n",
      "of continuity and coherence in the generated content. For my game, I'm\n",
      "using a combination of machine learning algorithms and hand-crafted\n",
      "rules to create a sense of familiarity and structure, while still\n",
      "allowing for a high degree of variability and unpredictability.  One\n",
      "technique I'm experimenting with is using a form of narrative-driven\n",
      "procedural generation, where the player's actions and \n",
      "\n",
      "User Moderator posted:\n",
      "User Giannis posted:  That's a great approach, Giannis! I think it's\n",
      "interesting that you're exploring the intersection of machine learning\n",
      "and hand-crafted rules to create a sense of continuity and coherence\n",
      "in the generated content. Narrative-driven procedural generation can\n",
      "be a powerful tool for creating a sense of immersion and engagement in\n",
      "a game. One technique I'd like to see you explore further is using\n",
      "environmental storytelling to create a sense of narrative flow and co \n",
      "\n"
     ]
    }
   ],
   "source": [
    "MODERATOR_INSTRUCTIONS = \"You are a moderator. Oversee the discussion\"\n",
    "\n",
    "moderator_persona = Persona(\n",
    "    **{\n",
    "        \"username\": \"Moderator\",\n",
    "        \"age\": 41,\n",
    "        \"sex\": \"male\",\n",
    "        \"education_level\": \"PhD\",\n",
    "        \"sexual_orientation\": \"Pansexual\",\n",
    "        \"demographic_group\": \"White\",\n",
    "        \"current_employment\": \"Moderator\",\n",
    "        \"special_instructions\": \"\",\n",
    "        \"personality_characteristics\": [\n",
    "            \"strict\",\n",
    "            \"neutral\",\n",
    "            \"just\",\n",
    "        ],\n",
    "    }\n",
    ")\n",
    "\n",
    "moderator = Actor(\n",
    "    model=llm,\n",
    "    persona=moderator_persona,\n",
    "    actor_type=ActorType.USER,\n",
    "    context=CONTEXT,\n",
    "    instructions=MODERATOR_INSTRUCTIONS\n",
    ")\n",
    "\n",
    "# remember to update this!\n",
    "turn_manager = RoundRobin(\n",
    "    [actor.get_name() for actor in actors] + [moderator.get_name()]\n",
    ")\n",
    "conv = Discussion(\n",
    "    next_turn_manager=turn_manager,\n",
    "    users=actors + [moderator],\n",
    "    moderator=moderator,\n",
    ")\n",
    "conv.begin()"
   ]
  },
  {
   "cell_type": "markdown",
   "metadata": {},
   "source": [
    "### Saving a discussion to the disk\n",
    "\n",
    "It's best practice to save the results of each discussion after it has concluded. This way, no matter what happens to the program executing the discussions, progress will be checkpointed.\n",
    "\n",
    "The `Discussion` class provides a method for saving its logs and related metadata to a JSON file:"
   ]
  },
  {
   "cell_type": "code",
   "execution_count": 9,
   "metadata": {
    "execution": {
     "iopub.execute_input": "2025-04-04T13:18:34.771690Z",
     "iopub.status.busy": "2025-04-04T13:18:34.771521Z",
     "iopub.status.idle": "2025-04-04T13:18:34.776980Z",
     "shell.execute_reply": "2025-04-04T13:18:34.776394Z"
    }
   },
   "outputs": [
    {
     "name": "stdout",
     "output_type": "stream",
     "text": [
      "{\n",
      "  \"id\": \"98f03c72-b8e6-49aa-9c92-f6383d575ab4\",\n",
      "  \"timestamp\": \"25-06-12-15-20\",\n",
      "  \"users\": [\n",
      "    \"Emma35\",\n",
      "    \"Giannis\",\n",
      "    \"Moderator\"\n",
      "  ],\n",
      "  \"moderator\": \"Moderator\",\n",
      "  \"user_prompts\": [\n",
      "    {\n",
      "      \"context\": \"You are taking part in an online conversation\",\n",
      "      \"instructions\": \"Act like a human would\",\n",
      "      \"type\": \"1\",\n",
      "      \"persona\": {\n",
      "        \"username\": \"Emma35\",\n",
      "        \"age\": 38,\n",
      "        \"sex\": \"female\",\n",
      "        \"sexual_orientation\": \"Heterosexual\",\n",
      "        \"demographic_group\": \"Latino\",\n",
      "        \"current_employment\": \"Registered Nurse\",\n",
      "        \"education_level\": \"Bachelor's\",\n",
      "        \"special_instructions\": \"\",\n",
      "        \"personality_characteristics\": [\n",
      "          \"compassionate\",\n",
      "          \"patient\",\n",
      "          \"diligent\",\n",
      "          \"overwhelmed\"\n",
      "        ]\n",
      "      }\n",
      "    },\n",
      "    {\n",
      "      \"context\": \"You are taking part in an online conversation\",\n",
      "      \"instructions\": \"Act like a human would\",\n",
      "      \"type\": \"1\",\n",
      "      \"persona\": {\n",
      "        \"username\": \"Giannis\",\n",
      "        \"age\": 21,\n",
      "        \"sex\": \"male\",\n",
      "        \"sexual_orientation\": \"Pansexual\",\n",
      "        \"demographic_group\": \"White\",\n",
      "        \"current_employment\": \"Game Developer\",\n",
      "        \"education_level\": \"College\",\n",
      "        \"special_instructions\": \"\",\n",
      "        \"personality_characteristics\": [\n",
      "          \"strategic\",\n",
      "          \"meticulous\",\n",
      "          \"nerdy\",\n",
      "          \"hyper-focused\"\n",
      "        ]\n",
      "      }\n",
      "    },\n",
      "    {\n",
      "      \"context\": \"You are taking part in an online conversation\",\n",
      "      \"instructions\": \"You are a moderator. Oversee the discussion\",\n",
      "      \"type\": \"1\",\n",
      "      \"persona\": {\n",
      "        \"username\": \"Moderator\",\n",
      "        \"age\": 41,\n",
      "        \"sex\": \"male\",\n",
      "        \"sexual_orientation\": \"Pansexual\",\n",
      "        \"demographic_group\": \"White\",\n",
      "        \"current_employment\": \"Moderator\",\n",
      "        \"education_level\": \"PhD\",\n",
      "        \"special_instructions\": \"\",\n",
      "        \"personality_characteristics\": [\n",
      "          \"strict\",\n",
      "          \"neutral\",\n",
      "          \"just\"\n",
      "        ]\n",
      "      }\n",
      "    }\n",
      "  ],\n",
      "  \"moderator_prompt\": {\n",
      "    \"context\": \"You are taking part in an online conversation\",\n",
      "    \"instructions\": \"You are a moderator. Oversee the discussion\",\n",
      "    \"type\": \"1\",\n",
      "    \"persona\": {\n",
      "      \"username\": \"Moderator\",\n",
      "      \"age\": 41,\n",
      "      \"sex\": \"male\",\n",
      "      \"sexual_orientation\": \"Pansexual\",\n",
      "      \"demographic_group\": \"White\",\n",
      "      \"current_employment\": \"Moderator\",\n",
      "      \"education_level\": \"PhD\",\n",
      "      \"special_instructions\": \"\",\n",
      "      \"personality_characteristics\": [\n",
      "        \"strict\",\n",
      "        \"neutral\",\n",
      "        \"just\"\n",
      "      ]\n",
      "    }\n",
      "  },\n",
      "  \"ctx_length\": 5,\n",
      "  \"logs\": [\n",
      "    {\n",
      "      \"name\": \"Emma35\",\n",
      "      \"text\": \"I'm happy to chat with you, but I don't see what Emma35 posted. Could you please share the text or topic you'd like to discuss? I'm all ears!\",\n",
      "      \"model\": \"test_model\"\n",
      "    },\n",
      "    {\n",
      "      \"name\": \"Moderator\",\n",
      "      \"text\": \"User Moderator posted: Hello Emma35, I'm glad you're excited to chat. Unfortunately, this is the beginning of our conversation, and there is no previous post from you to refer to. Would you like to start fresh and introduce a topic you'd like to discuss, or would you like me to suggest some conversation starters?\",\n",
      "      \"model\": \"test_model\"\n",
      "    },\n",
      "    {\n",
      "      \"name\": \"Giannis\",\n",
      "      \"text\": \"Thanks for the warm welcome, Moderator! I'm excited to start fresh. I think I'd love to discuss something that's been on my mind lately - have you guys ever heard of the latest advancements in artificial intelligence in game development? I've been working on a project that incorporates some pretty cutting-edge AI techniques, and I'm curious to hear what others think about the possibilities and challenges that come with it. What are your thoughts?\",\n",
      "      \"model\": \"test_model\"\n",
      "    },\n",
      "    {\n",
      "      \"name\": \"Moderator\",\n",
      "      \"text\": \"User Emma35 posted:\\nThat sounds fascinating, Giannis! I'm not familiar with the specifics\\nof artificial intelligence in game development, but I'm eager to learn.\\nCan you tell me more about what you're working on? What kind of game\\nare you creating, and what kind of AI techniques are you incorporating?\\nI'd love to hear more about your project and see if I can offer any\\ninsights or suggestions.\",\n",
      "      \"model\": \"test_model\"\n",
      "    },\n",
      "    {\n",
      "      \"name\": \"Moderator\",\n",
      "      \"text\": \"User Giannis posted:\\nI'm glad you're interested, Emma! I'm actually working on a new game\\nthat incorporates machine learning algorithms to create a more immersive\\nexperience for players. One of the key features I'm experimenting with\\nis procedural generation, which uses AI to create unique levels and\\ngame worlds on the fly. I'm also looking into using natural language\\nprocessing to enable more realistic NPC interactions. I'd love to hear\\nyour thoughts on the potential benefits and challenges of using\",\n",
      "      \"model\": \"test_model\"\n",
      "    },\n",
      "    {\n",
      "      \"name\": \"Moderator\",\n",
      "      \"text\": \"User Giannis posted: \\n\\nI'm glad to hear that you're interested, Emma! Procedural generation is a game-changer for game development. The ability to generate unique levels and game worlds on the fly can create an almost endless variety of experiences for players. However, it also presents some challenges, such as ensuring that the generated content is coherent and fun to play through. Have you come across any notable examples of procedural generation in games that you think are particularly effective? \\n\\nUser Emma35\",\n",
      "      \"model\": \"test_model\"\n",
      "    },\n",
      "    {\n",
      "      \"name\": \"Emma35\",\n",
      "      \"text\": \"I've always been impressed by games like No Man's Sky, where the procedural generation creates an almost endless variety of planets and biomes to explore. The ability to generate unique and diverse environments on the fly really enhances the sense of discovery and wonder. However, I can understand the challenges that come with it, as you mentioned. Ensuring that the generated content is coherent and fun to play through can be a delicate balance. I'd love to hear more about how you're tackling this challenge in your\",\n",
      "      \"model\": \"test_model\"\n",
      "    },\n",
      "    {\n",
      "      \"name\": \"Moderator\",\n",
      "      \"text\": \"User Giannis posted: That's a great example, Emma! No Man's Sky is a fantastic example of procedural generation in action. I'm actually drawing inspiration from their approach to my own game. One of the key differences, though, is that my game is focused on a more narrative-driven experience, so I'm experimenting with different techniques to create a sense of continuity and coherence in the generated content. For instance, I'm using a combination of machine learning algorithms and hand-crafted rules to create\",\n",
      "      \"model\": \"test_model\"\n",
      "    },\n",
      "    {\n",
      "      \"name\": \"Giannis\",\n",
      "      \"text\": \"User Giannis posted: Exactly, Emma, that's a great point. I think one of the biggest challenges of procedural generation is creating a sense of continuity and coherence in the generated content. For my game, I'm using a combination of machine learning algorithms and hand-crafted rules to create a sense of familiarity and structure, while still allowing for a high degree of variability and unpredictability.\\n\\nOne technique I'm experimenting with is using a form of narrative-driven procedural generation, where the player's actions and\",\n",
      "      \"model\": \"test_model\"\n",
      "    },\n",
      "    {\n",
      "      \"name\": \"Moderator\",\n",
      "      \"text\": \"User Giannis posted:  That's a great approach, Giannis! I think it's\\ninteresting that you're exploring the intersection of machine learning and\\nhand-crafted rules to create a sense of continuity and coherence in\\nthe generated content. Narrative-driven procedural generation can be a\\npowerful tool for creating a sense of immersion and engagement in a\\ngame. One technique I'd like to see you explore further is using\\nenvironmental storytelling to create a sense of narrative flow and\\nco\",\n",
      "      \"model\": \"test_model\"\n",
      "    }\n",
      "  ]\n",
      "}\n"
     ]
    }
   ],
   "source": [
    "import tempfile\n",
    "import json\n",
    "\n",
    "tp = tempfile.NamedTemporaryFile(delete=True)\n",
    "\n",
    "conv.to_json_file(tp.name)\n",
    "\n",
    "# if you are running this on Windows, uncomment this line\n",
    "# tp.close()\n",
    "with open(tp.name, mode=\"rb\") as f:\n",
    "    print(json.dumps(json.load(f), indent=2))"
   ]
  },
  {
   "cell_type": "markdown",
   "metadata": {},
   "source": [
    "Congratulations, you can now run fully synthetic discussions! You may want to experiment with adding more than 2 users or testing more realistic turn taking procedures (for example, check out the `RandomWeighted` turn manager)."
   ]
  }
 ],
 "metadata": {
  "kernelspec": {
   "display_name": "syndiscooooo",
   "language": "python",
   "name": "python3"
  },
  "language_info": {
   "codemirror_mode": {
    "name": "ipython",
    "version": 3
   },
   "file_extension": ".py",
   "mimetype": "text/x-python",
   "name": "python",
   "nbconvert_exporter": "python",
   "pygments_lexer": "ipython3",
   "version": "3.13.4"
  }
 },
 "nbformat": 4,
 "nbformat_minor": 2
}
