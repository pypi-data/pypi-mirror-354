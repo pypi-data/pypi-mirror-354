{
 "cells": [
  {
   "cell_type": "markdown",
   "metadata": {},
   "source": [
    "# Outliers Detect Package Demonstration\n",
    "\n",
    "This notebook demonstrates the use of the `outliers_detect` package for outlier detection in embeddings."
   ]
  },
  {
   "cell_type": "code",
   "execution_count": 1,
   "metadata": {},
   "outputs": [],
   "source": [
    "import numpy as np\n",
    "import pandas as pd\n",
    "import matplotlib.pyplot as plt\n",
    "from outliers_detect import outliers_detect_df"
   ]
  },
  {
   "cell_type": "markdown",
   "metadata": {},
   "source": [
    "## 1. Creating Sample Data\n",
    "\n",
    "Let's create a dataset with normal embeddings and some outliers to demonstrate the different detection methods."
   ]
  },
  {
   "cell_type": "code",
   "execution_count": null,
   "metadata": {},
   "outputs": [],
   "source": [
    "# Setting seed for reproducibility\n",
    "np.random.seed(42)\n",
    "\n",
    "# Creating normal embeddings\n",
    "n_samples = 100\n",
    "embedding_dim = 3\n",
    "normal_embeddings = np.random.normal(0, 1, (n_samples, embedding_dim))\n",
    "\n",
    "# Creating some outliers\n",
    "outlier_embeddings = np.random.normal(5, 1, (5, embedding_dim))\n",
    "\n",
    "# Combining the data\n",
    "all_embeddings = np.vstack([normal_embeddings, outlier_embeddings])\n",
    "\n",
    "# Creating DataFrame\n",
    "df = pd.DataFrame({\n",
    "    'id': range(len(all_embeddings)),\n",
    "    'embedding': [str(emb.tolist()) for emb in all_embeddings]\n",
    "})\n",
    "\n",
    "print(f\"Total number of samples: {len(df)}\")\n",
    "print(f\"Number of known outliers: {len(outlier_embeddings)}\")\n",
    "df.head()"
   ]
  },
  {
   "cell_type": "markdown",
   "metadata": {},
   "source": [
    "## 2. Visualizing the Data\n",
    "\n",
    "Let's visualize the data in 3D to get an idea of the point distribution."
   ]
  },
  {
   "cell_type": "code",
   "execution_count": null,
   "metadata": {},
   "outputs": [],
   "source": [
    "from mpl_toolkits.mplot3d import Axes3D\n",
    "\n",
    "fig = plt.figure(figsize=(10, 8))\n",
    "ax = fig.add_subplot(111, projection='3d')\n",
    "\n",
    "# Plotting normal points\n",
    "ax.scatter(normal_embeddings[:, 0], normal_embeddings[:, 1], normal_embeddings[:, 2], \n",
    "          c='blue', label='Normal', alpha=0.6)\n",
    "\n",
    "# Plotting outliers\n",
    "ax.scatter(outlier_embeddings[:, 0], outlier_embeddings[:, 1], outlier_embeddings[:, 2], \n",
    "          c='red', label='Outlier', s=100)\n",
    "\n",
    "ax.set_xlabel('Dimension 1')\n",
    "ax.set_ylabel('Dimension 2')\n",
    "ax.set_zlabel('Dimension 3')\n",
    "ax.legend()\n",
    "plt.title('Embeddings Distribution')\n",
    "plt.show()"
   ]
  },
  {
   "cell_type": "markdown",
   "metadata": {},
   "source": [
    "## 3. Testing Different Detection Methods\n",
    "\n",
    "Let's test each of the available methods and compare their results."
   ]
  },
  {
   "cell_type": "markdown",
   "metadata": {},
   "source": []
  },
  {
   "cell_type": "code",
   "execution_count": null,
   "metadata": {},
   "outputs": [],
   "source": [
    "# Available methods: 'percentile', 'zscore', 'iqr', 'cosine', 'pca_reconstruction'\n",
    "methods = ['percentile', 'zscore', 'iqr', 'cosine', 'pca_reconstruction']\n",
    "results = {}\n",
    "\n",
    "for method in methods:\n",
    "    print(f\"\\nTesting method: {method}\")\n",
    "    result = outliers_detect_df(\n",
    "        df,\n",
    "        method=method,\n",
    "        percentile_threshold=95,\n",
    "        z_threshold=2.0,\n",
    "        cosine_threshold=0.10,\n",
    "        plot=True\n",
    "    )\n",
    "    \n",
    "    n_outliers = result['is_outlier'].sum()\n",
    "    print(f\"Number of outliers found: {n_outliers}\")\n",
    "    print(f\"Percentage of outliers: {(n_outliers/len(df))*100:.2f}%\")\n",
    "    \n",
    "    results[method] = result"
   ]
  },
  {
   "cell_type": "markdown",
   "metadata": {},
   "source": [
    "## 4. Comparing Results\n",
    "\n",
    "Let's compare the results from different methods to see how they behave."
   ]
  },
  {
   "cell_type": "code",
   "execution_count": null,
   "metadata": {},
   "outputs": [],
   "source": [
    "# Creating a DataFrame with the results\n",
    "comparison = pd.DataFrame({\n",
    "    'Method': methods,\n",
    "    'Number of Outliers': [results[m]['is_outlier'].sum() for m in methods],\n",
    "    'Percentage': [(results[m]['is_outlier'].sum()/len(df))*100 for m in methods]\n",
    "})\n",
    "\n",
    "comparison"
   ]
  },
  {
   "cell_type": "markdown",
   "metadata": {},
   "source": [
    "## 5. Visualizing Detected Outliers\n",
    "\n",
    "Let's visualize the outliers found by each method in a 3D plot."
   ]
  },
  {
   "cell_type": "code",
   "execution_count": null,
   "metadata": {},
   "outputs": [],
   "source": [
    "def plot_outliers(method, result):\n",
    "    fig = plt.figure(figsize=(10, 8))\n",
    "    ax = fig.add_subplot(111, projection='3d')\n",
    "    \n",
    "    # Converting embeddings back to arrays\n",
    "    embeddings = np.array([eval(emb) for emb in df['embedding']])\n",
    "    \n",
    "    # Plotting normal points\n",
    "    mask_normal = ~result['is_outlier']\n",
    "    ax.scatter(embeddings[mask_normal, 0], embeddings[mask_normal, 1], embeddings[mask_normal, 2], \n",
    "              c='blue', label='Normal', alpha=0.6)\n",
    "    \n",
    "    # Plotting outliers\n",
    "    mask_outlier = result['is_outlier']\n",
    "    ax.scatter(embeddings[mask_outlier, 0], embeddings[mask_outlier, 1], embeddings[mask_outlier, 2], \n",
    "              c='red', label='Outlier', s=100)\n",
    "    \n",
    "    ax.set_xlabel('Dimension 1')\n",
    "    ax.set_ylabel('Dimension 2')\n",
    "    ax.set_zlabel('Dimension 3')\n",
    "    ax.legend()\n",
    "    plt.title(f'Detected Outliers - Method: {method}')\n",
    "    plt.show()\n",
    "\n",
    "for method in methods:\n",
    "    plot_outliers(method, results[method])"
   ]
  },
  {
   "cell_type": "markdown",
   "metadata": {},
   "source": [
    "## 6. Adjusting Parameters\n",
    "\n",
    "Let's see how the results change when we adjust the percentile method parameters."
   ]
  },
  {
   "cell_type": "code",
   "execution_count": null,
   "metadata": {},
   "outputs": [],
   "source": [
    "percentiles = [90, 95, 97.5, 99]\n",
    "percentile_results = {}\n",
    "\n",
    "for p in percentiles:\n",
    "    print(f\"\\nTesting percentile: {p}\")\n",
    "    result = outliers_detect_df(\n",
    "        df,\n",
    "        method='percentile',\n",
    "        percentile_threshold=p,\n",
    "        plot=True\n",
    "    )\n",
    "    \n",
    "    n_outliers = result['is_outlier'].sum()\n",
    "    print(f\"Number of outliers found: {n_outliers}\")\n",
    "    print(f\"Percentage of outliers: {(n_outliers/len(df))*100:.2f}%\")\n",
    "    \n",
    "    percentile_results[p] = result"
   ]
  }
 ],
 "metadata": {
  "kernelspec": {
   "display_name": "Python 3",
   "language": "python",
   "name": "python3"
  },
  "language_info": {
   "codemirror_mode": {
    "name": "ipython",
    "version": 3
   },
   "file_extension": ".py",
   "mimetype": "text/x-python",
   "name": "python",
   "nbconvert_exporter": "python",
   "pygments_lexer": "ipython3",
   "version": "3.9.6"
  }
 },
 "nbformat": 4,
 "nbformat_minor": 4
}
